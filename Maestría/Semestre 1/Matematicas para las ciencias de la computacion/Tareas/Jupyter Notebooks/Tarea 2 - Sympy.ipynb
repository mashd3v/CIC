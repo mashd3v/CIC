{
 "metadata": {
  "language_info": {
   "codemirror_mode": {
    "name": "ipython",
    "version": 3
   },
   "file_extension": ".py",
   "mimetype": "text/x-python",
   "name": "python",
   "nbconvert_exporter": "python",
   "pygments_lexer": "ipython3",
   "version": "3.7.10-final"
  },
  "orig_nbformat": 2,
  "kernelspec": {
   "name": "python3",
   "display_name": "Python 3.7.10 64-bit (conda)",
   "metadata": {
    "interpreter": {
     "hash": "b59879d5e3f5a8a2f2faee07a70ee8a2e6ae4b34825721b6f60a87942e756af3"
    }
   }
  }
 },
 "nbformat": 4,
 "nbformat_minor": 2,
 "cells": [
  {
   "source": [
    "# Importando librería Sympy"
   ],
   "cell_type": "markdown",
   "metadata": {}
  },
  {
   "cell_type": "code",
   "execution_count": 1,
   "metadata": {},
   "outputs": [],
   "source": [
    "import sympy\n",
    "from sympy import *"
   ]
  },
  {
   "source": [
    "## Definiendo variables de entorno"
   ],
   "cell_type": "markdown",
   "metadata": {}
  },
  {
   "cell_type": "code",
   "execution_count": 2,
   "metadata": {},
   "outputs": [],
   "source": [
    "x, y, z, t = symbols('x y z t')\n",
    "k, m, n = symbols('k m n', integer=True)\n",
    "f, g, h = symbols('f g h', cls=Function)"
   ]
  },
  {
   "source": [
    "# Ejercicio 1"
   ],
   "cell_type": "markdown",
   "metadata": {}
  },
  {
   "cell_type": "code",
   "execution_count": 11,
   "metadata": {},
   "outputs": [
    {
     "output_type": "execute_result",
     "data": {
      "text/plain": [
       "Integral((x**(1/6) + (x**3)**(1/5))/sqrt(x), x)"
      ],
      "text/latex": "$\\displaystyle \\int \\frac{\\sqrt[6]{x} + \\sqrt[5]{x^{3}}}{\\sqrt{x}}\\, dx$"
     },
     "metadata": {},
     "execution_count": 11
    }
   ],
   "source": [
    "#@title Integral a realizar\n",
    "Integral(((root(x**3, 5)) + (root(x, 6))) / sqrt(x), x)"
   ]
  },
  {
   "source": [
    "#@title Resultado\n",
    "integrate(((root(x**3, 5)) + (root(x, 6))) / sqrt(x), x)"
   ],
   "cell_type": "code",
   "metadata": {},
   "execution_count": 12,
   "outputs": [
    {
     "output_type": "execute_result",
     "data": {
      "text/plain": [
       "3*x**(2/3)/2 + 10*sqrt(x)*(x**3)**(1/5)/11"
      ],
      "text/latex": "$\\displaystyle \\frac{3 x^{\\frac{2}{3}}}{2} + \\frac{10 \\sqrt{x} \\sqrt[5]{x^{3}}}{11}$"
     },
     "metadata": {},
     "execution_count": 12
    }
   ]
  },
  {
   "source": [
    "# Ejercicio 2"
   ],
   "cell_type": "markdown",
   "metadata": {}
  },
  {
   "cell_type": "code",
   "execution_count": 13,
   "metadata": {},
   "outputs": [
    {
     "output_type": "execute_result",
     "data": {
      "text/plain": [
       "Integral(1/(sqrt(x - 1) + sqrt(x + 1)), x)"
      ],
      "text/latex": "$\\displaystyle \\int \\frac{1}{\\sqrt{x - 1} + \\sqrt{x + 1}}\\, dx$"
     },
     "metadata": {},
     "execution_count": 13
    }
   ],
   "source": [
    "#@title Integral a realizar\n",
    "Integral(1 / (sqrt(x - 1) + sqrt(x + 1)), x)"
   ]
  },
  {
   "cell_type": "code",
   "execution_count": 14,
   "metadata": {},
   "outputs": [
    {
     "output_type": "execute_result",
     "data": {
      "text/plain": [
       "4*x/(3*sqrt(x - 1) + 3*sqrt(x + 1)) + 2*sqrt(x - 1)*sqrt(x + 1)/(3*sqrt(x - 1) + 3*sqrt(x + 1))"
      ],
      "text/latex": "$\\displaystyle \\frac{4 x}{3 \\sqrt{x - 1} + 3 \\sqrt{x + 1}} + \\frac{2 \\sqrt{x - 1} \\sqrt{x + 1}}{3 \\sqrt{x - 1} + 3 \\sqrt{x + 1}}$"
     },
     "metadata": {},
     "execution_count": 14
    }
   ],
   "source": [
    "#@title Resultado\n",
    "integrate(1 / (sqrt(x - 1) + sqrt(x + 1)), x)"
   ]
  },
  {
   "source": [
    "# Ejercicio 3"
   ],
   "cell_type": "markdown",
   "metadata": {}
  },
  {
   "cell_type": "code",
   "execution_count": 32,
   "metadata": {},
   "outputs": [
    {
     "output_type": "execute_result",
     "data": {
      "text/plain": [
       "Integral((x + 4)/(x**2 + 1), x)"
      ],
      "text/latex": "$\\displaystyle \\int \\frac{x + 4}{x^{2} + 1}\\, dx$"
     },
     "metadata": {},
     "execution_count": 32
    }
   ],
   "source": [
    "#@title Integral a realizar\n",
    "Integral((x + 4) / (x**2 + 1), x)"
   ]
  },
  {
   "cell_type": "code",
   "execution_count": 33,
   "metadata": {},
   "outputs": [
    {
     "output_type": "execute_result",
     "data": {
      "text/plain": [
       "log(x**2 + 1)/2 + 4*atan(x)"
      ],
      "text/latex": "$\\displaystyle \\frac{\\log{\\left(x^{2} + 1 \\right)}}{2} + 4 \\operatorname{atan}{\\left(x \\right)}$"
     },
     "metadata": {},
     "execution_count": 33
    }
   ],
   "source": [
    "#@title Resultado\n",
    "integrate((x + 4) / (x**2 + 1), x)"
   ]
  },
  {
   "source": [
    "# Ejercicio 4"
   ],
   "cell_type": "markdown",
   "metadata": {}
  },
  {
   "cell_type": "code",
   "execution_count": 34,
   "metadata": {},
   "outputs": [
    {
     "output_type": "execute_result",
     "data": {
      "text/plain": [
       "Integral((1 - cos(x))/sin(x)**2, x)"
      ],
      "text/latex": "$\\displaystyle \\int \\frac{1 - \\cos{\\left(x \\right)}}{\\sin^{2}{\\left(x \\right)}}\\, dx$"
     },
     "metadata": {},
     "execution_count": 34
    }
   ],
   "source": [
    "#@title Integral a realizar\n",
    "Integral((1 - cos(x)) / (sin(x)**2), x)"
   ]
  },
  {
   "cell_type": "code",
   "execution_count": 35,
   "metadata": {},
   "outputs": [
    {
     "output_type": "execute_result",
     "data": {
      "text/plain": [
       "tan(x/2)"
      ],
      "text/latex": "$\\displaystyle \\tan{\\left(\\frac{x}{2} \\right)}$"
     },
     "metadata": {},
     "execution_count": 35
    }
   ],
   "source": [
    "#@title Resultado\n",
    "integrate((1 - cos(x)) / (sin(x)**2), x)"
   ]
  },
  {
   "source": [
    "# Ejercicio 5"
   ],
   "cell_type": "markdown",
   "metadata": {}
  },
  {
   "cell_type": "code",
   "execution_count": 36,
   "metadata": {},
   "outputs": [
    {
     "output_type": "execute_result",
     "data": {
      "text/plain": [
       "Integral(x**2*exp(x), x)"
      ],
      "text/latex": "$\\displaystyle \\int x^{2} e^{x}\\, dx$"
     },
     "metadata": {},
     "execution_count": 36
    }
   ],
   "source": [
    "#@title Integral a realizar\n",
    "Integral((x**2)*(exp(x)), x)"
   ]
  },
  {
   "cell_type": "code",
   "execution_count": 37,
   "metadata": {},
   "outputs": [
    {
     "output_type": "execute_result",
     "data": {
      "text/plain": [
       "(x**2 - 2*x + 2)*exp(x)"
      ],
      "text/latex": "$\\displaystyle \\left(x^{2} - 2 x + 2\\right) e^{x}$"
     },
     "metadata": {},
     "execution_count": 37
    }
   ],
   "source": [
    "#@title Resultado\n",
    "integrate((x**2)*(exp(x)), x)"
   ]
  },
  {
   "source": [
    "# Ejercicio 6"
   ],
   "cell_type": "markdown",
   "metadata": {}
  },
  {
   "cell_type": "code",
   "execution_count": 38,
   "metadata": {},
   "outputs": [
    {
     "output_type": "execute_result",
     "data": {
      "text/plain": [
       "Integral((8*x**2 + 6*x + 4)/(x + 1), x)"
      ],
      "text/latex": "$\\displaystyle \\int \\frac{8 x^{2} + 6 x + 4}{x + 1}\\, dx$"
     },
     "metadata": {},
     "execution_count": 38
    }
   ],
   "source": [
    "#@title Integral a realizar\n",
    "Integral(((8 * x**2) + (6 * x) + 4) / (x + 1), x)"
   ]
  },
  {
   "cell_type": "code",
   "execution_count": 39,
   "metadata": {},
   "outputs": [
    {
     "output_type": "execute_result",
     "data": {
      "text/plain": [
       "4*x**2 - 2*x + 6*log(x + 1)"
      ],
      "text/latex": "$\\displaystyle 4 x^{2} - 2 x + 6 \\log{\\left(x + 1 \\right)}$"
     },
     "metadata": {},
     "execution_count": 39
    }
   ],
   "source": [
    "#@title Resultado\n",
    "integrate(((8 * x**2) + (6 * x) + 4) / (x + 1), x)"
   ]
  },
  {
   "source": [
    "# Ejercicio 7 "
   ],
   "cell_type": "markdown",
   "metadata": {}
  },
  {
   "cell_type": "code",
   "execution_count": 40,
   "metadata": {},
   "outputs": [
    {
     "output_type": "execute_result",
     "data": {
      "text/plain": [
       "Integral(4**x/5 + 1/5, x)"
      ],
      "text/latex": "$\\displaystyle \\int \\left(\\frac{4^{x}}{5} + \\frac{1}{5}\\right)\\, dx$"
     },
     "metadata": {},
     "execution_count": 40
    }
   ],
   "source": [
    "#@title Integral a realizar\n",
    "Integral((4**x + 1) / (2**2 + 1), x)"
   ]
  },
  {
   "cell_type": "code",
   "execution_count": 41,
   "metadata": {},
   "outputs": [
    {
     "output_type": "execute_result",
     "data": {
      "text/plain": [
       "4**x/(10*log(2)) + x/5"
      ],
      "text/latex": "$\\displaystyle \\frac{4^{x}}{10 \\log{\\left(2 \\right)}} + \\frac{x}{5}$"
     },
     "metadata": {},
     "execution_count": 41
    }
   ],
   "source": [
    "#@title Resultado\n",
    "integrate((4**x + 1) / (2**2 + 1), x)"
   ]
  },
  {
   "source": [
    "# Ejercicio 8"
   ],
   "cell_type": "markdown",
   "metadata": {}
  },
  {
   "cell_type": "code",
   "execution_count": 42,
   "metadata": {},
   "outputs": [
    {
     "output_type": "execute_result",
     "data": {
      "text/plain": [
       "Integral(exp(sqrt(x)), x)"
      ],
      "text/latex": "$\\displaystyle \\int e^{\\sqrt{x}}\\, dx$"
     },
     "metadata": {},
     "execution_count": 42
    }
   ],
   "source": [
    "#@title Integral a realizar\n",
    "Integral(exp(sqrt(x)), x)"
   ]
  },
  {
   "cell_type": "code",
   "execution_count": 43,
   "metadata": {},
   "outputs": [
    {
     "output_type": "execute_result",
     "data": {
      "text/plain": [
       "2*sqrt(x)*exp(sqrt(x)) - 2*exp(sqrt(x))"
      ],
      "text/latex": "$\\displaystyle 2 \\sqrt{x} e^{\\sqrt{x}} - 2 e^{\\sqrt{x}}$"
     },
     "metadata": {},
     "execution_count": 43
    }
   ],
   "source": [
    "#@title Rasultado\n",
    "integrate(exp(sqrt(x)), x)"
   ]
  },
  {
   "source": [
    "# Ejercicio 9"
   ],
   "cell_type": "markdown",
   "metadata": {}
  },
  {
   "cell_type": "code",
   "execution_count": 45,
   "metadata": {},
   "outputs": [
    {
     "output_type": "execute_result",
     "data": {
      "text/plain": [
       "Integral(x**2*sin(x), x)"
      ],
      "text/latex": "$\\displaystyle \\int x^{2} \\sin{\\left(x \\right)}\\, dx$"
     },
     "metadata": {},
     "execution_count": 45
    }
   ],
   "source": [
    "#@title Integral a realizar\n",
    "Integral((x**2) * sin(x), x)"
   ]
  },
  {
   "cell_type": "code",
   "execution_count": 46,
   "metadata": {},
   "outputs": [
    {
     "output_type": "execute_result",
     "data": {
      "text/plain": [
       "-x**2*cos(x) + 2*x*sin(x) + 2*cos(x)"
      ],
      "text/latex": "$\\displaystyle - x^{2} \\cos{\\left(x \\right)} + 2 x \\sin{\\left(x \\right)} + 2 \\cos{\\left(x \\right)}$"
     },
     "metadata": {},
     "execution_count": 46
    }
   ],
   "source": [
    "#@title Resultado\r\n",
    "integrate((x**2) * sin(x), x)"
   ]
  },
  {
   "source": [
    "# Ejercicio 10"
   ],
   "cell_type": "markdown",
   "metadata": {}
  },
  {
   "cell_type": "code",
   "execution_count": 49,
   "metadata": {},
   "outputs": [
    {
     "output_type": "execute_result",
     "data": {
      "text/plain": [
       "Integral(exp(x)/(exp(2*x) + 2*exp(x) + 1), x)"
      ],
      "text/latex": "$\\displaystyle \\int \\frac{e^{x}}{e^{2 x} + 2 e^{x} + 1}\\, dx$"
     },
     "metadata": {},
     "execution_count": 49
    }
   ],
   "source": [
    "#@title Integral a realizar\n",
    "Integral(exp(x) / ((exp(2 * x) + 2 * (exp(x)) + 1)), x)"
   ]
  },
  {
   "cell_type": "code",
   "execution_count": 50,
   "metadata": {},
   "outputs": [
    {
     "output_type": "execute_result",
     "data": {
      "text/plain": [
       "-1/(exp(x) + 1)"
      ],
      "text/latex": "$\\displaystyle - \\frac{1}{e^{x} + 1}$"
     },
     "metadata": {},
     "execution_count": 50
    }
   ],
   "source": [
    "#@title Resultado\n",
    "integrate(exp(x) / ((exp(2 * x) + 2 * (exp(x)) + 1)), x)"
   ]
  },
  {
   "cell_type": "code",
   "execution_count": null,
   "metadata": {},
   "outputs": [],
   "source": []
  }
 ]
}