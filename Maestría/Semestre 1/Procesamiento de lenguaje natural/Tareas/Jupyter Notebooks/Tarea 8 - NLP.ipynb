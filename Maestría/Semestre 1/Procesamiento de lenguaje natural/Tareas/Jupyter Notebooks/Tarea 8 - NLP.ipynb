{
  "nbformat": 4,
  "nbformat_minor": 0,
  "metadata": {
    "colab": {
      "name": "Tarea 8 - NLP.ipynb",
      "provenance": [],
      "collapsed_sections": []
    },
    "kernelspec": {
      "name": "python3",
      "display_name": "Python 3"
    },
    "language_info": {
      "name": "python"
    }
  },
  "cells": [
    {
      "cell_type": "markdown",
      "metadata": {
        "id": "AhHagfX6fVyW"
      },
      "source": [
        "# Tarea 8\n",
        "## NLP\n",
        "\n",
        "**Descripción**: Dados 3 textos construir la matriz término-documento y determinar la similitud coseno.\n",
        "\n",
        "**Alumno**: Miguel Angel Soto Hernandez"
      ]
    },
    {
      "cell_type": "markdown",
      "metadata": {
        "id": "gvE3YrO3oe2C"
      },
      "source": [
        "# Importaciones necesarias"
      ]
    },
    {
      "cell_type": "code",
      "metadata": {
        "colab": {
          "base_uri": "https://localhost:8080/",
          "height": 0
        },
        "id": "8RBagsX8fOx9",
        "outputId": "c450d419-bb2f-4b27-b1cf-5e2dd7315e97"
      },
      "source": [
        "# tratamiento de datos\n",
        "import numpy as np\n",
        "import pandas as pd\n",
        "import string\n",
        "import re\n",
        "\n",
        "# preprocesado\n",
        "import nltk\n",
        "nltk.download('stopwords')\n",
        "from nltk.corpus import stopwords"
      ],
      "execution_count": 68,
      "outputs": [
        {
          "output_type": "stream",
          "text": [
            "[nltk_data] Downloading package stopwords to /root/nltk_data...\n",
            "[nltk_data]   Package stopwords is already up-to-date!\n"
          ],
          "name": "stdout"
        }
      ]
    },
    {
      "cell_type": "markdown",
      "metadata": {
        "id": "nGdJNKWSl-FF"
      },
      "source": [
        "# Datos"
      ]
    },
    {
      "cell_type": "code",
      "metadata": {
        "colab": {
          "base_uri": "https://localhost:8080/",
          "height": 0
        },
        "id": "BsqxxywUgJIZ",
        "outputId": "8ec45ff0-7355-423e-91cf-f5e2da26713f"
      },
      "source": [
        "# lectura de datos\n",
        "url = 'https://raw.githubusercontent.com/JoaquinAmatRodrigo/Estadistica-con-R/master/datos/'\n",
        "tweets_elon   = pd.read_csv(url + \"datos_tweets_@elonmusk.csv\")\n",
        "tweets_edlee  = pd.read_csv(url + \"datos_tweets_@mayoredlee.csv\")\n",
        "tweets_bgates = pd.read_csv(url + \"datos_tweets_@BillGates.csv\")\n",
        "\n",
        "print('Número de tweets @BillGates: ' + str(tweets_bgates.shape[0]))\n",
        "print('Número de tweets @mayoredlee: ' + str(tweets_edlee.shape[0]))\n",
        "print('Número de tweets @elonmusk: ' + str(tweets_elon.shape[0]))"
      ],
      "execution_count": 69,
      "outputs": [
        {
          "output_type": "stream",
          "text": [
            "Número de tweets @BillGates: 2087\n",
            "Número de tweets @mayoredlee: 2447\n",
            "Número de tweets @elonmusk: 2678\n"
          ],
          "name": "stdout"
        }
      ]
    },
    {
      "cell_type": "code",
      "metadata": {
        "colab": {
          "base_uri": "https://localhost:8080/",
          "height": 377
        },
        "id": "H_8me8Ongat7",
        "outputId": "0b76dd7f-e451-463a-f11c-eb5f2a456099"
      },
      "source": [
        "tweets_elon.head()"
      ],
      "execution_count": 70,
      "outputs": [
        {
          "output_type": "execute_result",
          "data": {
            "text/html": [
              "<div>\n",
              "<style scoped>\n",
              "    .dataframe tbody tr th:only-of-type {\n",
              "        vertical-align: middle;\n",
              "    }\n",
              "\n",
              "    .dataframe tbody tr th {\n",
              "        vertical-align: top;\n",
              "    }\n",
              "\n",
              "    .dataframe thead th {\n",
              "        text-align: right;\n",
              "    }\n",
              "</style>\n",
              "<table border=\"1\" class=\"dataframe\">\n",
              "  <thead>\n",
              "    <tr style=\"text-align: right;\">\n",
              "      <th></th>\n",
              "      <th>screen_name</th>\n",
              "      <th>user_id</th>\n",
              "      <th>created_at</th>\n",
              "      <th>status_id</th>\n",
              "      <th>text</th>\n",
              "      <th>retweet_count</th>\n",
              "      <th>favorite_count</th>\n",
              "      <th>is_quote_status</th>\n",
              "      <th>quote_status_id</th>\n",
              "      <th>is_retweet</th>\n",
              "      <th>retweet_status_id</th>\n",
              "      <th>in_reply_to_status_status_id</th>\n",
              "      <th>in_reply_to_status_user_id</th>\n",
              "      <th>in_reply_to_status_screen_name</th>\n",
              "      <th>lang</th>\n",
              "      <th>source</th>\n",
              "      <th>media_id</th>\n",
              "      <th>media_url</th>\n",
              "      <th>media_url_expanded</th>\n",
              "      <th>urls</th>\n",
              "      <th>urls_display</th>\n",
              "      <th>urls_expanded</th>\n",
              "      <th>mentions_screen_name</th>\n",
              "      <th>mentions_user_id</th>\n",
              "      <th>symbols</th>\n",
              "      <th>hashtags</th>\n",
              "      <th>coordinates</th>\n",
              "      <th>place_id</th>\n",
              "      <th>place_type</th>\n",
              "      <th>place_name</th>\n",
              "      <th>place_full_name</th>\n",
              "      <th>country_code</th>\n",
              "      <th>country</th>\n",
              "      <th>bounding_box_coordinates</th>\n",
              "      <th>bounding_box_type</th>\n",
              "    </tr>\n",
              "  </thead>\n",
              "  <tbody>\n",
              "    <tr>\n",
              "      <th>0</th>\n",
              "      <td>elonmusk</td>\n",
              "      <td>44196397</td>\n",
              "      <td>2017-11-09T17:28:57Z</td>\n",
              "      <td>9.286758e+17</td>\n",
              "      <td>\"If one day, my words are against science, cho...</td>\n",
              "      <td>49919</td>\n",
              "      <td>104722</td>\n",
              "      <td>False</td>\n",
              "      <td>NaN</td>\n",
              "      <td>False</td>\n",
              "      <td>NaN</td>\n",
              "      <td>9.286717e+17</td>\n",
              "      <td>44196397.0</td>\n",
              "      <td>elonmusk</td>\n",
              "      <td>en</td>\n",
              "      <td>Twitter for iPhone</td>\n",
              "      <td>NaN</td>\n",
              "      <td>NaN</td>\n",
              "      <td>NaN</td>\n",
              "      <td>NaN</td>\n",
              "      <td>NaN</td>\n",
              "      <td>NaN</td>\n",
              "      <td>NaN</td>\n",
              "      <td>NaN</td>\n",
              "      <td>NaN</td>\n",
              "      <td>NaN</td>\n",
              "      <td>NaN</td>\n",
              "      <td>NaN</td>\n",
              "      <td>NaN</td>\n",
              "      <td>NaN</td>\n",
              "      <td>NaN</td>\n",
              "      <td>NaN</td>\n",
              "      <td>NaN</td>\n",
              "      <td>NaN</td>\n",
              "      <td>NaN</td>\n",
              "    </tr>\n",
              "    <tr>\n",
              "      <th>1</th>\n",
              "      <td>elonmusk</td>\n",
              "      <td>44196397</td>\n",
              "      <td>2017-11-09T17:12:46Z</td>\n",
              "      <td>9.286717e+17</td>\n",
              "      <td>I placed the flowers\\n\\nThree broken ribs\\nA p...</td>\n",
              "      <td>5940</td>\n",
              "      <td>33725</td>\n",
              "      <td>False</td>\n",
              "      <td>NaN</td>\n",
              "      <td>False</td>\n",
              "      <td>NaN</td>\n",
              "      <td>NaN</td>\n",
              "      <td>NaN</td>\n",
              "      <td>NaN</td>\n",
              "      <td>en</td>\n",
              "      <td>Instagram</td>\n",
              "      <td>NaN</td>\n",
              "      <td>NaN</td>\n",
              "      <td>NaN</td>\n",
              "      <td>NaN</td>\n",
              "      <td>instagram.com/p/BbPzHC2AW34/</td>\n",
              "      <td>https://www.instagram.com/p/BbPzHC2AW34/</td>\n",
              "      <td>NaN</td>\n",
              "      <td>NaN</td>\n",
              "      <td>NaN</td>\n",
              "      <td>NaN</td>\n",
              "      <td>NaN</td>\n",
              "      <td>NaN</td>\n",
              "      <td>NaN</td>\n",
              "      <td>NaN</td>\n",
              "      <td>NaN</td>\n",
              "      <td>NaN</td>\n",
              "      <td>NaN</td>\n",
              "      <td>NaN</td>\n",
              "      <td>NaN</td>\n",
              "    </tr>\n",
              "    <tr>\n",
              "      <th>2</th>\n",
              "      <td>elonmusk</td>\n",
              "      <td>44196397</td>\n",
              "      <td>2017-11-08T18:55:13Z</td>\n",
              "      <td>9.283351e+17</td>\n",
              "      <td>Atatürk Anıtkabir https://t.co/al3wt0njr6</td>\n",
              "      <td>34752</td>\n",
              "      <td>104823</td>\n",
              "      <td>False</td>\n",
              "      <td>NaN</td>\n",
              "      <td>False</td>\n",
              "      <td>NaN</td>\n",
              "      <td>NaN</td>\n",
              "      <td>NaN</td>\n",
              "      <td>NaN</td>\n",
              "      <td>tr</td>\n",
              "      <td>Instagram</td>\n",
              "      <td>NaN</td>\n",
              "      <td>NaN</td>\n",
              "      <td>NaN</td>\n",
              "      <td>NaN</td>\n",
              "      <td>instagram.com/p/BbPjzwJgxKG/</td>\n",
              "      <td>https://www.instagram.com/p/BbPjzwJgxKG/</td>\n",
              "      <td>NaN</td>\n",
              "      <td>NaN</td>\n",
              "      <td>NaN</td>\n",
              "      <td>NaN</td>\n",
              "      <td>NaN</td>\n",
              "      <td>NaN</td>\n",
              "      <td>NaN</td>\n",
              "      <td>NaN</td>\n",
              "      <td>NaN</td>\n",
              "      <td>NaN</td>\n",
              "      <td>NaN</td>\n",
              "      <td>NaN</td>\n",
              "      <td>NaN</td>\n",
              "    </tr>\n",
              "    <tr>\n",
              "      <th>3</th>\n",
              "      <td>elonmusk</td>\n",
              "      <td>44196397</td>\n",
              "      <td>2017-11-07T19:48:45Z</td>\n",
              "      <td>9.279862e+17</td>\n",
              "      <td>@Bob_Richards One rocket, slightly toasted</td>\n",
              "      <td>415</td>\n",
              "      <td>7247</td>\n",
              "      <td>False</td>\n",
              "      <td>NaN</td>\n",
              "      <td>False</td>\n",
              "      <td>NaN</td>\n",
              "      <td>9.279679e+17</td>\n",
              "      <td>21770611.0</td>\n",
              "      <td>Bob_Richards</td>\n",
              "      <td>en</td>\n",
              "      <td>Twitter for iPhone</td>\n",
              "      <td>NaN</td>\n",
              "      <td>NaN</td>\n",
              "      <td>NaN</td>\n",
              "      <td>NaN</td>\n",
              "      <td>NaN</td>\n",
              "      <td>NaN</td>\n",
              "      <td>Bob_Richards</td>\n",
              "      <td>21770611</td>\n",
              "      <td>NaN</td>\n",
              "      <td>NaN</td>\n",
              "      <td>NaN</td>\n",
              "      <td>NaN</td>\n",
              "      <td>NaN</td>\n",
              "      <td>NaN</td>\n",
              "      <td>NaN</td>\n",
              "      <td>NaN</td>\n",
              "      <td>NaN</td>\n",
              "      <td>NaN</td>\n",
              "      <td>NaN</td>\n",
              "    </tr>\n",
              "    <tr>\n",
              "      <th>4</th>\n",
              "      <td>elonmusk</td>\n",
              "      <td>44196397</td>\n",
              "      <td>2017-10-28T21:36:18Z</td>\n",
              "      <td>9.243894e+17</td>\n",
              "      <td>@uncover007 500 ft so far. Should be 2 miles l...</td>\n",
              "      <td>207</td>\n",
              "      <td>2128</td>\n",
              "      <td>False</td>\n",
              "      <td>NaN</td>\n",
              "      <td>False</td>\n",
              "      <td>NaN</td>\n",
              "      <td>9.243881e+17</td>\n",
              "      <td>22070847.0</td>\n",
              "      <td>uncover007</td>\n",
              "      <td>en</td>\n",
              "      <td>Twitter for iPhone</td>\n",
              "      <td>NaN</td>\n",
              "      <td>NaN</td>\n",
              "      <td>NaN</td>\n",
              "      <td>NaN</td>\n",
              "      <td>twitter.com/i/web/status/9…</td>\n",
              "      <td>https://twitter.com/i/web/status/9243893837923...</td>\n",
              "      <td>uncover007</td>\n",
              "      <td>22070847</td>\n",
              "      <td>NaN</td>\n",
              "      <td>NaN</td>\n",
              "      <td>NaN</td>\n",
              "      <td>NaN</td>\n",
              "      <td>NaN</td>\n",
              "      <td>NaN</td>\n",
              "      <td>NaN</td>\n",
              "      <td>NaN</td>\n",
              "      <td>NaN</td>\n",
              "      <td>NaN</td>\n",
              "      <td>NaN</td>\n",
              "    </tr>\n",
              "  </tbody>\n",
              "</table>\n",
              "</div>"
            ],
            "text/plain": [
              "  screen_name   user_id  ... bounding_box_coordinates  bounding_box_type\n",
              "0    elonmusk  44196397  ...                      NaN                NaN\n",
              "1    elonmusk  44196397  ...                      NaN                NaN\n",
              "2    elonmusk  44196397  ...                      NaN                NaN\n",
              "3    elonmusk  44196397  ...                      NaN                NaN\n",
              "4    elonmusk  44196397  ...                      NaN                NaN\n",
              "\n",
              "[5 rows x 35 columns]"
            ]
          },
          "metadata": {
            "tags": []
          },
          "execution_count": 70
        }
      ]
    },
    {
      "cell_type": "code",
      "metadata": {
        "colab": {
          "base_uri": "https://localhost:8080/",
          "height": 204
        },
        "id": "6P6WOBXKgS_j",
        "outputId": "588ca64c-c172-4629-b440-9ba232b4b286"
      },
      "source": [
        "# se unen los dos dataframes en uno solo\n",
        "tweets = pd.concat([tweets_elon, tweets_edlee, tweets_bgates], ignore_index=True)\n",
        "\n",
        "# se seleccionan y renombran las columnas de interés\n",
        "tweets = tweets[['screen_name', 'created_at', 'status_id', 'text']]\n",
        "tweets.columns = ['autor', 'fecha', 'id', 'texto']\n",
        "\n",
        "# parseo de fechas\n",
        "tweets['fecha'] = pd.to_datetime(tweets['fecha'])\n",
        "tweets.head()"
      ],
      "execution_count": 71,
      "outputs": [
        {
          "output_type": "execute_result",
          "data": {
            "text/html": [
              "<div>\n",
              "<style scoped>\n",
              "    .dataframe tbody tr th:only-of-type {\n",
              "        vertical-align: middle;\n",
              "    }\n",
              "\n",
              "    .dataframe tbody tr th {\n",
              "        vertical-align: top;\n",
              "    }\n",
              "\n",
              "    .dataframe thead th {\n",
              "        text-align: right;\n",
              "    }\n",
              "</style>\n",
              "<table border=\"1\" class=\"dataframe\">\n",
              "  <thead>\n",
              "    <tr style=\"text-align: right;\">\n",
              "      <th></th>\n",
              "      <th>autor</th>\n",
              "      <th>fecha</th>\n",
              "      <th>id</th>\n",
              "      <th>texto</th>\n",
              "    </tr>\n",
              "  </thead>\n",
              "  <tbody>\n",
              "    <tr>\n",
              "      <th>0</th>\n",
              "      <td>elonmusk</td>\n",
              "      <td>2017-11-09 17:28:57+00:00</td>\n",
              "      <td>9.286758e+17</td>\n",
              "      <td>\"If one day, my words are against science, cho...</td>\n",
              "    </tr>\n",
              "    <tr>\n",
              "      <th>1</th>\n",
              "      <td>elonmusk</td>\n",
              "      <td>2017-11-09 17:12:46+00:00</td>\n",
              "      <td>9.286717e+17</td>\n",
              "      <td>I placed the flowers\\n\\nThree broken ribs\\nA p...</td>\n",
              "    </tr>\n",
              "    <tr>\n",
              "      <th>2</th>\n",
              "      <td>elonmusk</td>\n",
              "      <td>2017-11-08 18:55:13+00:00</td>\n",
              "      <td>9.283351e+17</td>\n",
              "      <td>Atatürk Anıtkabir https://t.co/al3wt0njr6</td>\n",
              "    </tr>\n",
              "    <tr>\n",
              "      <th>3</th>\n",
              "      <td>elonmusk</td>\n",
              "      <td>2017-11-07 19:48:45+00:00</td>\n",
              "      <td>9.279862e+17</td>\n",
              "      <td>@Bob_Richards One rocket, slightly toasted</td>\n",
              "    </tr>\n",
              "    <tr>\n",
              "      <th>4</th>\n",
              "      <td>elonmusk</td>\n",
              "      <td>2017-10-28 21:36:18+00:00</td>\n",
              "      <td>9.243894e+17</td>\n",
              "      <td>@uncover007 500 ft so far. Should be 2 miles l...</td>\n",
              "    </tr>\n",
              "  </tbody>\n",
              "</table>\n",
              "</div>"
            ],
            "text/plain": [
              "      autor  ...                                              texto\n",
              "0  elonmusk  ...  \"If one day, my words are against science, cho...\n",
              "1  elonmusk  ...  I placed the flowers\\n\\nThree broken ribs\\nA p...\n",
              "2  elonmusk  ...          Atatürk Anıtkabir https://t.co/al3wt0njr6\n",
              "3  elonmusk  ...         @Bob_Richards One rocket, slightly toasted\n",
              "4  elonmusk  ...  @uncover007 500 ft so far. Should be 2 miles l...\n",
              "\n",
              "[5 rows x 4 columns]"
            ]
          },
          "metadata": {
            "tags": []
          },
          "execution_count": 71
        }
      ]
    },
    {
      "cell_type": "markdown",
      "metadata": {
        "id": "bTRHgN5lmalK"
      },
      "source": [
        "# Limpieza y tokenizacion"
      ]
    },
    {
      "cell_type": "code",
      "metadata": {
        "id": "5WWrbJcCmIJa"
      },
      "source": [
        "def limpiar_tokenizar(texto):\n",
        "    '''\n",
        "      Esta función limpia y tokeniza el texto en palabras individuales.\n",
        "      El orden en el que se va limpiando el texto no es arbitrario.\n",
        "      El listado de signos de puntuación se ha obtenido de: print(string.punctuation)\n",
        "      y re.escape(string.punctuation)\n",
        "    '''\n",
        "    \n",
        "    # se convierte todo el texto a minúsculas\n",
        "    nuevo_texto = texto.lower()\n",
        "\n",
        "    # eliminación de páginas web (palabras que empiezan por \"http\")\n",
        "    nuevo_texto = re.sub('http\\S+', ' ', nuevo_texto)\n",
        "\n",
        "    # eliminación de signos de puntuación\n",
        "    regex = '[\\\\!\\\\\"\\\\#\\\\$\\\\%\\\\&\\\\\\'\\\\(\\\\)\\\\*\\\\+\\\\,\\\\-\\\\.\\\\/\\\\:\\\\;\\\\<\\\\=\\\\>\\\\?\\\\@\\\\[\\\\\\\\\\\\]\\\\^_\\\\`\\\\{\\\\|\\\\}\\\\~]'\n",
        "    nuevo_texto = re.sub(regex , ' ', nuevo_texto)\n",
        "\n",
        "    # eliminación de números\n",
        "    nuevo_texto = re.sub(\"\\d+\", ' ', nuevo_texto)\n",
        "\n",
        "    # eliminación de espacios en blanco múltiples\n",
        "    nuevo_texto = re.sub(\"\\\\s+\", ' ', nuevo_texto)\n",
        "\n",
        "    # tokenización por palabras individuales\n",
        "    nuevo_texto = nuevo_texto.split(sep = ' ')\n",
        "\n",
        "    # eliminación de tokens con una longitud < 2\n",
        "    nuevo_texto = [token for token in nuevo_texto if len(token) > 1]\n",
        "    \n",
        "    return(nuevo_texto)"
      ],
      "execution_count": 72,
      "outputs": []
    },
    {
      "cell_type": "code",
      "metadata": {
        "colab": {
          "base_uri": "https://localhost:8080/",
          "height": 0
        },
        "id": "AIUnOJUjm1Tl",
        "outputId": "85c4dab2-818f-40c8-d01c-612c606773e5"
      },
      "source": [
        "# prueba\n",
        "test = '#HéroesSinCapa | El pasado 13 de marzo los oficiales Juárez, Morales y Castañeda adscritos a la #PBI, auxiliaron a los pacientes de un hospital psiquiátrico, tras registrarse un incendio en un pastizal de la @AlcaldiaAO. ¡Conoce la historia!'\n",
        "print(f'Ejemplo: {test}')\n",
        "print(f'\\nTexto limpio y por tokens: {limpiar_tokenizar(texto=test)}')"
      ],
      "execution_count": 73,
      "outputs": [
        {
          "output_type": "stream",
          "text": [
            "Ejemplo: #HéroesSinCapa | El pasado 13 de marzo los oficiales Juárez, Morales y Castañeda adscritos a la #PBI, auxiliaron a los pacientes de un hospital psiquiátrico, tras registrarse un incendio en un pastizal de la @AlcaldiaAO. ¡Conoce la historia!\n",
            "\n",
            "Texto limpio y por tokens: ['héroessincapa', 'el', 'pasado', 'de', 'marzo', 'los', 'oficiales', 'juárez', 'morales', 'castañeda', 'adscritos', 'la', 'pbi', 'auxiliaron', 'los', 'pacientes', 'de', 'un', 'hospital', 'psiquiátrico', 'tras', 'registrarse', 'un', 'incendio', 'en', 'un', 'pastizal', 'de', 'la', 'alcaldiaao', '¡conoce', 'la', 'historia']\n"
          ],
          "name": "stdout"
        }
      ]
    },
    {
      "cell_type": "code",
      "metadata": {
        "colab": {
          "base_uri": "https://localhost:8080/",
          "height": 204
        },
        "id": "yw-LNnh5ns78",
        "outputId": "0e1546ab-8b68-4d22-8ecf-bccb80e5954c"
      },
      "source": [
        "# se aplica la función de limpieza y tokenización a cada tweet\n",
        "tweets['texto_tokenizado'] = tweets['texto'].apply(lambda x: limpiar_tokenizar(x))\n",
        "tweets.head()"
      ],
      "execution_count": 74,
      "outputs": [
        {
          "output_type": "execute_result",
          "data": {
            "text/html": [
              "<div>\n",
              "<style scoped>\n",
              "    .dataframe tbody tr th:only-of-type {\n",
              "        vertical-align: middle;\n",
              "    }\n",
              "\n",
              "    .dataframe tbody tr th {\n",
              "        vertical-align: top;\n",
              "    }\n",
              "\n",
              "    .dataframe thead th {\n",
              "        text-align: right;\n",
              "    }\n",
              "</style>\n",
              "<table border=\"1\" class=\"dataframe\">\n",
              "  <thead>\n",
              "    <tr style=\"text-align: right;\">\n",
              "      <th></th>\n",
              "      <th>autor</th>\n",
              "      <th>fecha</th>\n",
              "      <th>id</th>\n",
              "      <th>texto</th>\n",
              "      <th>texto_tokenizado</th>\n",
              "    </tr>\n",
              "  </thead>\n",
              "  <tbody>\n",
              "    <tr>\n",
              "      <th>0</th>\n",
              "      <td>elonmusk</td>\n",
              "      <td>2017-11-09 17:28:57+00:00</td>\n",
              "      <td>9.286758e+17</td>\n",
              "      <td>\"If one day, my words are against science, cho...</td>\n",
              "      <td>[if, one, day, my, words, are, against, scienc...</td>\n",
              "    </tr>\n",
              "    <tr>\n",
              "      <th>1</th>\n",
              "      <td>elonmusk</td>\n",
              "      <td>2017-11-09 17:12:46+00:00</td>\n",
              "      <td>9.286717e+17</td>\n",
              "      <td>I placed the flowers\\n\\nThree broken ribs\\nA p...</td>\n",
              "      <td>[placed, the, flowers, three, broken, ribs, pi...</td>\n",
              "    </tr>\n",
              "    <tr>\n",
              "      <th>2</th>\n",
              "      <td>elonmusk</td>\n",
              "      <td>2017-11-08 18:55:13+00:00</td>\n",
              "      <td>9.283351e+17</td>\n",
              "      <td>Atatürk Anıtkabir https://t.co/al3wt0njr6</td>\n",
              "      <td>[atatürk, anıtkabir]</td>\n",
              "    </tr>\n",
              "    <tr>\n",
              "      <th>3</th>\n",
              "      <td>elonmusk</td>\n",
              "      <td>2017-11-07 19:48:45+00:00</td>\n",
              "      <td>9.279862e+17</td>\n",
              "      <td>@Bob_Richards One rocket, slightly toasted</td>\n",
              "      <td>[bob, richards, one, rocket, slightly, toasted]</td>\n",
              "    </tr>\n",
              "    <tr>\n",
              "      <th>4</th>\n",
              "      <td>elonmusk</td>\n",
              "      <td>2017-10-28 21:36:18+00:00</td>\n",
              "      <td>9.243894e+17</td>\n",
              "      <td>@uncover007 500 ft so far. Should be 2 miles l...</td>\n",
              "      <td>[uncover, ft, so, far, should, be, miles, long...</td>\n",
              "    </tr>\n",
              "  </tbody>\n",
              "</table>\n",
              "</div>"
            ],
            "text/plain": [
              "      autor  ...                                   texto_tokenizado\n",
              "0  elonmusk  ...  [if, one, day, my, words, are, against, scienc...\n",
              "1  elonmusk  ...  [placed, the, flowers, three, broken, ribs, pi...\n",
              "2  elonmusk  ...                               [atatürk, anıtkabir]\n",
              "3  elonmusk  ...    [bob, richards, one, rocket, slightly, toasted]\n",
              "4  elonmusk  ...  [uncover, ft, so, far, should, be, miles, long...\n",
              "\n",
              "[5 rows x 5 columns]"
            ]
          },
          "metadata": {
            "tags": []
          },
          "execution_count": 74
        }
      ]
    },
    {
      "cell_type": "code",
      "metadata": {
        "colab": {
          "base_uri": "https://localhost:8080/",
          "height": 204
        },
        "id": "RwzZzvq5shGt",
        "outputId": "8269a884-7600-45df-a08f-ad296cbd794c"
      },
      "source": [
        "# transformando los arreglos en un solo string por fila\n",
        "# explode: transformar cada elemento de una lista en una fila, \n",
        "# replicando los valores del índice\n",
        "tweets_tidy = tweets.explode(column='texto_tokenizado')\n",
        "tweets_tidy = tweets_tidy.drop(columns='texto')\n",
        "tweets_tidy = tweets_tidy.rename(columns={'texto_tokenizado':'token'})\n",
        "tweets_tidy.head()"
      ],
      "execution_count": 75,
      "outputs": [
        {
          "output_type": "execute_result",
          "data": {
            "text/html": [
              "<div>\n",
              "<style scoped>\n",
              "    .dataframe tbody tr th:only-of-type {\n",
              "        vertical-align: middle;\n",
              "    }\n",
              "\n",
              "    .dataframe tbody tr th {\n",
              "        vertical-align: top;\n",
              "    }\n",
              "\n",
              "    .dataframe thead th {\n",
              "        text-align: right;\n",
              "    }\n",
              "</style>\n",
              "<table border=\"1\" class=\"dataframe\">\n",
              "  <thead>\n",
              "    <tr style=\"text-align: right;\">\n",
              "      <th></th>\n",
              "      <th>autor</th>\n",
              "      <th>fecha</th>\n",
              "      <th>id</th>\n",
              "      <th>token</th>\n",
              "    </tr>\n",
              "  </thead>\n",
              "  <tbody>\n",
              "    <tr>\n",
              "      <th>0</th>\n",
              "      <td>elonmusk</td>\n",
              "      <td>2017-11-09 17:28:57+00:00</td>\n",
              "      <td>9.286758e+17</td>\n",
              "      <td>if</td>\n",
              "    </tr>\n",
              "    <tr>\n",
              "      <th>0</th>\n",
              "      <td>elonmusk</td>\n",
              "      <td>2017-11-09 17:28:57+00:00</td>\n",
              "      <td>9.286758e+17</td>\n",
              "      <td>one</td>\n",
              "    </tr>\n",
              "    <tr>\n",
              "      <th>0</th>\n",
              "      <td>elonmusk</td>\n",
              "      <td>2017-11-09 17:28:57+00:00</td>\n",
              "      <td>9.286758e+17</td>\n",
              "      <td>day</td>\n",
              "    </tr>\n",
              "    <tr>\n",
              "      <th>0</th>\n",
              "      <td>elonmusk</td>\n",
              "      <td>2017-11-09 17:28:57+00:00</td>\n",
              "      <td>9.286758e+17</td>\n",
              "      <td>my</td>\n",
              "    </tr>\n",
              "    <tr>\n",
              "      <th>0</th>\n",
              "      <td>elonmusk</td>\n",
              "      <td>2017-11-09 17:28:57+00:00</td>\n",
              "      <td>9.286758e+17</td>\n",
              "      <td>words</td>\n",
              "    </tr>\n",
              "  </tbody>\n",
              "</table>\n",
              "</div>"
            ],
            "text/plain": [
              "      autor                     fecha            id  token\n",
              "0  elonmusk 2017-11-09 17:28:57+00:00  9.286758e+17     if\n",
              "0  elonmusk 2017-11-09 17:28:57+00:00  9.286758e+17    one\n",
              "0  elonmusk 2017-11-09 17:28:57+00:00  9.286758e+17    day\n",
              "0  elonmusk 2017-11-09 17:28:57+00:00  9.286758e+17     my\n",
              "0  elonmusk 2017-11-09 17:28:57+00:00  9.286758e+17  words"
            ]
          },
          "metadata": {
            "tags": []
          },
          "execution_count": 75
        }
      ]
    },
    {
      "cell_type": "code",
      "metadata": {
        "colab": {
          "base_uri": "https://localhost:8080/",
          "height": 0
        },
        "id": "suwrtogDpf7S",
        "outputId": "cc1b5fa9-5c96-48b7-d965-64f71a52f25b"
      },
      "source": [
        "# obtención de listado de stopwords del inglés\n",
        "palabras_auxiliares = list(stopwords.words('english'))\n",
        "\n",
        "# se añade la stoprword: amp, ax, ex\n",
        "palabras_auxiliares.extend((\"amp\", \"xa\", \"xe\"))\n",
        "print(f'Palabras auxiliares: {palabras_auxiliares[:20]}')"
      ],
      "execution_count": 76,
      "outputs": [
        {
          "output_type": "stream",
          "text": [
            "Palabras auxiliares: ['i', 'me', 'my', 'myself', 'we', 'our', 'ours', 'ourselves', 'you', \"you're\", \"you've\", \"you'll\", \"you'd\", 'your', 'yours', 'yourself', 'yourselves', 'he', 'him', 'his']\n"
          ],
          "name": "stdout"
        }
      ]
    },
    {
      "cell_type": "code",
      "metadata": {
        "colab": {
          "base_uri": "https://localhost:8080/",
          "height": 204
        },
        "id": "4yq1oxkEqfTi",
        "outputId": "947f4fca-7433-40e0-ed30-bdc6577c83b6"
      },
      "source": [
        "# limpiar palabras auxiliares\n",
        "tweets_tidy = tweets_tidy[~(tweets_tidy['token'].isin(palabras_auxiliares))]\n",
        "tweets_tidy.head()"
      ],
      "execution_count": 77,
      "outputs": [
        {
          "output_type": "execute_result",
          "data": {
            "text/html": [
              "<div>\n",
              "<style scoped>\n",
              "    .dataframe tbody tr th:only-of-type {\n",
              "        vertical-align: middle;\n",
              "    }\n",
              "\n",
              "    .dataframe tbody tr th {\n",
              "        vertical-align: top;\n",
              "    }\n",
              "\n",
              "    .dataframe thead th {\n",
              "        text-align: right;\n",
              "    }\n",
              "</style>\n",
              "<table border=\"1\" class=\"dataframe\">\n",
              "  <thead>\n",
              "    <tr style=\"text-align: right;\">\n",
              "      <th></th>\n",
              "      <th>autor</th>\n",
              "      <th>fecha</th>\n",
              "      <th>id</th>\n",
              "      <th>token</th>\n",
              "    </tr>\n",
              "  </thead>\n",
              "  <tbody>\n",
              "    <tr>\n",
              "      <th>0</th>\n",
              "      <td>elonmusk</td>\n",
              "      <td>2017-11-09 17:28:57+00:00</td>\n",
              "      <td>9.286758e+17</td>\n",
              "      <td>one</td>\n",
              "    </tr>\n",
              "    <tr>\n",
              "      <th>0</th>\n",
              "      <td>elonmusk</td>\n",
              "      <td>2017-11-09 17:28:57+00:00</td>\n",
              "      <td>9.286758e+17</td>\n",
              "      <td>day</td>\n",
              "    </tr>\n",
              "    <tr>\n",
              "      <th>0</th>\n",
              "      <td>elonmusk</td>\n",
              "      <td>2017-11-09 17:28:57+00:00</td>\n",
              "      <td>9.286758e+17</td>\n",
              "      <td>words</td>\n",
              "    </tr>\n",
              "    <tr>\n",
              "      <th>0</th>\n",
              "      <td>elonmusk</td>\n",
              "      <td>2017-11-09 17:28:57+00:00</td>\n",
              "      <td>9.286758e+17</td>\n",
              "      <td>science</td>\n",
              "    </tr>\n",
              "    <tr>\n",
              "      <th>0</th>\n",
              "      <td>elonmusk</td>\n",
              "      <td>2017-11-09 17:28:57+00:00</td>\n",
              "      <td>9.286758e+17</td>\n",
              "      <td>choose</td>\n",
              "    </tr>\n",
              "  </tbody>\n",
              "</table>\n",
              "</div>"
            ],
            "text/plain": [
              "      autor                     fecha            id    token\n",
              "0  elonmusk 2017-11-09 17:28:57+00:00  9.286758e+17      one\n",
              "0  elonmusk 2017-11-09 17:28:57+00:00  9.286758e+17      day\n",
              "0  elonmusk 2017-11-09 17:28:57+00:00  9.286758e+17    words\n",
              "0  elonmusk 2017-11-09 17:28:57+00:00  9.286758e+17  science\n",
              "0  elonmusk 2017-11-09 17:28:57+00:00  9.286758e+17   choose"
            ]
          },
          "metadata": {
            "tags": []
          },
          "execution_count": 77
        }
      ]
    },
    {
      "cell_type": "markdown",
      "metadata": {
        "id": "MD8Z0A6roaQE"
      },
      "source": [
        "# Frecuencia de palabras"
      ]
    },
    {
      "cell_type": "code",
      "metadata": {
        "colab": {
          "base_uri": "https://localhost:8080/",
          "height": 0
        },
        "id": "ae89CBTcoQ-2",
        "outputId": "833b2068-30ec-421e-b38e-390adb5d7d5f"
      },
      "source": [
        "# palabras totales por usuario\n",
        "print('Palabras totales por usuario')\n",
        "tweets_tidy.groupby(by='autor')['token'].count()"
      ],
      "execution_count": 78,
      "outputs": [
        {
          "output_type": "stream",
          "text": [
            "Palabras totales por usuario\n"
          ],
          "name": "stdout"
        },
        {
          "output_type": "execute_result",
          "data": {
            "text/plain": [
              "autor\n",
              "BillGates     19445\n",
              "elonmusk      21719\n",
              "mayoredlee    26676\n",
              "Name: token, dtype: int64"
            ]
          },
          "metadata": {
            "tags": []
          },
          "execution_count": 78
        }
      ]
    },
    {
      "cell_type": "code",
      "metadata": {
        "colab": {
          "base_uri": "https://localhost:8080/",
          "height": 0
        },
        "id": "uBJG6XUBtqxW",
        "outputId": "d1a6641a-fec1-48c5-bb77-094a9ab6f183"
      },
      "source": [
        "# palabras unicas por usuario\n",
        "print('Palabras distintas por usuario')\n",
        "tweets_tidy.groupby(by='autor')['token'].nunique()"
      ],
      "execution_count": 79,
      "outputs": [
        {
          "output_type": "stream",
          "text": [
            "Palabras distintas por usuario\n"
          ],
          "name": "stdout"
        },
        {
          "output_type": "execute_result",
          "data": {
            "text/plain": [
              "autor\n",
              "BillGates     4718\n",
              "elonmusk      6496\n",
              "mayoredlee    5644\n",
              "Name: token, dtype: int64"
            ]
          },
          "metadata": {
            "tags": []
          },
          "execution_count": 79
        }
      ]
    },
    {
      "cell_type": "markdown",
      "metadata": {
        "id": "tJW2HfIVv7LN"
      },
      "source": [
        "# Relacion coseno o correlacion"
      ]
    },
    {
      "cell_type": "code",
      "metadata": {
        "colab": {
          "base_uri": "https://localhost:8080/",
          "height": 1010
        },
        "id": "Y45EwAasux_V",
        "outputId": "b1b7d8ed-6496-451f-eaa0-5b61f1bc0772"
      },
      "source": [
        "# pivotado de datos o matriz termino-documento\n",
        "tweets_pivot = tweets_tidy.groupby([\"autor\",\"token\"])[\"token\"] \\\n",
        "                .agg([\"count\"]).reset_index() \\\n",
        "                .pivot(index = \"token\" , columns=\"autor\", values= \"count\")\n",
        "tweets_pivot.columns.name = None\n",
        "tweets_pivot = tweets_pivot.fillna(0)\n",
        "tweets_pivot[1000:1030]"
      ],
      "execution_count": 80,
      "outputs": [
        {
          "output_type": "execute_result",
          "data": {
            "text/html": [
              "<div>\n",
              "<style scoped>\n",
              "    .dataframe tbody tr th:only-of-type {\n",
              "        vertical-align: middle;\n",
              "    }\n",
              "\n",
              "    .dataframe tbody tr th {\n",
              "        vertical-align: top;\n",
              "    }\n",
              "\n",
              "    .dataframe thead th {\n",
              "        text-align: right;\n",
              "    }\n",
              "</style>\n",
              "<table border=\"1\" class=\"dataframe\">\n",
              "  <thead>\n",
              "    <tr style=\"text-align: right;\">\n",
              "      <th></th>\n",
              "      <th>BillGates</th>\n",
              "      <th>elonmusk</th>\n",
              "      <th>mayoredlee</th>\n",
              "    </tr>\n",
              "    <tr>\n",
              "      <th>token</th>\n",
              "      <th></th>\n",
              "      <th></th>\n",
              "      <th></th>\n",
              "    </tr>\n",
              "  </thead>\n",
              "  <tbody>\n",
              "    <tr>\n",
              "      <th>beliefs</th>\n",
              "      <td>0.0</td>\n",
              "      <td>0.0</td>\n",
              "      <td>3.0</td>\n",
              "    </tr>\n",
              "    <tr>\n",
              "      <th>believe</th>\n",
              "      <td>12.0</td>\n",
              "      <td>14.0</td>\n",
              "      <td>4.0</td>\n",
              "    </tr>\n",
              "    <tr>\n",
              "      <th>believed</th>\n",
              "      <td>1.0</td>\n",
              "      <td>1.0</td>\n",
              "      <td>0.0</td>\n",
              "    </tr>\n",
              "    <tr>\n",
              "      <th>believen</th>\n",
              "      <td>0.0</td>\n",
              "      <td>0.0</td>\n",
              "      <td>9.0</td>\n",
              "    </tr>\n",
              "    <tr>\n",
              "      <th>believing</th>\n",
              "      <td>0.0</td>\n",
              "      <td>3.0</td>\n",
              "      <td>0.0</td>\n",
              "    </tr>\n",
              "    <tr>\n",
              "      <th>bell</th>\n",
              "      <td>0.0</td>\n",
              "      <td>0.0</td>\n",
              "      <td>1.0</td>\n",
              "    </tr>\n",
              "    <tr>\n",
              "      <th>bellevue</th>\n",
              "      <td>0.0</td>\n",
              "      <td>0.0</td>\n",
              "      <td>1.0</td>\n",
              "    </tr>\n",
              "    <tr>\n",
              "      <th>bells</th>\n",
              "      <td>0.0</td>\n",
              "      <td>1.0</td>\n",
              "      <td>1.0</td>\n",
              "    </tr>\n",
              "    <tr>\n",
              "      <th>belltower</th>\n",
              "      <td>0.0</td>\n",
              "      <td>1.0</td>\n",
              "      <td>0.0</td>\n",
              "    </tr>\n",
              "    <tr>\n",
              "      <th>belongs</th>\n",
              "      <td>1.0</td>\n",
              "      <td>0.0</td>\n",
              "      <td>1.0</td>\n",
              "    </tr>\n",
              "    <tr>\n",
              "      <th>beloved</th>\n",
              "      <td>0.0</td>\n",
              "      <td>0.0</td>\n",
              "      <td>2.0</td>\n",
              "    </tr>\n",
              "    <tr>\n",
              "      <th>belovedrevol</th>\n",
              "      <td>0.0</td>\n",
              "      <td>2.0</td>\n",
              "      <td>0.0</td>\n",
              "    </tr>\n",
              "    <tr>\n",
              "      <th>benbenwilde</th>\n",
              "      <td>0.0</td>\n",
              "      <td>1.0</td>\n",
              "      <td>0.0</td>\n",
              "    </tr>\n",
              "    <tr>\n",
              "      <th>bencam</th>\n",
              "      <td>0.0</td>\n",
              "      <td>1.0</td>\n",
              "      <td>0.0</td>\n",
              "    </tr>\n",
              "    <tr>\n",
              "      <th>benchmark</th>\n",
              "      <td>0.0</td>\n",
              "      <td>1.0</td>\n",
              "      <td>0.0</td>\n",
              "    </tr>\n",
              "    <tr>\n",
              "      <th>bending</th>\n",
              "      <td>2.0</td>\n",
              "      <td>0.0</td>\n",
              "      <td>0.0</td>\n",
              "    </tr>\n",
              "    <tr>\n",
              "      <th>benedictevans</th>\n",
              "      <td>0.0</td>\n",
              "      <td>1.0</td>\n",
              "      <td>0.0</td>\n",
              "    </tr>\n",
              "    <tr>\n",
              "      <th>benefical</th>\n",
              "      <td>0.0</td>\n",
              "      <td>1.0</td>\n",
              "      <td>0.0</td>\n",
              "    </tr>\n",
              "    <tr>\n",
              "      <th>benefit</th>\n",
              "      <td>1.0</td>\n",
              "      <td>2.0</td>\n",
              "      <td>8.0</td>\n",
              "    </tr>\n",
              "    <tr>\n",
              "      <th>benefiting</th>\n",
              "      <td>1.0</td>\n",
              "      <td>0.0</td>\n",
              "      <td>0.0</td>\n",
              "    </tr>\n",
              "    <tr>\n",
              "      <th>benefits</th>\n",
              "      <td>13.0</td>\n",
              "      <td>0.0</td>\n",
              "      <td>10.0</td>\n",
              "    </tr>\n",
              "    <tr>\n",
              "      <th>benefitting</th>\n",
              "      <td>0.0</td>\n",
              "      <td>0.0</td>\n",
              "      <td>1.0</td>\n",
              "    </tr>\n",
              "    <tr>\n",
              "      <th>benefi…</th>\n",
              "      <td>0.0</td>\n",
              "      <td>0.0</td>\n",
              "      <td>1.0</td>\n",
              "    </tr>\n",
              "    <tr>\n",
              "      <th>benfeldman</th>\n",
              "      <td>0.0</td>\n",
              "      <td>1.0</td>\n",
              "      <td>0.0</td>\n",
              "    </tr>\n",
              "    <tr>\n",
              "      <th>benioff</th>\n",
              "      <td>0.0</td>\n",
              "      <td>0.0</td>\n",
              "      <td>6.0</td>\n",
              "    </tr>\n",
              "    <tr>\n",
              "      <th>benjamin</th>\n",
              "      <td>0.0</td>\n",
              "      <td>0.0</td>\n",
              "      <td>1.0</td>\n",
              "    </tr>\n",
              "    <tr>\n",
              "      <th>benjamincoop</th>\n",
              "      <td>0.0</td>\n",
              "      <td>1.0</td>\n",
              "      <td>0.0</td>\n",
              "    </tr>\n",
              "    <tr>\n",
              "      <th>benjaminrphoto</th>\n",
              "      <td>0.0</td>\n",
              "      <td>1.0</td>\n",
              "      <td>0.0</td>\n",
              "    </tr>\n",
              "    <tr>\n",
              "      <th>benmacy</th>\n",
              "      <td>0.0</td>\n",
              "      <td>1.0</td>\n",
              "      <td>0.0</td>\n",
              "    </tr>\n",
              "    <tr>\n",
              "      <th>benny</th>\n",
              "      <td>0.0</td>\n",
              "      <td>1.0</td>\n",
              "      <td>0.0</td>\n",
              "    </tr>\n",
              "  </tbody>\n",
              "</table>\n",
              "</div>"
            ],
            "text/plain": [
              "                BillGates  elonmusk  mayoredlee\n",
              "token                                          \n",
              "beliefs               0.0       0.0         3.0\n",
              "believe              12.0      14.0         4.0\n",
              "believed              1.0       1.0         0.0\n",
              "believen              0.0       0.0         9.0\n",
              "believing             0.0       3.0         0.0\n",
              "bell                  0.0       0.0         1.0\n",
              "bellevue              0.0       0.0         1.0\n",
              "bells                 0.0       1.0         1.0\n",
              "belltower             0.0       1.0         0.0\n",
              "belongs               1.0       0.0         1.0\n",
              "beloved               0.0       0.0         2.0\n",
              "belovedrevol          0.0       2.0         0.0\n",
              "benbenwilde           0.0       1.0         0.0\n",
              "bencam                0.0       1.0         0.0\n",
              "benchmark             0.0       1.0         0.0\n",
              "bending               2.0       0.0         0.0\n",
              "benedictevans         0.0       1.0         0.0\n",
              "benefical             0.0       1.0         0.0\n",
              "benefit               1.0       2.0         8.0\n",
              "benefiting            1.0       0.0         0.0\n",
              "benefits             13.0       0.0        10.0\n",
              "benefitting           0.0       0.0         1.0\n",
              "benefi…               0.0       0.0         1.0\n",
              "benfeldman            0.0       1.0         0.0\n",
              "benioff               0.0       0.0         6.0\n",
              "benjamin              0.0       0.0         1.0\n",
              "benjamincoop          0.0       1.0         0.0\n",
              "benjaminrphoto        0.0       1.0         0.0\n",
              "benmacy               0.0       1.0         0.0\n",
              "benny                 0.0       1.0         0.0"
            ]
          },
          "metadata": {
            "tags": []
          },
          "execution_count": 80
        }
      ]
    },
    {
      "cell_type": "code",
      "metadata": {
        "colab": {
          "base_uri": "https://localhost:8080/",
          "height": 142
        },
        "id": "cfx8blXZxJxx",
        "outputId": "a3cc60c7-df25-448c-cf21-3f1750ccde97"
      },
      "source": [
        "# relación coseno por el uso y frecuencia de palabras\n",
        "from scipy.spatial.distance import cosine\n",
        "\n",
        "def similitud_coseno(a,b):\n",
        "    distancia = cosine(a,b)\n",
        "    return 1-distancia\n",
        "\n",
        "tweets_pivot.corr(method=similitud_coseno)"
      ],
      "execution_count": 81,
      "outputs": [
        {
          "output_type": "execute_result",
          "data": {
            "text/html": [
              "<div>\n",
              "<style scoped>\n",
              "    .dataframe tbody tr th:only-of-type {\n",
              "        vertical-align: middle;\n",
              "    }\n",
              "\n",
              "    .dataframe tbody tr th {\n",
              "        vertical-align: top;\n",
              "    }\n",
              "\n",
              "    .dataframe thead th {\n",
              "        text-align: right;\n",
              "    }\n",
              "</style>\n",
              "<table border=\"1\" class=\"dataframe\">\n",
              "  <thead>\n",
              "    <tr style=\"text-align: right;\">\n",
              "      <th></th>\n",
              "      <th>BillGates</th>\n",
              "      <th>elonmusk</th>\n",
              "      <th>mayoredlee</th>\n",
              "    </tr>\n",
              "  </thead>\n",
              "  <tbody>\n",
              "    <tr>\n",
              "      <th>BillGates</th>\n",
              "      <td>1.000000</td>\n",
              "      <td>0.413110</td>\n",
              "      <td>0.279001</td>\n",
              "    </tr>\n",
              "    <tr>\n",
              "      <th>elonmusk</th>\n",
              "      <td>0.413110</td>\n",
              "      <td>1.000000</td>\n",
              "      <td>0.197927</td>\n",
              "    </tr>\n",
              "    <tr>\n",
              "      <th>mayoredlee</th>\n",
              "      <td>0.279001</td>\n",
              "      <td>0.197927</td>\n",
              "      <td>1.000000</td>\n",
              "    </tr>\n",
              "  </tbody>\n",
              "</table>\n",
              "</div>"
            ],
            "text/plain": [
              "            BillGates  elonmusk  mayoredlee\n",
              "BillGates    1.000000  0.413110    0.279001\n",
              "elonmusk     0.413110  1.000000    0.197927\n",
              "mayoredlee   0.279001  0.197927    1.000000"
            ]
          },
          "metadata": {
            "tags": []
          },
          "execution_count": 81
        }
      ]
    },
    {
      "cell_type": "code",
      "metadata": {
        "colab": {
          "base_uri": "https://localhost:8080/",
          "height": 0
        },
        "id": "PaqVPFVPxcq7",
        "outputId": "61ac76e7-3bf8-47d6-afda-68999beeb3d2"
      },
      "source": [
        "# número de palabras comunes\n",
        "palabras_elon = set(tweets_tidy[tweets_tidy.autor == 'elonmusk']['token'])\n",
        "palabras_bill = set(tweets_tidy[tweets_tidy.autor == 'BillGates']['token'])\n",
        "palabras_edlee = set(tweets_tidy[tweets_tidy.autor == 'mayoredlee']['token'])\n",
        "\n",
        "print(f\"Palabras comunes entre Elon Musk y Ed Lee:\\\n",
        "      {len(palabras_elon.intersection(palabras_edlee))}\")\n",
        "print(f\"Palabras comunes entre Elon Musk y Bill Gates:\\\n",
        "      {len(palabras_elon.intersection(palabras_bill))}\")\n",
        "print(f\"Palabras comunes entre Bill Gates y Ed Lee:\\\n",
        "      {len(palabras_bill.intersection(palabras_edlee))}\")"
      ],
      "execution_count": 82,
      "outputs": [
        {
          "output_type": "stream",
          "text": [
            "Palabras comunes entre Elon Musk y Ed Lee:      1760\n",
            "Palabras comunes entre Elon Musk y Bill Gates:      1758\n",
            "Palabras comunes entre Bill Gates y Ed Lee:      1717\n"
          ],
          "name": "stdout"
        }
      ]
    },
    {
      "cell_type": "code",
      "metadata": {
        "id": "WXaKkLgVx1Xw"
      },
      "source": [
        ""
      ],
      "execution_count": 82,
      "outputs": []
    }
  ]
}