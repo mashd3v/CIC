{
 "metadata": {
  "language_info": {
   "codemirror_mode": {
    "name": "ipython",
    "version": 3
   },
   "file_extension": ".py",
   "mimetype": "text/x-python",
   "name": "python",
   "nbconvert_exporter": "python",
   "pygments_lexer": "ipython3",
   "version": "3.7.10"
  },
  "orig_nbformat": 2,
  "kernelspec": {
   "name": "python3710jvsc74a57bd0b59879d5e3f5a8a2f2faee07a70ee8a2e6ae4b34825721b6f60a87942e756af3",
   "display_name": "Python 3.7.10 64-bit ('base': conda)"
  }
 },
 "nbformat": 4,
 "nbformat_minor": 2,
 "cells": [
  {
   "source": [
    "# Generar reglas de un PDA"
   ],
   "cell_type": "markdown",
   "metadata": {}
  },
  {
   "source": [
    "## Leer un PDA"
   ],
   "cell_type": "markdown",
   "metadata": {}
  },
  {
   "cell_type": "code",
   "execution_count": 1,
   "metadata": {},
   "outputs": [
    {
     "output_type": "stream",
     "name": "stdout",
     "text": [
      "[['a,#,/;b,#'], ['b,x,/;c,x'], ['c,x,/;c,x'], ['c,y,x;d,/'], ['d,y,x;d,/'], ['d,#,#;e,/']]\n"
     ]
    }
   ],
   "source": [
    "pda = []\n",
    "with open(\"pda2.txt\") as pushdown:\n",
    "\tfor lineas in pushdown:\n",
    "\t    pda.append(lineas.split())\n",
    "print(pda)"
   ]
  },
  {
   "source": [
    "## Prcocesamiento PDA"
   ],
   "cell_type": "markdown",
   "metadata": {}
  },
  {
   "cell_type": "code",
   "execution_count": 2,
   "metadata": {},
   "outputs": [],
   "source": [
    "def limpiar_pda(pda):\n",
    "    pda_limpio = []\n",
    "    for i in range(len(pda)):\n",
    "        for j in range(len(pda[i])):\n",
    "            sin_comas = pda[i][j].split(',')\n",
    "            pda_limpio.append(sin_comas)\n",
    "\n",
    "    punto_y_coma = []\n",
    "    for i in range(len(pda_limpio)):\n",
    "        bandera = 2\n",
    "        for j in range(len(pda_limpio[i])):\n",
    "            if len(pda_limpio[i][j]) > 1:\n",
    "                punto_y_coma = pda_limpio[i][j].split(';')\n",
    "        \n",
    "        pda_limpio[i].pop(2)\n",
    "        for j in range(len(punto_y_coma)):\n",
    "            pda_limpio[i].insert(bandera, punto_y_coma[j])\n",
    "            bandera += 1\n",
    "\n",
    "    # pda_limpio = sorted(pda_limpio)\n",
    "                \n",
    "    return pda_limpio"
   ]
  },
  {
   "cell_type": "code",
   "execution_count": 3,
   "metadata": {},
   "outputs": [
    {
     "output_type": "stream",
     "name": "stdout",
     "text": [
      "[['a', '#', '/', 'b', '#'], ['b', 'x', '/', 'c', 'x'], ['c', 'x', '/', 'c', 'x'], ['c', 'y', 'x', 'd', '/'], ['d', 'y', 'x', 'd', '/'], ['d', '#', '#', 'e', '/']]\n"
     ]
    }
   ],
   "source": [
    "pda_limpio = limpiar_pda(pda)\n",
    "print(pda_limpio)"
   ]
  },
  {
   "cell_type": "code",
   "execution_count": 4,
   "metadata": {},
   "outputs": [
    {
     "output_type": "stream",
     "name": "stdout",
     "text": [
      "[['#', '/', '#'], ['x', '/', 'x'], ['x', '/', 'x'], ['y', 'x', '/'], ['y', 'x', '/'], ['#', '#', '/']]\n"
     ]
    }
   ],
   "source": [
    "reglas_transicion = []\n",
    "\n",
    "for i in range(len(pda_limpio)):\n",
    "    reglas_transicion.append([pda_limpio[i][1], pda_limpio[i][2], pda_limpio[i][4]])\n",
    "\n",
    "print(reglas_transicion)"
   ]
  },
  {
   "cell_type": "code",
   "execution_count": 5,
   "metadata": {},
   "outputs": [
    {
     "output_type": "error",
     "ename": "IndentationError",
     "evalue": "expected an indented block (<ipython-input-5-41275e68cc63>, line 14)",
     "traceback": [
      "\u001b[1;36m  File \u001b[1;32m\"<ipython-input-5-41275e68cc63>\"\u001b[1;36m, line \u001b[1;32m14\u001b[0m\n\u001b[1;33m    break\u001b[0m\n\u001b[1;37m        ^\u001b[0m\n\u001b[1;31mIndentationError\u001b[0m\u001b[1;31m:\u001b[0m expected an indented block\n"
     ]
    }
   ],
   "source": [
    "prueba = ['c', 'b', 'b', 'c']\n",
    "string_reglas = []\n",
    "bandera = 1\n",
    "for i in range(len(prueba)):\n",
    "    for j in range(len(reglas_transicion)):\n",
    "        if prueba[i] == reglas_transicion[j][0]:\n",
    "            string_reglas.append(reglas_transicion[j][2])\n",
    "            print(string_reglas)\n",
    "            if reglas_transicion[j][1] == string_reglas[len(string_reglas) - 1]:\n",
    "                string_reglas.pop()\n",
    "                print(string_reglas)\n",
    "            if prueba[i] == prueba[len(prueba) - 1]:\n",
    "\n",
    "            break"
   ]
  },
  {
   "cell_type": "code",
   "execution_count": 971,
   "metadata": {},
   "outputs": [
    {
     "output_type": "stream",
     "name": "stdout",
     "text": [
      "['b', 'c']\n"
     ]
    }
   ],
   "source": [
    "alfabeto = []\n",
    "\n",
    "for i in range(len(pda_limpio)):\n",
    "    bandera = 1\n",
    "    for j in range(len(pda_limpio[i])):\n",
    "        if pda_limpio[i][bandera] != '/':\n",
    "            alfabeto.append(pda_limpio[i][bandera])\n",
    "\n",
    "alfabeto = list(set(alfabeto))\n",
    "alfabeto.sort()\n",
    "print(alfabeto)"
   ]
  },
  {
   "cell_type": "code",
   "execution_count": 972,
   "metadata": {},
   "outputs": [],
   "source": [
    "def obligatorio(pda):\n",
    "    alfabeto_obligatorio = []\n",
    "\n",
    "    for i in range(len(pda)):\n",
    "        if pda[i][0] != pda[i][3]:\n",
    "            alfabeto_obligatorio.append(pda[i][1])\n",
    "       \n",
    "\n",
    "    alfabeto_obligatorio = list(set(alfabeto_obligatorio))\n",
    "    alfabeto_obligatorio.sort()\n",
    "\n",
    "    return alfabeto_obligatorio"
   ]
  },
  {
   "cell_type": "code",
   "execution_count": 973,
   "metadata": {},
   "outputs": [
    {
     "output_type": "stream",
     "name": "stdout",
     "text": [
      "['c']\n"
     ]
    }
   ],
   "source": [
    "alfabeto_obligatorio = obligatorio(pda_limpio)\n",
    "print(alfabeto_obligatorio)"
   ]
  },
  {
   "source": [
    "## Regla 1"
   ],
   "cell_type": "markdown",
   "metadata": {}
  },
  {
   "cell_type": "code",
   "execution_count": 974,
   "metadata": {},
   "outputs": [],
   "source": [
    "def regla_1(pda):\n",
    "    estado_inicial = pda[0][0]\n",
    "    estado_final = pda[len(pda) - 1][3]\n",
    "    regla1 = [estado_inicial, '/', estado_final]\n",
    "    print('Regla 1:')\n",
    "    print(f'S -> <{estado_inicial}, /, {estado_final}>')\n",
    "    return regla1"
   ]
  },
  {
   "cell_type": "code",
   "execution_count": 975,
   "metadata": {},
   "outputs": [
    {
     "output_type": "stream",
     "name": "stdout",
     "text": [
      "Regla 1:\nS -> <f, /, h>\n"
     ]
    }
   ],
   "source": [
    "regla1 = regla_1(pda_limpio)"
   ]
  },
  {
   "source": [
    "## Regla 2"
   ],
   "cell_type": "markdown",
   "metadata": {}
  },
  {
   "cell_type": "code",
   "execution_count": 976,
   "metadata": {},
   "outputs": [],
   "source": [
    "def regla_2(pda):\n",
    "    estados = []\n",
    "    for i in range(len(pda)):\n",
    "        bandera = 0\n",
    "        for j in range(2):\n",
    "            estados.append(pda[i][bandera])\n",
    "            bandera = 3\n",
    "\n",
    "    estados = list(set(estados))\n",
    "    estados.sort()\n",
    "    \n",
    "    regla2 = []\n",
    "    print('Regla 2')\n",
    "    for i in range(len(estados)):\n",
    "        regla2.append([estados[i], '/', estados[i]])\n",
    "        print(f'<{regla2[i][0]}, {regla2[i][1]}, {regla2[i][2]}> -> /')\n",
    "\n",
    "    return regla2, estados"
   ]
  },
  {
   "cell_type": "code",
   "execution_count": 977,
   "metadata": {},
   "outputs": [
    {
     "output_type": "stream",
     "name": "stdout",
     "text": [
      "Regla 2\n<f, /, f> -> /\n<g, /, g> -> /\n<h, /, h> -> /\n"
     ]
    }
   ],
   "source": [
    "regla2, estados = regla_2(pda_limpio)"
   ]
  },
  {
   "source": [
    "## Regla 3"
   ],
   "cell_type": "markdown",
   "metadata": {}
  },
  {
   "cell_type": "code",
   "execution_count": 978,
   "metadata": {},
   "outputs": [],
   "source": [
    "def regla_3(pda, estados):\n",
    "    regla3 = []\n",
    "    print('Regla 3')\n",
    "    for i in range(len(pda)):\n",
    "        if pda[i][2] != '/':\n",
    "            for j in range(len(estados)):\n",
    "                regla3.append([[pda[i][0], pda[i][1], estados[j]], [pda[i][2], [pda[i][3], '/', estados[j]]]])\n",
    "                print(f'<{pda[i][0]}, {pda[i][1]}, {estados[j]}> -> {pda[i][2]}<{pda[i][3]}, /, {estados[j]}>')\n",
    "    \n",
    "    return regla3"
   ]
  },
  {
   "cell_type": "code",
   "execution_count": 979,
   "metadata": {},
   "outputs": [
    {
     "output_type": "stream",
     "name": "stdout",
     "text": [
      "Regla 3\n",
      "<g, c, f> -> c<h, /, f>\n",
      "<g, c, g> -> c<h, /, g>\n",
      "<g, c, h> -> c<h, /, h>\n"
     ]
    }
   ],
   "source": [
    "regla3 = regla_3(pda_limpio, estados)"
   ]
  },
  {
   "source": [
    "## Regla 4"
   ],
   "cell_type": "markdown",
   "metadata": {}
  },
  {
   "cell_type": "code",
   "execution_count": 980,
   "metadata": {},
   "outputs": [],
   "source": [
    "def regla_4(pda, estados):\n",
    "    regla4 = []\n",
    "    w = []\n",
    "    bandera = 2\n",
    "\n",
    "    for i in range(len(pda)):\n",
    "        w.append(pda[i][bandera])\n",
    "        w = list(set(w))\n",
    "        w.sort()\n",
    "        \n",
    "    print('Regla 4')\n",
    "    for i in range(len(pda)):\n",
    "        if pda[i][2] == '/':\n",
    "            for j in range(len(w)):\n",
    "                for k in range(len(estados)):\n",
    "                    for l in range(len(estados)):\n",
    "                        regla4.append([[pda[i][0], w[j], estados[k]], [pda[i][1], [pda[i][3], pda[i][4], estados[l]], [estados[l], w[j], estados[k]]]])\n",
    "                        print(f'<{pda[i][0]}, {w[j]}, {estados[k]}> -> {pda[i][1]}<{pda[i][3]}, {pda[i][4]}, {estados[l]}><{estados[l]}, {w[j]}, {estados[k]}>')\n",
    "\n",
    "    return regla4"
   ]
  },
  {
   "cell_type": "code",
   "execution_count": 981,
   "metadata": {},
   "outputs": [
    {
     "output_type": "stream",
     "name": "stdout",
     "text": [
      "Regla 4\n<f, /, f> -> c<g, c, f><f, /, f>\n<f, /, f> -> c<g, c, g><g, /, f>\n<f, /, f> -> c<g, c, h><h, /, f>\n<f, /, g> -> c<g, c, f><f, /, g>\n<f, /, g> -> c<g, c, g><g, /, g>\n<f, /, g> -> c<g, c, h><h, /, g>\n<f, /, h> -> c<g, c, f><f, /, h>\n<f, /, h> -> c<g, c, g><g, /, h>\n<f, /, h> -> c<g, c, h><h, /, h>\n<f, c, f> -> c<g, c, f><f, c, f>\n<f, c, f> -> c<g, c, g><g, c, f>\n<f, c, f> -> c<g, c, h><h, c, f>\n<f, c, g> -> c<g, c, f><f, c, g>\n<f, c, g> -> c<g, c, g><g, c, g>\n<f, c, g> -> c<g, c, h><h, c, g>\n<f, c, h> -> c<g, c, f><f, c, h>\n<f, c, h> -> c<g, c, g><g, c, h>\n<f, c, h> -> c<g, c, h><h, c, h>\n<g, /, f> -> b<g, /, f><f, /, f>\n<g, /, f> -> b<g, /, g><g, /, f>\n<g, /, f> -> b<g, /, h><h, /, f>\n<g, /, g> -> b<g, /, f><f, /, g>\n<g, /, g> -> b<g, /, g><g, /, g>\n<g, /, g> -> b<g, /, h><h, /, g>\n<g, /, h> -> b<g, /, f><f, /, h>\n<g, /, h> -> b<g, /, g><g, /, h>\n<g, /, h> -> b<g, /, h><h, /, h>\n<g, c, f> -> b<g, /, f><f, c, f>\n<g, c, f> -> b<g, /, g><g, c, f>\n<g, c, f> -> b<g, /, h><h, c, f>\n<g, c, g> -> b<g, /, f><f, c, g>\n<g, c, g> -> b<g, /, g><g, c, g>\n<g, c, g> -> b<g, /, h><h, c, g>\n<g, c, h> -> b<g, /, f><f, c, h>\n<g, c, h> -> b<g, /, g><g, c, h>\n<g, c, h> -> b<g, /, h><h, c, h>\n"
     ]
    }
   ],
   "source": [
    "regla4 = regla_4(pda_limpio, estados)"
   ]
  },
  {
   "source": [
    "# Leer un string y determinar si esaceptado por el PDA"
   ],
   "cell_type": "markdown",
   "metadata": {}
  },
  {
   "cell_type": "code",
   "execution_count": 982,
   "metadata": {},
   "outputs": [],
   "source": [
    "string =  '#xy#'"
   ]
  },
  {
   "cell_type": "code",
   "execution_count": 983,
   "metadata": {},
   "outputs": [],
   "source": [
    "def procesar_cadena_texto(string):\n",
    "    string = list(string)\n",
    "    return string"
   ]
  },
  {
   "cell_type": "code",
   "execution_count": 984,
   "metadata": {},
   "outputs": [
    {
     "output_type": "execute_result",
     "data": {
      "text/plain": [
       "['x', 'y']"
      ]
     },
     "metadata": {},
     "execution_count": 984
    }
   ],
   "source": [
    "string = procesar_cadena_texto(string)\n",
    "cadena_inicial = string  \n",
    "string"
   ]
  },
  {
   "cell_type": "code",
   "execution_count": 985,
   "metadata": {},
   "outputs": [],
   "source": [
    "def agregar_regla_2(string, opcion):\n",
    "    opciones = []\n",
    "    ultima_opcion = []\n",
    "    \n",
    "    for i in range(len(regla2)):\n",
    "        ultima_opcion = string[len(string) - 1]\n",
    "        if opcion == 1:\n",
    "            opciones.append([ultima_opcion, regla2[i]])\n",
    "        elif opcion == 2:\n",
    "            opciones.append([ultima_opcion[0], regla2[i], ultima_opcion[1]])\n",
    "            opciones.append([ultima_opcion[0], ultima_opcion[1], regla2[i]])\n",
    "        else:\n",
    "            break\n",
    "    \n",
    "    return opciones \n",
    "\n",
    "\n",
    "def coincidencia_regla_3_4(opciones, regla):\n",
    "    coincidencia = []\n",
    "    opcion_correcta = []\n",
    "    validacion = False\n",
    "\n",
    "    for i in range(len(opciones)):\n",
    "        # if validacion == False:\n",
    "        for j in range(len(regla)):\n",
    "            if opciones[i] == regla[j][1]:\n",
    "                coincidencia.append(regla[j][0])\n",
    "                opcion_correcta.append(regla[j][0])\n",
    "                # coincidencia = regla[j][0]\n",
    "                # opcion_correcta = regla[j][1]\n",
    "                validacion = True                \n",
    "                # break\n",
    "            # else:\n",
    "            #     validacion = False\n",
    "        # else:\n",
    "        #     break\n",
    "\n",
    "    return coincidencia, opcion_correcta, validacion \n",
    "\n",
    "\n",
    "def obtener_cadena_actualizada(string, valor_a_insertar):\n",
    "    string.pop()\n",
    "    string.append([string[len(string) - 1], valor_a_insertar])\n",
    "    string.pop(len(string) - 2)\n",
    "    print(f'Ahora tenemos una nueva cadena: {string}\\n')\n",
    "    return string\n",
    "\n",
    "\n",
    "def imprimir_coincidencia(opcion_correcta, arreglo_coincidencia):\n",
    "    if arreglo_coincidencia:\n",
    "        print(f'Hubo coincidencia, ahora sustituiremos nuestra opcion que coincidió, en este caso {opcion_correcta} y la sustituimos por {arreglo_coincidencia}\\n')\n",
    "    else:\n",
    "        print('No se encontro coincidencia')\n",
    "\n",
    "\n",
    "def imprimir_proceso_regla_3_4(string):\n",
    "    print(f'Con esta nueva cadena {string[len(string) - 1]} compararemos si hay alguna coincidencia con la regla 3')\n",
    "    coincidencia_r3, opcion_correcta, validacion = coincidencia_regla_3_4(string[len(string) - 1], regla3)\n",
    "    print(f'Coincidencia en regla 3: {validacion}')\n",
    "    print('Dado que no hubo coincidencia, ahora agregaremos otro lambda de la regla 2, y buscaremos una coincidencia nuevamente con la regla 4\\n')\n",
    "\n",
    "    if validacion == False:\n",
    "        opciones1 = agregar_regla_2(string, 2)\n",
    "        print(f'Ahora las opciones a comparar con la regla 4 son las siguientes: {opciones1}')\n",
    "        nueva_coincidencia_r4, opcion_correcta1, validacion1 = coincidencia_regla_3_4(opciones1, regla4)\n",
    "        imprimir_coincidencia(opcion_correcta1, nueva_coincidencia_r4)\n",
    "    else:\n",
    "        nueva_coincidencia_r4 = coincidencia_r3\n",
    "        validacion1 = validacion\n",
    "        \n",
    "    return string, nueva_coincidencia_r4, validacion1\n",
    "\n",
    "\n",
    "\n",
    "def procesamiento_principal(string):\n",
    "    alfabeto_cadena = list(set(string))\n",
    "    alfabeto_cadena.sort()\n",
    "\n",
    "    if len(string) < 2:\n",
    "        print('Error: Cadena no aceptada por la gramática')\n",
    "    elif alfabeto_cadena == alfabeto or alfabeto_cadena == alfabeto_obligatorio:\n",
    "        print(f'Cadena ingresada: {string}')\n",
    "        print(f'Tomamos el ultimo valor, en este caso \"{string[len(string) - 1]}\" y probamos con todas los valores de la regla 2\\n')\n",
    "\n",
    "        print(f'Regla 2: {regla2}')\n",
    "        opciones = agregar_regla_2(string, 1)\n",
    "        print(f'Opciones con nuestra regla 2: {opciones}\\n')\n",
    "\n",
    "        print('Ahora comparamos nuestras opciones con nuetras regla 3')\n",
    "        print(f'Regla 3: {regla3}')\n",
    "        coincidencia_r3, opcion_correcta, validacion = coincidencia_regla_3_4(opciones, regla3)\n",
    "        imprimir_coincidencia(opcion_correcta, coincidencia_r3)\n",
    "\n",
    "        string = obtener_cadena_actualizada(string, coincidencia_r3)\n",
    "\n",
    "        for i in range(len(string) - 1):\n",
    "            string, nueva_coincidencia_r4, validacion1 = imprimir_proceso_regla_3_4(string)\n",
    "            string = obtener_cadena_actualizada(string, nueva_coincidencia_r4)\n",
    "            \n",
    "            if validacion1 == False:\n",
    "                print('La cadena no es aceptada')\n",
    "                break\n",
    "\n",
    "        if len(string) == 1:\n",
    "            string, nueva_coincidencia_r4, validacion1 = imprimir_proceso_regla_3_4(string)\n",
    "\n",
    "            if nueva_coincidencia_r4 == regla1:\n",
    "                print(f'El regla final {nueva_coincidencia_r4} es igual a la regla 1 {regla1}, por lo tanto la cadena es aceptada por el PDA')\n",
    "            else:\n",
    "                print(f'El regla final {nueva_coincidencia_r4} es diferente a la regla 1 {regla1}, por lo tanto la cadena NO es aceptada por el PDA')\n",
    "    else:\n",
    "        print('Error: Hay letras que no corresponden al alfabeto del PDA definido al inicio')"
   ]
  },
  {
   "cell_type": "code",
   "execution_count": 986,
   "metadata": {},
   "outputs": [
    {
     "output_type": "stream",
     "name": "stdout",
     "text": [
      "Error: Hay letras que no corresponden al alfabeto del PDA definido al inicio\n"
     ]
    }
   ],
   "source": [
    "aceptado = procesamiento_principal(string)"
   ]
  },
  {
   "cell_type": "code",
   "execution_count": 987,
   "metadata": {},
   "outputs": [],
   "source": [
    "def agregar_regla_2(string, opcion):\n",
    "    opciones = []\n",
    "    ultima_opcion = []\n",
    "    \n",
    "    for i in range(len(regla2)):\n",
    "        ultima_opcion = string[len(string) - 1]\n",
    "        if opcion == 1:\n",
    "            opciones.append([ultima_opcion, regla2[i]])\n",
    "        elif opcion == 2:\n",
    "            opciones.append([ultima_opcion[0], regla2[i], ultima_opcion[1]])\n",
    "            opciones.append([ultima_opcion[0], ultima_opcion[1], regla2[i]])\n",
    "        else:\n",
    "            break\n",
    "    \n",
    "    return opciones \n",
    "\n",
    "\n",
    "def coincidencia_regla_3_4(opciones, regla):\n",
    "    coincidencia = []\n",
    "    opcion_correcta = []\n",
    "    validacion = False\n",
    "\n",
    "    for i in range(len(opciones)):\n",
    "        if validacion == False:\n",
    "            for j in range(len(regla)):\n",
    "                if opciones[i] == regla[j][1]:\n",
    "                    coincidencia = regla[j][0]\n",
    "                    opcion_correcta = regla[j][1]\n",
    "                    validacion = True                \n",
    "                    break\n",
    "                else:\n",
    "                    validacion = False\n",
    "        else:\n",
    "            break\n",
    "\n",
    "    return coincidencia, opcion_correcta, validacion \n",
    "\n",
    "\n",
    "def obtener_cadena_actualizada(string, valor_a_insertar):\n",
    "    string.pop()\n",
    "    string.append([string[len(string) - 1], valor_a_insertar])\n",
    "    string.pop(len(string) - 2)\n",
    "    print(f'Ahora tenemos una nueva cadena: {string}\\n')\n",
    "    return string\n",
    "\n",
    "\n",
    "def imprimir_coincidencia(opcion_correcta, arreglo_coincidencia):\n",
    "    if arreglo_coincidencia:\n",
    "        print(f'Hubo coincidencia, ahora sustituiremos nuestra opcion que coincidió, en este caso {opcion_correcta} y la sustituimos por {arreglo_coincidencia}\\n')\n",
    "    else:\n",
    "        print('No se encontro coincidencia')\n",
    "\n",
    "\n",
    "def procesamiento_principal(string):\n",
    "    alfabeto_cadena = list(set(string))\n",
    "    alfabeto_cadena.sort()\n",
    "\n",
    "    if len(string) < 2:\n",
    "        print('Error: Cadena no aceptada por la gramática')\n",
    "    elif alfabeto_cadena == alfabeto or alfabeto_cadena == alfabeto_obligatorio:\n",
    "        print(f'Cadena ingresada: {string}')\n",
    "        print(f'Tomamos el ultimo valor, en este caso \"{string[len(string) - 1]}\" y probamos con todas los valores de la regla 2\\n')\n",
    "\n",
    "        print(f'Regla 2: {regla2}')\n",
    "        opciones = agregar_regla_2(string, 1)\n",
    "        print(f'Opciones con nuestra regla 2: {opciones}\\n')\n",
    "\n",
    "        print('Ahora comparamos nuestras opciones con nuetras regla 3')\n",
    "        print(f'Regla 3: {regla3}')\n",
    "        coincidencia_r3, opcion_correcta, validacion = coincidencia_regla_3_4(opciones, regla3)\n",
    "        imprimir_coincidencia(opcion_correcta, coincidencia_r3)\n",
    "\n",
    "        string = obtener_cadena_actualizada(string, coincidencia_r3)\n",
    "\n",
    "        for i in range(len(string) - 1):\n",
    "            print(f'Con esta nueva cadena {string[len(string) - 1]} compararemos si hay alguna coincidencia con la regla 3')\n",
    "            coincidencia_r3, opcion_correcta, validacion = coincidencia_regla_3_4(string[len(string) - 1], regla3)\n",
    "            print(f'Coincidencia en regla 3: {validacion}')\n",
    "            print('Dado que no hubo coincidencia, ahora agregaremos otro lambda de la regla 2, y buscaremos una coincidencia nuevamente con la regla 4\\n')\n",
    "\n",
    "            if validacion == False:\n",
    "                opciones1 = agregar_regla_2(string, 2)\n",
    "                print(f'Ahora las opciones a comparar con la regla 4 son las siguientes: {opciones1}')\n",
    "                nueva_coincidencia_r4, opcion_correcta1, validacion1 = coincidencia_regla_3_4(opciones1, regla4)\n",
    "\n",
    "                imprimir_coincidencia(opcion_correcta1, nueva_coincidencia_r4)\n",
    "                string = obtener_cadena_actualizada(string, nueva_coincidencia_r4)\n",
    "            \n",
    "                if validacion1 == False:\n",
    "                    print('La cadena no es aceptada')\n",
    "                    break\n",
    "            \n",
    "\n",
    "        if len(string) == 1:\n",
    "            print(f'Con esta nueva cadena {string[len(string) - 1]} compararemos si hay alguna coincidencia con la regla 3')\n",
    "            coincidencia_r3, opcion_correcta, validacion = coincidencia_regla_3_4(string[len(string) - 1], regla3)\n",
    "            print(f'Coincidencia en regla 3: {validacion}')\n",
    "            print('Dado que no hubo coincidencia, ahora agregaremos otro lambda de la regla 2, y buscaremos una coincidencia nuevamente con la regla 4\\n')\n",
    "            if validacion == False:\n",
    "                opciones1 = agregar_regla_2(string, 2)\n",
    "                print(f'Ahora las opciones a comparar con la regla 4 son las siguientes: {opciones1}')\n",
    "                nueva_coincidencia_r4, opcion_correcta1, validacion1 = coincidencia_regla_3_4(opciones1, regla4)                 \n",
    "                imprimir_coincidencia(opcion_correcta1, nueva_coincidencia_r4) \n",
    "                              \n",
    "                if nueva_coincidencia_r4 == regla1:\n",
    "                    print(f'El regla final {nueva_coincidencia_r4} es igual a la regla 1 {regla1}, por lo tanto la cadena es aceptada por el PDA')\n",
    "                else:\n",
    "                    print(f'El regla final {nueva_coincidencia_r4} es diferente a la regla 1 {regla1}, por lo tanto la cadena NO es aceptada por el PDA')    \n",
    "    else:\n",
    "        print('Error: Hay letras que no corresponden al alfabeto del PDA definido al inicio')\n",
    "\n"
   ]
  },
  {
   "cell_type": "code",
   "execution_count": 988,
   "metadata": {
    "tags": []
   },
   "outputs": [
    {
     "output_type": "stream",
     "name": "stdout",
     "text": [
      "Error: Hay letras que no corresponden al alfabeto del PDA definido al inicio\n"
     ]
    }
   ],
   "source": [
    "aceptado = procesamiento_principal(string)"
   ]
  },
  {
   "cell_type": "code",
   "execution_count": null,
   "metadata": {},
   "outputs": [],
   "source": []
  }
 ]
}