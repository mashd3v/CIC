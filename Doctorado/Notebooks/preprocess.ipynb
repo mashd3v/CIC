{
 "cells": [
  {
   "attachments": {},
   "cell_type": "markdown",
   "metadata": {},
   "source": [
    "## Imports"
   ]
  },
  {
   "cell_type": "code",
   "execution_count": 10,
   "metadata": {},
   "outputs": [],
   "source": [
    "import sys\n",
    "sys.path.append('../Scripts')"
   ]
  },
  {
   "cell_type": "code",
   "execution_count": 11,
   "metadata": {},
   "outputs": [],
   "source": [
    "import text_preprocessing_v2 as tp2\n",
    "import pandas as pd, numpy as np"
   ]
  },
  {
   "attachments": {},
   "cell_type": "markdown",
   "metadata": {},
   "source": [
    "## Paths"
   ]
  },
  {
   "cell_type": "code",
   "execution_count": 12,
   "metadata": {},
   "outputs": [],
   "source": [
    "data_training_en_path = '../Author profiling/PAN19-Author-Profiling/Datasets/CSV/Train-EN.csv'\n",
    "data_training_es_path = '../Author profiling/PAN19-Author-Profiling/Datasets/CSV/Train-ES.csv'\n",
    "data_test_en_path = '../Author profiling/PAN19-Author-Profiling/Datasets/CSV/Test-EN.csv'\n",
    "data_test_es_path = '../Author profiling/PAN19-Author-Profiling/Datasets/CSV/Test-ES.csv'"
   ]
  },
  {
   "attachments": {},
   "cell_type": "markdown",
   "metadata": {},
   "source": [
    "## Data"
   ]
  },
  {
   "cell_type": "code",
   "execution_count": 13,
   "metadata": {},
   "outputs": [],
   "source": [
    "data_training_en = pd.read_csv(data_training_en_path)\n",
    "data_test_en = pd.read_csv(data_test_en_path)"
   ]
  },
  {
   "cell_type": "code",
   "execution_count": 15,
   "metadata": {},
   "outputs": [
    {
     "data": {
      "text/plain": [
       "(412000, 264000)"
      ]
     },
     "execution_count": 15,
     "metadata": {},
     "output_type": "execute_result"
    }
   ],
   "source": [
    "data_training_en.shape[0], data_test_en.shape[0]"
   ]
  },
  {
   "cell_type": "code",
   "execution_count": 16,
   "metadata": {},
   "outputs": [],
   "source": [
    "data_training_es = pd.read_csv(data_training_es_path)\n",
    "data_test_es = pd.read_csv(data_test_es_path)"
   ]
  },
  {
   "cell_type": "code",
   "execution_count": 17,
   "metadata": {},
   "outputs": [
    {
     "data": {
      "text/plain": [
       "(300000, 180000)"
      ]
     },
     "execution_count": 17,
     "metadata": {},
     "output_type": "execute_result"
    }
   ],
   "source": [
    "data_training_es.shape[0], data_test_es.shape[0]"
   ]
  },
  {
   "attachments": {},
   "cell_type": "markdown",
   "metadata": {},
   "source": [
    "## Preprocessing"
   ]
  },
  {
   "cell_type": "code",
   "execution_count": 18,
   "metadata": {},
   "outputs": [],
   "source": [
    "prep_en = tp2.Preprocessing(language='english')\n",
    "prep_es = tp2.Preprocessing(language='spanish')"
   ]
  },
  {
   "attachments": {},
   "cell_type": "markdown",
   "metadata": {},
   "source": [
    "### English"
   ]
  },
  {
   "cell_type": "code",
   "execution_count": 19,
   "metadata": {},
   "outputs": [],
   "source": [
    "data_training_en = prep_en.main_preprocess(data=data_training_en, \n",
    "                                column='tweet', \n",
    "                                remove_stop_words=False, \n",
    "                                is_dataframe=True, \n",
    "                                emoji_path=None,\n",
    "                                tweet=True)"
   ]
  },
  {
   "cell_type": "code",
   "execution_count": 20,
   "metadata": {},
   "outputs": [
    {
     "data": {
      "text/html": [
       "<div>\n",
       "<style scoped>\n",
       "    .dataframe tbody tr th:only-of-type {\n",
       "        vertical-align: middle;\n",
       "    }\n",
       "\n",
       "    .dataframe tbody tr th {\n",
       "        vertical-align: top;\n",
       "    }\n",
       "\n",
       "    .dataframe thead th {\n",
       "        text-align: right;\n",
       "    }\n",
       "</style>\n",
       "<table border=\"1\" class=\"dataframe\">\n",
       "  <thead>\n",
       "    <tr style=\"text-align: right;\">\n",
       "      <th></th>\n",
       "      <th>Unnamed: 0</th>\n",
       "      <th>id</th>\n",
       "      <th>tweet</th>\n",
       "      <th>author</th>\n",
       "      <th>gender</th>\n",
       "    </tr>\n",
       "  </thead>\n",
       "  <tbody>\n",
       "    <tr>\n",
       "      <th>0</th>\n",
       "      <td>0</td>\n",
       "      <td>867be96f95dfc4e24541d19c6a5ab8bf</td>\n",
       "      <td>alex is too nice for love island</td>\n",
       "      <td>human</td>\n",
       "      <td>female</td>\n",
       "    </tr>\n",
       "    <tr>\n",
       "      <th>1</th>\n",
       "      <td>1</td>\n",
       "      <td>867be96f95dfc4e24541d19c6a5ab8bf</td>\n",
       "      <td>teenager charged with rape of woman at block o...</td>\n",
       "      <td>human</td>\n",
       "      <td>female</td>\n",
       "    </tr>\n",
       "    <tr>\n",
       "      <th>2</th>\n",
       "      <td>2</td>\n",
       "      <td>867be96f95dfc4e24541d19c6a5ab8bf</td>\n",
       "      <td></td>\n",
       "      <td>human</td>\n",
       "      <td>female</td>\n",
       "    </tr>\n",
       "    <tr>\n",
       "      <th>3</th>\n",
       "      <td>3</td>\n",
       "      <td>867be96f95dfc4e24541d19c6a5ab8bf</td>\n",
       "      <td>happy bday ryan have the best day xx</td>\n",
       "      <td>human</td>\n",
       "      <td>female</td>\n",
       "    </tr>\n",
       "    <tr>\n",
       "      <th>4</th>\n",
       "      <td>4</td>\n",
       "      <td>867be96f95dfc4e24541d19c6a5ab8bf</td>\n",
       "      <td>i just wanna let jenny know that she is a fat ...</td>\n",
       "      <td>human</td>\n",
       "      <td>female</td>\n",
       "    </tr>\n",
       "  </tbody>\n",
       "</table>\n",
       "</div>"
      ],
      "text/plain": [
       "   Unnamed: 0                                id  \\\n",
       "0           0  867be96f95dfc4e24541d19c6a5ab8bf   \n",
       "1           1  867be96f95dfc4e24541d19c6a5ab8bf   \n",
       "2           2  867be96f95dfc4e24541d19c6a5ab8bf   \n",
       "3           3  867be96f95dfc4e24541d19c6a5ab8bf   \n",
       "4           4  867be96f95dfc4e24541d19c6a5ab8bf   \n",
       "\n",
       "                                               tweet author  gender  \n",
       "0                   alex is too nice for love island  human  female  \n",
       "1  teenager charged with rape of woman at block o...  human  female  \n",
       "2                                                     human  female  \n",
       "3               happy bday ryan have the best day xx  human  female  \n",
       "4  i just wanna let jenny know that she is a fat ...  human  female  "
      ]
     },
     "execution_count": 20,
     "metadata": {},
     "output_type": "execute_result"
    }
   ],
   "source": [
    "data_training_en.head()"
   ]
  },
  {
   "cell_type": "code",
   "execution_count": 21,
   "metadata": {},
   "outputs": [],
   "source": [
    "data_test_en = prep_en.main_preprocess(data=data_test_en, \n",
    "                                column='tweet', \n",
    "                                remove_stop_words=False, \n",
    "                                is_dataframe=True, \n",
    "                                emoji_path=None,\n",
    "                                tweet=True)"
   ]
  },
  {
   "cell_type": "code",
   "execution_count": 22,
   "metadata": {},
   "outputs": [
    {
     "data": {
      "text/html": [
       "<div>\n",
       "<style scoped>\n",
       "    .dataframe tbody tr th:only-of-type {\n",
       "        vertical-align: middle;\n",
       "    }\n",
       "\n",
       "    .dataframe tbody tr th {\n",
       "        vertical-align: top;\n",
       "    }\n",
       "\n",
       "    .dataframe thead th {\n",
       "        text-align: right;\n",
       "    }\n",
       "</style>\n",
       "<table border=\"1\" class=\"dataframe\">\n",
       "  <thead>\n",
       "    <tr style=\"text-align: right;\">\n",
       "      <th></th>\n",
       "      <th>Unnamed: 0</th>\n",
       "      <th>id</th>\n",
       "      <th>tweet</th>\n",
       "      <th>author</th>\n",
       "      <th>gender</th>\n",
       "    </tr>\n",
       "  </thead>\n",
       "  <tbody>\n",
       "    <tr>\n",
       "      <th>0</th>\n",
       "      <td>0</td>\n",
       "      <td>c7bc6b52fcc949263986b3b837432687</td>\n",
       "      <td>her attitude was</td>\n",
       "      <td>bot</td>\n",
       "      <td>bot</td>\n",
       "    </tr>\n",
       "    <tr>\n",
       "      <th>1</th>\n",
       "      <td>1</td>\n",
       "      <td>c7bc6b52fcc949263986b3b837432687</td>\n",
       "      <td>if you re on her mom this team has so much</td>\n",
       "      <td>bot</td>\n",
       "      <td>bot</td>\n",
       "    </tr>\n",
       "    <tr>\n",
       "      <th>2</th>\n",
       "      <td>2</td>\n",
       "      <td>c7bc6b52fcc949263986b3b837432687</td>\n",
       "      <td>watch hillary speak to the national debt revok...</td>\n",
       "      <td>bot</td>\n",
       "      <td>bot</td>\n",
       "    </tr>\n",
       "    <tr>\n",
       "      <th>3</th>\n",
       "      <td>3</td>\n",
       "      <td>c7bc6b52fcc949263986b3b837432687</td>\n",
       "      <td>what hillary s all about is making sure every ...</td>\n",
       "      <td>bot</td>\n",
       "      <td>bot</td>\n",
       "    </tr>\n",
       "    <tr>\n",
       "      <th>4</th>\n",
       "      <td>4</td>\n",
       "      <td>c7bc6b52fcc949263986b3b837432687</td>\n",
       "      <td>democrats stand in your america</td>\n",
       "      <td>bot</td>\n",
       "      <td>bot</td>\n",
       "    </tr>\n",
       "  </tbody>\n",
       "</table>\n",
       "</div>"
      ],
      "text/plain": [
       "   Unnamed: 0                                id  \\\n",
       "0           0  c7bc6b52fcc949263986b3b837432687   \n",
       "1           1  c7bc6b52fcc949263986b3b837432687   \n",
       "2           2  c7bc6b52fcc949263986b3b837432687   \n",
       "3           3  c7bc6b52fcc949263986b3b837432687   \n",
       "4           4  c7bc6b52fcc949263986b3b837432687   \n",
       "\n",
       "                                               tweet author gender  \n",
       "0                                   her attitude was    bot    bot  \n",
       "1         if you re on her mom this team has so much    bot    bot  \n",
       "2  watch hillary speak to the national debt revok...    bot    bot  \n",
       "3  what hillary s all about is making sure every ...    bot    bot  \n",
       "4                    democrats stand in your america    bot    bot  "
      ]
     },
     "execution_count": 22,
     "metadata": {},
     "output_type": "execute_result"
    }
   ],
   "source": [
    "data_test_en.head()"
   ]
  },
  {
   "cell_type": "code",
   "execution_count": 11,
   "metadata": {},
   "outputs": [],
   "source": [
    "data_training_en = data_training_en.dropna(how='all')\n",
    "data_test_en = data_test_en.dropna(how='all')"
   ]
  },
  {
   "attachments": {},
   "cell_type": "markdown",
   "metadata": {},
   "source": [
    "### Spanish"
   ]
  },
  {
   "cell_type": "code",
   "execution_count": 23,
   "metadata": {},
   "outputs": [],
   "source": [
    "data_training_es = prep_es.main_preprocess(data=data_training_es, \n",
    "                                column='tweet', \n",
    "                                remove_stop_words=False, \n",
    "                                is_dataframe=True, \n",
    "                                emoji_path=None,\n",
    "                                tweet=True)"
   ]
  },
  {
   "cell_type": "code",
   "execution_count": 24,
   "metadata": {},
   "outputs": [
    {
     "data": {
      "text/html": [
       "<div>\n",
       "<style scoped>\n",
       "    .dataframe tbody tr th:only-of-type {\n",
       "        vertical-align: middle;\n",
       "    }\n",
       "\n",
       "    .dataframe tbody tr th {\n",
       "        vertical-align: top;\n",
       "    }\n",
       "\n",
       "    .dataframe thead th {\n",
       "        text-align: right;\n",
       "    }\n",
       "</style>\n",
       "<table border=\"1\" class=\"dataframe\">\n",
       "  <thead>\n",
       "    <tr style=\"text-align: right;\">\n",
       "      <th></th>\n",
       "      <th>Unnamed: 0</th>\n",
       "      <th>id</th>\n",
       "      <th>tweet</th>\n",
       "      <th>author</th>\n",
       "      <th>gender</th>\n",
       "    </tr>\n",
       "  </thead>\n",
       "  <tbody>\n",
       "    <tr>\n",
       "      <th>0</th>\n",
       "      <td>0</td>\n",
       "      <td>3528ef91c7484ec189dcc82a7f9cd613</td>\n",
       "      <td>si me quereis ganar en san valentin</td>\n",
       "      <td>human</td>\n",
       "      <td>female</td>\n",
       "    </tr>\n",
       "    <tr>\n",
       "      <th>1</th>\n",
       "      <td>1</td>\n",
       "      <td>3528ef91c7484ec189dcc82a7f9cd613</td>\n",
       "      <td>choco aun no tiene adopcion esta en extremadur...</td>\n",
       "      <td>human</td>\n",
       "      <td>female</td>\n",
       "    </tr>\n",
       "    <tr>\n",
       "      <th>2</th>\n",
       "      <td>2</td>\n",
       "      <td>3528ef91c7484ec189dcc82a7f9cd613</td>\n",
       "      <td>cuando t enteras d k tu humano ha estado acari...</td>\n",
       "      <td>human</td>\n",
       "      <td>female</td>\n",
       "    </tr>\n",
       "    <tr>\n",
       "      <th>3</th>\n",
       "      <td>3</td>\n",
       "      <td>3528ef91c7484ec189dcc82a7f9cd613</td>\n",
       "      <td>la tecnica del bodypainting se perfecciona has...</td>\n",
       "      <td>human</td>\n",
       "      <td>female</td>\n",
       "    </tr>\n",
       "    <tr>\n",
       "      <th>4</th>\n",
       "      <td>4</td>\n",
       "      <td>3528ef91c7484ec189dcc82a7f9cd613</td>\n",
       "      <td>stoi yorando</td>\n",
       "      <td>human</td>\n",
       "      <td>female</td>\n",
       "    </tr>\n",
       "  </tbody>\n",
       "</table>\n",
       "</div>"
      ],
      "text/plain": [
       "   Unnamed: 0                                id  \\\n",
       "0           0  3528ef91c7484ec189dcc82a7f9cd613   \n",
       "1           1  3528ef91c7484ec189dcc82a7f9cd613   \n",
       "2           2  3528ef91c7484ec189dcc82a7f9cd613   \n",
       "3           3  3528ef91c7484ec189dcc82a7f9cd613   \n",
       "4           4  3528ef91c7484ec189dcc82a7f9cd613   \n",
       "\n",
       "                                               tweet author  gender  \n",
       "0                si me quereis ganar en san valentin  human  female  \n",
       "1  choco aun no tiene adopcion esta en extremadur...  human  female  \n",
       "2  cuando t enteras d k tu humano ha estado acari...  human  female  \n",
       "3  la tecnica del bodypainting se perfecciona has...  human  female  \n",
       "4                                       stoi yorando  human  female  "
      ]
     },
     "execution_count": 24,
     "metadata": {},
     "output_type": "execute_result"
    }
   ],
   "source": [
    "data_training_es.head()"
   ]
  },
  {
   "cell_type": "code",
   "execution_count": 26,
   "metadata": {},
   "outputs": [],
   "source": [
    "data_test_es = prep_es.main_preprocess(data=data_test_es, \n",
    "                                column='tweet', \n",
    "                                remove_stop_words=False, \n",
    "                                is_dataframe=True, \n",
    "                                emoji_path=None, \n",
    "                                tweet=True)"
   ]
  },
  {
   "cell_type": "code",
   "execution_count": 27,
   "metadata": {},
   "outputs": [
    {
     "data": {
      "text/html": [
       "<div>\n",
       "<style scoped>\n",
       "    .dataframe tbody tr th:only-of-type {\n",
       "        vertical-align: middle;\n",
       "    }\n",
       "\n",
       "    .dataframe tbody tr th {\n",
       "        vertical-align: top;\n",
       "    }\n",
       "\n",
       "    .dataframe thead th {\n",
       "        text-align: right;\n",
       "    }\n",
       "</style>\n",
       "<table border=\"1\" class=\"dataframe\">\n",
       "  <thead>\n",
       "    <tr style=\"text-align: right;\">\n",
       "      <th></th>\n",
       "      <th>Unnamed: 0</th>\n",
       "      <th>id</th>\n",
       "      <th>tweet</th>\n",
       "      <th>author</th>\n",
       "      <th>gender</th>\n",
       "    </tr>\n",
       "  </thead>\n",
       "  <tbody>\n",
       "    <tr>\n",
       "      <th>0</th>\n",
       "      <td>0</td>\n",
       "      <td>a226558f190ca0e4aba481803949cea1</td>\n",
       "      <td>ay cdlm</td>\n",
       "      <td>human</td>\n",
       "      <td>male</td>\n",
       "    </tr>\n",
       "    <tr>\n",
       "      <th>1</th>\n",
       "      <td>1</td>\n",
       "      <td>a226558f190ca0e4aba481803949cea1</td>\n",
       "      <td>con una camisa hawaiana y pantuflas de flamingo</td>\n",
       "      <td>human</td>\n",
       "      <td>male</td>\n",
       "    </tr>\n",
       "    <tr>\n",
       "      <th>2</th>\n",
       "      <td>2</td>\n",
       "      <td>a226558f190ca0e4aba481803949cea1</td>\n",
       "      <td>me voy a pintar las canas y me le voy a presen...</td>\n",
       "      <td>human</td>\n",
       "      <td>male</td>\n",
       "    </tr>\n",
       "    <tr>\n",
       "      <th>3</th>\n",
       "      <td>3</td>\n",
       "      <td>a226558f190ca0e4aba481803949cea1</td>\n",
       "      <td>se sorprenden de que juan gabriel haya podido ...</td>\n",
       "      <td>human</td>\n",
       "      <td>male</td>\n",
       "    </tr>\n",
       "    <tr>\n",
       "      <th>4</th>\n",
       "      <td>4</td>\n",
       "      <td>a226558f190ca0e4aba481803949cea1</td>\n",
       "      <td>esta bien pensar distinto ser como el salmon i...</td>\n",
       "      <td>human</td>\n",
       "      <td>male</td>\n",
       "    </tr>\n",
       "  </tbody>\n",
       "</table>\n",
       "</div>"
      ],
      "text/plain": [
       "   Unnamed: 0                                id  \\\n",
       "0           0  a226558f190ca0e4aba481803949cea1   \n",
       "1           1  a226558f190ca0e4aba481803949cea1   \n",
       "2           2  a226558f190ca0e4aba481803949cea1   \n",
       "3           3  a226558f190ca0e4aba481803949cea1   \n",
       "4           4  a226558f190ca0e4aba481803949cea1   \n",
       "\n",
       "                                               tweet author gender  \n",
       "0                                            ay cdlm  human   male  \n",
       "1    con una camisa hawaiana y pantuflas de flamingo  human   male  \n",
       "2  me voy a pintar las canas y me le voy a presen...  human   male  \n",
       "3  se sorprenden de que juan gabriel haya podido ...  human   male  \n",
       "4  esta bien pensar distinto ser como el salmon i...  human   male  "
      ]
     },
     "execution_count": 27,
     "metadata": {},
     "output_type": "execute_result"
    }
   ],
   "source": [
    "data_test_es.head()"
   ]
  },
  {
   "cell_type": "code",
   "execution_count": null,
   "metadata": {},
   "outputs": [],
   "source": [
    "data_training_es = data_training_es.dropna(how='all')\n",
    "data_test_es = data_test_es.dropna(how='all')"
   ]
  },
  {
   "cell_type": "code",
   "execution_count": 40,
   "metadata": {},
   "outputs": [],
   "source": [
    "clean_data = [data_training_en, data_training_es, data_test_en, data_test_es]\n",
    "data_names = ['data_train_en', 'data_train_es', 'data_test_en', 'data_test_es']\n",
    "path_to_save = '../Author profiling/PAN19-Author-Profiling/Datasets/CSV/Clean/'"
   ]
  },
  {
   "cell_type": "code",
   "execution_count": 41,
   "metadata": {},
   "outputs": [],
   "source": [
    "for i in range(4):\n",
    "    clean_data[i].to_csv(f'{path_to_save}{data_names[i]}.csv')"
   ]
  },
  {
   "attachments": {},
   "cell_type": "markdown",
   "metadata": {},
   "source": [
    "## Data visualization"
   ]
  },
  {
   "cell_type": "code",
   "execution_count": 28,
   "metadata": {},
   "outputs": [],
   "source": [
    "import matplotlib.pyplot as plt\n",
    "import seaborn as sns\n",
    "%matplotlib inline\n",
    "%config InlineBackend.figure_format='retina'"
   ]
  },
  {
   "cell_type": "code",
   "execution_count": 29,
   "metadata": {},
   "outputs": [],
   "source": [
    "bar_colors = ['tab:red', 'tab:blue']"
   ]
  },
  {
   "cell_type": "code",
   "execution_count": 30,
   "metadata": {},
   "outputs": [],
   "source": [
    "def plot_counts(labels, counted_labels, bar_colors, x_label, y_label, plot_title, plot_size):\n",
    "    fig = plt.figure(figsize=plot_size)\n",
    "    \n",
    "    plt.bar(labels, counted_labels, color=bar_colors)\n",
    "\n",
    "    plt.xlabel(x_label)\n",
    "    plt.ylabel(y_label)\n",
    "    plt.title(plot_title)\n",
    "\n",
    "    plt.figure(figsize=plot_size)\n",
    "    plt.show()"
   ]
  },
  {
   "attachments": {},
   "cell_type": "markdown",
   "metadata": {},
   "source": [
    "### English"
   ]
  },
  {
   "cell_type": "code",
   "execution_count": 31,
   "metadata": {},
   "outputs": [
    {
     "name": "stdout",
     "output_type": "stream",
     "text": [
      "<class 'pandas.core.frame.DataFrame'>\n",
      "RangeIndex: 412000 entries, 0 to 411999\n",
      "Data columns (total 5 columns):\n",
      " #   Column      Non-Null Count   Dtype \n",
      "---  ------      --------------   ----- \n",
      " 0   Unnamed: 0  412000 non-null  int64 \n",
      " 1   id          412000 non-null  object\n",
      " 2   tweet       412000 non-null  object\n",
      " 3   author      412000 non-null  object\n",
      " 4   gender      412000 non-null  object\n",
      "dtypes: int64(1), object(4)\n",
      "memory usage: 15.7+ MB\n"
     ]
    }
   ],
   "source": [
    "data_training_en.info()"
   ]
  },
  {
   "cell_type": "code",
   "execution_count": 32,
   "metadata": {},
   "outputs": [],
   "source": [
    "values_author_en = data_training_en.author.value_counts()\n",
    "values_gender_en = data_training_en.gender.value_counts()"
   ]
  },
  {
   "cell_type": "code",
   "execution_count": 33,
   "metadata": {},
   "outputs": [
    {
     "data": {
      "image/png": "[encoded data removed]",
      "text/plain": [
       "<Figure size 720x720 with 1 Axes>"
      ]
     },
     "metadata": {
      "image/png": {
       "height": 603,
       "width": 631
      },
      "needs_background": "light"
     },
     "output_type": "display_data"
    },
    {
     "data": {
      "text/plain": [
       "<Figure size 720x720 with 0 Axes>"
      ]
     },
     "metadata": {},
     "output_type": "display_data"
    }
   ],
   "source": [
    "plot_counts(labels=values_author_en.keys().tolist(), \n",
    "            counted_labels=values_author_en.values.tolist(),\n",
    "            bar_colors=bar_colors,\n",
    "            x_label='Label',\n",
    "            y_label='Total',\n",
    "            plot_title='PAN training dataset by author (EN)',\n",
    "            plot_size=(10,10))"
   ]
  },
  {
   "cell_type": "code",
   "execution_count": 34,
   "metadata": {},
   "outputs": [
    {
     "data": {
      "image/png": "[encoded data removed]",
      "text/plain": [
       "<Figure size 720x720 with 1 Axes>"
      ]
     },
     "metadata": {
      "image/png": {
       "height": 603,
       "width": 631
      },
      "needs_background": "light"
     },
     "output_type": "display_data"
    },
    {
     "data": {
      "text/plain": [
       "<Figure size 720x720 with 0 Axes>"
      ]
     },
     "metadata": {},
     "output_type": "display_data"
    }
   ],
   "source": [
    "plot_counts(labels=values_gender_en.keys().tolist()[1:], \n",
    "            counted_labels=values_gender_en.values.tolist()[1:],\n",
    "            bar_colors=bar_colors,\n",
    "            x_label='Label',\n",
    "            y_label='Total',\n",
    "            plot_title='PAN training dataset by gender (EN)',\n",
    "            plot_size=(10,10))"
   ]
  },
  {
   "attachments": {},
   "cell_type": "markdown",
   "metadata": {},
   "source": [
    "### Spanish"
   ]
  },
  {
   "cell_type": "code",
   "execution_count": 35,
   "metadata": {},
   "outputs": [
    {
     "name": "stdout",
     "output_type": "stream",
     "text": [
      "<class 'pandas.core.frame.DataFrame'>\n",
      "RangeIndex: 300000 entries, 0 to 299999\n",
      "Data columns (total 5 columns):\n",
      " #   Column      Non-Null Count   Dtype \n",
      "---  ------      --------------   ----- \n",
      " 0   Unnamed: 0  300000 non-null  int64 \n",
      " 1   id          300000 non-null  object\n",
      " 2   tweet       300000 non-null  object\n",
      " 3   author      300000 non-null  object\n",
      " 4   gender      300000 non-null  object\n",
      "dtypes: int64(1), object(4)\n",
      "memory usage: 11.4+ MB\n"
     ]
    }
   ],
   "source": [
    "data_training_es.info()"
   ]
  },
  {
   "cell_type": "code",
   "execution_count": 36,
   "metadata": {},
   "outputs": [],
   "source": [
    "values_author_es = data_training_es.author.value_counts()\n",
    "values_gender_es = data_training_en.gender.value_counts()"
   ]
  },
  {
   "cell_type": "code",
   "execution_count": 37,
   "metadata": {},
   "outputs": [
    {
     "data": {
      "image/png": "[encoded data removed]",
      "text/plain": [
       "<Figure size 720x720 with 1 Axes>"
      ]
     },
     "metadata": {
      "image/png": {
       "height": 603,
       "width": 631
      },
      "needs_background": "light"
     },
     "output_type": "display_data"
    },
    {
     "data": {
      "text/plain": [
       "<Figure size 720x720 with 0 Axes>"
      ]
     },
     "metadata": {},
     "output_type": "display_data"
    }
   ],
   "source": [
    "plot_counts(labels=values_author_es.keys().tolist(), \n",
    "            counted_labels=values_author_es.values.tolist(),\n",
    "            bar_colors=bar_colors,\n",
    "            x_label='Label',\n",
    "            y_label='Total',\n",
    "            plot_title='PAN training dataset by author (ES)',\n",
    "            plot_size=(10,10))"
   ]
  },
  {
   "cell_type": "code",
   "execution_count": 38,
   "metadata": {},
   "outputs": [
    {
     "data": {
      "image/png": "[encoded data removed]",
      "text/plain": [
       "<Figure size 720x720 with 1 Axes>"
      ]
     },
     "metadata": {
      "image/png": {
       "height": 603,
       "width": 631
      },
      "needs_background": "light"
     },
     "output_type": "display_data"
    },
    {
     "data": {
      "text/plain": [
       "<Figure size 720x720 with 0 Axes>"
      ]
     },
     "metadata": {},
     "output_type": "display_data"
    }
   ],
   "source": [
    "plot_counts(labels=values_gender_es.keys().tolist()[1:], \n",
    "            counted_labels=values_gender_es.values.tolist()[1:],\n",
    "            bar_colors=bar_colors,\n",
    "            x_label='Label',\n",
    "            y_label='Total',\n",
    "            plot_title='PAN training dataset by gender (ES)',\n",
    "            plot_size=(10,10))"
   ]
  },
  {
   "attachments": {},
   "cell_type": "markdown",
   "metadata": {},
   "source": [
    "## Baseline"
   ]
  },
  {
   "cell_type": "code",
   "execution_count": 165,
   "metadata": {},
   "outputs": [],
   "source": [
    "from sklearn.feature_extraction.text import TfidfVectorizer\n",
    "from sklearn.linear_model import LogisticRegression\n",
    "from sklearn import metrics"
   ]
  },
  {
   "cell_type": "code",
   "execution_count": 18,
   "metadata": {},
   "outputs": [],
   "source": [
    "def change_labels(dataframes, columns, dictionary_list):\n",
    "    for df in dataframes:\n",
    "        for i, column in enumerate(columns):\n",
    "            df[column].replace(list(dictionary_list[i].keys()), \n",
    "                                        list(dictionary_list[i].values()), \n",
    "                                        inplace=True)"
   ]
  },
  {
   "cell_type": "code",
   "execution_count": 167,
   "metadata": {},
   "outputs": [],
   "source": [
    "ejemplo = data_training_en.copy()\n",
    "ejemplo_2 = data_test_en.copy()"
   ]
  },
  {
   "cell_type": "code",
   "execution_count": 23,
   "metadata": {},
   "outputs": [],
   "source": [
    "dataframes = [data_training_en, data_test_en, data_training_es, data_test_es]\n",
    "dataframes_names = ['data_training_en', 'data_test_en', 'data_training_es', 'data_test_es']\n",
    "columns = ['author', 'gender']\n",
    "dictionary_list = [{'human': 0,\n",
    "                    'bot':1},\n",
    "                    {'male': 0,\n",
    "                    'female':1,\n",
    "                    'bot':2}]\n",
    "path_to_save_clean = '../Author profiling/Datasets/PAN19-Author-Profiling-20200229/CSV/Clean/'"
   ]
  },
  {
   "cell_type": "code",
   "execution_count": 20,
   "metadata": {},
   "outputs": [],
   "source": [
    "change_labels(dataframes=dataframes, columns=columns, dictionary_list=dictionary_list)"
   ]
  },
  {
   "cell_type": "code",
   "execution_count": 26,
   "metadata": {},
   "outputs": [],
   "source": [
    "for index, df in enumerate(dataframes):\n",
    "    df.to_csv(f'{path_to_save_clean}{dataframes_names[index]}.csv')"
   ]
  },
  {
   "cell_type": "code",
   "execution_count": 181,
   "metadata": {},
   "outputs": [],
   "source": [
    "def baseline(model, train_data, test_data, x_label_column, y_label_column, target_names):\n",
    "    # Training data\n",
    "    x_train = train_data[x_label_column].tolist()\n",
    "    y_train = train_data[y_label_column].tolist()\n",
    "\n",
    "    # Test data\n",
    "    x_test = test_data[x_label_column].tolist()\n",
    "    y_test = test_data[y_label_column].tolist()\n",
    "\n",
    "    # Vectorizing text data\n",
    "    vectorizer = TfidfVectorizer(ngram_range=(1, 3), min_df=3)\n",
    "    x_train = vectorizer.fit_transform(x_train)\n",
    "    x_test = vectorizer.transform(x_test)\n",
    "\n",
    "    # Fitting model\n",
    "    print(f'Fitting {y_label_column} model')\n",
    "    model.fit(x_train, y_train)\n",
    "    y_pred = model.predict(x_test)\n",
    "\n",
    "    # Results\n",
    "    print(metrics.classification_report(y_test, y_pred, target_names=target_names))\n",
    "\n",
    "\n",
    "    return model, vectorizer\n"
   ]
  },
  {
   "cell_type": "code",
   "execution_count": 182,
   "metadata": {},
   "outputs": [],
   "source": [
    "seed = 42\n",
    "scoring = scoring = {'Accuracy': 'accuracy', 'F1-Score': 'f1', \n",
    "                'Precision': 'precision', 'Recall': 'recall'}\n",
    "model = LogisticRegression(random_state = seed, penalty = 'l2', \n",
    "                            solver = 'liblinear', max_iter = 1000)"
   ]
  },
  {
   "cell_type": "code",
   "execution_count": 183,
   "metadata": {},
   "outputs": [
    {
     "name": "stdout",
     "output_type": "stream",
     "text": [
      "Fitting author model\n",
      "              precision    recall  f1-score   support\n",
      "\n",
      "       human       0.73      0.93      0.82      3452\n",
      "         bot       0.87      0.57      0.69      2800\n",
      "\n",
      "    accuracy                           0.77      6252\n",
      "   macro avg       0.80      0.75      0.75      6252\n",
      "weighted avg       0.79      0.77      0.76      6252\n",
      "\n"
     ]
    }
   ],
   "source": [
    "model_author_en, vectorizer_author_en = baseline(model=model, \n",
    "                                                train_data=data_training_en, \n",
    "                                                test_data=data_test_en, \n",
    "                                                x_label_column='tweet',\n",
    "                                                y_label_column='author',\n",
    "                                                target_names=list(dictionary_list[0].keys()))"
   ]
  },
  {
   "cell_type": "code",
   "execution_count": 184,
   "metadata": {},
   "outputs": [
    {
     "name": "stdout",
     "output_type": "stream",
     "text": [
      "Fitting gender model\n",
      "              precision    recall  f1-score   support\n",
      "\n",
      "        male       0.24      0.36      0.29      1000\n",
      "      female       0.66      0.51      0.57      2452\n",
      "         bot       0.76      0.79      0.77      2800\n",
      "\n",
      "    accuracy                           0.61      6252\n",
      "   macro avg       0.55      0.55      0.55      6252\n",
      "weighted avg       0.64      0.61      0.62      6252\n",
      "\n"
     ]
    }
   ],
   "source": [
    "model_gender_en, vectorizer_gender_en = baseline(model=model, \n",
    "                                                train_data=data_training_en, \n",
    "                                                test_data=data_test_en, \n",
    "                                                x_label_column='tweet',\n",
    "                                                y_label_column='gender',\n",
    "                                                target_names=list(dictionary_list[1].keys()))"
   ]
  },
  {
   "cell_type": "code",
   "execution_count": null,
   "metadata": {},
   "outputs": [],
   "source": []
  }
 ],
 "metadata": {
  "kernelspec": {
   "display_name": "Python 3",
   "language": "python",
   "name": "python3"
  },
  "language_info": {
   "codemirror_mode": {
    "name": "ipython",
    "version": 3
   },
   "file_extension": ".py",
   "mimetype": "text/x-python",
   "name": "python",
   "nbconvert_exporter": "python",
   "pygments_lexer": "ipython3",
   "version": "3.9.5"
  },
  "orig_nbformat": 4,
  "vscode": {
   "interpreter": {
    "hash": "59d3b287212f50af165978b62192df5a49b6eea740d718d3743846fa9be15f35"
   }
  }
 },
 "nbformat": 4,
 "nbformat_minor": 2
}
