{
 "cells": [
  {
   "attachments": {},
   "cell_type": "markdown",
   "metadata": {},
   "source": [
    "## Install packages"
   ]
  },
  {
   "cell_type": "code",
   "execution_count": 1,
   "metadata": {},
   "outputs": [],
   "source": [
    "# !pip install xmltodict\n",
    "# !pip install untangle\n",
    "# !pip install pandas"
   ]
  },
  {
   "attachments": {},
   "cell_type": "markdown",
   "metadata": {},
   "source": [
    "## Import libraries"
   ]
  },
  {
   "cell_type": "code",
   "execution_count": 1,
   "metadata": {},
   "outputs": [],
   "source": [
    "import json, xmltodict, os\n",
    "import pandas as pd\n",
    "import warnings\n",
    "warnings.filterwarnings(\"ignore\")"
   ]
  },
  {
   "attachments": {},
   "cell_type": "markdown",
   "metadata": {},
   "source": [
    "## Functions"
   ]
  },
  {
   "cell_type": "code",
   "execution_count": 2,
   "metadata": {},
   "outputs": [],
   "source": [
    "# Training data paths\n",
    "path_train_en = '../Author profiling/PAN19-Author-Profiling/Datasets/pan19-author-profiling-training-2019-02-18/en/'\n",
    "path_train_es = '../Author profiling/PAN19-Author-Profiling/Datasets/pan19-author-profiling-training-2019-02-18/es/'\n",
    "path_train_labels_en = '../Author profiling/PAN19-Author-Profiling/Datasets/pan19-author-profiling-training-2019-02-18/en.txt'\n",
    "path_train_labels_es = '../Author profiling/PAN19-Author-Profiling/Datasets/pan19-author-profiling-training-2019-02-18/es.txt'\n",
    "\n",
    "# Testing data paths\n",
    "path_test_en = '../Author profiling/PAN19-Author-Profiling/Datasets/pan19-author-profiling-test-2019-04-29/en/'\n",
    "path_test_es = '../Author profiling/PAN19-Author-Profiling/Datasets/pan19-author-profiling-test-2019-04-29/es/'\n",
    "path_test_labels_en = '../Author profiling/PAN19-Author-Profiling/Datasets/pan19-author-profiling-test-2019-04-29/en.txt'\n",
    "path_test_labels_es = '../Author profiling/PAN19-Author-Profiling/Datasets/pan19-author-profiling-test-2019-04-29/es.txt'\n",
    "\n",
    "# Saving data path\n",
    "path_to_save = '../Author profiling/PAN19-Author-Profiling/Datasets/CSV/'"
   ]
  },
  {
   "cell_type": "code",
   "execution_count": 3,
   "metadata": {},
   "outputs": [],
   "source": [
    "# TODO: remove this cell\n",
    "path_en = 'pan19-author-profiling-earlybirds-20190320/en/'\n",
    "path_es = 'pan19-author-profiling-earlybirds-20190320/es/'\n",
    "path_to_save_en = 'JSON/pan19-author-profiling-earlybirds-20190320/en/'\n",
    "path_to_save_es = 'JSON/pan19-author-profiling-earlybirds-20190320/es/'\n",
    "path_labels_en = 'pan19-author-profiling-earlybirds-20190320/en.txt'\n",
    "path_labels_es = 'pan19-author-profiling-earlybirds-20190320/es.txt'"
   ]
  },
  {
   "cell_type": "code",
   "execution_count": 4,
   "metadata": {},
   "outputs": [],
   "source": [
    "def get_list_names(path):\n",
    "\n",
    "    file_names = []\n",
    "\n",
    "    for filename in os.listdir(path):\n",
    "        f = os.path.join(path, filename)\n",
    "\n",
    "        if os.path.isfile(f):\n",
    "            if '.txt' not in filename:\n",
    "                file_names.append(filename.split('.')[0])\n",
    "    \n",
    "    return file_names"
   ]
  },
  {
   "cell_type": "code",
   "execution_count": 5,
   "metadata": {},
   "outputs": [],
   "source": [
    "# Obtaining all the file names \n",
    "\n",
    "# Data train\n",
    "file_names_training_en = get_list_names(path_train_en)\n",
    "file_names_training_es = get_list_names(path_train_es)\n",
    "\n",
    "# Data test\n",
    "file_names_test_en = get_list_names(path_test_en)\n",
    "file_names_test_es = get_list_names(path_test_es)"
   ]
  },
  {
   "cell_type": "code",
   "execution_count": 6,
   "metadata": {},
   "outputs": [
    {
     "name": "stdout",
     "output_type": "stream",
     "text": [
      "Total data\n",
      "Training --> (EN): 4120, (ES): 3000\n",
      "Test --> (EN): 2640, (ES): 1800\n"
     ]
    }
   ],
   "source": [
    "print('Total data')\n",
    "print(f'Training --> (EN): {len(file_names_training_en)}, (ES): {len(file_names_training_es)}')\n",
    "print(f'Test --> (EN): {len(file_names_test_en)}, (ES): {len(file_names_test_es)}')"
   ]
  },
  {
   "cell_type": "code",
   "execution_count": 7,
   "metadata": {},
   "outputs": [],
   "source": [
    "# Function to check file names \n",
    "def check_path(file_name):\n",
    "    if file_name[0].isdigit():\n",
    "        # return os.path.join(f'\\', file_name)\n",
    "        return file_name\n",
    "    else:\n",
    "        return file_name"
   ]
  },
  {
   "cell_type": "code",
   "execution_count": 8,
   "metadata": {},
   "outputs": [],
   "source": [
    "def xml_to_json(path, file_names, path_to_save):\n",
    "\n",
    "    for i, file_name in enumerate(file_names):\n",
    "        file_name = check_path(file_name)\n",
    "        final_path = f'{path}{file_name}.xml'\n",
    "\n",
    "        # Reading XML file and converting it into text\n",
    "        with open(final_path, encoding = 'utf-8') as xml_file:\n",
    "            data = xmltodict.parse(xml_file.read())\n",
    "        \n",
    "        # Converting text into JSON style\n",
    "        data = json.dumps(data, indent = 2)\n",
    "\n",
    "        # Saving JSON file\n",
    "        saving_path = f'{path_to_save}{file_name}.json'\n",
    "        with open(saving_path, 'w') as json_file:\n",
    "            json_file.write(data)"
   ]
  },
  {
   "cell_type": "code",
   "execution_count": 15,
   "metadata": {},
   "outputs": [],
   "source": [
    "xml_to_json(path_en, file_names_en, path_to_save_en)\n",
    "xml_to_json(path_es, file_names_es, path_to_save_es)"
   ]
  },
  {
   "cell_type": "code",
   "execution_count": 9,
   "metadata": {},
   "outputs": [],
   "source": [
    "def get_labels(labels_path, file_name):\n",
    "    # Leyendo y creando un DF de las etiquetas del archivo JSON\n",
    "    df_labels = pd.read_csv(labels_path, sep = ':::', names = ['id', 'author', 'gender'], \n",
    "                        engine = 'python')\n",
    "    \n",
    "    author = df_labels[df_labels.id == file_name].author\n",
    "    gender = df_labels[df_labels.id == file_name].gender\n",
    "\n",
    "    return author.values[0], gender.values[0]"
   ]
  },
  {
   "cell_type": "code",
   "execution_count": 10,
   "metadata": {},
   "outputs": [],
   "source": [
    "def json_to_csv(path, labels_path, file_names):\n",
    "    data = pd.DataFrame(columns = ['id', 'tweet', 'author', 'gender'])\n",
    "\n",
    "    for file_name in file_names:\n",
    "        # Verificar PATH\n",
    "        file_name = check_path(file_name)\n",
    "        \n",
    "        # Leer archivo JSON basado en el nombre del archivo\n",
    "        with open(f'{path}{file_name}.json') as f:\n",
    "            json_file = json.load(f)\n",
    "        \n",
    "        # Obteniendo la cantidad de documentos que tiene el archivo JSON\n",
    "        file_len = len(json_file['author']['documents']['document'])\n",
    "\n",
    "        # Obtner las etiquetas del JSON\n",
    "        author, gender = get_labels(labels_path, file_name)\n",
    "\n",
    "        dict = {'id': [file_name] * file_len,\n",
    "                'tweet': json_file['author']['documents']['document'],\n",
    "                'author': [author] * file_len,\n",
    "                'gender': [gender] * file_len}\n",
    "\n",
    "        df = pd.DataFrame(data = dict)\n",
    "        data = data.append(df, ignore_index=True)\n",
    "        \n",
    "    return data"
   ]
  },
  {
   "cell_type": "code",
   "execution_count": 11,
   "metadata": {},
   "outputs": [],
   "source": [
    "json_train_path_en = '../Author profiling/PAN19-Author-Profiling/Datasets/JSON/pan19-author-profiling-training-2019-02-18/en/'\n",
    "json_train_path_es = '../Author profiling/PAN19-Author-Profiling/Datasets/JSON/pan19-author-profiling-training-2019-02-18/es/'\n",
    "\n",
    "json_test_path_en = '../Author profiling/PAN19-Author-Profiling/Datasets/JSON/pan19-author-profiling-test-2019-04-29/en/'\n",
    "json_test_path_es = '../Author profiling/PAN19-Author-Profiling/Datasets/JSON/pan19-author-profiling-test-2019-04-29/es/'\n",
    "\n",
    "json_paths = [json_train_path_en, json_train_path_es, json_test_path_en, json_test_path_es]\n",
    "labels = [path_train_labels_en, path_train_labels_es, path_test_labels_en, path_test_labels_es]\n",
    "filenames = [file_names_training_en, file_names_training_es, file_names_test_en, file_names_test_es]\n",
    "json_path_names = ['Train-EN', 'Train-ES', 'Test-EN', 'Test-ES']"
   ]
  },
  {
   "cell_type": "code",
   "execution_count": 14,
   "metadata": {},
   "outputs": [
    {
     "name": "stdout",
     "output_type": "stream",
     "text": [
      "Total CSV data: 412000\n",
      "Total CSV data: 300000\n",
      "Total CSV data: 264000\n",
      "Total CSV data: 180000\n"
     ]
    }
   ],
   "source": [
    "for i in range(4):\n",
    "    data = json_to_csv(json_paths[i], labels[i], filenames[i])\n",
    "    data.to_csv(f'{path_to_save}{json_path_names[i]}.csv', encoding='utf-8')\n",
    "    print(f'Total CSV data: {data.shape[0]}')"
   ]
  },
  {
   "cell_type": "code",
   "execution_count": null,
   "metadata": {},
   "outputs": [],
   "source": []
  }
 ],
 "metadata": {
  "kernelspec": {
   "display_name": "Python 3",
   "language": "python",
   "name": "python3"
  },
  "language_info": {
   "codemirror_mode": {
    "name": "ipython",
    "version": 3
   },
   "file_extension": ".py",
   "mimetype": "text/x-python",
   "name": "python",
   "nbconvert_exporter": "python",
   "pygments_lexer": "ipython3",
   "version": "3.9.5"
  },
  "orig_nbformat": 4,
  "vscode": {
   "interpreter": {
    "hash": "cc0c0ce790b194ba975aa8d26177784a68f365115b55657382143b34a65324fa"
   }
  }
 },
 "nbformat": 4,
 "nbformat_minor": 2
}
