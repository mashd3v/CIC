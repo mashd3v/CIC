{
 "cells": [
  {
   "attachments": {},
   "cell_type": "markdown",
   "metadata": {},
   "source": [
    "## Install packages"
   ]
  },
  {
   "cell_type": "code",
   "execution_count": null,
   "metadata": {},
   "outputs": [],
   "source": [
    "!pip install xmltodict\n",
    "!pip install untangle\n",
    "!pip install pandas"
   ]
  },
  {
   "attachments": {},
   "cell_type": "markdown",
   "metadata": {},
   "source": [
    "## Import libraries"
   ]
  },
  {
   "cell_type": "code",
   "execution_count": 56,
   "metadata": {},
   "outputs": [],
   "source": [
    "import json, xmltodict, untangle, os\n",
    "import pandas as pd"
   ]
  },
  {
   "attachments": {},
   "cell_type": "markdown",
   "metadata": {},
   "source": [
    "## Functions"
   ]
  },
  {
   "cell_type": "code",
   "execution_count": 71,
   "metadata": {},
   "outputs": [],
   "source": [
    "path_en = 'pan19-author-profiling-earlybirds-20190320/en/'\n",
    "path_es = 'pan19-author-profiling-earlybirds-20190320/es/'\n",
    "path_to_save_en = 'pan19-author-profiling-earlybirds-20190320-json/en/'\n",
    "path_to_save_es = 'pan19-author-profiling-earlybirds-20190320-json/es/'"
   ]
  },
  {
   "cell_type": "code",
   "execution_count": 72,
   "metadata": {},
   "outputs": [],
   "source": [
    "def get_list_names(path):\n",
    "\n",
    "    file_names = []\n",
    "\n",
    "    for filename in os.listdir(path):\n",
    "        f = os.path.join(path, filename)\n",
    "\n",
    "        if os.path.isfile(f):\n",
    "            if '.txt' not in filename:\n",
    "                file_names.append(filename.split('.')[0])\n",
    "    \n",
    "    return file_names"
   ]
  },
  {
   "cell_type": "code",
   "execution_count": 73,
   "metadata": {},
   "outputs": [],
   "source": [
    "file_names_en = get_list_names(path_en)\n",
    "file_names_es = get_list_names(path_es)"
   ]
  },
  {
   "cell_type": "code",
   "execution_count": 101,
   "metadata": {},
   "outputs": [],
   "source": [
    "# Function to check file names \n",
    "def check_path(file_name):\n",
    "    if file_name[0].isdigit():\n",
    "        return os.path.join('/', file_name)\n",
    "    else:\n",
    "        return file_name"
   ]
  },
  {
   "cell_type": "code",
   "execution_count": 112,
   "metadata": {},
   "outputs": [],
   "source": [
    "def xml_to_json(path, file_names, path_to_save):\n",
    "\n",
    "    for i, file_name in enumerate(file_names):\n",
    "        file_name = check_path(file_name)\n",
    "        final_path = f'{path}{file_name}.xml'\n",
    "\n",
    "        # Reading XML file and converting it into text\n",
    "        with open(final_path, encoding = 'utf-8') as xml_file:\n",
    "            data = xmltodict.parse(xml_file.read())\n",
    "        \n",
    "        # Converting text into JSON style\n",
    "        data = json.dumps(data, indent = 2)\n",
    "\n",
    "        # Saving JSON file\n",
    "        saving_path = f'{path_to_save}{file_name}.json'\n",
    "        with open(saving_path, 'w') as json_file:\n",
    "            json_file.write(data)"
   ]
  },
  {
   "cell_type": "code",
   "execution_count": 114,
   "metadata": {},
   "outputs": [],
   "source": [
    "xml_to_json(path_en, file_names_en, path_to_save_en)\n",
    "xml_to_json(path_es, file_names_es, path_to_save_es)"
   ]
  },
  {
   "cell_type": "code",
   "execution_count": 115,
   "metadata": {},
   "outputs": [],
   "source": [
    "## TODO: Read JSON files and extract their documents into a DataFrame "
   ]
  },
  {
   "cell_type": "code",
   "execution_count": 45,
   "metadata": {},
   "outputs": [],
   "source": [
    "json_file = open('A:\\MICHU\\Documents\\Escuela\\CIC\\Doctorado\\Datasets\\PAN19-Author-Profiling-20200229\\data.json')\n",
    "data = json.load(json_file)"
   ]
  },
  {
   "cell_type": "code",
   "execution_count": 47,
   "metadata": {},
   "outputs": [
    {
     "data": {
      "text/plain": [
       "['RT @GRRMspeaking: On the tenth day...House Stark was feeling chilly...#12DaysofWesteros #books #GameOfThrones http://t.co/fVVBxTaEId',\n",
       " '\"I swear it by earth &amp; water.\"\\n\\n\"I swear it by bronze &amp; iron.\"\\n\\n\"We swear it by ice &amp; fire,\" they finished together. http://t.co/eDMo9gAj1u',\n",
       " 'RT @GRRMspeaking: On the ninth day...the Lannisters were prepared...#12DaysofWesteros #books #GameOfThrones http://t.co/UEo7Oeue6A',\n",
       " '\"In my dreams, I kill him every night. A thousand deaths will still be less than he deserves.\" \\n\\n-Robert Baratheon http://t.co/UdV3A4ndzm',\n",
       " 'RT @GRRMspeaking: On the eighth day...House Baratheon loaded up the sleigh...#12DaysofWesteros #books #GameOfThrones http://t.co/Qw4dTAbUKD',\n",
       " 'They crowned her with a simple circlet of bronze, yet she looked more regal in bronze than Stannis did in gold.\\n\\nVal http://t.co/pGDSAmftTM',\n",
       " 'RT @GRRMspeaking: On the seventh day...House Martell set their table...#12DaysofWesteros #books #GameOfThrones http://t.co/ulXn43qNwp',\n",
       " '“Ser, may I have your name?”\\n\\n“Ser Jared, of House Frey.”\\n\\n“Jared of House Frey, I name you liar.”\\n\\n-Davos\\n#asoiaf http://t.co/yntzU3KtE9',\n",
       " 'RT @GRRMspeaking: On the sixth day...the Tyrells were all class...#12DaysofWesteros #books #GameOfThrones http://t.co/b6Irn49tTk',\n",
       " 'The white thing lay facedown in the mud... Rise, she thought. Rise and eat and run with us.\\n\\n-Nymeria/Arya\\n#asoiaf http://t.co/kjgzFGa8Fw',\n",
       " 'RT @GRRMspeaking: On the fifth day...House Arryn got into the spirit...#12DaysofWesteros #books #GameOfThrones http://t.co/xm3WIkXMyB',\n",
       " '“I would sooner have the scorpions fall upon me than the queen in all her naked beauty.”\\n\\n-Oberyn Martell\\n#asoiaf http://t.co/ficbf1OZCC',\n",
       " 'A craven can be brave as any man, when there is nothing to fear. And we all do our duty, when there is no cost to it. http://t.co/aVHr8i43rl',\n",
       " '\"Robert was the true steel. Stannis is iron, he\\'ll break before he bends. And Renly, he\\'s copper, bright &amp; shiny..\" http://t.co/2HEWekwuH5',\n",
       " '⬆️Season 1, Episode 4\\nCripples, Bastards and Broken Things\\n#yesthatsmyhand http://t.co/kBqkJM8EUI',\n",
       " '\"He is the prince that was promised, &amp; his is the song of ice &amp; fire.\" \\n\\n#HBOconfirmsR+L=J\\nhttp://t.co/zLUfhFE02p http://t.co/iNSpupLWlu',\n",
       " '\"Tell me, turncloak, what battles has the Bastard of Bolton ever won that I should fear him?\"\\n\\n-Stannis\\n#asoiaf\\n#TWOW http://t.co/opGvabPvCM',\n",
       " '\"I would have killed the man who did that to me.\"\\n\\n\"You may get that chance. A Lannister always pays his debts.\" http://t.co/owFimO32qg',\n",
       " '\"IS THERE GOLD HIDDEN IN THE VILLAGE?\" she shouted as she drove the blade up through his back.\\n\\n-Arya Stark\\n#asoiaf http://t.co/j9tc6ehkZ2',\n",
       " '“The traveler must beware of broken men, and fear them... but he should pity them as well.”\\n\\n-Septon Meribald\\n#asoiaf http://t.co/fOnOXzGEPz',\n",
       " 'Jon is the only brother that remains to me. Should I die without issue,I want him to succeed me as King in the North. http://t.co/xazUeJfzln',\n",
       " '\"There is a savage beast in every man, &amp; when you hand that man a sword or spear &amp; send him forth to war, the beast stirs.\"\\n\\n-Jorah Mormont',\n",
       " 'Dorne has more in common with the distant North than either does with the realms that lie between them.\\n\\n#TWOIAF http://t.co/Z4wBfm6jqt',\n",
       " '\"Drogon,\" she sang out loudly, sweetly, all her fear forgotten. \"Dracarys.\"\\n\\n-Daenerys Targaryen \\n#asoiaf http://t.co/edUMBb6Rm8',\n",
       " 'RT @GameOfThrones: BREAKING: #GoTSeason5 premieres Sunday, April 12 on @HBO. Send a raven and spread the word. http://t.co/oFKemvhnlE',\n",
       " '\"My brother is worth a hundred of your friend.\"\\n\\n\"Your brother or your lover?\"\\n\\n\"Both.\"\\n\\n-Cersei &amp; Eddard\\n#asoiaf http://t.co/9DT7jCEz6c',\n",
       " '\"I pray for a glimpse of Azor Ahai, and R\\'hllor shows me only Snow.\"\\n\\n-Melisandre of Asshai\\n#asoiaf \\n#R+L=J\\n#capitalS http://t.co/X9Hd7eIsEc',\n",
       " 'RT @WesterosHistory: \"So long as men remember the wrongs done to their forebears, no\\npeace will ever last.\" #asoiaf #GameOfThrones',\n",
       " '“Queen you shall be, until another, younger &amp; more beautiful, cast you down &amp; take all that you hold dear.”\\n\\n-Maggy http://t.co/h7pXq8xFX6',\n",
       " '“I have made kings &amp; unmade them. Sansa is my last chance for honor. Besides, kingslayers should band together.” http://t.co/yCY5WapD9m',\n",
       " '“All these kings would do a deal better if they would put down their swords &amp; listen to their mothers.”\\n\\n-Olenna http://t.co/Xsl1d57g3h',\n",
       " \"Today's tweet goes out in remembrance of @SmellyKraken, who died in a car accident earlier this week. \\nMay the Drowned God receive you well.\",\n",
       " '“Asha’s heart skipped a beat. “Theon?”\\n\\n“Theon,” he repeated.“My name is Theon. You have to know your name.”\\n\\n#asoiaf http://t.co/q2vovPPtcC',\n",
       " '\"Every man should lose a battle in his youth, so he does not lose a war when he is old.\"\\n\\n-Victarion Greyjoy\\n#asoiaf http://t.co/1KLu5WOSRa',\n",
       " '“Men’s laws give you the right to bear my name, since I cannot prove that you are not mine.”\\n\\n-Tywin\\n#asoiaf\\n#A+J=T? http://t.co/JZTO5siW9m',\n",
       " 'Dead things in the wood. Dead things in the water. Night falls, he thought, and now my war begins.\\n\\n-Jon\\n#GoTSeason5 http://t.co/UWqaqUW3g3',\n",
       " 'Promise me, she had cried, in a room that smelled of blood and roses. Promise me, Ned.\\n\\n-Lyanna Stark\\n#asoiaf \\n#TPTWP http://t.co/GhnKN0TKLa',\n",
       " '“The girl speaks truly,” the Hound rasped. “What a man sows on his name day, he reaps throughout the year.”\\n\\nHappy name day, @WarsofASOIAF!',\n",
       " '“I should have kissed you every night &amp; every day. You were made to be kissed, often &amp; well.”\\n\\n-Jorah Mormont\\n#asoiaf http://t.co/Xe9sqhCAv0',\n",
       " '“When we find who did this, I will flay the skin off him, cook it crisp as crackling, &amp; make him eat it, every bite.” http://t.co/8moKLSyn19',\n",
       " '\"Words are like arrows, Arianne. Once loosed, you cannot call them back.\"\\n\\n-Doran Martell\\n#asoiaf \\n#GoTSeason5 http://t.co/7HNyFggdUI',\n",
       " 'Triarch Belicho, a famous Volantene PATRIOT whose unbroken succession of conquests ended when he was eaten by GIANTS. http://t.co/dt3XZq824X',\n",
       " 'Wish I could watch every episode like this...\\n#GoTIMAX \\n#writerpic! http://t.co/QyTEFmooU6',\n",
       " 'RT @1CrazyPATSfan: @SerASOIAF is definitely one of my top 5 accounts on twitter',\n",
       " '“I am the shield that guards the realms of men. So tell me, my lord—what are the wildlings, if not men?”\\n\\n#GoTSeason5 http://t.co/QU9wkrLUly',\n",
       " '“My sisters and I shall not wait ten-and-seven years for our vengeance.”\\n\\n-Nymeria Sand\\n#asoiaf \\n#GoTSeason5Trailer http://t.co/zhzc95kaNm',\n",
       " '“I dreamt of a maid at a feast with purple serpents in her hair, venom dripping from their fangs.” \\n\\n-Ghost of High 💔 http://t.co/spOANOd5EB',\n",
       " 'This was justice. Make a habit of it Lannister, &amp; 1 day men might call you Goldenhand after all. Goldenhand the Just. http://t.co/WkAm6t3cbM',\n",
       " 'That boy had wanted to be Ser Arthur Dayne, but someplace along the way he had become the Smiling Knight instead. http://t.co/gWNaf4xPtE',\n",
       " '“I can tend to my own honor.” She touched her breast. “And to my own pleasures, if need be. I am a woman grown.” http://t.co/OEmyfF94w6',\n",
       " '“A drunken dwarf.”\\n\\n“A rotting sea cow.”\\n\\n“You are insolent. I like that in a dwarf.”\\n\\n-Illyrio &amp; Tyrion\\n#GoTSeason5 http://t.co/Lp0rGk0vlP',\n",
       " 'Check out @RadioWesteros\\' podcast! Really great text analysis, theories, predictions, with fun guests &amp; \"sponsors\"😂\\n\\nhttps://t.co/tQrjwT3v8o',\n",
       " 'If I had unhorsed Rhaegar &amp; crowned Ashara queen of love &amp; beauty, might she have looked to me instead of Stark?\\n\\n-Barristan Selmy\\n#asoiaf',\n",
       " '“You are too proud to serve. A servant must be humble &amp; obedient.”\\n\\n“I obey. I can be humbler than anyone.”\\n\\n-No one http://t.co/fW4WM0I7nQ',\n",
       " 'Castamere stands a mute testament to those foolish enough to take up arms against the lions of the Rock. \\n\\n#TWOIAF http://t.co/l3Ui4pNAk8',\n",
       " 'Robert purpled. “Not another word. Have you forgotten who is king here?”\\n\\n“No, Your Grace,” Ned replied. “Have you?” http://t.co/vDxkjW4PBX',\n",
       " '\"Love is the bane of honor, the death of duty… What is honor compared to a woman\\'s love?\"\\n\\n-Aemon Targaryen\\n#asoiaf http://t.co/RBAjtrw4zD',\n",
       " '\"Tears are not a woman\\'s only weapon. You\\'ve got another between your legs, &amp; you\\'d best learn to use it.\"\\n \\n-Cersei http://t.co/KLXEQ47c9Y',\n",
       " '“What little peace &amp; order the 5 kings left us will not long survive the 3 queens,I fear.”\\n\\nPetyr Baelish\\n#GoTSeason5 http://t.co/nikuZOrEHy',\n",
       " '“You need only bend your knee, pledge yourself to my service, &amp; you shall rise as Jon Stark, the Lord of Winterfell.” http://t.co/xfOLJJ35bj',\n",
       " 'Lord Tywin stared, unblinking. “Mummers &amp; monkeys require applause. So did Aerys, for that matter.”\\n\\n#Oscars2015 http://t.co/NFvUwZKK4M',\n",
       " '“Give me priests who are fat &amp; corrupt &amp; cynical… It’s the ones who believe in gods who make the trouble.”\\n\\n-Tyrion http://t.co/hqL0gVET7d',\n",
       " 'RT @apoiaf: @SerASOIAF Keep up the great work!',\n",
       " '“The same question is on every tongue—what will Doran do? What will he do to avenge our murdered prince?”\\n\\nObara Sand http://t.co/Cu9KlBBdvy',\n",
       " 'I am Cersei of House Lannister, a lion of the Rock, the rightful queen of these Seven Kingdoms. And hair grows back. http://t.co/g1RXqDxeVL',\n",
       " '“Bear Island knows no king but the King in the North, whose name is STARK.”\\n\\n-Lyanna Mormont\\n#asoiaf\\n#kinginthenorth http://t.co/I8bq4L4BXt',\n",
       " '“I can protect myself. I am a kraken. Asha, of House Greyjoy.” She pushed to her feet. “I’ll sit the Seastone Chair.” http://t.co/6TcFJIkuwH',\n",
       " 'RT @andrewmccann3: @SerASOIAF i love your account',\n",
       " '“The frightened child was reborn in blood &amp; fire. This dragon queen who wears her name is a true Targaryen.”\\n\\nIllyrio http://t.co/bhbMolSDHZ',\n",
       " '“The Iron Throne is mine by rights. All those who deny that are my foes.”\\n\\n-Stannis Baratheon\\n#asoiaf\\n#PresidentsDay http://t.co/Ppw5Xj1D4T',\n",
       " '“I rose too high, loved too hard, dared too much. I tried to grasp a star, overreached, and fell.”\\n\\n-Jon Connington http://t.co/Z3Kq5Me9jW',\n",
       " '“You’re mine. Mine, as I’m yours. And if we die, we die. All men must die, Jon Snow. But first we’ll live”\\n\\n-Ygritte http://t.co/gKbH5vF4qo',\n",
       " '“What of love?”\\n\\n“When the sun has set, no candle can replace it.”\\n\\n-Loras Tyrell \\n#asoiaf \\n#WesterosiValentines http://t.co/gTawwq1iXZ',\n",
       " '“One day the other moon will kiss the sun, &amp; then it will crack &amp; the dragons will return.”\\n\\n#sun&amp;stars\\n#moonofmylife http://t.co/c9T84l8rCJ',\n",
       " '\"Sweet lady, all men are fools, and all men are knights, where women are concerned.\"\\n\\n-Florian and Jonquil \\n#asoiaf http://t.co/ed64i6d8GS',\n",
       " '“We are only human, and the gods have fashioned us for love. That is our great glory, and our great tragedy.”\\n\\n-Aemon http://t.co/BJfk6ZJA4E',\n",
       " 'Crackpot: Is the Lady Melisandre the daughter of Bloodraven &amp; Shiera Seastar?\\n\\nTheory starts at 26:33\\nhttp://t.co/q0zCFMF3M2\\n@RadioWesteros',\n",
       " '\"Love’s not always wise, I’ve learned. It can lead us to great folly, but we follow our hearts.. wherever they take us.\"\\n\\nRobb Stark\\n#asoiaf',\n",
       " '“Bittersteel and Bloodraven both loved Shiera Seastar, and the Seven Kingdoms bled.”\\n\\n-Barristan\\n#BlackfyreRebellions http://t.co/bfjTxXloWt',\n",
       " '“Ser Jaime? I am grateful, but…you were well away. Why come back?”\\n\\nJaime only shrugged. “I dreamed of you.”\\n\\n#asoiaf http://t.co/C7CMKbPRUc',\n",
       " '“I know why my princess wears a veil. Elsewise her beauty would outshine the sun above.”\\n\\n-Arys Oakheart\\n#asoiaf http://t.co/L2yKgWyJgI',\n",
       " 'RT @RadioWesteros: E11 Sandor - A Knight’s Honour now available! http://t.co/qRdrNUxAlw',\n",
       " '“My sword is yours. My life is yours. My love is yours. My blood, my body, my songs, you own them all.”\\n\\n-Daario http://t.co/rccJy3Mdsl',\n",
       " '\"Let\\'s go down &amp; join Gendel\\'s children. I don\\'t ever want t\\' leave this cave, Jon Snow. Not ever.\"\\n\\n-Ygritte\\n#asoiaf http://t.co/YJ6Qxm0YDM',\n",
       " 'Needle was Robb and Bran and Rickon, her mother and her father, even Sansa… Needle was Jon Snow’s smile.\\n\\n#GoTSeason5 http://t.co/IIKALvnJDL',\n",
       " '“Even a stunted, twisted, ugly little boy can look down over the world when he’s seated on a dragon’s back.”\\n\\n-Tyrion http://t.co/86sZqcFz45',\n",
       " '⬆️What happens to Jon after #TheIdesOfMarsh? @RadioWesteros explains here:\\nhttp://t.co/DfCAY7bS9J\\n(theory starts at 30:01)\\n#onlythecold',\n",
       " 'Now he was a man, now a wolf, now a man again. But the skulls were here as well, skulls were all around him.\\n\\n#asoiaf http://t.co/EffacdbmDC',\n",
       " 'In the cold night air the wound was smoking. “Ghost,” he whispered. He never felt the fourth knife. Only the cold\\xa0… http://t.co/rs9EOLX5PY',\n",
       " '“Keep your wolf close. Ice, I see, &amp; daggers in the dark. Blood frozen red &amp; hard, &amp; naked steel. It was very cold.” http://t.co/5YAdjqWm0L',\n",
       " 'RT @kmfede: @SerASOIAF has some pretty great quotes. Keep the good work!!! #ASOIAF',\n",
       " '“The best pie you ever tasted, my lords. Wash it down with Arbor gold &amp; savor every bite. I know I shall.”\\n\\n#PiDay http://t.co/qs9b1xbsh0',\n",
       " '“I know the poison that my father used… Soon we may hear the Mountain screaming, even here in Sunspear.”\\n\\n-Tyene Sand http://t.co/nvM9NOyzt1',\n",
       " '“And now it begins,” said Ser Arthur Dayne, the Sword of the Morning.\\n\\n“No,” Ned said with sadness. “Now it ends.” http://t.co/DLs3t0JHkj',\n",
       " '“So those are your gifts, my sweet Sansa…Harry, the Eyrie, &amp; Winterfell. That’s worth another kiss, don’t you think?” http://t.co/7uOobOKTyk',\n",
       " 'Jaime smiled. “So draw that sword you’re fondling, and we shall see how your two hands fare against my one.”\\n\\n#asoiaf http://t.co/Km9SIlrj1y',\n",
       " '“Viserys sold my mother’s crown, and men called him a beggar. I shall keep this one, so men will call me a queen.” http://t.co/cOc2pK153Y',\n",
       " 'The truth was, Myrcella was braver than her brother. The women are the strong ones, truly.\\n\\n-Arys \\n#HappyWomensDay http://t.co/zTAYMT5sVA',\n",
       " '“I crossed a thousand leagues to come to you, and lost the best part of me along the way. Don’t tell me to leave.” http://t.co/WJj1HLquQ8',\n",
       " 'RT @LiaThe_Loneone: #FF To the absolute best GoT #ASOIAF Quotes account @SerASOIAF #Love']"
      ]
     },
     "execution_count": 47,
     "metadata": {},
     "output_type": "execute_result"
    }
   ],
   "source": [
    "data['author']['documents']['document']"
   ]
  },
  {
   "cell_type": "code",
   "execution_count": 54,
   "metadata": {},
   "outputs": [
    {
     "name": "stderr",
     "output_type": "stream",
     "text": [
      "C:\\Users\\qk_le\\AppData\\Local\\Temp\\ipykernel_8768\\1318036323.py:2: ParserWarning: Falling back to the 'python' engine because the 'c' engine does not support regex separators (separators > 1 char and different from '\\s+' are interpreted as regex); you can avoid this warning by specifying engine='python'.\n",
      "  df = pd.read_csv(df_path, sep = ':::', names=['id', 'author', 'gender'])\n"
     ]
    }
   ],
   "source": [
    "df_path = 'A:\\MICHU\\Documents\\Escuela\\CIC\\Doctorado\\Datasets\\PAN19-Author-Profiling-20200229\\pan19-author-profiling-earlybirds-20190320\\en.txt'\n",
    "df = pd.read_csv(df_path, sep = ':::', names=['id', 'author', 'gender'])"
   ]
  },
  {
   "cell_type": "code",
   "execution_count": 55,
   "metadata": {},
   "outputs": [
    {
     "data": {
      "text/html": [
       "<div>\n",
       "<style scoped>\n",
       "    .dataframe tbody tr th:only-of-type {\n",
       "        vertical-align: middle;\n",
       "    }\n",
       "\n",
       "    .dataframe tbody tr th {\n",
       "        vertical-align: top;\n",
       "    }\n",
       "\n",
       "    .dataframe thead th {\n",
       "        text-align: right;\n",
       "    }\n",
       "</style>\n",
       "<table border=\"1\" class=\"dataframe\">\n",
       "  <thead>\n",
       "    <tr style=\"text-align: right;\">\n",
       "      <th></th>\n",
       "      <th>id</th>\n",
       "      <th>author</th>\n",
       "      <th>gender</th>\n",
       "    </tr>\n",
       "  </thead>\n",
       "  <tbody>\n",
       "    <tr>\n",
       "      <th>0</th>\n",
       "      <td>c7b4a77293eb19d839400b2965df0a4</td>\n",
       "      <td>bot</td>\n",
       "      <td>bot</td>\n",
       "    </tr>\n",
       "    <tr>\n",
       "      <th>1</th>\n",
       "      <td>d7c88083b8790d7dfddd0cb5e84097f7</td>\n",
       "      <td>bot</td>\n",
       "      <td>bot</td>\n",
       "    </tr>\n",
       "    <tr>\n",
       "      <th>2</th>\n",
       "      <td>8030eb5a6032a80f7dd4bca6b9bd7c9c</td>\n",
       "      <td>bot</td>\n",
       "      <td>bot</td>\n",
       "    </tr>\n",
       "    <tr>\n",
       "      <th>3</th>\n",
       "      <td>ef86b54e0f1a87d4065ea80037063d49</td>\n",
       "      <td>bot</td>\n",
       "      <td>bot</td>\n",
       "    </tr>\n",
       "    <tr>\n",
       "      <th>4</th>\n",
       "      <td>40ed275c5b025954a05993216316d875</td>\n",
       "      <td>bot</td>\n",
       "      <td>bot</td>\n",
       "    </tr>\n",
       "  </tbody>\n",
       "</table>\n",
       "</div>"
      ],
      "text/plain": [
       "                                 id author gender\n",
       "0   c7b4a77293eb19d839400b2965df0a4    bot    bot\n",
       "1  d7c88083b8790d7dfddd0cb5e84097f7    bot    bot\n",
       "2  8030eb5a6032a80f7dd4bca6b9bd7c9c    bot    bot\n",
       "3  ef86b54e0f1a87d4065ea80037063d49    bot    bot\n",
       "4  40ed275c5b025954a05993216316d875    bot    bot"
      ]
     },
     "execution_count": 55,
     "metadata": {},
     "output_type": "execute_result"
    }
   ],
   "source": [
    "df.head()"
   ]
  },
  {
   "cell_type": "code",
   "execution_count": null,
   "metadata": {},
   "outputs": [],
   "source": []
  }
 ],
 "metadata": {
  "kernelspec": {
   "display_name": "Python 3",
   "language": "python",
   "name": "python3"
  },
  "language_info": {
   "codemirror_mode": {
    "name": "ipython",
    "version": 3
   },
   "file_extension": ".py",
   "mimetype": "text/x-python",
   "name": "python",
   "nbconvert_exporter": "python",
   "pygments_lexer": "ipython3",
   "version": "3.9.13"
  },
  "orig_nbformat": 4,
  "vscode": {
   "interpreter": {
    "hash": "59d3b287212f50af165978b62192df5a49b6eea740d718d3743846fa9be15f35"
   }
  }
 },
 "nbformat": 4,
 "nbformat_minor": 2
}
