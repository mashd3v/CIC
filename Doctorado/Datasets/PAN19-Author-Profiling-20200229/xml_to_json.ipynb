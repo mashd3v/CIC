{
 "cells": [
  {
   "attachments": {},
   "cell_type": "markdown",
   "metadata": {},
   "source": [
    "## Install packages"
   ]
  },
  {
   "cell_type": "code",
   "execution_count": 1,
   "metadata": {},
   "outputs": [],
   "source": [
    "# !pip install xmltodict\n",
    "# !pip install untangle\n",
    "# !pip install pandas"
   ]
  },
  {
   "attachments": {},
   "cell_type": "markdown",
   "metadata": {},
   "source": [
    "## Import libraries"
   ]
  },
  {
   "cell_type": "code",
   "execution_count": 204,
   "metadata": {},
   "outputs": [],
   "source": [
    "import json, xmltodict, os\n",
    "import pandas as pd\n",
    "import warnings\n",
    "warnings.filterwarnings(\"ignore\")"
   ]
  },
  {
   "attachments": {},
   "cell_type": "markdown",
   "metadata": {},
   "source": [
    "## Functions"
   ]
  },
  {
   "cell_type": "code",
   "execution_count": 160,
   "metadata": {},
   "outputs": [],
   "source": [
    "path_en = 'pan19-author-profiling-earlybirds-20190320/en/'\n",
    "path_es = 'pan19-author-profiling-earlybirds-20190320/es/'\n",
    "path_to_save_en = 'JSON/pan19-author-profiling-earlybirds-20190320/en/'\n",
    "path_to_save_es = 'JSON/pan19-author-profiling-earlybirds-20190320/es/'\n",
    "path_labels_en = 'pan19-author-profiling-earlybirds-20190320/en.txt'\n",
    "path_labels_es = 'pan19-author-profiling-earlybirds-20190320/es.txt'"
   ]
  },
  {
   "cell_type": "code",
   "execution_count": 36,
   "metadata": {},
   "outputs": [],
   "source": [
    "def get_list_names(path):\n",
    "\n",
    "    file_names = []\n",
    "\n",
    "    for filename in os.listdir(path):\n",
    "        f = os.path.join(path, filename)\n",
    "\n",
    "        if os.path.isfile(f):\n",
    "            if '.txt' not in filename:\n",
    "                file_names.append(filename.split('.')[0])\n",
    "    \n",
    "    return file_names"
   ]
  },
  {
   "cell_type": "code",
   "execution_count": 37,
   "metadata": {},
   "outputs": [],
   "source": [
    "file_names_en = get_list_names(path_en)\n",
    "file_names_es = get_list_names(path_es)"
   ]
  },
  {
   "cell_type": "code",
   "execution_count": 55,
   "metadata": {},
   "outputs": [],
   "source": [
    "# Function to check file names \n",
    "def check_path(file_name):\n",
    "    if file_name[0].isdigit():\n",
    "        # return os.path.join(f'\\', file_name)\n",
    "        return file_name\n",
    "    else:\n",
    "        return file_name"
   ]
  },
  {
   "cell_type": "code",
   "execution_count": 14,
   "metadata": {},
   "outputs": [],
   "source": [
    "def xml_to_json(path, file_names, path_to_save):\n",
    "\n",
    "    for i, file_name in enumerate(file_names):\n",
    "        file_name = check_path(file_name)\n",
    "        final_path = f'{path}{file_name}.xml'\n",
    "\n",
    "        # Reading XML file and converting it into text\n",
    "        with open(final_path, encoding = 'utf-8') as xml_file:\n",
    "            data = xmltodict.parse(xml_file.read())\n",
    "        \n",
    "        # Converting text into JSON style\n",
    "        data = json.dumps(data, indent = 2)\n",
    "\n",
    "        # Saving JSON file\n",
    "        saving_path = f'{path_to_save}{file_name}.json'\n",
    "        with open(saving_path, 'w') as json_file:\n",
    "            json_file.write(data)"
   ]
  },
  {
   "cell_type": "code",
   "execution_count": 15,
   "metadata": {},
   "outputs": [],
   "source": [
    "xml_to_json(path_en, file_names_en, path_to_save_en)\n",
    "xml_to_json(path_es, file_names_es, path_to_save_es)"
   ]
  },
  {
   "cell_type": "code",
   "execution_count": 196,
   "metadata": {},
   "outputs": [],
   "source": [
    "def get_labels(labels_path, file_name):\n",
    "    # Leyendo y creando un DF de las etiquetas del archivo JSON\n",
    "    df_labels = pd.read_csv(labels_path, sep = ':::', names = ['id', 'author', 'gender'], \n",
    "                        engine = 'python')\n",
    "    \n",
    "    author = df_labels[df_labels.id == file_name].author\n",
    "    gender = df_labels[df_labels.id == file_name].gender\n",
    "\n",
    "    return author.values[0], gender.values[0]"
   ]
  },
  {
   "cell_type": "code",
   "execution_count": 205,
   "metadata": {},
   "outputs": [],
   "source": [
    "def json_to_csv(path, labels_path, file_names):\n",
    "    data = pd.DataFrame(columns = ['id', 'tweet', 'author', 'gender'])\n",
    "\n",
    "    for file_name in file_names:\n",
    "        # Verificar PATH\n",
    "        file_name = check_path(file_name)\n",
    "        \n",
    "        # Leer archivo JSON basado en el nombre del archivo\n",
    "        with open(f'{path}{file_name}.json') as f:\n",
    "            json_file = json.load(f)\n",
    "        \n",
    "        # Obteniendo la cantidad de documentos que tiene el archivo JSON\n",
    "        file_len = len(json_file['author']['documents']['document'])\n",
    "\n",
    "        # Obtner las etiquetas del JSON\n",
    "        author, gender = get_labels(labels_path, file_name)\n",
    "\n",
    "        dict = {'id': [file_name] * file_len,\n",
    "                'tweet': json_file['author']['documents']['document'],\n",
    "                'author': [author] * file_len,\n",
    "                'gender': [gender] * file_len}\n",
    "\n",
    "        df = pd.DataFrame(data = dict)\n",
    "        data = data.append(df)\n",
    "        \n",
    "    return data"
   ]
  },
  {
   "cell_type": "code",
   "execution_count": 208,
   "metadata": {},
   "outputs": [],
   "source": [
    "final_data = json_to_csv(path_to_save_en, path_labels_en, file_names_en)"
   ]
  },
  {
   "cell_type": "code",
   "execution_count": 209,
   "metadata": {},
   "outputs": [
    {
     "data": {
      "text/html": [
       "<div>\n",
       "<style scoped>\n",
       "    .dataframe tbody tr th:only-of-type {\n",
       "        vertical-align: middle;\n",
       "    }\n",
       "\n",
       "    .dataframe tbody tr th {\n",
       "        vertical-align: top;\n",
       "    }\n",
       "\n",
       "    .dataframe thead th {\n",
       "        text-align: right;\n",
       "    }\n",
       "</style>\n",
       "<table border=\"1\" class=\"dataframe\">\n",
       "  <thead>\n",
       "    <tr style=\"text-align: right;\">\n",
       "      <th></th>\n",
       "      <th>id</th>\n",
       "      <th>tweet</th>\n",
       "      <th>author</th>\n",
       "      <th>gender</th>\n",
       "    </tr>\n",
       "  </thead>\n",
       "  <tbody>\n",
       "    <tr>\n",
       "      <th>0</th>\n",
       "      <td>5ac1aafe060f39f2dc5ae45d14656630</td>\n",
       "      <td>RT @africanstudies: Book launch today for @Mag...</td>\n",
       "      <td>human</td>\n",
       "      <td>female</td>\n",
       "    </tr>\n",
       "    <tr>\n",
       "      <th>1</th>\n",
       "      <td>5ac1aafe060f39f2dc5ae45d14656630</td>\n",
       "      <td>RT @seam_project: Join the #MethodsMatter conv...</td>\n",
       "      <td>human</td>\n",
       "      <td>female</td>\n",
       "    </tr>\n",
       "    <tr>\n",
       "      <th>2</th>\n",
       "      <td>5ac1aafe060f39f2dc5ae45d14656630</td>\n",
       "      <td>These are the kind of University meetings that...</td>\n",
       "      <td>human</td>\n",
       "      <td>female</td>\n",
       "    </tr>\n",
       "    <tr>\n",
       "      <th>3</th>\n",
       "      <td>5ac1aafe060f39f2dc5ae45d14656630</td>\n",
       "      <td>In my office and on sale now (also with cheape...</td>\n",
       "      <td>human</td>\n",
       "      <td>female</td>\n",
       "    </tr>\n",
       "    <tr>\n",
       "      <th>4</th>\n",
       "      <td>5ac1aafe060f39f2dc5ae45d14656630</td>\n",
       "      <td>Such a pity I am not free tomorrow. But if you...</td>\n",
       "      <td>human</td>\n",
       "      <td>female</td>\n",
       "    </tr>\n",
       "    <tr>\n",
       "      <th>...</th>\n",
       "      <td>...</td>\n",
       "      <td>...</td>\n",
       "      <td>...</td>\n",
       "      <td>...</td>\n",
       "    </tr>\n",
       "    <tr>\n",
       "      <th>95</th>\n",
       "      <td>d7c88083b8790d7dfddd0cb5e84097f7</td>\n",
       "      <td>Merkel and Putin Sound Pragmatic Notes After Y...</td>\n",
       "      <td>bot</td>\n",
       "      <td>bot</td>\n",
       "    </tr>\n",
       "    <tr>\n",
       "      <th>96</th>\n",
       "      <td>d7c88083b8790d7dfddd0cb5e84097f7</td>\n",
       "      <td>Trump Slams Social-Media Companies for 'Censor...</td>\n",
       "      <td>bot</td>\n",
       "      <td>bot</td>\n",
       "    </tr>\n",
       "    <tr>\n",
       "      <th>97</th>\n",
       "      <td>d7c88083b8790d7dfddd0cb5e84097f7</td>\n",
       "      <td>Alexandria Ocasio-Cortez Criticized for Exclud...</td>\n",
       "      <td>bot</td>\n",
       "      <td>bot</td>\n",
       "    </tr>\n",
       "    <tr>\n",
       "      <th>98</th>\n",
       "      <td>d7c88083b8790d7dfddd0cb5e84097f7</td>\n",
       "      <td>Colorado family struggled with debt before hus...</td>\n",
       "      <td>bot</td>\n",
       "      <td>bot</td>\n",
       "    </tr>\n",
       "    <tr>\n",
       "      <th>99</th>\n",
       "      <td>d7c88083b8790d7dfddd0cb5e84097f7</td>\n",
       "      <td>Kerala Floods LIVE Updates: Help Trickles in f...</td>\n",
       "      <td>bot</td>\n",
       "      <td>bot</td>\n",
       "    </tr>\n",
       "  </tbody>\n",
       "</table>\n",
       "<p>26400 rows × 4 columns</p>\n",
       "</div>"
      ],
      "text/plain": [
       "                                  id  \\\n",
       "0   5ac1aafe060f39f2dc5ae45d14656630   \n",
       "1   5ac1aafe060f39f2dc5ae45d14656630   \n",
       "2   5ac1aafe060f39f2dc5ae45d14656630   \n",
       "3   5ac1aafe060f39f2dc5ae45d14656630   \n",
       "4   5ac1aafe060f39f2dc5ae45d14656630   \n",
       "..                               ...   \n",
       "95  d7c88083b8790d7dfddd0cb5e84097f7   \n",
       "96  d7c88083b8790d7dfddd0cb5e84097f7   \n",
       "97  d7c88083b8790d7dfddd0cb5e84097f7   \n",
       "98  d7c88083b8790d7dfddd0cb5e84097f7   \n",
       "99  d7c88083b8790d7dfddd0cb5e84097f7   \n",
       "\n",
       "                                                tweet author  gender  \n",
       "0   RT @africanstudies: Book launch today for @Mag...  human  female  \n",
       "1   RT @seam_project: Join the #MethodsMatter conv...  human  female  \n",
       "2   These are the kind of University meetings that...  human  female  \n",
       "3   In my office and on sale now (also with cheape...  human  female  \n",
       "4   Such a pity I am not free tomorrow. But if you...  human  female  \n",
       "..                                                ...    ...     ...  \n",
       "95  Merkel and Putin Sound Pragmatic Notes After Y...    bot     bot  \n",
       "96  Trump Slams Social-Media Companies for 'Censor...    bot     bot  \n",
       "97  Alexandria Ocasio-Cortez Criticized for Exclud...    bot     bot  \n",
       "98  Colorado family struggled with debt before hus...    bot     bot  \n",
       "99  Kerala Floods LIVE Updates: Help Trickles in f...    bot     bot  \n",
       "\n",
       "[26400 rows x 4 columns]"
      ]
     },
     "execution_count": 209,
     "metadata": {},
     "output_type": "execute_result"
    }
   ],
   "source": [
    "final_data"
   ]
  },
  {
   "cell_type": "code",
   "execution_count": 210,
   "metadata": {},
   "outputs": [],
   "source": [
    "final_data.to_csv('pan19-author-profiling-earlybirds-20190320.csv', \n",
    "                encoding='utf-8')"
   ]
  },
  {
   "cell_type": "code",
   "execution_count": null,
   "metadata": {},
   "outputs": [],
   "source": []
  }
 ],
 "metadata": {
  "kernelspec": {
   "display_name": "Python 3",
   "language": "python",
   "name": "python3"
  },
  "language_info": {
   "codemirror_mode": {
    "name": "ipython",
    "version": 3
   },
   "file_extension": ".py",
   "mimetype": "text/x-python",
   "name": "python",
   "nbconvert_exporter": "python",
   "pygments_lexer": "ipython3",
   "version": "3.9.5"
  },
  "orig_nbformat": 4,
  "vscode": {
   "interpreter": {
    "hash": "aee8b7b246df8f9039afb4144a1f6fd8d2ca17a180786b69acc140d282b71a49"
   }
  }
 },
 "nbformat": 4,
 "nbformat_minor": 2
}
