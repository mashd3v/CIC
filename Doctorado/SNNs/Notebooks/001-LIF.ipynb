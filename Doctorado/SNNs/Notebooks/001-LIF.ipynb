{
 "cells": [
  {
   "attachments": {},
   "cell_type": "markdown",
   "metadata": {},
   "source": [
    "# The leaky Integrate-and-Fire (LIF) Neuron\n",
    "\n",
    "Esta libreta muestra código puro de Pyhton para simular y jugar de manera interactiva con una neurona LIF."
   ]
  },
  {
   "attachments": {},
   "cell_type": "markdown",
   "metadata": {},
   "source": [
    "## Las matemáticas del modelo\n",
    "\n",
    "El modelo de la neurona es el siguiente. Hay una única variable $V$ para la neurona, su potencial de membrana (la diferencia de potencial entre el interior y el exterior de la célula). En ausencia de cualquier entrada, la variable evoluciona con el tiempo de acuerdo con la ecuación diferencial\n",
    "\n",
    "$$\n",
    "\\tau \\frac{\\mathrm{d}V}{\\mathrm{d}t} = -V.\n",
    "$$\n",
    "\n",
    "Aquí la constante $\\tau$ es la constante de tiempo de la neurona, y controla la rapidez con que la neurona integra sus entradas. Usted puede resolver fácilmente esta ecuación diferencial para obtener\n",
    "\n",
    "$$\n",
    "V(t) = V(0) e^{-t/\\tau}.\n",
    "$$\n",
    "\n",
    "En otras palabras, $V$ decae exponencialmente hasta el valor 0, y cuanto más pequeño es $\\tau$ más rápido lo hace. Puedes comprobarlo con el widget interactivo de abajo.\n",
    "\n",
    "Si la neurona recibe un pico entrante con un peso sináptico $w$, el potencial de membrana aumenta instantáneamente en $w$, es decir\n",
    "\n",
    "$$V\\leftarrow V+w.$$\n",
    "\n",
    "En el widget interactivo siguiente, los picos entrantes llegan en los tiempos $t_0$, $t_1$ y $t_2$, que puede cambiar para ver el efecto.\n",
    "\n",
    "Si uno de los picos entrantes hace que $V$ cruce un valor *umbral*, a veces escrito como $V_t$, entonces la neurona disparará un pico e instantáneamente se restablecerá al valor *restablecido* $V_r$. En ecuaciones:\n",
    "\n",
    "$$\n",
    "\\text{Si } V>V_t \\text{ entonces dispara un pico y } V \\leftarrow V_r.\n",
    "$$\n",
    "\n",
    "El efecto neto de todo esto es que cuando $\\tau$ es grande, la neurona actúa como un *integrador*, sumando sus entradas y disparando cuando alcanzan algún umbral. Si $\\tau$ es pequeño, la neurona actúa como un *detector de coincidencias*, disparando un pico sólo si dos o más entradas llegan simultáneamente."
   ]
  },
  {
   "attachments": {},
   "cell_type": "markdown",
   "metadata": {},
   "source": [
    "## Detalles de la implementación\n",
    "\n",
    "Para integrar este código, necesitamos realizar algo parecido al siguiente pseudocódigo:\n",
    "\n",
    "```\n",
    "Para cada período de tiempo t:\n",
    "    Actualizar V del valor en el tiempo t al valor en el tiempo t+dt\n",
    "    Procesar los picos entrantes\n",
    "    Comprobar si V ha cruzado el umbral\n",
    "    En caso afirmativo:\n",
    "        Emite un pico\n",
    "        Restablecer V\n",
    "```\n",
    "\n",
    "En este caso de una sola neurona, no necesitamos manejar la propagación de la espiga de salida a otras neuronas porque no hay ninguno, sólo registramos que sucedió.\n",
    "\n",
    "Para actualizar el valor de $V(t)$ a $V(t+\\mathrm{d}t)$ utilizamos la ecuación de la sección anterior para obtener\n",
    "\n",
    "$$V(t+\\mathrm{d}t)=V(t)e^{-\\mathrm{d}t/\\tau}.$$\n",
    "\n",
    "Nótese que la cantidad $\\alpha=e^{-\\mathrm{d}t/\\tau}$ no depende del tiempo $t$ ni del potencial de membrana $V$, por lo que podemos calcularla una vez fuera del bucle y luego actualizar $V(t+\\mathrm{d}t)=\\alpha V(t)$.\n"
   ]
  },
  {
   "attachments": {},
   "cell_type": "markdown",
   "metadata": {},
   "source": [
    "## Implementación en Python"
   ]
  },
  {
   "cell_type": "code",
   "execution_count": 3,
   "metadata": {},
   "outputs": [],
   "source": [
    "try:\n",
    "    import ipywidgets as widgets\n",
    "except ImportError:\n",
    "    widgets = None"
   ]
  },
  {
   "cell_type": "code",
   "execution_count": 4,
   "metadata": {},
   "outputs": [],
   "source": [
    "# Importaciones\n",
    "import numpy as np\n",
    "import matplotlib.pyplot as plt"
   ]
  },
  {
   "cell_type": "code",
   "execution_count": 18,
   "metadata": {},
   "outputs": [],
   "source": [
    "fig = plt.figure(figsize=(5, 4))\n",
    "ax = fig.add_subplot(111)\n",
    "plt.close(fig)\n",
    "\n",
    "'''\n",
    "    Función que ejecuta la simulación\n",
    "    Parametros:\n",
    "        tau: Constante de tiempo (en ms)\n",
    "        t0, t1, t2: tiempo de los tres pulsos de inicio\n",
    "        w: peso sináptico de entrada\n",
    "        threshold: valor de umbral para producir un pulso (spike)\n",
    "        reset: reinicio de la neurona después de un pulso (spike)\n",
    "'''\n",
    "def LIF(tau=10, t0=20, t1=40, t2=60, w=0.1, threshold=1.0, reset=0.0):\n",
    "    # Tiempos de los picos. Mantener ordenados porque es mas eficiente eliminar el último valor de la lista\n",
    "    tiempos = [t0, t1, t2]\n",
    "    tiempos.sort(reverse=True)\n",
    "\n",
    "    # Definir algunos parámetros por defecto\n",
    "    duracion = 100 # Tiempo total de la simulación en ms\n",
    "    dt = 0.1 # Paso de tiempo en ms\n",
    "    alpha = np.exp(-dt / tau) # Este es el factor por el cual V decae en cada paso de tiempo\n",
    "    V_rec = [] # Lista para almacenar los potenciales de membrana en cada paso de tiempo\n",
    "    V = 0.0 # Potencial de membrana inicial\n",
    "    T = np.arange(np.round(duracion / dt)) * dt # Vector de tiempo\n",
    "    pulsos = [] # Lista para almacenar los tiempos de los pulsos\n",
    "\n",
    "    # Ejecutar la simulación\n",
    "    for t in T:\n",
    "        V_rec.append(V) # Almacenar el potencial de membrana\n",
    "        V *= alpha # Integrar ecuaciones\n",
    "        \n",
    "        if tiempos and t > tiempos[-1]: # Si ha habido algun pulso\n",
    "            V += w\n",
    "            tiempos.pop() # Eliminar ese pulso de la lista\n",
    "        V_rec.append(V) # Almacenar V antes de resetear, así podemos ver el pulso\n",
    "\n",
    "        if V > threshold: # Si debería ser un pulso (spike)\n",
    "            V = reset\n",
    "            pulsos.append(t)\n",
    "        \n",
    "        # Graficar todo (T esta repetido porque almacenamos dos veces V por ciclo)\n",
    "    ax.clear()\n",
    "    for t in tiempos:\n",
    "        ax.axvline(t, ls=':', c='b')\n",
    "            \n",
    "    ax.plot(np.repeat(T, 2), V_rec, '-k', lw=2)\n",
    "\n",
    "    for t in pulsos:\n",
    "        ax.axvline(t, ls='--', c='r')\n",
    "\n",
    "    ax.axhline(threshold, ls='--', c='g')\n",
    "    ax.set_xlim(0, duracion)\n",
    "    ax.set_ylim(-1, 2)\n",
    "    ax.set_xlabel('Tiempo (ms)')\n",
    "    ax.set_ylabel('V')\n",
    "    plt.tight_layout()\n",
    "    display(fig);"
   ]
  },
  {
   "cell_type": "code",
   "execution_count": 19,
   "metadata": {},
   "outputs": [
    {
     "data": {
      "application/vnd.jupyter.widget-view+json": {
       "model_id": "b05f98562b1a491db03f69af0512dffc",
       "version_major": 2,
       "version_minor": 0
      },
      "text/plain": [
       "interactive(children=(IntSlider(value=50, description='tau', min=1), IntSlider(value=20, description='t0'), In…"
      ]
     },
     "metadata": {},
     "output_type": "display_data"
    }
   ],
   "source": [
    "# Crear un widget para interactuar con la simulación\n",
    "widgets.interact(LIF, \n",
    "                tau=widgets.IntSlider(min=1, max=100, value=50),\n",
    "                t0=widgets.IntSlider(min=0, max=100, value=20), \n",
    "                t1=widgets.IntSlider(min=0, max=100, value=40), \n",
    "                t2=widgets.IntSlider(min=0, max=100, value=60), \n",
    "                w=widgets.FloatSlider(min=-1.0, max=2.0, step=0.05, value=0.5), \n",
    "                threshhold=widgets.FloatSlider(min=0.0, max=2.0, step=0.05, value=1.0),\n",
    "                reset=widgets.FloatSlider(min=-1.0, max=1.0, step=0.05, value=0.0));"
   ]
  },
  {
   "cell_type": "code",
   "execution_count": null,
   "metadata": {},
   "outputs": [],
   "source": []
  }
 ],
 "metadata": {
  "kernelspec": {
   "display_name": "Python 3",
   "language": "python",
   "name": "python3"
  },
  "language_info": {
   "codemirror_mode": {
    "name": "ipython",
    "version": 3
   },
   "file_extension": ".py",
   "mimetype": "text/x-python",
   "name": "python",
   "nbconvert_exporter": "python",
   "pygments_lexer": "ipython3",
   "version": "3.9.5"
  },
  "orig_nbformat": 4
 },
 "nbformat": 4,
 "nbformat_minor": 2
}
