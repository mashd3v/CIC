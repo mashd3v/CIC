{
  "cells": [
    {
      "cell_type": "code",
      "execution_count": 1,
      "metadata": {
        "id": "9bzE4D09y9Re"
      },
      "outputs": [],
      "source": [
        "from sklearn.datasets import fetch_20newsgroups\n",
        "from sklearn.model_selection import train_test_split\n",
        "\n",
        "# Cargar el conjunto de datos\n",
        "newsgroups = fetch_20newsgroups(subset='all', remove=('headers', 'footers', 'quotes'))\n",
        "\n",
        "# División en conjuntos de entrenamiento y prueba\n",
        "X_train, X_test, y_train, y_test = train_test_split(newsgroups.data, newsgroups.target, test_size=0.4, random_state=42)\n",
        "\n",
        "# Dividir el conjunto de entrenamiento en subconjuntos con superposición\n",
        "def create_overlapping_subsets(X, y, subset_size=1500, overlap=500, num_subsets=11):\n",
        "    subsets_X = []\n",
        "    subsets_y = []\n",
        "    start = 0\n",
        "\n",
        "    for i in range(num_subsets):\n",
        "        end = start + subset_size if i < num_subsets - 1 else len(X)\n",
        "        subsets_X.append(X[start:end])\n",
        "        subsets_y.append(y[start:end])\n",
        "        start = end - overlap if i < num_subsets - 1 else len(X)\n",
        "    return subsets_X, subsets_y\n",
        "\n",
        "subsets_X_train, subsets_y_train = create_overlapping_subsets(X_train, y_train)\n"
      ]
    },
    {
      "cell_type": "code",
      "execution_count": 2,
      "metadata": {
        "colab": {
          "base_uri": "https://localhost:8080/"
        },
        "id": "SRQOpwtdy9Ri",
        "outputId": "2e27cf97-9b26-4b56-fdbb-bbeb266c59cf"
      },
      "outputs": [
        {
          "data": {
            "text/plain": [
              "[1500, 1500, 1500, 1500, 1500, 1500, 1500, 1500, 1500, 1500, 1307]"
            ]
          },
          "execution_count": 2,
          "metadata": {},
          "output_type": "execute_result"
        }
      ],
      "source": [
        "[len(subsets_X_train[i]) for i in range(11)]"
      ]
    },
    {
      "cell_type": "code",
      "execution_count": 3,
      "metadata": {
        "id": "ZK3I5oiTy9Rj"
      },
      "outputs": [],
      "source": [
        "from sklearn.feature_extraction.text import TfidfVectorizer\n",
        "\n",
        "# Crear la matriz TF-IDF para cada subconjunto\n",
        "tfidf_vectorizer = TfidfVectorizer(max_features=None)  # Sin limitar el número de características\n",
        "tfidf_global = tfidf_vectorizer.fit_transform(X_train)\n",
        "subsets_tfidf = [tfidf_vectorizer.transform(subset).toarray() for subset in subsets_X_train]"
      ]
    },
    {
      "cell_type": "code",
      "execution_count": 4,
      "metadata": {
        "colab": {
          "base_uri": "https://localhost:8080/"
        },
        "id": "sBW_4Nbby9Rk",
        "outputId": "fc6e5a7a-521e-4965-ff8e-f81abd10ae83"
      },
      "outputs": [
        {
          "data": {
            "text/plain": [
              "[array([0., 0., 0., ..., 0., 0., 0.]),\n",
              " array([0., 0., 0., ..., 0., 0., 0.]),\n",
              " array([0., 0., 0., ..., 0., 0., 0.]),\n",
              " array([0., 0., 0., ..., 0., 0., 0.]),\n",
              " array([0., 0., 0., ..., 0., 0., 0.]),\n",
              " array([0., 0., 0., ..., 0., 0., 0.]),\n",
              " array([0., 0., 0., ..., 0., 0., 0.]),\n",
              " array([0., 0., 0., ..., 0., 0., 0.]),\n",
              " array([0., 0., 0., ..., 0., 0., 0.]),\n",
              " array([0., 0., 0., ..., 0., 0., 0.]),\n",
              " array([0., 0., 0., ..., 0., 0., 0.])]"
            ]
          },
          "execution_count": 4,
          "metadata": {},
          "output_type": "execute_result"
        }
      ],
      "source": [
        "[subsets_tfidf[i][0] for i in range(11)]"
      ]
    },
    {
      "cell_type": "code",
      "execution_count": 5,
      "metadata": {
        "colab": {
          "base_uri": "https://localhost:8080/"
        },
        "id": "xdxtE3QH2pfh",
        "outputId": "875b9cc1-2c1b-4f77-f1b0-44915e022456"
      },
      "outputs": [
        {
          "data": {
            "text/plain": [
              "(1500, 96465)"
            ]
          },
          "execution_count": 5,
          "metadata": {},
          "output_type": "execute_result"
        }
      ],
      "source": [
        "subsets_tfidf[0].shape"
      ]
    },
    {
      "cell_type": "code",
      "execution_count": null,
      "metadata": {
        "id": "wp-nblsqy9Rk"
      },
      "outputs": [],
      "source": [
        "# Import librería para simular SNN\n",
        "from brian2 import *\n",
        "\n",
        "start_scope()\n",
        "\n",
        "# Asumiendo que tfidf_matrix ya está definida y es accesible\n",
        "tfidf_matrix = subsets_tfidf[0]\n",
        "\n",
        "# Número de neuronas en la primera capa, basado en la cantidad de características TF-IDF\n",
        "# NIN: Neuron input number\n",
        "NIN = tfidf_matrix.shape[1]\n",
        "\n",
        "# Número de neuronas en la capa oculta (NHN: Neuron hidden number)\n",
        "NHN = 50\n",
        "\n",
        "# Coeficiente de proporcionalidad para las tasas de disparo\n",
        "alpha = 1.5\n",
        "\n",
        "# Parámetros del modelo LIF\n",
        "tau = 100*ms\n",
        "u_rest = -65*mV\n",
        "u_exc = 0*mV\n",
        "u_inh = -90*mV\n",
        "u_th = -52*mV\n",
        "t_ref = 3*ms\n",
        "tau_e = 2*ms\n",
        "tau_i = 2*ms\n",
        "\n",
        "# Constante de tiempo de traza presináptica\n",
        "tau_A = 5*ms\n",
        "\n",
        "# Constante de tiempo de traza postsináptica\n",
        "tau_R = 70*ms\n",
        "\n",
        "# Constante de aprendizaje\n",
        "n = 0.01\n",
        "\n",
        "# Peso máximo\n",
        "w_max = 1\n",
        "\n",
        "# Modelo de neurona LIF\n",
        "eqs = '''\n",
        "                du/dt = ((u_rest - u) + g_e*(u_exc - u) + g_i*(u_inh - u)) / tau : volt (unless refractory)\n",
        "                dg_e/dt = -g_e / tau_e : 1\n",
        "                dg_i/dt = -g_i / tau_i : 1\n",
        "                '''\n",
        "\n",
        "# Inicializando pesos\n",
        "S_initial = np.random.uniform(low=0, high=0.1, size=(1, NIN*NHN))\n",
        "\n",
        "for doc in range(tfidf_matrix.shape[0]):\n",
        "  # Entrada\n",
        "  rates = tfidf_matrix[doc] * alpha * Hz\n",
        "  P = PoissonGroup(NIN, rates=rates)\n",
        "\n",
        "  # Capa oculta\n",
        "  G = NeuronGroup(NHN, eqs, threshold='u > u_th', reset='u = u_rest',\n",
        "                  refractory=t_ref, method='euler')\n",
        "\n",
        "  # Sinapsis P - G\n",
        "  # Plasticidad STDP\n",
        "  eqs_plasticity = '''\n",
        "                  dA/dt = -A / tau_A : 1 (event-driven)\n",
        "                  dR/dt = -R / tau_R : 1 (event-driven)\n",
        "                  w : 1\n",
        "                  '''\n",
        "  on_pre = '''\n",
        "                  A += 1\n",
        "                  w = clip(w + (n * (A - (R + 0.1) * w)), 0, w_max)\n",
        "                  '''\n",
        "  on_post = '''\n",
        "                  R += 1\n",
        "                  '''\n",
        "  S = Synapses(P, G, model=eqs_plasticity, on_pre=on_pre, on_post=on_post)\n",
        "  S.connect()\n",
        "  S.w = S_initial\n",
        "\n",
        "  M_spikes = SpikeMonitor(G)\n",
        "  M = StateMonitor(G, 'u', record=True)\n",
        "\n",
        "  spikemon_in = SpikeMonitor(P) #records spikes from input neurons\n",
        "  spikemon_out = SpikeMonitor(G) #records spikes from output neurons\n",
        "  run(600*ms)"
      ]
    },
    {
      "cell_type": "code",
      "execution_count": 9,
      "metadata": {
        "colab": {
          "base_uri": "https://localhost:8080/",
          "height": 542
        },
        "id": "loqXCTIQy9Rl",
        "outputId": "7b7debf6-0c35-4358-9968-29c0baed15e4"
      },
      "outputs": [
        {
          "data": {
            "image/png": "[encoded data removed]",
            "text/plain": [
              "<Figure size 1200x600 with 2 Axes>"
            ]
          },
          "metadata": {},
          "output_type": "display_data"
        }
      ],
      "source": [
        "# Visualización\n",
        "figure(figsize=(12, 6))\n",
        "subplot(121)\n",
        "plot(M_spikes.t/ms, M_spikes.i, '.k')\n",
        "xlim(0, 600)\n",
        "xlabel('Time (ms)')\n",
        "ylabel('Neuron index')\n",
        "\n",
        "subplot(122)\n",
        "plot(M.t/ms, M.u[0]/mV)\n",
        "xlabel('Time (ms)')\n",
        "ylabel('Membrane potential (mV)')\n",
        "\n",
        "show()"
      ]
    },
    {
      "cell_type": "code",
      "execution_count": 10,
      "metadata": {
        "colab": {
          "base_uri": "https://localhost:8080/"
        },
        "id": "uVX_SUrHHVtj",
        "outputId": "4e491296-babd-4141-90ec-46271abc9ccc"
      },
      "outputs": [
        {
          "name": "stdout",
          "output_type": "stream",
          "text": [
            "No of spikes from input : 4\n",
            "No of spikes from output : 50\n"
          ]
        }
      ],
      "source": [
        "print('No of spikes from input : {}'.format(spikemon_in.num_spikes))\n",
        "print('No of spikes from output : {}'.format(spikemon_out.num_spikes))"
      ]
    },
    {
      "cell_type": "code",
      "execution_count": 14,
      "metadata": {
        "id": "40Qhy-WbHkp8"
      },
      "outputs": [
        {
          "data": {
            "text/plain": [
              "'thresholds'"
            ]
          },
          "execution_count": 14,
          "metadata": {},
          "output_type": "execute_result"
        }
      ],
      "source": [
        "spikemon_in."
      ]
    },
    {
      "cell_type": "code",
      "execution_count": null,
      "metadata": {},
      "outputs": [],
      "source": []
    }
  ],
  "metadata": {
    "colab": {
      "provenance": []
    },
    "kernelspec": {
      "display_name": "Python 3",
      "language": "python",
      "name": "python3"
    },
    "language_info": {
      "codemirror_mode": {
        "name": "ipython",
        "version": 3
      },
      "file_extension": ".py",
      "mimetype": "text/x-python",
      "name": "python",
      "nbconvert_exporter": "python",
      "pygments_lexer": "ipython3",
      "version": "3.9.5"
    }
  },
  "nbformat": 4,
  "nbformat_minor": 0
}
