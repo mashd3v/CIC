{
 "cells": [
  {
   "attachments": {},
   "cell_type": "markdown",
   "metadata": {},
   "source": [
    "# Sentence transformers"
   ]
  },
  {
   "cell_type": "code",
   "execution_count": 35,
   "metadata": {},
   "outputs": [],
   "source": [
    "from sentence_transformers import SentenceTransformer\n",
    "from transformers import AutoTokenizer, AutoModel\n",
    "import torch, pandas as pd, numpy as np"
   ]
  },
  {
   "cell_type": "code",
   "execution_count": 16,
   "metadata": {},
   "outputs": [
    {
     "data": {
      "text/html": [
       "<div>\n",
       "<style scoped>\n",
       "    .dataframe tbody tr th:only-of-type {\n",
       "        vertical-align: middle;\n",
       "    }\n",
       "\n",
       "    .dataframe tbody tr th {\n",
       "        vertical-align: top;\n",
       "    }\n",
       "\n",
       "    .dataframe thead th {\n",
       "        text-align: right;\n",
       "    }\n",
       "</style>\n",
       "<table border=\"1\" class=\"dataframe\">\n",
       "  <thead>\n",
       "    <tr style=\"text-align: right;\">\n",
       "      <th></th>\n",
       "      <th>Unnamed: 0</th>\n",
       "      <th>index</th>\n",
       "      <th>tweets</th>\n",
       "      <th>label</th>\n",
       "    </tr>\n",
       "  </thead>\n",
       "  <tbody>\n",
       "    <tr>\n",
       "      <th>0</th>\n",
       "      <td>0</td>\n",
       "      <td>0</td>\n",
       "      <td>me quise ligar a una chava ayer y no me pelo l...</td>\n",
       "      <td>0</td>\n",
       "    </tr>\n",
       "    <tr>\n",
       "      <th>1</th>\n",
       "      <td>1</td>\n",
       "      <td>1</td>\n",
       "      <td>papaya rockera eres un punal papayita</td>\n",
       "      <td>0</td>\n",
       "    </tr>\n",
       "    <tr>\n",
       "      <th>2</th>\n",
       "      <td>2</td>\n",
       "      <td>2</td>\n",
       "      <td>magnate ofrece mdd al hombre que conquiste a s...</td>\n",
       "      <td>0</td>\n",
       "    </tr>\n",
       "    <tr>\n",
       "      <th>3</th>\n",
       "      <td>3</td>\n",
       "      <td>3</td>\n",
       "      <td>los trolebuses del desgobierno de epn son idio...</td>\n",
       "      <td>0</td>\n",
       "    </tr>\n",
       "    <tr>\n",
       "      <th>4</th>\n",
       "      <td>4</td>\n",
       "      <td>4</td>\n",
       "      <td>en epoca de hitler no se decia eres gay y si e...</td>\n",
       "      <td>0</td>\n",
       "    </tr>\n",
       "  </tbody>\n",
       "</table>\n",
       "</div>"
      ],
      "text/plain": [
       "   Unnamed: 0  index                                             tweets  label\n",
       "0           0      0  me quise ligar a una chava ayer y no me pelo l...      0\n",
       "1           1      1              papaya rockera eres un punal papayita      0\n",
       "2           2      2  magnate ofrece mdd al hombre que conquiste a s...      0\n",
       "3           3      3  los trolebuses del desgobierno de epn son idio...      0\n",
       "4           4      4  en epoca de hitler no se decia eres gay y si e...      0"
      ]
     },
     "execution_count": 16,
     "metadata": {},
     "output_type": "execute_result"
    }
   ],
   "source": [
    "data_path = '../Hate speech/Competitions/HOMO-Mex/Datasets/Clean datasets/homomex_training.csv'\n",
    "data = pd.read_csv(data_path)\n",
    "data.head()"
   ]
  },
  {
   "cell_type": "code",
   "execution_count": 17,
   "metadata": {},
   "outputs": [],
   "source": [
    "model_1 = SentenceTransformer('hiiamsid/sentence_similarity_spanish_es')\n",
    "model = AutoModel.from_pretrained('hiiamsid/sentence_similarity_spanish_es')\n",
    "tokenizer = AutoTokenizer.from_pretrained('hiiamsid/sentence_similarity_spanish_es')"
   ]
  },
  {
   "cell_type": "code",
   "execution_count": 36,
   "metadata": {},
   "outputs": [],
   "source": [
    "def encode_sentence(sentence, model):\n",
    "    embedding = model.encode([sentence])\n",
    "    return np.array(embedding[0])"
   ]
  },
  {
   "cell_type": "code",
   "execution_count": 18,
   "metadata": {},
   "outputs": [
    {
     "name": "stdout",
     "output_type": "stream",
     "text": [
      "[[-0.00309469 -0.46023375 -0.4813428  ... -0.27846947  0.15598269\n",
      "  -0.8559532 ]\n",
      " [-0.0842302  -1.6434591  -0.5594735  ... -0.14854005 -0.645719\n",
      "   0.6444329 ]]\n"
     ]
    }
   ],
   "source": [
    "oraciones_ejemplo = ['Hola como estas', 'Me gusta jugar']\n",
    "embeddings = model_1.encode(oraciones_ejemplo)\n",
    "print(embeddings)"
   ]
  },
  {
   "cell_type": "code",
   "execution_count": 20,
   "metadata": {},
   "outputs": [],
   "source": [
    "def mean_pooling(model_output, attention_mask):\n",
    "    token_embeddings = model_output[0]\n",
    "    input_mask_expanded = attention_mask.unsqueeze(-1).expand(token_embeddings.size()).float()\n",
    "    return torch.sum(token_embeddings * input_mask_expanded, 1) / torch.clamp(input_mask_expanded.sum(1), min=1e-9)"
   ]
  },
  {
   "cell_type": "code",
   "execution_count": 21,
   "metadata": {},
   "outputs": [],
   "source": [
    "oraciones_ejemplo = ['Hola como estas', 'Me gusta jugar']\n",
    "# Tokenize sentences\n",
    "encoded_input = tokenizer(oraciones_ejemplo, \n",
    "                          padding=True, \n",
    "                          truncation=True, \n",
    "                          return_tensors='pt')"
   ]
  },
  {
   "cell_type": "code",
   "execution_count": 22,
   "metadata": {},
   "outputs": [],
   "source": [
    "# Compute token embeddings\n",
    "with torch.no_grad():\n",
    "    model_output = model(**encoded_input)"
   ]
  },
  {
   "cell_type": "code",
   "execution_count": 23,
   "metadata": {},
   "outputs": [],
   "source": [
    "# Perform pooling. In this case, max pooling.\n",
    "sentence_embeddings = mean_pooling(model_output, encoded_input['attention_mask'])"
   ]
  },
  {
   "cell_type": "code",
   "execution_count": 37,
   "metadata": {},
   "outputs": [],
   "source": [
    "data['vectors'] = data['tweets'].apply(encode_sentence, model=model_1)"
   ]
  },
  {
   "cell_type": "code",
   "execution_count": 38,
   "metadata": {},
   "outputs": [
    {
     "data": {
      "text/html": [
       "<div>\n",
       "<style scoped>\n",
       "    .dataframe tbody tr th:only-of-type {\n",
       "        vertical-align: middle;\n",
       "    }\n",
       "\n",
       "    .dataframe tbody tr th {\n",
       "        vertical-align: top;\n",
       "    }\n",
       "\n",
       "    .dataframe thead th {\n",
       "        text-align: right;\n",
       "    }\n",
       "</style>\n",
       "<table border=\"1\" class=\"dataframe\">\n",
       "  <thead>\n",
       "    <tr style=\"text-align: right;\">\n",
       "      <th></th>\n",
       "      <th>Unnamed: 0</th>\n",
       "      <th>index</th>\n",
       "      <th>tweets</th>\n",
       "      <th>label</th>\n",
       "      <th>vectors</th>\n",
       "    </tr>\n",
       "  </thead>\n",
       "  <tbody>\n",
       "    <tr>\n",
       "      <th>0</th>\n",
       "      <td>0</td>\n",
       "      <td>0</td>\n",
       "      <td>me quise ligar a una chava ayer y no me pelo l...</td>\n",
       "      <td>0</td>\n",
       "      <td>[0.3846999, -0.12859814, -0.2732565, 0.0314256...</td>\n",
       "    </tr>\n",
       "    <tr>\n",
       "      <th>1</th>\n",
       "      <td>1</td>\n",
       "      <td>1</td>\n",
       "      <td>papaya rockera eres un punal papayita</td>\n",
       "      <td>0</td>\n",
       "      <td>[-0.3636112, 0.45495006, 0.8360649, 0.18059659...</td>\n",
       "    </tr>\n",
       "    <tr>\n",
       "      <th>2</th>\n",
       "      <td>2</td>\n",
       "      <td>2</td>\n",
       "      <td>magnate ofrece mdd al hombre que conquiste a s...</td>\n",
       "      <td>0</td>\n",
       "      <td>[0.27819762, 0.2836302, -0.7354787, 0.20708331...</td>\n",
       "    </tr>\n",
       "    <tr>\n",
       "      <th>3</th>\n",
       "      <td>3</td>\n",
       "      <td>3</td>\n",
       "      <td>los trolebuses del desgobierno de epn son idio...</td>\n",
       "      <td>0</td>\n",
       "      <td>[0.24197638, 0.23567112, 0.043693393, 0.337896...</td>\n",
       "    </tr>\n",
       "    <tr>\n",
       "      <th>4</th>\n",
       "      <td>4</td>\n",
       "      <td>4</td>\n",
       "      <td>en epoca de hitler no se decia eres gay y si e...</td>\n",
       "      <td>0</td>\n",
       "      <td>[0.64865184, -0.24659686, -0.29377174, 0.23340...</td>\n",
       "    </tr>\n",
       "  </tbody>\n",
       "</table>\n",
       "</div>"
      ],
      "text/plain": [
       "   Unnamed: 0  index                                             tweets  \\\n",
       "0           0      0  me quise ligar a una chava ayer y no me pelo l...   \n",
       "1           1      1              papaya rockera eres un punal papayita   \n",
       "2           2      2  magnate ofrece mdd al hombre que conquiste a s...   \n",
       "3           3      3  los trolebuses del desgobierno de epn son idio...   \n",
       "4           4      4  en epoca de hitler no se decia eres gay y si e...   \n",
       "\n",
       "   label                                            vectors  \n",
       "0      0  [0.3846999, -0.12859814, -0.2732565, 0.0314256...  \n",
       "1      0  [-0.3636112, 0.45495006, 0.8360649, 0.18059659...  \n",
       "2      0  [0.27819762, 0.2836302, -0.7354787, 0.20708331...  \n",
       "3      0  [0.24197638, 0.23567112, 0.043693393, 0.337896...  \n",
       "4      0  [0.64865184, -0.24659686, -0.29377174, 0.23340...  "
      ]
     },
     "execution_count": 38,
     "metadata": {},
     "output_type": "execute_result"
    }
   ],
   "source": [
    "data.head()"
   ]
  },
  {
   "cell_type": "code",
   "execution_count": 39,
   "metadata": {},
   "outputs": [],
   "source": [
    "X = data['vectors'].to_list()\n",
    "y = data['label'].to_list()"
   ]
  },
  {
   "attachments": {},
   "cell_type": "markdown",
   "metadata": {},
   "source": [
    "## Classification"
   ]
  },
  {
   "cell_type": "code",
   "execution_count": 40,
   "metadata": {},
   "outputs": [],
   "source": [
    "from sklearn.linear_model import LogisticRegression\n",
    "from sklearn.model_selection import train_test_split\n",
    "from sklearn import metrics"
   ]
  },
  {
   "cell_type": "code",
   "execution_count": 41,
   "metadata": {},
   "outputs": [],
   "source": [
    "seed = 42\n",
    "model = LogisticRegression(random_state = seed, \n",
    "                            penalty = 'l2', \n",
    "                            solver = 'liblinear', \n",
    "                            max_iter = 1000)\n",
    "X_train, X_val, y_train, y_val = train_test_split(X, \n",
    "                                                  y, \n",
    "                                                  test_size=0.1, \n",
    "                                                  random_state=seed)\n",
    "target_names = ['LGBT+phobic (P)', 'Not LGBT+phobic (NP)', 'Not LGBT+related (NR)']"
   ]
  },
  {
   "cell_type": "code",
   "execution_count": 42,
   "metadata": {},
   "outputs": [
    {
     "data": {
      "text/plain": [
       "LogisticRegression(max_iter=1000, random_state=42, solver='liblinear')"
      ]
     },
     "execution_count": 42,
     "metadata": {},
     "output_type": "execute_result"
    }
   ],
   "source": [
    "model.fit(X_train, y_train)"
   ]
  },
  {
   "cell_type": "code",
   "execution_count": 43,
   "metadata": {},
   "outputs": [],
   "source": [
    "y_pred = model.predict(X_val)"
   ]
  },
  {
   "cell_type": "code",
   "execution_count": 44,
   "metadata": {},
   "outputs": [
    {
     "name": "stdout",
     "output_type": "stream",
     "text": [
      "                       precision    recall  f1-score   support\n",
      "\n",
      "      LGBT+phobic (P)       0.51      0.38      0.44        94\n",
      " Not LGBT+phobic (NP)       0.82      0.87      0.84       432\n",
      "Not LGBT+related (NR)       0.69      0.69      0.69       174\n",
      "\n",
      "             accuracy                           0.76       700\n",
      "            macro avg       0.67      0.65      0.66       700\n",
      "         weighted avg       0.75      0.76      0.75       700\n",
      "\n"
     ]
    }
   ],
   "source": [
    "print(metrics.classification_report(y_val, y_pred, target_names=target_names))"
   ]
  }
 ],
 "metadata": {
  "kernelspec": {
   "display_name": "Python 3",
   "language": "python",
   "name": "python3"
  },
  "language_info": {
   "codemirror_mode": {
    "name": "ipython",
    "version": 3
   },
   "file_extension": ".py",
   "mimetype": "text/x-python",
   "name": "python",
   "nbconvert_exporter": "python",
   "pygments_lexer": "ipython3",
   "version": "3.9.5"
  },
  "orig_nbformat": 4
 },
 "nbformat": 4,
 "nbformat_minor": 2
}
