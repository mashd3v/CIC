{
 "cells": [
  {
   "cell_type": "code",
   "execution_count": 46,
   "metadata": {},
   "outputs": [],
   "source": [
    "import pandas as pd"
   ]
  },
  {
   "cell_type": "code",
   "execution_count": 47,
   "metadata": {},
   "outputs": [],
   "source": [
    "relative_path = '../data/Task-3/'\n",
    "files = ['HOMOMEX_1_100.csv', 'HOMOMEX_101_200.csv', 'HOMOMEX_201_300.csv', \n",
    "         'HOMOMEX_301_400.csv', 'HOMOMEX_401_500.csv', 'HOMOMEX_501_600.csv']"
   ]
  },
  {
   "cell_type": "code",
   "execution_count": 62,
   "metadata": {},
   "outputs": [
    {
     "data": {
      "text/plain": [
       "((600, 2), (634, 8))"
      ]
     },
     "execution_count": 62,
     "metadata": {},
     "output_type": "execute_result"
    }
   ],
   "source": [
    "etiquetado_final = pd.read_csv(f'{relative_path}etiquetado_1_600_track3.csv')\n",
    "lyrics = pd.read_csv(f'{relative_path}canciones_v2_separadores.csv')\n",
    "etiquetado_final.shape, lyrics.shape\n"
   ]
  },
  {
   "cell_type": "code",
   "execution_count": 61,
   "metadata": {},
   "outputs": [
    {
     "name": "stdout",
     "output_type": "stream",
     "text": [
      "HOMOMEX_1_100.csv: 99 filas\n",
      "HOMOMEX_101_200.csv: 99 filas\n",
      "HOMOMEX_201_300.csv: 99 filas\n",
      "HOMOMEX_301_400.csv: 100 filas\n",
      "HOMOMEX_401_500.csv: 99 filas\n",
      "HOMOMEX_501_600.csv: 99 filas\n"
     ]
    }
   ],
   "source": [
    "lyrics_600 = pd.DataFrame(columns=['id', 'lyrics'])\n",
    "\n",
    "# Lee cada uno de los documentos de la variable files y agrega los valores a la variable lyrics_600\n",
    "for f in files:\n",
    "    # neceisto que ignore el header\n",
    "    data = pd.read_csv(f'{relative_path}Raw/{f}', encoding='utf-8')\n",
    "    print(f'{f}: {data.shape[0]} filas')\n",
    "    lyrics_600 = pd.concat([lyrics_600, data])"
   ]
  },
  {
   "cell_type": "code",
   "execution_count": 56,
   "metadata": {},
   "outputs": [
    {
     "data": {
      "text/html": [
       "<div>\n",
       "<style scoped>\n",
       "    .dataframe tbody tr th:only-of-type {\n",
       "        vertical-align: middle;\n",
       "    }\n",
       "\n",
       "    .dataframe tbody tr th {\n",
       "        vertical-align: top;\n",
       "    }\n",
       "\n",
       "    .dataframe thead th {\n",
       "        text-align: right;\n",
       "    }\n",
       "</style>\n",
       "<table border=\"1\" class=\"dataframe\">\n",
       "  <thead>\n",
       "    <tr style=\"text-align: right;\">\n",
       "      <th></th>\n",
       "      <th>id</th>\n",
       "      <th>lyrics</th>\n",
       "    </tr>\n",
       "  </thead>\n",
       "  <tbody>\n",
       "    <tr>\n",
       "      <th>0</th>\n",
       "      <td>501</td>\n",
       "      <td>Lyrics\\nMe quieres? Te quiero\\nPor ti yo sient...</td>\n",
       "    </tr>\n",
       "    <tr>\n",
       "      <th>1</th>\n",
       "      <td>502</td>\n",
       "      <td>Me refugié en tu juventud\\nCon tanto amor con ...</td>\n",
       "    </tr>\n",
       "    <tr>\n",
       "      <th>2</th>\n",
       "      <td>503</td>\n",
       "      <td>Cuanta siembra hay en el campo\\nQue de agua ll...</td>\n",
       "    </tr>\n",
       "    <tr>\n",
       "      <th>3</th>\n",
       "      <td>504</td>\n",
       "      <td>Nada ha sido en serio\\nTodo fue una broma\\nQue...</td>\n",
       "    </tr>\n",
       "    <tr>\n",
       "      <th>4</th>\n",
       "      <td>505</td>\n",
       "      <td>A la orilla de una playa\\nTú me diste el coraz...</td>\n",
       "    </tr>\n",
       "  </tbody>\n",
       "</table>\n",
       "</div>"
      ],
      "text/plain": [
       "    id                                             lyrics\n",
       "0  501  Lyrics\\nMe quieres? Te quiero\\nPor ti yo sient...\n",
       "1  502  Me refugié en tu juventud\\nCon tanto amor con ...\n",
       "2  503  Cuanta siembra hay en el campo\\nQue de agua ll...\n",
       "3  504  Nada ha sido en serio\\nTodo fue una broma\\nQue...\n",
       "4  505  A la orilla de una playa\\nTú me diste el coraz..."
      ]
     },
     "execution_count": 56,
     "metadata": {},
     "output_type": "execute_result"
    }
   ],
   "source": [
    "lyrics_600.head()"
   ]
  },
  {
   "cell_type": "code",
   "execution_count": 49,
   "metadata": {},
   "outputs": [],
   "source": [
    "# Borra la primera columna que se agrega por defecto al dataframe (la que no tiene nombre)\n",
    "lyrics_600 = lyrics_600.drop(lyrics_600.columns[0], axis=1)"
   ]
  },
  {
   "cell_type": "code",
   "execution_count": 50,
   "metadata": {},
   "outputs": [
    {
     "data": {
      "text/html": [
       "<div>\n",
       "<style scoped>\n",
       "    .dataframe tbody tr th:only-of-type {\n",
       "        vertical-align: middle;\n",
       "    }\n",
       "\n",
       "    .dataframe tbody tr th {\n",
       "        vertical-align: top;\n",
       "    }\n",
       "\n",
       "    .dataframe thead th {\n",
       "        text-align: right;\n",
       "    }\n",
       "</style>\n",
       "<table border=\"1\" class=\"dataframe\">\n",
       "  <thead>\n",
       "    <tr style=\"text-align: right;\">\n",
       "      <th></th>\n",
       "      <th>lyrics completos</th>\n",
       "    </tr>\n",
       "  </thead>\n",
       "  <tbody>\n",
       "    <tr>\n",
       "      <th>0</th>\n",
       "      <td>Lyrics\\nLa mentira que a ti te dijieron\\nNos a...</td>\n",
       "    </tr>\n",
       "    <tr>\n",
       "      <th>1</th>\n",
       "      <td>Me gustas por coqueta y altanera\\nme gusta tu ...</td>\n",
       "    </tr>\n",
       "    <tr>\n",
       "      <th>2</th>\n",
       "      <td>perdoname si te falle \\npor todo los males que...</td>\n",
       "    </tr>\n",
       "    <tr>\n",
       "      <th>3</th>\n",
       "      <td>Volviste a mi recordando las horas de ayer\\nur...</td>\n",
       "    </tr>\n",
       "    <tr>\n",
       "      <th>4</th>\n",
       "      <td>Alma alma mia\\nCalma tu agonia\\nY tus ansias l...</td>\n",
       "    </tr>\n",
       "  </tbody>\n",
       "</table>\n",
       "</div>"
      ],
      "text/plain": [
       "                                    lyrics completos\n",
       "0  Lyrics\\nLa mentira que a ti te dijieron\\nNos a...\n",
       "1  Me gustas por coqueta y altanera\\nme gusta tu ...\n",
       "2  perdoname si te falle \\npor todo los males que...\n",
       "3  Volviste a mi recordando las horas de ayer\\nur...\n",
       "4  Alma alma mia\\nCalma tu agonia\\nY tus ansias l..."
      ]
     },
     "execution_count": 50,
     "metadata": {},
     "output_type": "execute_result"
    }
   ],
   "source": [
    "lyrics_600.head()"
   ]
  },
  {
   "cell_type": "code",
   "execution_count": 51,
   "metadata": {},
   "outputs": [
    {
     "data": {
      "text/html": [
       "<div>\n",
       "<style scoped>\n",
       "    .dataframe tbody tr th:only-of-type {\n",
       "        vertical-align: middle;\n",
       "    }\n",
       "\n",
       "    .dataframe tbody tr th {\n",
       "        vertical-align: top;\n",
       "    }\n",
       "\n",
       "    .dataframe thead th {\n",
       "        text-align: right;\n",
       "    }\n",
       "</style>\n",
       "<table border=\"1\" class=\"dataframe\">\n",
       "  <thead>\n",
       "    <tr style=\"text-align: right;\">\n",
       "      <th></th>\n",
       "      <th>lyrics completos</th>\n",
       "    </tr>\n",
       "  </thead>\n",
       "  <tbody>\n",
       "    <tr>\n",
       "      <th>94</th>\n",
       "      <td>Amores que van y vienen\\nAmores de vez en cuan...</td>\n",
       "    </tr>\n",
       "    <tr>\n",
       "      <th>95</th>\n",
       "      <td>Mariachi!\\nQue Quieres?!\\nQue Buena Suerte Ten...</td>\n",
       "    </tr>\n",
       "    <tr>\n",
       "      <th>96</th>\n",
       "      <td>Si piensas abandonarme\\nHazlo pronto\\nNo hagas...</td>\n",
       "    </tr>\n",
       "    <tr>\n",
       "      <th>97</th>\n",
       "      <td>Estoy pensando en ti y tú ya estás durmiendo\\n...</td>\n",
       "    </tr>\n",
       "    <tr>\n",
       "      <th>98</th>\n",
       "      <td>Ahora que te encuentras tan lejos de mí\\nCompr...</td>\n",
       "    </tr>\n",
       "  </tbody>\n",
       "</table>\n",
       "</div>"
      ],
      "text/plain": [
       "                                     lyrics completos\n",
       "94  Amores que van y vienen\\nAmores de vez en cuan...\n",
       "95  Mariachi!\\nQue Quieres?!\\nQue Buena Suerte Ten...\n",
       "96  Si piensas abandonarme\\nHazlo pronto\\nNo hagas...\n",
       "97  Estoy pensando en ti y tú ya estás durmiendo\\n...\n",
       "98  Ahora que te encuentras tan lejos de mí\\nCompr..."
      ]
     },
     "execution_count": 51,
     "metadata": {},
     "output_type": "execute_result"
    }
   ],
   "source": [
    "lyrics_600.tail()"
   ]
  },
  {
   "cell_type": "code",
   "execution_count": null,
   "metadata": {},
   "outputs": [],
   "source": []
  }
 ],
 "metadata": {
  "kernelspec": {
   "display_name": "Python 3",
   "language": "python",
   "name": "python3"
  },
  "language_info": {
   "codemirror_mode": {
    "name": "ipython",
    "version": 3
   },
   "file_extension": ".py",
   "mimetype": "text/x-python",
   "name": "python",
   "nbconvert_exporter": "python",
   "pygments_lexer": "ipython3",
   "version": "3.9.5"
  }
 },
 "nbformat": 4,
 "nbformat_minor": 2
}
