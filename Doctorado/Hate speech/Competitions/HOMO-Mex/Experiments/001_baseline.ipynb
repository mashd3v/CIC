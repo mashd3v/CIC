{
 "cells": [
  {
   "cell_type": "code",
   "execution_count": 48,
   "metadata": {},
   "outputs": [],
   "source": [
    "import sys\n",
    "sys.path.append('../../../../Scripts/')"
   ]
  },
  {
   "cell_type": "code",
   "execution_count": 49,
   "metadata": {},
   "outputs": [],
   "source": [
    "import text_preprocessing_v2 as tp2\n",
    "import cleaning_twitter_data as ctd\n",
    "import baseline_model as base\n",
    "import pandas as pd, numpy as np"
   ]
  },
  {
   "attachments": {},
   "cell_type": "markdown",
   "metadata": {},
   "source": [
    "## Data"
   ]
  },
  {
   "cell_type": "code",
   "execution_count": 50,
   "metadata": {},
   "outputs": [],
   "source": [
    "data_training_path = '../Datasets/homomex_training.csv'"
   ]
  },
  {
   "attachments": {},
   "cell_type": "markdown",
   "metadata": {},
   "source": [
    "## Preprocessing"
   ]
  },
  {
   "cell_type": "code",
   "execution_count": 51,
   "metadata": {},
   "outputs": [],
   "source": [
    "data = pd.read_csv(data_training_path)"
   ]
  },
  {
   "cell_type": "code",
   "execution_count": 55,
   "metadata": {},
   "outputs": [],
   "source": [
    "dataframes = [data]\n",
    "columns = ['tweets']\n",
    "dictionary_list = [{'P': 0, 'NP': 1, 'NR': 2}]"
   ]
  },
  {
   "cell_type": "code",
   "execution_count": 56,
   "metadata": {},
   "outputs": [],
   "source": [
    "clean = ctd.CleaningTwitterData(csv_path=data_training_path,\n",
    "                                text_column='tweets', \n",
    "                                language='spanish', \n",
    "                                remove_stopwords=False, \n",
    "                                is_dataframe=True, \n",
    "                                emoji_path=None, \n",
    "                                dataframes=dataframes, \n",
    "                                columns=columns, \n",
    "                                dictionary_list=dictionary_list)"
   ]
  },
  {
   "cell_type": "code",
   "execution_count": 57,
   "metadata": {},
   "outputs": [],
   "source": [
    "data = clean.clean_twitter_data(csv_path=data_training_path,\n",
    "                                text_column='tweets', \n",
    "                                language='spanish')"
   ]
  },
  {
   "cell_type": "code",
   "execution_count": 59,
   "metadata": {},
   "outputs": [],
   "source": [
    "data.label = data.label.fillna('NR')"
   ]
  },
  {
   "cell_type": "code",
   "execution_count": 61,
   "metadata": {},
   "outputs": [],
   "source": [
    "data.label.replace(list(dictionary_list[0].keys()), \n",
    "            list(dictionary_list[0].values()), \n",
    "            inplace=True)"
   ]
  },
  {
   "attachments": {},
   "cell_type": "markdown",
   "metadata": {},
   "source": [
    "## Baseline"
   ]
  },
  {
   "cell_type": "code",
   "execution_count": 66,
   "metadata": {},
   "outputs": [],
   "source": [
    "from sklearn.linear_model import LogisticRegression\n",
    "from sklearn.model_selection import train_test_split"
   ]
  },
  {
   "cell_type": "code",
   "execution_count": 76,
   "metadata": {},
   "outputs": [],
   "source": [
    "seed = 42\n",
    "model = LogisticRegression(random_state = seed, penalty = 'l2', \n",
    "                            solver = 'liblinear', max_iter = 1000)\n",
    "X_train, X_val, y_train, y_val = train_test_split(data.tweets, data.label, \n",
    "                                                  test_size=0.2, \n",
    "                                                  random_state=seed)\n",
    "target_names = ['LGBT+phobic (P)', 'not LGBT+phobic (NP)', 'not LGBT+related (NR)']"
   ]
  },
  {
   "cell_type": "code",
   "execution_count": 73,
   "metadata": {},
   "outputs": [],
   "source": [
    "training_data = {'tweets': X_train.tolist(),\n",
    "              'label': y_train.tolist()}\n",
    "val_data = {'tweets': X_val.tolist(),\n",
    "              'label': y_val.tolist()}"
   ]
  },
  {
   "cell_type": "code",
   "execution_count": 74,
   "metadata": {},
   "outputs": [],
   "source": [
    "training_data = pd.DataFrame(training_data, columns=['tweets', 'label'])\n",
    "val_data = pd.DataFrame(val_data, columns=['tweets', 'label'])"
   ]
  },
  {
   "cell_type": "code",
   "execution_count": 81,
   "metadata": {},
   "outputs": [
    {
     "data": {
      "text/plain": [
       "(1    3494\n",
       " 2    1433\n",
       " 0     673\n",
       " Name: label, dtype: int64,\n",
       " 1    866\n",
       " 2    345\n",
       " 0    189\n",
       " Name: label, dtype: int64)"
      ]
     },
     "execution_count": 81,
     "metadata": {},
     "output_type": "execute_result"
    }
   ],
   "source": [
    "training_data.label.value_counts(), val_data.label.value_counts()"
   ]
  },
  {
   "cell_type": "code",
   "execution_count": 77,
   "metadata": {},
   "outputs": [],
   "source": [
    "b = base.Baseline(train_data=training_data, \n",
    "                  test_data=val_data, \n",
    "                  x_label_column='tweets', \n",
    "                  y_label_column='label', \n",
    "                  target_names=target_names)"
   ]
  },
  {
   "cell_type": "code",
   "execution_count": 78,
   "metadata": {},
   "outputs": [
    {
     "name": "stdout",
     "output_type": "stream",
     "text": [
      "Fitting label model\n",
      "                       precision    recall  f1-score   support\n",
      "\n",
      "      LGBT+phobic (P)       0.76      0.25      0.38       189\n",
      " not LGBT+phobic (NP)       0.79      0.95      0.86       866\n",
      "not LGBT+related (NR)       0.87      0.73      0.79       345\n",
      "\n",
      "             accuracy                           0.80      1400\n",
      "            macro avg       0.81      0.65      0.68      1400\n",
      "         weighted avg       0.80      0.80      0.78      1400\n",
      "\n"
     ]
    }
   ],
   "source": [
    "model, vectorizer = b.baseline(model=model, \n",
    "                               train_data=training_data, \n",
    "                               test_data=val_data, \n",
    "                               x_label_column='tweets', \n",
    "                               y_label_column='label', \n",
    "                               target_names=target_names)"
   ]
  },
  {
   "cell_type": "code",
   "execution_count": null,
   "metadata": {},
   "outputs": [],
   "source": []
  }
 ],
 "metadata": {
  "kernelspec": {
   "display_name": "Python 3",
   "language": "python",
   "name": "python3"
  },
  "language_info": {
   "codemirror_mode": {
    "name": "ipython",
    "version": 3
   },
   "file_extension": ".py",
   "mimetype": "text/x-python",
   "name": "python",
   "nbconvert_exporter": "python",
   "pygments_lexer": "ipython3",
   "version": "3.9.5"
  },
  "orig_nbformat": 4
 },
 "nbformat": 4,
 "nbformat_minor": 2
}
