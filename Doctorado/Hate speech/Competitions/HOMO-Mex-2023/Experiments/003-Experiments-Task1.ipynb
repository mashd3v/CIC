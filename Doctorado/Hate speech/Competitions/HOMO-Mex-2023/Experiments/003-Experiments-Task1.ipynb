{
 "cells": [
  {
   "attachments": {},
   "cell_type": "markdown",
   "metadata": {},
   "source": [
    "## Imports"
   ]
  },
  {
   "cell_type": "code",
   "execution_count": 1,
   "metadata": {},
   "outputs": [
    {
     "name": "stderr",
     "output_type": "stream",
     "text": [
      "fatal: destination path 'text-preprocessing' already exists and is not an empty directory.\n"
     ]
    }
   ],
   "source": [
    "!git clone https://github.com/CCogS-Mx/text-preprocessing.git"
   ]
  },
  {
   "cell_type": "code",
   "execution_count": 1,
   "metadata": {},
   "outputs": [],
   "source": [
    "import sys \n",
    "sys.path.append('Scripts/')\n",
    "sys.path.append('text-preprocessing/script/')"
   ]
  },
  {
   "cell_type": "code",
   "execution_count": 2,
   "metadata": {},
   "outputs": [
    {
     "name": "stderr",
     "output_type": "stream",
     "text": [
      "[nltk_data] Downloading package stopwords to\n",
      "[nltk_data]     C:\\Users\\qk_le\\AppData\\Roaming\\nltk_data...\n",
      "[nltk_data]   Package stopwords is already up-to-date!\n",
      "[nltk_data] Downloading package stopwords to\n",
      "[nltk_data]     C:\\Users\\qk_le\\AppData\\Roaming\\nltk_data...\n",
      "[nltk_data]   Package stopwords is already up-to-date!\n",
      "[nltk_data] Downloading package stopwords to\n",
      "[nltk_data]     C:\\Users\\qk_le\\AppData\\Roaming\\nltk_data...\n",
      "[nltk_data]   Package stopwords is already up-to-date!\n"
     ]
    }
   ],
   "source": [
    "import os\n",
    "import pandas as pd\n",
    "import numpy as np\n",
    "\n",
    "# Import classes\n",
    "import text_preprocessing as tp\n",
    "import feature_extraction as fe\n",
    "import robust_classic_model as rcm\n",
    "import cleaning_twitter_data as ctd\n",
    "\n",
    "# Algoritmos de ML\n",
    "from sklearn.linear_model import LogisticRegression, Perceptron\n",
    "from sklearn.neighbors import KNeighborsClassifier\n",
    "from sklearn.naive_bayes import MultinomialNB\n",
    "from sklearn.svm import LinearSVC\n",
    "from sklearn.neural_network import MLPClassifier\n",
    "from sklearn.ensemble import RandomForestClassifier\n",
    "from sklearn.calibration import CalibratedClassifierCV\n",
    "from sklearn.model_selection import train_test_split\n",
    "\n",
    "# Vectorizadores\n",
    "from sklearn.feature_extraction.text import TfidfVectorizer, CountVectorizer"
   ]
  },
  {
   "attachments": {},
   "cell_type": "markdown",
   "metadata": {},
   "source": [
    "## Data"
   ]
  },
  {
   "cell_type": "code",
   "execution_count": 3,
   "metadata": {},
   "outputs": [],
   "source": [
    "training = pd.read_csv('Data/homomex_training.csv').drop('index', axis=1)\n",
    "test = pd.read_csv('Data/track1_test_no_labels.csv').drop('Unnamed: 0', axis=1)"
   ]
  },
  {
   "cell_type": "code",
   "execution_count": 4,
   "metadata": {},
   "outputs": [],
   "source": [
    "prep = tp.Preprocessing('spanish')"
   ]
  },
  {
   "cell_type": "code",
   "execution_count": 5,
   "metadata": {},
   "outputs": [],
   "source": [
    "training_p = prep.main_preprocess(data=training, \n",
    "                                  column='tweets', \n",
    "                                  tweet=True, \n",
    "                                  tweet_tags=True, \n",
    "                                  remove_stop_words=False, \n",
    "                                  lemmatize=False, \n",
    "                                  translate_emojis=True)"
   ]
  },
  {
   "cell_type": "code",
   "execution_count": 21,
   "metadata": {},
   "outputs": [],
   "source": [
    "training_p.label = training_p.label.fillna('NR')\n",
    "dictionary_list = [{'P': 0, 'NP': 1, 'NR': 2}]\n",
    "training_p.label.replace(list(dictionary_list[0].keys()), \n",
    "            list(dictionary_list[0].values()), \n",
    "            inplace=True)\n"
   ]
  },
  {
   "cell_type": "code",
   "execution_count": 7,
   "metadata": {},
   "outputs": [],
   "source": [
    "test_p = prep.main_preprocess(data=test, \n",
    "                                  column='content', \n",
    "                                  tweet=True, \n",
    "                                  tweet_tags=True, \n",
    "                                  remove_stop_words=False, \n",
    "                                  lemmatize=False, \n",
    "                                  translate_emojis=True)"
   ]
  },
  {
   "attachments": {},
   "cell_type": "markdown",
   "metadata": {},
   "source": [
    "## Improving best classifiers with training data only"
   ]
  },
  {
   "cell_type": "code",
   "execution_count": 13,
   "metadata": {},
   "outputs": [],
   "source": [
    "from sklearn.metrics import f1_score\n",
    "from sklearn.calibration import CalibratedClassifierCV"
   ]
  },
  {
   "cell_type": "code",
   "execution_count": 11,
   "metadata": {},
   "outputs": [],
   "source": [
    "vectorizer = CountVectorizer(ngram_range = (1,1), lowercase = False)\n",
    "oth_feats_vectorizer = CountVectorizer(ngram_range = (1,1), lowercase = False)"
   ]
  },
  {
   "cell_type": "code",
   "execution_count": 12,
   "metadata": {},
   "outputs": [],
   "source": [
    "X_train, X_test, y_train, y_test = train_test_split(training_p, \n",
    "                                                    training_p['label'], \n",
    "                                                    test_size=0.05, \n",
    "                                                    random_state=42)"
   ]
  },
  {
   "cell_type": "code",
   "execution_count": 13,
   "metadata": {},
   "outputs": [],
   "source": [
    "# Train\n",
    "f_train = fe.FeatureExtraction(data = X_train, \n",
    "                                text_column = 'tweets', \n",
    "                                lemma = True, \n",
    "                                pos = True, \n",
    "                                tag = True,                                \n",
    "                                other_features = True,\n",
    "                                vectorizer = vectorizer,\n",
    "                                oth_feats_vectorizer = oth_feats_vectorizer,\n",
    "                                language = 'es')\n",
    "\n",
    "X = f_train.add_features_to_test()"
   ]
  },
  {
   "cell_type": "code",
   "execution_count": 14,
   "metadata": {},
   "outputs": [],
   "source": [
    "# Test\n",
    "f_train = fe.FeatureExtraction(data = X_test, \n",
    "                                text_column = 'tweets', \n",
    "                                lemma = True, \n",
    "                                pos = True, \n",
    "                                tag = True,                                \n",
    "                                other_features = True,\n",
    "                                vectorizer = vectorizer,\n",
    "                                oth_feats_vectorizer = oth_feats_vectorizer,\n",
    "                                language = 'es')\n",
    "\n",
    "x = f_train.add_features_to_test()"
   ]
  },
  {
   "cell_type": "code",
   "execution_count": 15,
   "metadata": {},
   "outputs": [],
   "source": [
    "y_train = y_train.tolist()\n",
    "y_test = y_test.tolist()"
   ]
  },
  {
   "attachments": {},
   "cell_type": "markdown",
   "metadata": {},
   "source": [
    "### Unigramas"
   ]
  },
  {
   "attachments": {},
   "cell_type": "markdown",
   "metadata": {},
   "source": [
    "#### TP-LPTO"
   ]
  },
  {
   "cell_type": "code",
   "execution_count": 20,
   "metadata": {},
   "outputs": [],
   "source": [
    "models_count = [LogisticRegression(C=1.0, max_iter=1000, penalty='l2', random_state=42), \n",
    "          RandomForestClassifier(max_depth=100, n_estimators=50,random_state=42), \n",
    "          CalibratedClassifierCV(LinearSVC(C=0.1, max_iter=10000, penalty='l2', random_state=42)), \n",
    "          MultinomialNB(), \n",
    "          KNeighborsClassifier(n_neighbors=3, weights='distance')]\n",
    "models_tfidf = [LogisticRegression(C=10.0, max_iter=1000, penalty='l2', random_state=42), \n",
    "          RandomForestClassifier(max_depth=100, n_estimators=50,random_state=42), \n",
    "          CalibratedClassifierCV(LinearSVC(C=0.1, max_iter=1000, penalty='l2', random_state=42)), \n",
    "          MultinomialNB(), \n",
    "          KNeighborsClassifier(n_neighbors=3, weights='distance')]\n",
    "model_names = ['Logistic Regression', 'Random Forest', 'Linear SVC', 'Multinomial Naive Bayes', 'KNN']\n"
   ]
  },
  {
   "cell_type": "code",
   "execution_count": 21,
   "metadata": {},
   "outputs": [
    {
     "name": "stdout",
     "output_type": "stream",
     "text": [
      "Count Vectorizer\n",
      "Model: Logistic Regression, f1: 0.7486\n",
      "Model: Random Forest, f1: 0.5469\n"
     ]
    },
    {
     "name": "stderr",
     "output_type": "stream",
     "text": [
      "C:\\Users\\qk_le\\AppData\\Local\\Packages\\PythonSoftwareFoundation.Python.3.9_qbz5n2kfra8p0\\LocalCache\\local-packages\\Python39\\site-packages\\sklearn\\svm\\_base.py:1244: ConvergenceWarning: Liblinear failed to converge, increase the number of iterations.\n",
      "  warnings.warn(\n"
     ]
    },
    {
     "name": "stdout",
     "output_type": "stream",
     "text": [
      "Model: Linear SVC, f1: 0.7566\n",
      "Model: Multinomial Naive Bayes, f1: 0.5735\n",
      "Model: KNN, f1: 0.3919\n",
      "TF-IDF Vectorizer\n",
      "Model: Logistic Regression, f1: 0.7002\n",
      "Model: Random Forest, f1: 0.5157\n",
      "Model: Linear SVC, f1: 0.6962\n",
      "Model: Multinomial Naive Bayes, f1: 0.3055\n",
      "Model: KNN, f1: 0.4473\n"
     ]
    }
   ],
   "source": [
    "for i in range(2):\n",
    "    if i == 0:\n",
    "        print('Count Vectorizer')\n",
    "        for i, model in enumerate(models_count):\n",
    "            count_v = CountVectorizer(ngram_range = (1,1), lowercase = False)\n",
    "            X_Train = count_v.fit_transform(X['tweets'])\n",
    "            X_Test = count_v.transform(x['tweets'])\n",
    "            model.fit(X_Train, y_train)\n",
    "            y_pred = model.predict(X_Test)\n",
    "            print(f'Model: {model_names[i]}, f1: {round(f1_score(y_test, y_pred, average=\"macro\"), 4)}')\n",
    "    else:\n",
    "        print('TF-IDF Vectorizer')\n",
    "        for i, model in enumerate(models_tfidf):\n",
    "            count_v = TfidfVectorizer(ngram_range = (1,1), lowercase = False)\n",
    "            X_Train = count_v.fit_transform(X['tweets'])\n",
    "            X_Test = count_v.transform(x['tweets'])\n",
    "            model.fit(X_Train, y_train)\n",
    "            y_pred = model.predict(X_Test)\n",
    "            print(f'Model: {model_names[i]}, f1: {round(f1_score(y_test, y_pred, average=\"macro\"), 4)}')"
   ]
  },
  {
   "attachments": {},
   "cell_type": "markdown",
   "metadata": {},
   "source": [
    "#### TP"
   ]
  },
  {
   "cell_type": "code",
   "execution_count": 7,
   "metadata": {},
   "outputs": [],
   "source": [
    "data_prep = pd.read_csv('Data/task1_preprocessed.csv')\n",
    "data_prep.label = data_prep.label.fillna('NR')\n",
    "dictionary_list = [{'P': 0, 'NP': 1, 'NR': 2}]\n",
    "data_prep.label.replace(list(dictionary_list[0].keys()), \n",
    "            list(dictionary_list[0].values()), \n",
    "            inplace=True)\n",
    "\n",
    "X_train, X_test, y_train, y_test = train_test_split(data_prep, \n",
    "                                                    data_prep['label'], \n",
    "                                                    test_size=0.05, \n",
    "                                                    random_state=42)"
   ]
  },
  {
   "cell_type": "code",
   "execution_count": 9,
   "metadata": {},
   "outputs": [],
   "source": [
    "y_train = y_train.tolist()\n",
    "y_test = y_test.tolist()"
   ]
  },
  {
   "cell_type": "code",
   "execution_count": 15,
   "metadata": {},
   "outputs": [],
   "source": [
    "models_count = [LogisticRegression(C=1.0, max_iter=1000, penalty='l2', random_state=42), \n",
    "          RandomForestClassifier(max_depth=100, n_estimators=50,random_state=42), \n",
    "          CalibratedClassifierCV(LinearSVC(C=0.1, max_iter=10000, penalty='l2', random_state=42)), \n",
    "          KNeighborsClassifier(n_neighbors=3, weights='distance')]\n",
    "models_tfidf = [LogisticRegression(C=10.0, max_iter=1000, penalty='l2', random_state=42), \n",
    "          RandomForestClassifier(max_depth=100, n_estimators=100,random_state=42), \n",
    "          CalibratedClassifierCV(LinearSVC(C=1.0, max_iter=1000, penalty='l2', random_state=42)), \n",
    "          KNeighborsClassifier(n_neighbors=3, weights='distance')]\n",
    "model_names = ['Logistic Regression', 'Random Forest', 'Linear SVC', 'KNN']"
   ]
  },
  {
   "cell_type": "code",
   "execution_count": 16,
   "metadata": {},
   "outputs": [
    {
     "name": "stdout",
     "output_type": "stream",
     "text": [
      "Count Vectorizer\n",
      "Model: Logistic Regression, f1: 0.7069\n",
      "Model: Random Forest, f1: 0.6849\n",
      "Model: Linear SVC, f1: 0.6879\n",
      "Model: KNN, f1: 0.577\n",
      "TF-IDF Vectorizer\n",
      "Model: Logistic Regression, f1: 0.6978\n",
      "Model: Random Forest, f1: 0.6502\n",
      "Model: Linear SVC, f1: 0.6924\n",
      "Model: KNN, f1: 0.6231\n"
     ]
    }
   ],
   "source": [
    "for i in range(2):\n",
    "    if i == 0:\n",
    "        print('Count Vectorizer')\n",
    "        for i, model in enumerate(models_count):\n",
    "            count_v = CountVectorizer(ngram_range = (1,1), lowercase = False)\n",
    "            X_Train = count_v.fit_transform(X_train['tweets'])\n",
    "            X_Test = count_v.transform(X_test['tweets'])\n",
    "            model.fit(X_Train, y_train)\n",
    "            y_pred = model.predict(X_Test)\n",
    "            print(f'Model: {model_names[i]}, f1: {round(f1_score(y_test, y_pred, average=\"macro\"), 4)}')\n",
    "    else:\n",
    "        print('TF-IDF Vectorizer')\n",
    "        for i, model in enumerate(models_tfidf):\n",
    "            count_v = TfidfVectorizer(ngram_range = (1,1), lowercase = False)\n",
    "            X_Train = count_v.fit_transform(X_train['tweets'])\n",
    "            X_Test = count_v.transform(X_test['tweets'])\n",
    "            model.fit(X_Train, y_train)\n",
    "            y_pred = model.predict(X_Test)\n",
    "            print(f'Model: {model_names[i]}, f1: {round(f1_score(y_test, y_pred, average=\"macro\"), 4)}')"
   ]
  },
  {
   "attachments": {},
   "cell_type": "markdown",
   "metadata": {},
   "source": [
    "### Unigramas y bigramas"
   ]
  },
  {
   "attachments": {},
   "cell_type": "markdown",
   "metadata": {},
   "source": [
    "#### TP-LPTO"
   ]
  },
  {
   "cell_type": "code",
   "execution_count": 22,
   "metadata": {},
   "outputs": [],
   "source": [
    "models_count = [LogisticRegression(C=10.0, max_iter=1000, penalty='l2', random_state=42), \n",
    "          RandomForestClassifier(max_depth=100, n_estimators=10,random_state=42), \n",
    "          CalibratedClassifierCV(LinearSVC(C=0.1, max_iter=10000, penalty='l2', random_state=42)), \n",
    "          MultinomialNB(), \n",
    "          KNeighborsClassifier(n_neighbors=3, weights='distance')]\n",
    "models_tfidf = [LogisticRegression(C=1000.0, max_iter=1000, penalty='l2', random_state=42), \n",
    "          RandomForestClassifier(max_depth=100, n_estimators=10,random_state=42), \n",
    "          CalibratedClassifierCV(LinearSVC(C=0.1, max_iter=1000, penalty='l2', random_state=42)), \n",
    "          MultinomialNB(), \n",
    "          KNeighborsClassifier(n_neighbors=3, weights='distance')]\n",
    "model_names = ['Logistic Regression', 'Random Forest', 'Linear SVC', 'Multinomial Naive Bayes', 'KNN']"
   ]
  },
  {
   "cell_type": "code",
   "execution_count": 23,
   "metadata": {},
   "outputs": [
    {
     "name": "stdout",
     "output_type": "stream",
     "text": [
      "Count Vectorizer\n",
      "Model: Logistic Regression, f1: 0.7197\n",
      "Model: Random Forest, f1: 0.4927\n",
      "Model: Linear SVC, f1: 0.698\n",
      "Model: Multinomial Naive Bayes, f1: 0.465\n",
      "Model: KNN, f1: 0.4285\n",
      "TF-IDF Vectorizer\n",
      "Model: Logistic Regression, f1: 0.7006\n",
      "Model: Random Forest, f1: 0.4887\n",
      "Model: Linear SVC, f1: 0.5804\n",
      "Model: Multinomial Naive Bayes, f1: 0.2537\n",
      "Model: KNN, f1: 0.464\n"
     ]
    }
   ],
   "source": [
    "for i in range(2):\n",
    "    if i == 0:\n",
    "        print('Count Vectorizer')\n",
    "        for i, model in enumerate(models_count):\n",
    "            count_v = CountVectorizer(ngram_range = (1,2), lowercase = False)\n",
    "            X_Train = count_v.fit_transform(X['tweets'])\n",
    "            X_Test = count_v.transform(x['tweets'])\n",
    "            model.fit(X_Train, y_train)\n",
    "            y_pred = model.predict(X_Test)\n",
    "            print(f'Model: {model_names[i]}, f1: {round(f1_score(y_test, y_pred, average=\"macro\"), 4)}')\n",
    "    else:\n",
    "        print('TF-IDF Vectorizer')\n",
    "        for i, model in enumerate(models_tfidf):\n",
    "            count_v = TfidfVectorizer(ngram_range = (1,2), lowercase = False)\n",
    "            X_Train = count_v.fit_transform(X['tweets'])\n",
    "            X_Test = count_v.transform(x['tweets'])\n",
    "            model.fit(X_Train, y_train)\n",
    "            y_pred = model.predict(X_Test)\n",
    "            print(f'Model: {model_names[i]}, f1: {round(f1_score(y_test, y_pred, average=\"macro\"), 4)}')"
   ]
  },
  {
   "attachments": {},
   "cell_type": "markdown",
   "metadata": {},
   "source": [
    "#### TP"
   ]
  },
  {
   "cell_type": "code",
   "execution_count": 19,
   "metadata": {},
   "outputs": [],
   "source": [
    "models_count = [LogisticRegression(C=10.0, max_iter=1000, penalty='l2', random_state=42), \n",
    "          RandomForestClassifier(max_depth=100, n_estimators=10,random_state=42), \n",
    "          CalibratedClassifierCV(LinearSVC(C=0.1, max_iter=10000, penalty='l2', random_state=42)), \n",
    "          KNeighborsClassifier(n_neighbors=3, weights='distance')]\n",
    "models_tfidf = [LogisticRegression(C=1000.0, max_iter=1000, penalty='l2', random_state=42), \n",
    "          RandomForestClassifier(max_depth=100, n_estimators=10,random_state=42), \n",
    "          CalibratedClassifierCV(LinearSVC(C=10.0, max_iter=1000, penalty='l2', random_state=42)), \n",
    "          KNeighborsClassifier(n_neighbors=3, weights='distance')]\n",
    "model_names = ['Logistic Regression', 'Random Forest', 'Linear SVC', 'KNN']"
   ]
  },
  {
   "cell_type": "code",
   "execution_count": 21,
   "metadata": {},
   "outputs": [
    {
     "name": "stdout",
     "output_type": "stream",
     "text": [
      "Count Vectorizer\n",
      "Model: Logistic Regression, f1: 0.7453\n",
      "Model: Random Forest, f1: 0.5788\n",
      "Model: Linear SVC, f1: 0.7314\n",
      "Model: KNN, f1: 0.5276\n",
      "TF-IDF Vectorizer\n",
      "Model: Logistic Regression, f1: 0.7169\n",
      "Model: Random Forest, f1: 0.5984\n",
      "Model: Linear SVC, f1: 0.7288\n",
      "Model: KNN, f1: 0.6553\n"
     ]
    }
   ],
   "source": [
    "for i in range(2):\n",
    "    if i == 0:\n",
    "        print('Count Vectorizer')\n",
    "        for i, model in enumerate(models_count):\n",
    "            count_v = CountVectorizer(ngram_range = (1,2), lowercase = False)\n",
    "            X_Train = count_v.fit_transform(X_train['tweets'])\n",
    "            X_Test = count_v.transform(X_test['tweets'])\n",
    "            model.fit(X_Train, y_train)\n",
    "            y_pred = model.predict(X_Test)\n",
    "            print(f'Model: {model_names[i]}, f1: {round(f1_score(y_test, y_pred, average=\"macro\"), 4)}')\n",
    "    else:\n",
    "        print('TF-IDF Vectorizer')\n",
    "        for i, model in enumerate(models_tfidf):\n",
    "            count_v = TfidfVectorizer(ngram_range = (1,2), lowercase = False)\n",
    "            X_Train = count_v.fit_transform(X_train['tweets'])\n",
    "            X_Test = count_v.transform(X_test['tweets'])\n",
    "            model.fit(X_Train, y_train)\n",
    "            y_pred = model.predict(X_Test)\n",
    "            print(f'Model: {model_names[i]}, f1: {round(f1_score(y_test, y_pred, average=\"macro\"), 4)}')"
   ]
  },
  {
   "attachments": {},
   "cell_type": "markdown",
   "metadata": {},
   "source": [
    "## Unigramas, bigramas y trigramas"
   ]
  },
  {
   "attachments": {},
   "cell_type": "markdown",
   "metadata": {},
   "source": [
    "### TP"
   ]
  },
  {
   "cell_type": "code",
   "execution_count": 26,
   "metadata": {},
   "outputs": [],
   "source": [
    "models_count = [LogisticRegression(C=100.0, max_iter=1000, penalty='l2', random_state=42), \n",
    "          RandomForestClassifier(max_depth=100, n_estimators=10,random_state=42), \n",
    "          CalibratedClassifierCV(LinearSVC(C=0.1, max_iter=10000, penalty='l2', random_state=42)), \n",
    "          KNeighborsClassifier(n_neighbors=3, weights='distance')]\n",
    "models_tfidf = [LogisticRegression(C=1000.0, max_iter=1000, penalty='l2', random_state=42), \n",
    "          RandomForestClassifier(max_depth=100, n_estimators=10,random_state=42), \n",
    "          CalibratedClassifierCV(LinearSVC(C=1000.0, max_iter=100000, penalty='l2', random_state=42)), \n",
    "          KNeighborsClassifier(n_neighbors=3, weights='distance')]\n",
    "model_names = ['Logistic Regression', 'Random Forest', 'Linear SVC', 'KNN']"
   ]
  },
  {
   "cell_type": "code",
   "execution_count": 27,
   "metadata": {},
   "outputs": [
    {
     "name": "stdout",
     "output_type": "stream",
     "text": [
      "Count Vectorizer\n",
      "Model: Logistic Regression, f1: 0.7248\n",
      "Model: Random Forest, f1: 0.4825\n",
      "Model: Linear SVC, f1: 0.7312\n",
      "Model: KNN, f1: 0.4635\n",
      "TF-IDF Vectorizer\n",
      "Model: Logistic Regression, f1: 0.7125\n",
      "Model: Random Forest, f1: 0.5204\n",
      "Model: Linear SVC, f1: 0.7449\n",
      "Model: KNN, f1: 0.6527\n"
     ]
    }
   ],
   "source": [
    "for i in range(2):\n",
    "    if i == 0:\n",
    "        print('Count Vectorizer')\n",
    "        for i, model in enumerate(models_count):\n",
    "            count_v = CountVectorizer(ngram_range = (1,3), lowercase = False)\n",
    "            X_Train = count_v.fit_transform(X_train['tweets'])\n",
    "            X_Test = count_v.transform(X_test['tweets'])\n",
    "            model.fit(X_Train, y_train)\n",
    "            y_pred = model.predict(X_Test)\n",
    "            print(f'Model: {model_names[i]}, f1: {round(f1_score(y_test, y_pred, average=\"macro\"), 4)}')\n",
    "    else:\n",
    "        print('TF-IDF Vectorizer')\n",
    "        for i, model in enumerate(models_tfidf):\n",
    "            count_v = TfidfVectorizer(ngram_range = (1,3), lowercase = False)\n",
    "            X_Train = count_v.fit_transform(X_train['tweets'])\n",
    "            X_Test = count_v.transform(X_test['tweets'])\n",
    "            model.fit(X_Train, y_train)\n",
    "            y_pred = model.predict(X_Test)\n",
    "            print(f'Model: {model_names[i]}, f1: {round(f1_score(y_test, y_pred, average=\"macro\"), 4)}')"
   ]
  },
  {
   "attachments": {},
   "cell_type": "markdown",
   "metadata": {},
   "source": [
    "## Best classifier"
   ]
  },
  {
   "cell_type": "code",
   "execution_count": 8,
   "metadata": {},
   "outputs": [],
   "source": [
    "model = CalibratedClassifierCV(LinearSVC(C=0.1, max_iter=10000, penalty='l2', random_state=42))\n",
    "vectorizer = CountVectorizer(ngram_range = (1,1), lowercase = False)\n",
    "oth_feats_vectorizer = CountVectorizer(ngram_range = (1,1), lowercase = False)"
   ]
  },
  {
   "cell_type": "code",
   "execution_count": 9,
   "metadata": {},
   "outputs": [],
   "source": [
    "# Train\n",
    "f_train = fe.FeatureExtraction(data = training_p, \n",
    "                                text_column = 'tweets', \n",
    "                                lemma = True, \n",
    "                                pos = True, \n",
    "                                tag = True,                                \n",
    "                                other_features = True,\n",
    "                                vectorizer = vectorizer,\n",
    "                                oth_feats_vectorizer = oth_feats_vectorizer,\n",
    "                                language = 'es')\n",
    "\n",
    "X_train = f_train.add_features_to_test()\n",
    "y_train = X_train.label.tolist()"
   ]
  },
  {
   "cell_type": "code",
   "execution_count": 10,
   "metadata": {},
   "outputs": [],
   "source": [
    "# Test\n",
    "f_test = fe.FeatureExtraction(data = test_p, \n",
    "                                text_column = 'content', \n",
    "                                lemma = True, \n",
    "                                pos = True, \n",
    "                                tag = True,                                \n",
    "                                other_features = True,\n",
    "                                vectorizer = vectorizer,\n",
    "                                oth_feats_vectorizer = oth_feats_vectorizer,\n",
    "                                language = 'es')\n",
    "\n",
    "X_test = f_test.add_features_to_test()"
   ]
  },
  {
   "cell_type": "code",
   "execution_count": 11,
   "metadata": {},
   "outputs": [
    {
     "data": {
      "text/html": [
       "<style>#sk-container-id-1 {color: black;background-color: white;}#sk-container-id-1 pre{padding: 0;}#sk-container-id-1 div.sk-toggleable {background-color: white;}#sk-container-id-1 label.sk-toggleable__label {cursor: pointer;display: block;width: 100%;margin-bottom: 0;padding: 0.3em;box-sizing: border-box;text-align: center;}#sk-container-id-1 label.sk-toggleable__label-arrow:before {content: \"▸\";float: left;margin-right: 0.25em;color: #696969;}#sk-container-id-1 label.sk-toggleable__label-arrow:hover:before {color: black;}#sk-container-id-1 div.sk-estimator:hover label.sk-toggleable__label-arrow:before {color: black;}#sk-container-id-1 div.sk-toggleable__content {max-height: 0;max-width: 0;overflow: hidden;text-align: left;background-color: #f0f8ff;}#sk-container-id-1 div.sk-toggleable__content pre {margin: 0.2em;color: black;border-radius: 0.25em;background-color: #f0f8ff;}#sk-container-id-1 input.sk-toggleable__control:checked~div.sk-toggleable__content {max-height: 200px;max-width: 100%;overflow: auto;}#sk-container-id-1 input.sk-toggleable__control:checked~label.sk-toggleable__label-arrow:before {content: \"▾\";}#sk-container-id-1 div.sk-estimator input.sk-toggleable__control:checked~label.sk-toggleable__label {background-color: #d4ebff;}#sk-container-id-1 div.sk-label input.sk-toggleable__control:checked~label.sk-toggleable__label {background-color: #d4ebff;}#sk-container-id-1 input.sk-hidden--visually {border: 0;clip: rect(1px 1px 1px 1px);clip: rect(1px, 1px, 1px, 1px);height: 1px;margin: -1px;overflow: hidden;padding: 0;position: absolute;width: 1px;}#sk-container-id-1 div.sk-estimator {font-family: monospace;background-color: #f0f8ff;border: 1px dotted black;border-radius: 0.25em;box-sizing: border-box;margin-bottom: 0.5em;}#sk-container-id-1 div.sk-estimator:hover {background-color: #d4ebff;}#sk-container-id-1 div.sk-parallel-item::after {content: \"\";width: 100%;border-bottom: 1px solid gray;flex-grow: 1;}#sk-container-id-1 div.sk-label:hover label.sk-toggleable__label {background-color: #d4ebff;}#sk-container-id-1 div.sk-serial::before {content: \"\";position: absolute;border-left: 1px solid gray;box-sizing: border-box;top: 0;bottom: 0;left: 50%;z-index: 0;}#sk-container-id-1 div.sk-serial {display: flex;flex-direction: column;align-items: center;background-color: white;padding-right: 0.2em;padding-left: 0.2em;position: relative;}#sk-container-id-1 div.sk-item {position: relative;z-index: 1;}#sk-container-id-1 div.sk-parallel {display: flex;align-items: stretch;justify-content: center;background-color: white;position: relative;}#sk-container-id-1 div.sk-item::before, #sk-container-id-1 div.sk-parallel-item::before {content: \"\";position: absolute;border-left: 1px solid gray;box-sizing: border-box;top: 0;bottom: 0;left: 50%;z-index: -1;}#sk-container-id-1 div.sk-parallel-item {display: flex;flex-direction: column;z-index: 1;position: relative;background-color: white;}#sk-container-id-1 div.sk-parallel-item:first-child::after {align-self: flex-end;width: 50%;}#sk-container-id-1 div.sk-parallel-item:last-child::after {align-self: flex-start;width: 50%;}#sk-container-id-1 div.sk-parallel-item:only-child::after {width: 0;}#sk-container-id-1 div.sk-dashed-wrapped {border: 1px dashed gray;margin: 0 0.4em 0.5em 0.4em;box-sizing: border-box;padding-bottom: 0.4em;background-color: white;}#sk-container-id-1 div.sk-label label {font-family: monospace;font-weight: bold;display: inline-block;line-height: 1.2em;}#sk-container-id-1 div.sk-label-container {text-align: center;}#sk-container-id-1 div.sk-container {/* jupyter's `normalize.less` sets `[hidden] { display: none; }` but bootstrap.min.css set `[hidden] { display: none !important; }` so we also need the `!important` here to be able to override the default hidden behavior on the sphinx rendered scikit-learn.org. See: https://github.com/scikit-learn/scikit-learn/issues/21755 */display: inline-block !important;position: relative;}#sk-container-id-1 div.sk-text-repr-fallback {display: none;}</style><div id=\"sk-container-id-1\" class=\"sk-top-container\"><div class=\"sk-text-repr-fallback\"><pre>CalibratedClassifierCV(estimator=LinearSVC(C=0.1, max_iter=10000,\n",
       "                                           random_state=42))</pre><b>In a Jupyter environment, please rerun this cell to show the HTML representation or trust the notebook. <br />On GitHub, the HTML representation is unable to render, please try loading this page with nbviewer.org.</b></div><div class=\"sk-container\" hidden><div class=\"sk-item sk-dashed-wrapped\"><div class=\"sk-label-container\"><div class=\"sk-label sk-toggleable\"><input class=\"sk-toggleable__control sk-hidden--visually\" id=\"sk-estimator-id-1\" type=\"checkbox\" ><label for=\"sk-estimator-id-1\" class=\"sk-toggleable__label sk-toggleable__label-arrow\">CalibratedClassifierCV</label><div class=\"sk-toggleable__content\"><pre>CalibratedClassifierCV(estimator=LinearSVC(C=0.1, max_iter=10000,\n",
       "                                           random_state=42))</pre></div></div></div><div class=\"sk-parallel\"><div class=\"sk-parallel-item\"><div class=\"sk-item\"><div class=\"sk-label-container\"><div class=\"sk-label sk-toggleable\"><input class=\"sk-toggleable__control sk-hidden--visually\" id=\"sk-estimator-id-2\" type=\"checkbox\" ><label for=\"sk-estimator-id-2\" class=\"sk-toggleable__label sk-toggleable__label-arrow\">estimator: LinearSVC</label><div class=\"sk-toggleable__content\"><pre>LinearSVC(C=0.1, max_iter=10000, random_state=42)</pre></div></div></div><div class=\"sk-serial\"><div class=\"sk-item\"><div class=\"sk-estimator sk-toggleable\"><input class=\"sk-toggleable__control sk-hidden--visually\" id=\"sk-estimator-id-3\" type=\"checkbox\" ><label for=\"sk-estimator-id-3\" class=\"sk-toggleable__label sk-toggleable__label-arrow\">LinearSVC</label><div class=\"sk-toggleable__content\"><pre>LinearSVC(C=0.1, max_iter=10000, random_state=42)</pre></div></div></div></div></div></div></div></div></div></div>"
      ],
      "text/plain": [
       "CalibratedClassifierCV(estimator=LinearSVC(C=0.1, max_iter=10000,\n",
       "                                           random_state=42))"
      ]
     },
     "execution_count": 11,
     "metadata": {},
     "output_type": "execute_result"
    }
   ],
   "source": [
    "count_v = CountVectorizer(ngram_range = (1,1), lowercase = False)\n",
    "X_Train = count_v.fit_transform(X_train['tweets'])\n",
    "X_Test = count_v.transform(X_test['content'])\n",
    "model.fit(X_Train, y_train)"
   ]
  },
  {
   "cell_type": "code",
   "execution_count": 12,
   "metadata": {},
   "outputs": [],
   "source": [
    "# Iterar sobre las filas de un dataframe\n",
    "y_pred = []\n",
    "for test in X_Test:\n",
    "    proba = model.predict_proba(test)\n",
    "    y_pred.append(proba.argmax(axis=1)[0])"
   ]
  },
  {
   "cell_type": "code",
   "execution_count": 13,
   "metadata": {},
   "outputs": [
    {
     "data": {
      "text/plain": [
       "'P'"
      ]
     },
     "execution_count": 13,
     "metadata": {},
     "output_type": "execute_result"
    }
   ],
   "source": [
    "list(dictionary_list[0])[0]"
   ]
  },
  {
   "cell_type": "code",
   "execution_count": 22,
   "metadata": {},
   "outputs": [],
   "source": [
    "# crar dataframe con 3 columnas: task, id y label separados por tabulador\n",
    "results = pd.DataFrame()\n",
    "results['TaskName'] = [\"LGBTphobiaDetectionMultiClass\"]*len(y_pred)\n",
    "results['IdentifierOfATweet'] = [str(i + 1) for i in range(len(y_pred))]\n",
    "results['Class'] = [list(dictionary_list[0])[i] for i in y_pred]"
   ]
  },
  {
   "cell_type": "code",
   "execution_count": 23,
   "metadata": {},
   "outputs": [
    {
     "data": {
      "text/html": [
       "<div>\n",
       "<style scoped>\n",
       "    .dataframe tbody tr th:only-of-type {\n",
       "        vertical-align: middle;\n",
       "    }\n",
       "\n",
       "    .dataframe tbody tr th {\n",
       "        vertical-align: top;\n",
       "    }\n",
       "\n",
       "    .dataframe thead th {\n",
       "        text-align: right;\n",
       "    }\n",
       "</style>\n",
       "<table border=\"1\" class=\"dataframe\">\n",
       "  <thead>\n",
       "    <tr style=\"text-align: right;\">\n",
       "      <th></th>\n",
       "      <th>TaskName</th>\n",
       "      <th>IdentifierOfATweet</th>\n",
       "      <th>Class</th>\n",
       "    </tr>\n",
       "  </thead>\n",
       "  <tbody>\n",
       "    <tr>\n",
       "      <th>0</th>\n",
       "      <td>LGBTphobiaDetectionMultiClass</td>\n",
       "      <td>1</td>\n",
       "      <td>NP</td>\n",
       "    </tr>\n",
       "    <tr>\n",
       "      <th>1</th>\n",
       "      <td>LGBTphobiaDetectionMultiClass</td>\n",
       "      <td>2</td>\n",
       "      <td>NP</td>\n",
       "    </tr>\n",
       "    <tr>\n",
       "      <th>2</th>\n",
       "      <td>LGBTphobiaDetectionMultiClass</td>\n",
       "      <td>3</td>\n",
       "      <td>NP</td>\n",
       "    </tr>\n",
       "    <tr>\n",
       "      <th>3</th>\n",
       "      <td>LGBTphobiaDetectionMultiClass</td>\n",
       "      <td>4</td>\n",
       "      <td>NP</td>\n",
       "    </tr>\n",
       "    <tr>\n",
       "      <th>4</th>\n",
       "      <td>LGBTphobiaDetectionMultiClass</td>\n",
       "      <td>5</td>\n",
       "      <td>NA</td>\n",
       "    </tr>\n",
       "  </tbody>\n",
       "</table>\n",
       "</div>"
      ],
      "text/plain": [
       "                        TaskName IdentifierOfATweet Class\n",
       "0  LGBTphobiaDetectionMultiClass                  1    NP\n",
       "1  LGBTphobiaDetectionMultiClass                  2    NP\n",
       "2  LGBTphobiaDetectionMultiClass                  3    NP\n",
       "3  LGBTphobiaDetectionMultiClass                  4    NP\n",
       "4  LGBTphobiaDetectionMultiClass                  5    NA"
      ]
     },
     "execution_count": 23,
     "metadata": {},
     "output_type": "execute_result"
    }
   ],
   "source": [
    "results.head()"
   ]
  },
  {
   "cell_type": "code",
   "execution_count": 26,
   "metadata": {},
   "outputs": [],
   "source": [
    "import csv\n",
    "results.to_csv('Results/results_task1.txt', sep='\\t', index=False, header=False, quoting=csv.QUOTE_ALL, escapechar=\" \")\n"
   ]
  },
  {
   "cell_type": "code",
   "execution_count": null,
   "metadata": {},
   "outputs": [],
   "source": [
    "TP-LPTO-1GC-GS-LR\n",
    "\n",
    "Text Preprocessing (TP)\n",
    "We add the following features: Lemmatization, POS, TAGS and Oher features (LPTO)\n",
    "We vectorize the text by count for unigrams (1GC)\n",
    "We search the best hyperparams for different models by using a Grid Search (GS), and the best result we obtained was Logistic Regression (LR)\n",
    "\n",
    "Centro de Investigación en Computación, Instituto Politécnico Nacional"
   ]
  }
 ],
 "metadata": {
  "kernelspec": {
   "display_name": "Python 3",
   "language": "python",
   "name": "python3"
  },
  "language_info": {
   "codemirror_mode": {
    "name": "ipython",
    "version": 3
   },
   "file_extension": ".py",
   "mimetype": "text/x-python",
   "name": "python",
   "nbconvert_exporter": "python",
   "pygments_lexer": "ipython3",
   "version": "3.9.13"
  },
  "orig_nbformat": 4,
  "vscode": {
   "interpreter": {
    "hash": "59d3b287212f50af165978b62192df5a49b6eea740d718d3743846fa9be15f35"
   }
  }
 },
 "nbformat": 4,
 "nbformat_minor": 2
}
