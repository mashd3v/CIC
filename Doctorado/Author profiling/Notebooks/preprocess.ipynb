{
 "cells": [
  {
   "attachments": {},
   "cell_type": "markdown",
   "metadata": {},
   "source": [
    "## Imports"
   ]
  },
  {
   "cell_type": "code",
   "execution_count": 1,
   "metadata": {},
   "outputs": [],
   "source": [
    "import sys\n",
    "sys.path.append('../Scripts')"
   ]
  },
  {
   "cell_type": "code",
   "execution_count": 2,
   "metadata": {},
   "outputs": [
    {
     "name": "stderr",
     "output_type": "stream",
     "text": [
      "[nltk_data] Downloading package stopwords to\n",
      "[nltk_data]     C:\\Users\\qk_le\\AppData\\Roaming\\nltk_data...\n",
      "[nltk_data]   Package stopwords is already up-to-date!\n"
     ]
    }
   ],
   "source": [
    "import text_preprocessing_v2 as tp2\n",
    "import pandas as pd, numpy as np"
   ]
  },
  {
   "attachments": {},
   "cell_type": "markdown",
   "metadata": {},
   "source": [
    "## Paths"
   ]
  },
  {
   "cell_type": "code",
   "execution_count": 3,
   "metadata": {},
   "outputs": [],
   "source": [
    "data_training_en_path = '../Datasets/PAN19-Author-Profiling-20200229/CSV/pan19-author-profiling-training-2019-02-18-en.csv'\n",
    "data_training_es_path = '../Datasets/PAN19-Author-Profiling-20200229/CSV/pan19-author-profiling-training-2019-02-18-es.csv'\n",
    "data_test_en_path = '../Datasets/PAN19-Author-Profiling-20200229/CSV/pan19-author-profiling-test-2019-04-29-en.csv'\n",
    "data_test_es_path = '../Datasets/PAN19-Author-Profiling-20200229/CSV/pan19-author-profiling-test-2019-04-29-es.csv'"
   ]
  },
  {
   "attachments": {},
   "cell_type": "markdown",
   "metadata": {},
   "source": [
    "## Data"
   ]
  },
  {
   "cell_type": "code",
   "execution_count": 4,
   "metadata": {},
   "outputs": [],
   "source": [
    "data_training_en = pd.read_csv(data_training_en_path)\n",
    "data_test_en = pd.read_csv(data_test_en_path)"
   ]
  },
  {
   "cell_type": "code",
   "execution_count": 5,
   "metadata": {},
   "outputs": [],
   "source": [
    "data_training_es = pd.read_csv(data_training_es_path)\n",
    "data_test_es = pd.read_csv(data_test_es_path)"
   ]
  },
  {
   "attachments": {},
   "cell_type": "markdown",
   "metadata": {},
   "source": [
    "## Preprocessing"
   ]
  },
  {
   "cell_type": "code",
   "execution_count": 6,
   "metadata": {},
   "outputs": [],
   "source": [
    "prep_en = tp2.Preprocessing(language='english')\n",
    "prep_es = tp2.Preprocessing(language='spanish')"
   ]
  },
  {
   "attachments": {},
   "cell_type": "markdown",
   "metadata": {},
   "source": [
    "### English"
   ]
  },
  {
   "cell_type": "code",
   "execution_count": 7,
   "metadata": {},
   "outputs": [],
   "source": [
    "data_training_en = prep_en.main_preprocess(data=data_training_en, \n",
    "                                column='tweet', \n",
    "                                remove_stop_words=False, \n",
    "                                is_dataframe=True, \n",
    "                                emoji_path=None)"
   ]
  },
  {
   "cell_type": "code",
   "execution_count": 8,
   "metadata": {},
   "outputs": [
    {
     "data": {
      "text/html": [
       "<div>\n",
       "<style scoped>\n",
       "    .dataframe tbody tr th:only-of-type {\n",
       "        vertical-align: middle;\n",
       "    }\n",
       "\n",
       "    .dataframe tbody tr th {\n",
       "        vertical-align: top;\n",
       "    }\n",
       "\n",
       "    .dataframe thead th {\n",
       "        text-align: right;\n",
       "    }\n",
       "</style>\n",
       "<table border=\"1\" class=\"dataframe\">\n",
       "  <thead>\n",
       "    <tr style=\"text-align: right;\">\n",
       "      <th></th>\n",
       "      <th>Unnamed: 0</th>\n",
       "      <th>id</th>\n",
       "      <th>tweet</th>\n",
       "      <th>author</th>\n",
       "      <th>gender</th>\n",
       "    </tr>\n",
       "  </thead>\n",
       "  <tbody>\n",
       "    <tr>\n",
       "      <th>0</th>\n",
       "      <td>0</td>\n",
       "      <td>1008c35dc72c34ead679c539a0ed7c24</td>\n",
       "      <td>i can hear the black bull jukey calling</td>\n",
       "      <td>human</td>\n",
       "      <td>male</td>\n",
       "    </tr>\n",
       "    <tr>\n",
       "      <th>1</th>\n",
       "      <td>1</td>\n",
       "      <td>1008c35dc72c34ead679c539a0ed7c24</td>\n",
       "      <td>tony robinson or the agincourt salute</td>\n",
       "      <td>human</td>\n",
       "      <td>male</td>\n",
       "    </tr>\n",
       "    <tr>\n",
       "      <th>2</th>\n",
       "      <td>2</td>\n",
       "      <td>1008c35dc72c34ead679c539a0ed7c24</td>\n",
       "      <td>insight into how challenging touring is for a ...</td>\n",
       "      <td>human</td>\n",
       "      <td>male</td>\n",
       "    </tr>\n",
       "    <tr>\n",
       "      <th>3</th>\n",
       "      <td>3</td>\n",
       "      <td>1008c35dc72c34ead679c539a0ed7c24</td>\n",
       "      <td>flight of the rat https t co ras krs c classic...</td>\n",
       "      <td>human</td>\n",
       "      <td>male</td>\n",
       "    </tr>\n",
       "    <tr>\n",
       "      <th>4</th>\n",
       "      <td>4</td>\n",
       "      <td>1008c35dc72c34ead679c539a0ed7c24</td>\n",
       "      <td>he switched his twitter aff give him a poke on...</td>\n",
       "      <td>human</td>\n",
       "      <td>male</td>\n",
       "    </tr>\n",
       "  </tbody>\n",
       "</table>\n",
       "</div>"
      ],
      "text/plain": [
       "   Unnamed: 0                                id  \\\n",
       "0           0  1008c35dc72c34ead679c539a0ed7c24   \n",
       "1           1  1008c35dc72c34ead679c539a0ed7c24   \n",
       "2           2  1008c35dc72c34ead679c539a0ed7c24   \n",
       "3           3  1008c35dc72c34ead679c539a0ed7c24   \n",
       "4           4  1008c35dc72c34ead679c539a0ed7c24   \n",
       "\n",
       "                                               tweet author gender  \n",
       "0            i can hear the black bull jukey calling  human   male  \n",
       "1              tony robinson or the agincourt salute  human   male  \n",
       "2  insight into how challenging touring is for a ...  human   male  \n",
       "3  flight of the rat https t co ras krs c classic...  human   male  \n",
       "4  he switched his twitter aff give him a poke on...  human   male  "
      ]
     },
     "execution_count": 8,
     "metadata": {},
     "output_type": "execute_result"
    }
   ],
   "source": [
    "data_training_en.head()"
   ]
  },
  {
   "cell_type": "code",
   "execution_count": 9,
   "metadata": {},
   "outputs": [],
   "source": [
    "data_test_en = prep_en.main_preprocess(data=data_test_en, \n",
    "                                column='tweet', \n",
    "                                remove_stop_words=False, \n",
    "                                is_dataframe=True, \n",
    "                                emoji_path=None)"
   ]
  },
  {
   "cell_type": "code",
   "execution_count": 10,
   "metadata": {},
   "outputs": [
    {
     "data": {
      "text/html": [
       "<div>\n",
       "<style scoped>\n",
       "    .dataframe tbody tr th:only-of-type {\n",
       "        vertical-align: middle;\n",
       "    }\n",
       "\n",
       "    .dataframe tbody tr th {\n",
       "        vertical-align: top;\n",
       "    }\n",
       "\n",
       "    .dataframe thead th {\n",
       "        text-align: right;\n",
       "    }\n",
       "</style>\n",
       "<table border=\"1\" class=\"dataframe\">\n",
       "  <thead>\n",
       "    <tr style=\"text-align: right;\">\n",
       "      <th></th>\n",
       "      <th>Unnamed: 0</th>\n",
       "      <th>id</th>\n",
       "      <th>tweet</th>\n",
       "      <th>author</th>\n",
       "      <th>gender</th>\n",
       "    </tr>\n",
       "  </thead>\n",
       "  <tbody>\n",
       "    <tr>\n",
       "      <th>0</th>\n",
       "      <td>0</td>\n",
       "      <td>1004f4afed2845ffc0079096de16d6f2</td>\n",
       "      <td>no one can make you feel inferior without your...</td>\n",
       "      <td>bot</td>\n",
       "      <td>bot</td>\n",
       "    </tr>\n",
       "    <tr>\n",
       "      <th>1</th>\n",
       "      <td>1</td>\n",
       "      <td>1004f4afed2845ffc0079096de16d6f2</td>\n",
       "      <td>read the life and music of rupert holmes http ...</td>\n",
       "      <td>bot</td>\n",
       "      <td>bot</td>\n",
       "    </tr>\n",
       "    <tr>\n",
       "      <th>2</th>\n",
       "      <td>2</td>\n",
       "      <td>1004f4afed2845ffc0079096de16d6f2</td>\n",
       "      <td>check out far out and super cool watches http ...</td>\n",
       "      <td>bot</td>\n",
       "      <td>bot</td>\n",
       "    </tr>\n",
       "    <tr>\n",
       "      <th>3</th>\n",
       "      <td>3</td>\n",
       "      <td>1004f4afed2845ffc0079096de16d6f2</td>\n",
       "      <td>tornado automatic cocktail shaker very cool ht...</td>\n",
       "      <td>bot</td>\n",
       "      <td>bot</td>\n",
       "    </tr>\n",
       "    <tr>\n",
       "      <th>4</th>\n",
       "      <td>4</td>\n",
       "      <td>1004f4afed2845ffc0079096de16d6f2</td>\n",
       "      <td>spinal tap rocked my world its for rock what t...</td>\n",
       "      <td>bot</td>\n",
       "      <td>bot</td>\n",
       "    </tr>\n",
       "  </tbody>\n",
       "</table>\n",
       "</div>"
      ],
      "text/plain": [
       "   Unnamed: 0                                id  \\\n",
       "0           0  1004f4afed2845ffc0079096de16d6f2   \n",
       "1           1  1004f4afed2845ffc0079096de16d6f2   \n",
       "2           2  1004f4afed2845ffc0079096de16d6f2   \n",
       "3           3  1004f4afed2845ffc0079096de16d6f2   \n",
       "4           4  1004f4afed2845ffc0079096de16d6f2   \n",
       "\n",
       "                                               tweet author gender  \n",
       "0  no one can make you feel inferior without your...    bot    bot  \n",
       "1  read the life and music of rupert holmes http ...    bot    bot  \n",
       "2  check out far out and super cool watches http ...    bot    bot  \n",
       "3  tornado automatic cocktail shaker very cool ht...    bot    bot  \n",
       "4  spinal tap rocked my world its for rock what t...    bot    bot  "
      ]
     },
     "execution_count": 10,
     "metadata": {},
     "output_type": "execute_result"
    }
   ],
   "source": [
    "data_test_en.head()"
   ]
  },
  {
   "cell_type": "code",
   "execution_count": 11,
   "metadata": {},
   "outputs": [],
   "source": [
    "data_training_en = data_training_en.dropna(how='all')\n",
    "data_test_en = data_test_en.dropna(how='all')"
   ]
  },
  {
   "attachments": {},
   "cell_type": "markdown",
   "metadata": {},
   "source": [
    "### Spanish"
   ]
  },
  {
   "cell_type": "code",
   "execution_count": 12,
   "metadata": {},
   "outputs": [],
   "source": [
    "data_training_es = prep_es.main_preprocess(data=data_training_es, \n",
    "                                column='tweet', \n",
    "                                remove_stop_words=False, \n",
    "                                is_dataframe=True, \n",
    "                                emoji_path=None)"
   ]
  },
  {
   "cell_type": "code",
   "execution_count": 13,
   "metadata": {},
   "outputs": [
    {
     "data": {
      "text/html": [
       "<div>\n",
       "<style scoped>\n",
       "    .dataframe tbody tr th:only-of-type {\n",
       "        vertical-align: middle;\n",
       "    }\n",
       "\n",
       "    .dataframe tbody tr th {\n",
       "        vertical-align: top;\n",
       "    }\n",
       "\n",
       "    .dataframe thead th {\n",
       "        text-align: right;\n",
       "    }\n",
       "</style>\n",
       "<table border=\"1\" class=\"dataframe\">\n",
       "  <thead>\n",
       "    <tr style=\"text-align: right;\">\n",
       "      <th></th>\n",
       "      <th>Unnamed: 0</th>\n",
       "      <th>id</th>\n",
       "      <th>tweet</th>\n",
       "      <th>author</th>\n",
       "      <th>gender</th>\n",
       "    </tr>\n",
       "  </thead>\n",
       "  <tbody>\n",
       "    <tr>\n",
       "      <th>0</th>\n",
       "      <td>0</td>\n",
       "      <td>101b7e91c65fffeb87282ca0308af455</td>\n",
       "      <td>rt laazcarate hoy me salen todas las canciones</td>\n",
       "      <td>human</td>\n",
       "      <td>female</td>\n",
       "    </tr>\n",
       "    <tr>\n",
       "      <th>1</th>\n",
       "      <td>1</td>\n",
       "      <td>101b7e91c65fffeb87282ca0308af455</td>\n",
       "      <td>rt valdedrama un tipo me gusta y estoy en esa ...</td>\n",
       "      <td>human</td>\n",
       "      <td>female</td>\n",
       "    </tr>\n",
       "    <tr>\n",
       "      <th>2</th>\n",
       "      <td>2</td>\n",
       "      <td>101b7e91c65fffeb87282ca0308af455</td>\n",
       "      <td>rt valdedrama como hablo cuando el que me gust...</td>\n",
       "      <td>human</td>\n",
       "      <td>female</td>\n",
       "    </tr>\n",
       "    <tr>\n",
       "      <th>3</th>\n",
       "      <td>3</td>\n",
       "      <td>101b7e91c65fffeb87282ca0308af455</td>\n",
       "      <td>rt biondaimmorale yo creo que la gente tambien...</td>\n",
       "      <td>human</td>\n",
       "      <td>female</td>\n",
       "    </tr>\n",
       "    <tr>\n",
       "      <th>4</th>\n",
       "      <td>4</td>\n",
       "      <td>101b7e91c65fffeb87282ca0308af455</td>\n",
       "      <td>rt bleu minette no me esperaba eso de vos te d...</td>\n",
       "      <td>human</td>\n",
       "      <td>female</td>\n",
       "    </tr>\n",
       "  </tbody>\n",
       "</table>\n",
       "</div>"
      ],
      "text/plain": [
       "   Unnamed: 0                                id  \\\n",
       "0           0  101b7e91c65fffeb87282ca0308af455   \n",
       "1           1  101b7e91c65fffeb87282ca0308af455   \n",
       "2           2  101b7e91c65fffeb87282ca0308af455   \n",
       "3           3  101b7e91c65fffeb87282ca0308af455   \n",
       "4           4  101b7e91c65fffeb87282ca0308af455   \n",
       "\n",
       "                                               tweet author  gender  \n",
       "0     rt laazcarate hoy me salen todas las canciones  human  female  \n",
       "1  rt valdedrama un tipo me gusta y estoy en esa ...  human  female  \n",
       "2  rt valdedrama como hablo cuando el que me gust...  human  female  \n",
       "3  rt biondaimmorale yo creo que la gente tambien...  human  female  \n",
       "4  rt bleu minette no me esperaba eso de vos te d...  human  female  "
      ]
     },
     "execution_count": 13,
     "metadata": {},
     "output_type": "execute_result"
    }
   ],
   "source": [
    "data_training_es.head()"
   ]
  },
  {
   "cell_type": "code",
   "execution_count": 14,
   "metadata": {},
   "outputs": [],
   "source": [
    "data_test_es = prep_es.main_preprocess(data=data_test_es, \n",
    "                                column='tweet', \n",
    "                                remove_stop_words=False, \n",
    "                                is_dataframe=True, \n",
    "                                emoji_path=None)"
   ]
  },
  {
   "cell_type": "code",
   "execution_count": 15,
   "metadata": {},
   "outputs": [
    {
     "data": {
      "text/html": [
       "<div>\n",
       "<style scoped>\n",
       "    .dataframe tbody tr th:only-of-type {\n",
       "        vertical-align: middle;\n",
       "    }\n",
       "\n",
       "    .dataframe tbody tr th {\n",
       "        vertical-align: top;\n",
       "    }\n",
       "\n",
       "    .dataframe thead th {\n",
       "        text-align: right;\n",
       "    }\n",
       "</style>\n",
       "<table border=\"1\" class=\"dataframe\">\n",
       "  <thead>\n",
       "    <tr style=\"text-align: right;\">\n",
       "      <th></th>\n",
       "      <th>Unnamed: 0</th>\n",
       "      <th>id</th>\n",
       "      <th>tweet</th>\n",
       "      <th>author</th>\n",
       "      <th>gender</th>\n",
       "    </tr>\n",
       "  </thead>\n",
       "  <tbody>\n",
       "    <tr>\n",
       "      <th>0</th>\n",
       "      <td>0</td>\n",
       "      <td>10081456099ce9fc370e3f1e7db9c27b</td>\n",
       "      <td>rt cumbre cp la comunicacion del gobierno es u...</td>\n",
       "      <td>human</td>\n",
       "      <td>male</td>\n",
       "    </tr>\n",
       "    <tr>\n",
       "      <th>1</th>\n",
       "      <td>1</td>\n",
       "      <td>10081456099ce9fc370e3f1e7db9c27b</td>\n",
       "      <td>ahora daniela aruj empieza su exposicion brill...</td>\n",
       "      <td>human</td>\n",
       "      <td>male</td>\n",
       "    </tr>\n",
       "    <tr>\n",
       "      <th>2</th>\n",
       "      <td>2</td>\n",
       "      <td>10081456099ce9fc370e3f1e7db9c27b</td>\n",
       "      <td>gracias por compartir https t co qmax imuwd t</td>\n",
       "      <td>human</td>\n",
       "      <td>male</td>\n",
       "    </tr>\n",
       "    <tr>\n",
       "      <th>3</th>\n",
       "      <td>3</td>\n",
       "      <td>10081456099ce9fc370e3f1e7db9c27b</td>\n",
       "      <td>gracias por todo el apoyo a la presentacion y ...</td>\n",
       "      <td>human</td>\n",
       "      <td>male</td>\n",
       "    </tr>\n",
       "    <tr>\n",
       "      <th>4</th>\n",
       "      <td>4</td>\n",
       "      <td>10081456099ce9fc370e3f1e7db9c27b</td>\n",
       "      <td>gracias jpvmx por compartir https t co qmax im...</td>\n",
       "      <td>human</td>\n",
       "      <td>male</td>\n",
       "    </tr>\n",
       "  </tbody>\n",
       "</table>\n",
       "</div>"
      ],
      "text/plain": [
       "   Unnamed: 0                                id  \\\n",
       "0           0  10081456099ce9fc370e3f1e7db9c27b   \n",
       "1           1  10081456099ce9fc370e3f1e7db9c27b   \n",
       "2           2  10081456099ce9fc370e3f1e7db9c27b   \n",
       "3           3  10081456099ce9fc370e3f1e7db9c27b   \n",
       "4           4  10081456099ce9fc370e3f1e7db9c27b   \n",
       "\n",
       "                                               tweet author gender  \n",
       "0  rt cumbre cp la comunicacion del gobierno es u...  human   male  \n",
       "1  ahora daniela aruj empieza su exposicion brill...  human   male  \n",
       "2      gracias por compartir https t co qmax imuwd t  human   male  \n",
       "3  gracias por todo el apoyo a la presentacion y ...  human   male  \n",
       "4  gracias jpvmx por compartir https t co qmax im...  human   male  "
      ]
     },
     "execution_count": 15,
     "metadata": {},
     "output_type": "execute_result"
    }
   ],
   "source": [
    "data_test_es.head()"
   ]
  },
  {
   "cell_type": "code",
   "execution_count": 12,
   "metadata": {},
   "outputs": [],
   "source": [
    "data_training_es = data_training_es.dropna(how='all')\n",
    "data_test_es = data_test_es.dropna(how='all')"
   ]
  },
  {
   "attachments": {},
   "cell_type": "markdown",
   "metadata": {},
   "source": [
    "## Data visualization"
   ]
  },
  {
   "cell_type": "code",
   "execution_count": 13,
   "metadata": {},
   "outputs": [],
   "source": [
    "import matplotlib.pyplot as plt\n",
    "import seaborn as sns\n",
    "%matplotlib inline\n",
    "%config InlineBackend.figure_format='retina'"
   ]
  },
  {
   "cell_type": "code",
   "execution_count": 14,
   "metadata": {},
   "outputs": [],
   "source": [
    "bar_colors = ['tab:red', 'tab:blue']"
   ]
  },
  {
   "cell_type": "code",
   "execution_count": 15,
   "metadata": {},
   "outputs": [],
   "source": [
    "def plot_counts(labels, counted_labels, bar_colors, x_label, y_label, plot_title, plot_size):\n",
    "    fig = plt.figure(figsize=plot_size)\n",
    "    \n",
    "    plt.bar(labels, counted_labels, color=bar_colors)\n",
    "\n",
    "    plt.xlabel(x_label)\n",
    "    plt.ylabel(y_label)\n",
    "    plt.title(plot_title)\n",
    "\n",
    "    plt.figure(figsize=plot_size)\n",
    "    plt.show()"
   ]
  },
  {
   "attachments": {},
   "cell_type": "markdown",
   "metadata": {},
   "source": [
    "### English"
   ]
  },
  {
   "cell_type": "code",
   "execution_count": 16,
   "metadata": {},
   "outputs": [
    {
     "name": "stdout",
     "output_type": "stream",
     "text": [
      "<class 'pandas.core.frame.DataFrame'>\n",
      "RangeIndex: 17550 entries, 0 to 17549\n",
      "Data columns (total 5 columns):\n",
      " #   Column      Non-Null Count  Dtype \n",
      "---  ------      --------------  ----- \n",
      " 0   Unnamed: 0  17550 non-null  int64 \n",
      " 1   id          17550 non-null  object\n",
      " 2   tweet       17550 non-null  object\n",
      " 3   author      17550 non-null  object\n",
      " 4   gender      17550 non-null  object\n",
      "dtypes: int64(1), object(4)\n",
      "memory usage: 685.7+ KB\n"
     ]
    }
   ],
   "source": [
    "data_training_en.info()"
   ]
  },
  {
   "cell_type": "code",
   "execution_count": 17,
   "metadata": {},
   "outputs": [],
   "source": [
    "values_author_en = data_training_en.author.value_counts()\n",
    "values_gender_en = data_training_en.gender.value_counts()"
   ]
  },
  {
   "cell_type": "code",
   "execution_count": 18,
   "metadata": {},
   "outputs": [
    {
     "data": {
      "image/png": "[encoded data removed]",
      "text/plain": [
       "<Figure size 720x720 with 1 Axes>"
      ]
     },
     "metadata": {
      "image/png": {
       "height": 603,
       "width": 625
      },
      "needs_background": "light"
     },
     "output_type": "display_data"
    },
    {
     "data": {
      "text/plain": [
       "<Figure size 720x720 with 0 Axes>"
      ]
     },
     "metadata": {},
     "output_type": "display_data"
    }
   ],
   "source": [
    "plot_counts(labels=values_author_en.keys().tolist(), \n",
    "            counted_labels=values_author_en.values.tolist(),\n",
    "            bar_colors=bar_colors,\n",
    "            x_label='Label',\n",
    "            y_label='Total',\n",
    "            plot_title='PAN training dataset by author (EN)',\n",
    "            plot_size=(10,10))"
   ]
  },
  {
   "cell_type": "code",
   "execution_count": 19,
   "metadata": {},
   "outputs": [
    {
     "data": {
      "image/png": "[encoded data removed]",
      "text/plain": [
       "<Figure size 720x720 with 1 Axes>"
      ]
     },
     "metadata": {
      "image/png": {
       "height": 603,
       "width": 618
      },
      "needs_background": "light"
     },
     "output_type": "display_data"
    },
    {
     "data": {
      "text/plain": [
       "<Figure size 720x720 with 0 Axes>"
      ]
     },
     "metadata": {},
     "output_type": "display_data"
    }
   ],
   "source": [
    "plot_counts(labels=values_gender_en.keys().tolist()[1:], \n",
    "            counted_labels=values_gender_en.values.tolist()[1:],\n",
    "            bar_colors=bar_colors,\n",
    "            x_label='Label',\n",
    "            y_label='Total',\n",
    "            plot_title='PAN training dataset by gender (EN)',\n",
    "            plot_size=(10,10))"
   ]
  },
  {
   "attachments": {},
   "cell_type": "markdown",
   "metadata": {},
   "source": [
    "### Spanish"
   ]
  },
  {
   "cell_type": "code",
   "execution_count": 20,
   "metadata": {},
   "outputs": [
    {
     "name": "stdout",
     "output_type": "stream",
     "text": [
      "<class 'pandas.core.frame.DataFrame'>\n",
      "RangeIndex: 105736 entries, 0 to 105735\n",
      "Data columns (total 5 columns):\n",
      " #   Column      Non-Null Count   Dtype \n",
      "---  ------      --------------   ----- \n",
      " 0   Unnamed: 0  105736 non-null  int64 \n",
      " 1   id          105736 non-null  object\n",
      " 2   tweet       105736 non-null  object\n",
      " 3   author      105736 non-null  object\n",
      " 4   gender      105736 non-null  object\n",
      "dtypes: int64(1), object(4)\n",
      "memory usage: 4.0+ MB\n"
     ]
    }
   ],
   "source": [
    "data_training_es.info()"
   ]
  },
  {
   "cell_type": "code",
   "execution_count": 21,
   "metadata": {},
   "outputs": [],
   "source": [
    "values_author_es = data_training_es.author.value_counts()\n",
    "values_gender_es = data_training_en.gender.value_counts()"
   ]
  },
  {
   "cell_type": "code",
   "execution_count": 22,
   "metadata": {},
   "outputs": [
    {
     "data": {
      "image/png": "[encoded data removed]",
      "text/plain": [
       "<Figure size 720x720 with 1 Axes>"
      ]
     },
     "metadata": {
      "image/png": {
       "height": 603,
       "width": 625
      },
      "needs_background": "light"
     },
     "output_type": "display_data"
    },
    {
     "data": {
      "text/plain": [
       "<Figure size 720x720 with 0 Axes>"
      ]
     },
     "metadata": {},
     "output_type": "display_data"
    }
   ],
   "source": [
    "plot_counts(labels=values_author_es.keys().tolist(), \n",
    "            counted_labels=values_author_es.values.tolist(),\n",
    "            bar_colors=bar_colors,\n",
    "            x_label='Label',\n",
    "            y_label='Total',\n",
    "            plot_title='PAN training dataset by author (ES)',\n",
    "            plot_size=(10,10))"
   ]
  },
  {
   "cell_type": "code",
   "execution_count": 23,
   "metadata": {},
   "outputs": [
    {
     "data": {
      "image/png": "[encoded data removed]",
      "text/plain": [
       "<Figure size 720x720 with 1 Axes>"
      ]
     },
     "metadata": {
      "image/png": {
       "height": 603,
       "width": 618
      },
      "needs_background": "light"
     },
     "output_type": "display_data"
    },
    {
     "data": {
      "text/plain": [
       "<Figure size 720x720 with 0 Axes>"
      ]
     },
     "metadata": {},
     "output_type": "display_data"
    }
   ],
   "source": [
    "plot_counts(labels=values_gender_es.keys().tolist()[1:], \n",
    "            counted_labels=values_gender_es.values.tolist()[1:],\n",
    "            bar_colors=bar_colors,\n",
    "            x_label='Label',\n",
    "            y_label='Total',\n",
    "            plot_title='PAN training dataset by gender (ES)',\n",
    "            plot_size=(10,10))"
   ]
  },
  {
   "attachments": {},
   "cell_type": "markdown",
   "metadata": {},
   "source": [
    "## Baseline"
   ]
  },
  {
   "cell_type": "code",
   "execution_count": 32,
   "metadata": {},
   "outputs": [],
   "source": [
    "from sklearn.feature_extraction.text import TfidfVectorizer\n",
    "from sklearn.linear_model import LogisticRegression\n",
    "from sklearn.model_selection import cross_val_score, KFold\n",
    "from sklearn import metrics\n",
    "import time"
   ]
  },
  {
   "cell_type": "code",
   "execution_count": 40,
   "metadata": {},
   "outputs": [],
   "source": [
    "def change_labels(data, column, original_labels, numeric_labels):\n",
    "    for i, label in enumerate(original_labels):\n",
    "        data = data[column].replace([label], numeric_labels[i])\n",
    "    return data"
   ]
  },
  {
   "cell_type": "code",
   "execution_count": 41,
   "metadata": {},
   "outputs": [
    {
     "ename": "KeyError",
     "evalue": "'author'",
     "output_type": "error",
     "traceback": [
      "\u001b[1;31m---------------------------------------------------------------------------\u001b[0m",
      "\u001b[1;31mKeyError\u001b[0m                                  Traceback (most recent call last)",
      "\u001b[1;32ma:\\MICHU\\Documents\\Escuela\\CIC\\Doctorado\\Author profiling\\Notebooks\\preprocess.ipynb Cell 36\u001b[0m in \u001b[0;36m<cell line: 1>\u001b[1;34m()\u001b[0m\n\u001b[1;32m----> <a href='vscode-notebook-cell:/a%3A/MICHU/Documents/Escuela/CIC/Doctorado/Author%20profiling/Notebooks/preprocess.ipynb#X65sZmlsZQ%3D%3D?line=0'>1</a>\u001b[0m data_training_en \u001b[39m=\u001b[39m change_labels(data_training_en, \n\u001b[0;32m      <a href='vscode-notebook-cell:/a%3A/MICHU/Documents/Escuela/CIC/Doctorado/Author%20profiling/Notebooks/preprocess.ipynb#X65sZmlsZQ%3D%3D?line=1'>2</a>\u001b[0m                                  \u001b[39m'\u001b[39;49m\u001b[39mauthor\u001b[39;49m\u001b[39m'\u001b[39;49m,\n\u001b[0;32m      <a href='vscode-notebook-cell:/a%3A/MICHU/Documents/Escuela/CIC/Doctorado/Author%20profiling/Notebooks/preprocess.ipynb#X65sZmlsZQ%3D%3D?line=2'>3</a>\u001b[0m                                  values_author_en\u001b[39m.\u001b[39;49mkeys()\u001b[39m.\u001b[39;49mtolist(),\n\u001b[0;32m      <a href='vscode-notebook-cell:/a%3A/MICHU/Documents/Escuela/CIC/Doctorado/Author%20profiling/Notebooks/preprocess.ipynb#X65sZmlsZQ%3D%3D?line=3'>4</a>\u001b[0m                                  [\u001b[39m0\u001b[39;49m,\u001b[39m1\u001b[39;49m])\n\u001b[0;32m      <a href='vscode-notebook-cell:/a%3A/MICHU/Documents/Escuela/CIC/Doctorado/Author%20profiling/Notebooks/preprocess.ipynb#X65sZmlsZQ%3D%3D?line=4'>5</a>\u001b[0m data_training_en\u001b[39m.\u001b[39mhead()\n",
      "\u001b[1;32ma:\\MICHU\\Documents\\Escuela\\CIC\\Doctorado\\Author profiling\\Notebooks\\preprocess.ipynb Cell 36\u001b[0m in \u001b[0;36mchange_labels\u001b[1;34m(data, column, original_labels, numeric_labels)\u001b[0m\n\u001b[0;32m      <a href='vscode-notebook-cell:/a%3A/MICHU/Documents/Escuela/CIC/Doctorado/Author%20profiling/Notebooks/preprocess.ipynb#X65sZmlsZQ%3D%3D?line=0'>1</a>\u001b[0m \u001b[39mdef\u001b[39;00m \u001b[39mchange_labels\u001b[39m(data, column, original_labels, numeric_labels):\n\u001b[0;32m      <a href='vscode-notebook-cell:/a%3A/MICHU/Documents/Escuela/CIC/Doctorado/Author%20profiling/Notebooks/preprocess.ipynb#X65sZmlsZQ%3D%3D?line=1'>2</a>\u001b[0m     \u001b[39mfor\u001b[39;00m i, label \u001b[39min\u001b[39;00m \u001b[39menumerate\u001b[39m(original_labels):\n\u001b[1;32m----> <a href='vscode-notebook-cell:/a%3A/MICHU/Documents/Escuela/CIC/Doctorado/Author%20profiling/Notebooks/preprocess.ipynb#X65sZmlsZQ%3D%3D?line=2'>3</a>\u001b[0m         data \u001b[39m=\u001b[39m data[column]\u001b[39m.\u001b[39mreplace([label], numeric_labels[i])\n\u001b[0;32m      <a href='vscode-notebook-cell:/a%3A/MICHU/Documents/Escuela/CIC/Doctorado/Author%20profiling/Notebooks/preprocess.ipynb#X65sZmlsZQ%3D%3D?line=3'>4</a>\u001b[0m     \u001b[39mreturn\u001b[39;00m data\n",
      "File \u001b[1;32m~\\AppData\\Local\\Packages\\PythonSoftwareFoundation.Python.3.9_qbz5n2kfra8p0\\LocalCache\\local-packages\\Python39\\site-packages\\pandas\\core\\series.py:981\u001b[0m, in \u001b[0;36mSeries.__getitem__\u001b[1;34m(self, key)\u001b[0m\n\u001b[0;32m    978\u001b[0m     \u001b[39mreturn\u001b[39;00m \u001b[39mself\u001b[39m\u001b[39m.\u001b[39m_values[key]\n\u001b[0;32m    980\u001b[0m \u001b[39melif\u001b[39;00m key_is_scalar:\n\u001b[1;32m--> 981\u001b[0m     \u001b[39mreturn\u001b[39;00m \u001b[39mself\u001b[39;49m\u001b[39m.\u001b[39;49m_get_value(key)\n\u001b[0;32m    983\u001b[0m \u001b[39mif\u001b[39;00m is_hashable(key):\n\u001b[0;32m    984\u001b[0m     \u001b[39m# Otherwise index.get_value will raise InvalidIndexError\u001b[39;00m\n\u001b[0;32m    985\u001b[0m     \u001b[39mtry\u001b[39;00m:\n\u001b[0;32m    986\u001b[0m         \u001b[39m# For labels that don't resolve as scalars like tuples and frozensets\u001b[39;00m\n",
      "File \u001b[1;32m~\\AppData\\Local\\Packages\\PythonSoftwareFoundation.Python.3.9_qbz5n2kfra8p0\\LocalCache\\local-packages\\Python39\\site-packages\\pandas\\core\\series.py:1089\u001b[0m, in \u001b[0;36mSeries._get_value\u001b[1;34m(self, label, takeable)\u001b[0m\n\u001b[0;32m   1086\u001b[0m     \u001b[39mreturn\u001b[39;00m \u001b[39mself\u001b[39m\u001b[39m.\u001b[39m_values[label]\n\u001b[0;32m   1088\u001b[0m \u001b[39m# Similar to Index.get_value, but we do not fall back to positional\u001b[39;00m\n\u001b[1;32m-> 1089\u001b[0m loc \u001b[39m=\u001b[39m \u001b[39mself\u001b[39;49m\u001b[39m.\u001b[39;49mindex\u001b[39m.\u001b[39;49mget_loc(label)\n\u001b[0;32m   1090\u001b[0m \u001b[39mreturn\u001b[39;00m \u001b[39mself\u001b[39m\u001b[39m.\u001b[39mindex\u001b[39m.\u001b[39m_get_values_for_loc(\u001b[39mself\u001b[39m, loc, label)\n",
      "File \u001b[1;32m~\\AppData\\Local\\Packages\\PythonSoftwareFoundation.Python.3.9_qbz5n2kfra8p0\\LocalCache\\local-packages\\Python39\\site-packages\\pandas\\core\\indexes\\range.py:395\u001b[0m, in \u001b[0;36mRangeIndex.get_loc\u001b[1;34m(self, key, method, tolerance)\u001b[0m\n\u001b[0;32m    393\u001b[0m             \u001b[39mraise\u001b[39;00m \u001b[39mKeyError\u001b[39;00m(key) \u001b[39mfrom\u001b[39;00m \u001b[39merr\u001b[39;00m\n\u001b[0;32m    394\u001b[0m     \u001b[39mself\u001b[39m\u001b[39m.\u001b[39m_check_indexing_error(key)\n\u001b[1;32m--> 395\u001b[0m     \u001b[39mraise\u001b[39;00m \u001b[39mKeyError\u001b[39;00m(key)\n\u001b[0;32m    396\u001b[0m \u001b[39mreturn\u001b[39;00m \u001b[39msuper\u001b[39m()\u001b[39m.\u001b[39mget_loc(key, method\u001b[39m=\u001b[39mmethod, tolerance\u001b[39m=\u001b[39mtolerance)\n",
      "\u001b[1;31mKeyError\u001b[0m: 'author'"
     ]
    }
   ],
   "source": [
    "data_training_en = change_labels(data_training_en, \n",
    "                                 'author',\n",
    "                                 values_author_en.keys().tolist(),\n",
    "                                 [0,1])\n",
    "data_training_en.head()"
   ]
  },
  {
   "cell_type": "code",
   "execution_count": 27,
   "metadata": {},
   "outputs": [],
   "source": [
    "def baseline(model, cv, train_data, test_data, scoring, x_label_column, y_label_column):\n",
    "    # Training data\n",
    "    x_train = train_data[x_label_column].tolist()\n",
    "    y_train = train_data[y_label_column].tolist()\n",
    "\n",
    "    # Test data\n",
    "    x_test = test_data[x_label_column].tolist()\n",
    "    y_test = test_data[y_label_column].tolist()\n",
    "\n",
    "    # Vectorizing text data\n",
    "    vectorizer = TfidfVectorizer(ngram_range=(1, 3), min_df=3)\n",
    "    x_train = vectorizer.fit_transform(x_train)\n",
    "    x_test = vectorizer.transform(x_test)\n",
    "\n",
    "    # K-Fold \n",
    "    print('5 k-fold')\n",
    "    %%time\n",
    "    cv_results = cross_val_score(model, x_train, y_train, cv=cv, scoring=scoring)\n",
    "    print(cv_results.mean())\n",
    "\n",
    "    # Fitting model\n",
    "    print('Fitting model')\n",
    "    %%time\n",
    "    model.fit(x_train, y_train)\n",
    "    y_pred = model.predict(x_test)\n",
    "\n",
    "    # Results\n",
    "    print(metrics.classification_report(y_test, y_pred, target_names=[]))\n",
    "\n",
    "\n",
    "    return model, vectorizer\n"
   ]
  },
  {
   "cell_type": "code",
   "execution_count": 28,
   "metadata": {},
   "outputs": [],
   "source": [
    "seed = 42\n",
    "scoring = scoring = {'Accuracy': 'accuracy', 'F1-Score': 'f1', \n",
    "                'Precision': 'precision', 'Recall': 'recall'}\n",
    "model = LogisticRegression(random_state = seed, penalty = 'l2', \n",
    "                            solver = 'liblinear', max_iter = 1000)\n",
    "cv = KFold(n_splits=5, shuffle=True, random_state=seed)"
   ]
  },
  {
   "cell_type": "code",
   "execution_count": 29,
   "metadata": {},
   "outputs": [],
   "source": [
    "model, vectorizer = baseline(model, cv, data_training_en, 'tweet', 'author')"
   ]
  },
  {
   "cell_type": "code",
   "execution_count": 31,
   "metadata": {},
   "outputs": [
    {
     "ename": "ValueError",
     "evalue": "X has 11893 features, but LogisticRegression is expecting 30150 features as input.",
     "output_type": "error",
     "traceback": [
      "\u001b[1;31m---------------------------------------------------------------------------\u001b[0m",
      "\u001b[1;31mValueError\u001b[0m                                Traceback (most recent call last)",
      "\u001b[1;32ma:\\MICHU\\Documents\\Escuela\\CIC\\Doctorado\\Author profiling\\Notebooks\\preprocess.ipynb Cell 38\u001b[0m in \u001b[0;36m<cell line: 1>\u001b[1;34m()\u001b[0m\n\u001b[1;32m----> <a href='vscode-notebook-cell:/a%3A/MICHU/Documents/Escuela/CIC/Doctorado/Author%20profiling/Notebooks/preprocess.ipynb#X60sZmlsZQ%3D%3D?line=0'>1</a>\u001b[0m model\u001b[39m.\u001b[39;49mscore(vectorizer\u001b[39m.\u001b[39;49mtransform(data_test_en[\u001b[39m'\u001b[39;49m\u001b[39mtweet\u001b[39;49m\u001b[39m'\u001b[39;49m]\u001b[39m.\u001b[39;49mtolist()), data_test_en[\u001b[39m'\u001b[39;49m\u001b[39mauthor\u001b[39;49m\u001b[39m'\u001b[39;49m]\u001b[39m.\u001b[39;49mtolist())\n",
      "File \u001b[1;32m~\\AppData\\Local\\Packages\\PythonSoftwareFoundation.Python.3.9_qbz5n2kfra8p0\\LocalCache\\local-packages\\Python39\\site-packages\\sklearn\\base.py:649\u001b[0m, in \u001b[0;36mClassifierMixin.score\u001b[1;34m(self, X, y, sample_weight)\u001b[0m\n\u001b[0;32m    624\u001b[0m \u001b[39m\"\"\"\u001b[39;00m\n\u001b[0;32m    625\u001b[0m \u001b[39mReturn the mean accuracy on the given test data and labels.\u001b[39;00m\n\u001b[0;32m    626\u001b[0m \n\u001b[1;32m   (...)\u001b[0m\n\u001b[0;32m    645\u001b[0m \u001b[39m    Mean accuracy of ``self.predict(X)`` wrt. `y`.\u001b[39;00m\n\u001b[0;32m    646\u001b[0m \u001b[39m\"\"\"\u001b[39;00m\n\u001b[0;32m    647\u001b[0m \u001b[39mfrom\u001b[39;00m \u001b[39m.\u001b[39;00m\u001b[39mmetrics\u001b[39;00m \u001b[39mimport\u001b[39;00m accuracy_score\n\u001b[1;32m--> 649\u001b[0m \u001b[39mreturn\u001b[39;00m accuracy_score(y, \u001b[39mself\u001b[39;49m\u001b[39m.\u001b[39;49mpredict(X), sample_weight\u001b[39m=\u001b[39msample_weight)\n",
      "File \u001b[1;32m~\\AppData\\Local\\Packages\\PythonSoftwareFoundation.Python.3.9_qbz5n2kfra8p0\\LocalCache\\local-packages\\Python39\\site-packages\\sklearn\\linear_model\\_base.py:419\u001b[0m, in \u001b[0;36mLinearClassifierMixin.predict\u001b[1;34m(self, X)\u001b[0m\n\u001b[0;32m    405\u001b[0m \u001b[39m\"\"\"\u001b[39;00m\n\u001b[0;32m    406\u001b[0m \u001b[39mPredict class labels for samples in X.\u001b[39;00m\n\u001b[0;32m    407\u001b[0m \n\u001b[1;32m   (...)\u001b[0m\n\u001b[0;32m    416\u001b[0m \u001b[39m    Vector containing the class labels for each sample.\u001b[39;00m\n\u001b[0;32m    417\u001b[0m \u001b[39m\"\"\"\u001b[39;00m\n\u001b[0;32m    418\u001b[0m xp, _ \u001b[39m=\u001b[39m get_namespace(X)\n\u001b[1;32m--> 419\u001b[0m scores \u001b[39m=\u001b[39m \u001b[39mself\u001b[39;49m\u001b[39m.\u001b[39;49mdecision_function(X)\n\u001b[0;32m    420\u001b[0m \u001b[39mif\u001b[39;00m \u001b[39mlen\u001b[39m(scores\u001b[39m.\u001b[39mshape) \u001b[39m==\u001b[39m \u001b[39m1\u001b[39m:\n\u001b[0;32m    421\u001b[0m     indices \u001b[39m=\u001b[39m xp\u001b[39m.\u001b[39mastype(scores \u001b[39m>\u001b[39m \u001b[39m0\u001b[39m, \u001b[39mint\u001b[39m)\n",
      "File \u001b[1;32m~\\AppData\\Local\\Packages\\PythonSoftwareFoundation.Python.3.9_qbz5n2kfra8p0\\LocalCache\\local-packages\\Python39\\site-packages\\sklearn\\linear_model\\_base.py:400\u001b[0m, in \u001b[0;36mLinearClassifierMixin.decision_function\u001b[1;34m(self, X)\u001b[0m\n\u001b[0;32m    397\u001b[0m check_is_fitted(\u001b[39mself\u001b[39m)\n\u001b[0;32m    398\u001b[0m xp, _ \u001b[39m=\u001b[39m get_namespace(X)\n\u001b[1;32m--> 400\u001b[0m X \u001b[39m=\u001b[39m \u001b[39mself\u001b[39;49m\u001b[39m.\u001b[39;49m_validate_data(X, accept_sparse\u001b[39m=\u001b[39;49m\u001b[39m\"\u001b[39;49m\u001b[39mcsr\u001b[39;49m\u001b[39m\"\u001b[39;49m, reset\u001b[39m=\u001b[39;49m\u001b[39mFalse\u001b[39;49;00m)\n\u001b[0;32m    401\u001b[0m scores \u001b[39m=\u001b[39m safe_sparse_dot(X, \u001b[39mself\u001b[39m\u001b[39m.\u001b[39mcoef_\u001b[39m.\u001b[39mT, dense_output\u001b[39m=\u001b[39m\u001b[39mTrue\u001b[39;00m) \u001b[39m+\u001b[39m \u001b[39mself\u001b[39m\u001b[39m.\u001b[39mintercept_\n\u001b[0;32m    402\u001b[0m \u001b[39mreturn\u001b[39;00m xp\u001b[39m.\u001b[39mreshape(scores, \u001b[39m-\u001b[39m\u001b[39m1\u001b[39m) \u001b[39mif\u001b[39;00m scores\u001b[39m.\u001b[39mshape[\u001b[39m1\u001b[39m] \u001b[39m==\u001b[39m \u001b[39m1\u001b[39m \u001b[39melse\u001b[39;00m scores\n",
      "File \u001b[1;32m~\\AppData\\Local\\Packages\\PythonSoftwareFoundation.Python.3.9_qbz5n2kfra8p0\\LocalCache\\local-packages\\Python39\\site-packages\\sklearn\\base.py:569\u001b[0m, in \u001b[0;36mBaseEstimator._validate_data\u001b[1;34m(self, X, y, reset, validate_separately, **check_params)\u001b[0m\n\u001b[0;32m    566\u001b[0m     out \u001b[39m=\u001b[39m X, y\n\u001b[0;32m    568\u001b[0m \u001b[39mif\u001b[39;00m \u001b[39mnot\u001b[39;00m no_val_X \u001b[39mand\u001b[39;00m check_params\u001b[39m.\u001b[39mget(\u001b[39m\"\u001b[39m\u001b[39mensure_2d\u001b[39m\u001b[39m\"\u001b[39m, \u001b[39mTrue\u001b[39;00m):\n\u001b[1;32m--> 569\u001b[0m     \u001b[39mself\u001b[39;49m\u001b[39m.\u001b[39;49m_check_n_features(X, reset\u001b[39m=\u001b[39;49mreset)\n\u001b[0;32m    571\u001b[0m \u001b[39mreturn\u001b[39;00m out\n",
      "File \u001b[1;32m~\\AppData\\Local\\Packages\\PythonSoftwareFoundation.Python.3.9_qbz5n2kfra8p0\\LocalCache\\local-packages\\Python39\\site-packages\\sklearn\\base.py:370\u001b[0m, in \u001b[0;36mBaseEstimator._check_n_features\u001b[1;34m(self, X, reset)\u001b[0m\n\u001b[0;32m    367\u001b[0m     \u001b[39mreturn\u001b[39;00m\n\u001b[0;32m    369\u001b[0m \u001b[39mif\u001b[39;00m n_features \u001b[39m!=\u001b[39m \u001b[39mself\u001b[39m\u001b[39m.\u001b[39mn_features_in_:\n\u001b[1;32m--> 370\u001b[0m     \u001b[39mraise\u001b[39;00m \u001b[39mValueError\u001b[39;00m(\n\u001b[0;32m    371\u001b[0m         \u001b[39mf\u001b[39m\u001b[39m\"\u001b[39m\u001b[39mX has \u001b[39m\u001b[39m{\u001b[39;00mn_features\u001b[39m}\u001b[39;00m\u001b[39m features, but \u001b[39m\u001b[39m{\u001b[39;00m\u001b[39mself\u001b[39m\u001b[39m.\u001b[39m\u001b[39m__class__\u001b[39m\u001b[39m.\u001b[39m\u001b[39m__name__\u001b[39m\u001b[39m}\u001b[39;00m\u001b[39m \u001b[39m\u001b[39m\"\u001b[39m\n\u001b[0;32m    372\u001b[0m         \u001b[39mf\u001b[39m\u001b[39m\"\u001b[39m\u001b[39mis expecting \u001b[39m\u001b[39m{\u001b[39;00m\u001b[39mself\u001b[39m\u001b[39m.\u001b[39mn_features_in_\u001b[39m}\u001b[39;00m\u001b[39m features as input.\u001b[39m\u001b[39m\"\u001b[39m\n\u001b[0;32m    373\u001b[0m     )\n",
      "\u001b[1;31mValueError\u001b[0m: X has 11893 features, but LogisticRegression is expecting 30150 features as input."
     ]
    }
   ],
   "source": [
    "model.score(vectorizer.transform(data_test_en['tweet'].tolist()), data_test_en['author'].tolist())"
   ]
  },
  {
   "cell_type": "code",
   "execution_count": null,
   "metadata": {},
   "outputs": [],
   "source": []
  }
 ],
 "metadata": {
  "kernelspec": {
   "display_name": "Python 3",
   "language": "python",
   "name": "python3"
  },
  "language_info": {
   "codemirror_mode": {
    "name": "ipython",
    "version": 3
   },
   "file_extension": ".py",
   "mimetype": "text/x-python",
   "name": "python",
   "nbconvert_exporter": "python",
   "pygments_lexer": "ipython3",
   "version": "3.9.13"
  },
  "orig_nbformat": 4,
  "vscode": {
   "interpreter": {
    "hash": "59d3b287212f50af165978b62192df5a49b6eea740d718d3743846fa9be15f35"
   }
  }
 },
 "nbformat": 4,
 "nbformat_minor": 2
}
