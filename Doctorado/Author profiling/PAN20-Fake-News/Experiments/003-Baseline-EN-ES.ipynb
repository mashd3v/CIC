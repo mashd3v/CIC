{
 "cells": [
  {
   "attachments": {},
   "cell_type": "markdown",
   "metadata": {},
   "source": [
    "# Baselines\n",
    "\n",
    "Características:\n",
    "* Rango de n-gramas: 3\n",
    "* Frecuencia mínima de aparición: 3\n",
    "* Conjunto de datos con preprocesamiento"
   ]
  },
  {
   "attachments": {},
   "cell_type": "markdown",
   "metadata": {},
   "source": [
    "## Imports"
   ]
  },
  {
   "cell_type": "code",
   "execution_count": 1,
   "metadata": {},
   "outputs": [],
   "source": [
    "import sys\n",
    "sys.path.append('../../../Scripts/')"
   ]
  },
  {
   "cell_type": "code",
   "execution_count": 2,
   "metadata": {},
   "outputs": [],
   "source": [
    "import pandas as pd, numpy as np\n",
    "import baseline_model as b\n",
    "import plots as p\n",
    "%matplotlib inline\n",
    "%config InlineBackend.figure_format='retina'"
   ]
  },
  {
   "cell_type": "code",
   "execution_count": 3,
   "metadata": {},
   "outputs": [],
   "source": [
    "from sklearn.linear_model import LogisticRegression\n",
    "from sklearn.svm import LinearSVC, SVC\n",
    "from sklearn.ensemble import RandomForestClassifier\n",
    "from sklearn.calibration import CalibratedClassifierCV"
   ]
  },
  {
   "attachments": {},
   "cell_type": "markdown",
   "metadata": {},
   "source": [
    "## Paths"
   ]
  },
  {
   "cell_type": "code",
   "execution_count": 4,
   "metadata": {},
   "outputs": [],
   "source": [
    "main_path = '../Datasets/CSV/'"
   ]
  },
  {
   "cell_type": "code",
   "execution_count": 5,
   "metadata": {},
   "outputs": [],
   "source": [
    "# English\n",
    "data_training_en_path = f'{main_path}Train-EN.csv'\n",
    "data_test_en_path = f'{main_path}Test-EN.csv'\n",
    "\n",
    "# Spanish\n",
    "data_training_es_path = f'{main_path}Train-ES.csv'\n",
    "data_test_es_path = f'{main_path}Test-ES.csv'"
   ]
  },
  {
   "attachments": {},
   "cell_type": "markdown",
   "metadata": {},
   "source": [
    "## Data"
   ]
  },
  {
   "cell_type": "code",
   "execution_count": 6,
   "metadata": {},
   "outputs": [],
   "source": [
    "# English\n",
    "data_training_en = pd.read_csv(data_training_en_path).dropna()\n",
    "data_test_en = pd.read_csv(data_test_en_path).dropna()\n",
    "\n",
    "# Spanish\n",
    "data_training_es = pd.read_csv(data_training_es_path).dropna()\n",
    "data_test_es = pd.read_csv(data_test_es_path).dropna()"
   ]
  },
  {
   "cell_type": "code",
   "execution_count": 7,
   "metadata": {},
   "outputs": [
    {
     "data": {
      "text/plain": [
       "(30000, 20000)"
      ]
     },
     "execution_count": 7,
     "metadata": {},
     "output_type": "execute_result"
    }
   ],
   "source": [
    "data_training_en.shape[0], data_test_en.shape[0]"
   ]
  },
  {
   "attachments": {},
   "cell_type": "markdown",
   "metadata": {},
   "source": [
    "## General params"
   ]
  },
  {
   "cell_type": "code",
   "execution_count": 8,
   "metadata": {},
   "outputs": [],
   "source": [
    "seed = 42\n",
    "target_names = ['0', '1']\n",
    "ngram_ranges = [(1, 1), (1,2), (1, 3)]\n",
    "min_dfs = [1, 3]\n",
    "models = [LogisticRegression(random_state = seed, penalty = 'l2', solver = 'liblinear', max_iter = 10000),\n",
    "          CalibratedClassifierCV(LinearSVC(random_state = seed, penalty = 'l2', max_iter = 10000)),\n",
    "          RandomForestClassifier(max_depth = 100, random_state = seed)]\n",
    "model_names = ['LR', 'LSVC', 'RF']"
   ]
  },
  {
   "attachments": {},
   "cell_type": "markdown",
   "metadata": {},
   "source": [
    "## Author"
   ]
  },
  {
   "cell_type": "code",
   "execution_count": 9,
   "metadata": {},
   "outputs": [
    {
     "name": "stdout",
     "output_type": "stream",
     "text": [
      "Model LR (label-(1, 1)-1) --> Accuracy: 0.62\n",
      "Model LR (label-(1, 2)-1) --> Accuracy: 0.63\n",
      "Model LR (label-(1, 3)-1) --> Accuracy: 0.62\n",
      "Model LR (label-(1, 1)-3) --> Accuracy: 0.61\n",
      "Model LR (label-(1, 2)-3) --> Accuracy: 0.62\n",
      "Model LR (label-(1, 3)-3) --> Accuracy: 0.62\n",
      "Model LSVC (label-(1, 1)-1) --> Accuracy: 0.61\n",
      "Model LSVC (label-(1, 2)-1) --> Accuracy: 0.63\n",
      "Model LSVC (label-(1, 3)-1) --> Accuracy: 0.63\n",
      "Model LSVC (label-(1, 1)-3) --> Accuracy: 0.6\n",
      "Model LSVC (label-(1, 2)-3) --> Accuracy: 0.62\n",
      "Model LSVC (label-(1, 3)-3) --> Accuracy: 0.61\n",
      "Model RF (label-(1, 1)-1) --> Accuracy: 0.6\n",
      "Model RF (label-(1, 2)-1) --> Accuracy: 0.61\n",
      "Model RF (label-(1, 3)-1) --> Accuracy: 0.61\n",
      "Model RF (label-(1, 1)-3) --> Accuracy: 0.6\n",
      "Model RF (label-(1, 2)-3) --> Accuracy: 0.6\n",
      "Model RF (label-(1, 3)-3) --> Accuracy: 0.59\n"
     ]
    }
   ],
   "source": [
    "models_fake_en, vectorizers_fake_en, metrics_fake_en = [], [], []\n",
    "\n",
    "for i, model in enumerate(models):\n",
    "    for min_df in min_dfs:\n",
    "        for ngram_range in ngram_ranges:\n",
    "            # Creating objects\n",
    "            fake_en = b.Baseline(model=model, \n",
    "                                train_data=data_training_en, \n",
    "                                test_data=data_test_en, \n",
    "                                x_label_column='tweet',\n",
    "                                y_label_column='label',\n",
    "                                ngram_range=ngram_range,\n",
    "                                min_df=min_df,\n",
    "                                model_name=model_names[i],\n",
    "                                target_names=target_names)\n",
    "            \n",
    "            # Running baselines\n",
    "            model, vectorizer, metrics = fake_en.baseline()\n",
    "            \n",
    "            # Saving info\n",
    "            models_fake_en.append(model)\n",
    "            vectorizers_fake_en.append(vectorizer)\n",
    "            metrics_fake_en.append(metrics) "
   ]
  },
  {
   "cell_type": "code",
   "execution_count": 10,
   "metadata": {},
   "outputs": [
    {
     "name": "stdout",
     "output_type": "stream",
     "text": [
      "Model LR (label-(1, 1)-1) --> Accuracy: 0.65\n",
      "Model LR (label-(1, 2)-1) --> Accuracy: 0.68\n",
      "Model LR (label-(1, 3)-1) --> Accuracy: 0.67\n",
      "Model LR (label-(1, 1)-3) --> Accuracy: 0.65\n",
      "Model LR (label-(1, 2)-3) --> Accuracy: 0.68\n",
      "Model LR (label-(1, 3)-3) --> Accuracy: 0.68\n",
      "Model LSVC (label-(1, 1)-1) --> Accuracy: 0.63\n",
      "Model LSVC (label-(1, 2)-1) --> Accuracy: 0.66\n",
      "Model LSVC (label-(1, 3)-1) --> Accuracy: 0.66\n",
      "Model LSVC (label-(1, 1)-3) --> Accuracy: 0.63\n",
      "Model LSVC (label-(1, 2)-3) --> Accuracy: 0.65\n",
      "Model LSVC (label-(1, 3)-3) --> Accuracy: 0.65\n",
      "Model RF (label-(1, 1)-1) --> Accuracy: 0.67\n",
      "Model RF (label-(1, 2)-1) --> Accuracy: 0.67\n",
      "Model RF (label-(1, 3)-1) --> Accuracy: 0.66\n",
      "Model RF (label-(1, 1)-3) --> Accuracy: 0.67\n",
      "Model RF (label-(1, 2)-3) --> Accuracy: 0.68\n",
      "Model RF (label-(1, 3)-3) --> Accuracy: 0.68\n"
     ]
    }
   ],
   "source": [
    "models_fake_es, vectorizers_fake_es, metrics_fake_es = [], [], []\n",
    "\n",
    "for i, model in enumerate(models):\n",
    "    for min_df in min_dfs:\n",
    "        for ngram_range in ngram_ranges:\n",
    "            # Spanish\n",
    "            fake_es = b.Baseline(model=model, \n",
    "                            train_data=data_training_es, \n",
    "                            test_data=data_test_es, \n",
    "                            x_label_column='tweet',\n",
    "                            y_label_column='label',\n",
    "                            ngram_range=ngram_range,\n",
    "                            min_df=min_df,\n",
    "                            model_name=model_names[i],\n",
    "                            target_names=target_names)\n",
    "            \n",
    "            # Running baselines\n",
    "            model, vectorizer, metrics = fake_es.baseline()\n",
    "            \n",
    "            # Saving info\n",
    "            models_fake_es.append(model)\n",
    "            vectorizers_fake_es.append(vectorizer)\n",
    "            metrics_fake_es.append(metrics)"
   ]
  },
  {
   "cell_type": "code",
   "execution_count": null,
   "metadata": {},
   "outputs": [],
   "source": []
  }
 ],
 "metadata": {
  "kernelspec": {
   "display_name": "Python 3",
   "language": "python",
   "name": "python3"
  },
  "language_info": {
   "codemirror_mode": {
    "name": "ipython",
    "version": 3
   },
   "file_extension": ".py",
   "mimetype": "text/x-python",
   "name": "python",
   "nbconvert_exporter": "python",
   "pygments_lexer": "ipython3",
   "version": "3.9.5"
  },
  "orig_nbformat": 4
 },
 "nbformat": 4,
 "nbformat_minor": 2
}
