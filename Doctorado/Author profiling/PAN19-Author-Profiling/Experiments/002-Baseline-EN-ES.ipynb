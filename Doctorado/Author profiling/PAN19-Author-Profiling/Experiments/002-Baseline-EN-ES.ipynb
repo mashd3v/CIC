{
 "cells": [
  {
   "attachments": {},
   "cell_type": "markdown",
   "metadata": {},
   "source": [
    "# Baselines\n",
    "\n",
    "Características:\n",
    "* Rango de n-gramas: 3\n",
    "* Frecuencia mínima de aparición: 3\n",
    "* Conjunto de datos con preprocesamiento"
   ]
  },
  {
   "attachments": {},
   "cell_type": "markdown",
   "metadata": {},
   "source": [
    "## Imports"
   ]
  },
  {
   "cell_type": "code",
   "execution_count": 4,
   "metadata": {},
   "outputs": [],
   "source": [
    "import sys\n",
    "sys.path.append('../../../Scripts/')"
   ]
  },
  {
   "cell_type": "code",
   "execution_count": 5,
   "metadata": {},
   "outputs": [],
   "source": [
    "import pandas as pd, numpy as np\n",
    "import baseline_model as b\n",
    "import plots as p\n",
    "%matplotlib inline\n",
    "%config InlineBackend.figure_format='retina'"
   ]
  },
  {
   "cell_type": "code",
   "execution_count": 6,
   "metadata": {},
   "outputs": [],
   "source": [
    "from sklearn.linear_model import LogisticRegression\n",
    "from sklearn.svm import LinearSVC, SVC\n",
    "from sklearn.ensemble import RandomForestClassifier\n",
    "from sklearn.calibration import CalibratedClassifierCV"
   ]
  },
  {
   "attachments": {},
   "cell_type": "markdown",
   "metadata": {},
   "source": [
    "## Paths"
   ]
  },
  {
   "cell_type": "code",
   "execution_count": 7,
   "metadata": {},
   "outputs": [],
   "source": [
    "main_path = '../Datasets/CSV/Clean/'"
   ]
  },
  {
   "cell_type": "code",
   "execution_count": 8,
   "metadata": {},
   "outputs": [],
   "source": [
    "# English\n",
    "data_training_en_path = f'{main_path}data_training_en_lemma.csv'\n",
    "data_test_en_path = f'{main_path}data_test_en_lemma.csv'\n",
    "\n",
    "# Spanish\n",
    "data_training_es_path = f'{main_path}data_training_es_lemma.csv'\n",
    "data_test_es_path = f'{main_path}data_test_es_lemma.csv'"
   ]
  },
  {
   "attachments": {},
   "cell_type": "markdown",
   "metadata": {},
   "source": [
    "## Data"
   ]
  },
  {
   "cell_type": "code",
   "execution_count": 9,
   "metadata": {},
   "outputs": [],
   "source": [
    "# English\n",
    "data_training_en = pd.read_csv(data_training_en_path).dropna()\n",
    "data_test_en = pd.read_csv(data_test_en_path).dropna()\n",
    "\n",
    "# Spanish\n",
    "data_training_es = pd.read_csv(data_training_es_path).dropna()\n",
    "data_test_es = pd.read_csv(data_test_es_path).dropna()"
   ]
  },
  {
   "cell_type": "code",
   "execution_count": 10,
   "metadata": {},
   "outputs": [],
   "source": [
    "data_training_gender_en = data_training_en[data_training_en.author != 'bot']\n",
    "data_test_gender_en = data_test_en[data_test_en.author != 'bot']\n",
    "\n",
    "data_training_gender_es = data_training_es[data_training_es.author != 'bot']\n",
    "data_test_gender_es = data_test_es[data_test_es.author != 'bot']"
   ]
  },
  {
   "cell_type": "code",
   "execution_count": 11,
   "metadata": {},
   "outputs": [
    {
     "data": {
      "text/plain": [
       "(409106, 261551)"
      ]
     },
     "execution_count": 11,
     "metadata": {},
     "output_type": "execute_result"
    }
   ],
   "source": [
    "data_training_en.shape[0], data_test_en.shape[0]"
   ]
  },
  {
   "attachments": {},
   "cell_type": "markdown",
   "metadata": {},
   "source": [
    "## General params"
   ]
  },
  {
   "cell_type": "code",
   "execution_count": 12,
   "metadata": {},
   "outputs": [],
   "source": [
    "seed = 42\n",
    "target_names = ['human', 'bot']\n",
    "gender_names = ['gender_1', 'gender_2']\n",
    "ngram_ranges = [(1, 1), (1,2), (1, 3)]\n",
    "min_dfs = [1, 3]\n",
    "models = [LogisticRegression(random_state = seed, penalty = 'l2', solver = 'liblinear', max_iter = 10000),\n",
    "          CalibratedClassifierCV(LinearSVC(random_state = seed, penalty = 'l2', max_iter = 10000)),\n",
    "          RandomForestClassifier(max_depth = 100, random_state = seed)]\n",
    "model_names = ['LR', 'LSVC', 'RF']"
   ]
  },
  {
   "attachments": {},
   "cell_type": "markdown",
   "metadata": {},
   "source": [
    "## Author"
   ]
  },
  {
   "cell_type": "code",
   "execution_count": 11,
   "metadata": {},
   "outputs": [
    {
     "name": "stdout",
     "output_type": "stream",
     "text": [
      "Model LR (author-(1, 1)-1) --> Accuracy: 0.7341627445507759\n",
      "Model LR (author-(1, 2)-1) --> Accuracy: 0.7443825487189879\n",
      "Model LR (author-(1, 3)-1) --> Accuracy: 0.743958157300106\n",
      "Model LR (author-(1, 1)-3) --> Accuracy: 0.7341971546658205\n",
      "Model LR (author-(1, 2)-3) --> Accuracy: 0.7474679890346433\n",
      "Model LR (author-(1, 3)-3) --> Accuracy: 0.7459807073954984\n",
      "Model LSVC (author-(1, 1)-1) --> Accuracy: 0.7313602318477085\n",
      "Model LSVC (author-(1, 2)-1) --> Accuracy: 0.7494790690916877\n",
      "Model LSVC (author-(1, 3)-1) --> Accuracy: 0.7516889631467668\n",
      "Model LSVC (author-(1, 1)-3) --> Accuracy: 0.7310161306972637\n",
      "Model LSVC (author-(1, 2)-3) --> Accuracy: 0.746309515161479\n",
      "Model LSVC (author-(1, 3)-3) --> Accuracy: 0.748584406100531\n",
      "Model RF (author-(1, 1)-1) --> Accuracy: 0.7056138191022019\n",
      "Model RF (author-(1, 2)-1) --> Accuracy: 0.6930885372260095\n",
      "Model RF (author-(1, 3)-1) --> Accuracy: 0.6753443879014035\n",
      "Model RF (author-(1, 1)-3) --> Accuracy: 0.7025819056321712\n",
      "Model RF (author-(1, 2)-3) --> Accuracy: 0.684822462923101\n",
      "Model RF (author-(1, 3)-3) --> Accuracy: 0.6909168766320909\n"
     ]
    }
   ],
   "source": [
    "models_author_en, vectorizers_author_en, metrics_author_en = [], [], []\n",
    "\n",
    "for i, model in enumerate(models):\n",
    "    for min_df in min_dfs:\n",
    "        for ngram_range in ngram_ranges:\n",
    "            # Creating objects\n",
    "            author_en = b.Baseline(model=model, \n",
    "                                train_data=data_training_en, \n",
    "                                test_data=data_test_en, \n",
    "                                x_label_column='tweet',\n",
    "                                y_label_column='author',\n",
    "                                ngram_range=ngram_range,\n",
    "                                min_df=min_df,\n",
    "                                model_name=model_names[i],\n",
    "                                target_names=target_names)\n",
    "            \n",
    "            # Running baselines\n",
    "            model, vectorizer, metrics = author_en.baseline()\n",
    "            \n",
    "            # Saving info\n",
    "            models_author_en.append(model)\n",
    "            vectorizers_author_en.append(vectorizer)\n",
    "            metrics_author_en.append(metrics) "
   ]
  },
  {
   "cell_type": "code",
   "execution_count": 12,
   "metadata": {},
   "outputs": [
    {
     "name": "stdout",
     "output_type": "stream",
     "text": [
      "Model LR (author-(1, 1)-1) --> Accuracy: 0.6902558094122242\n",
      "Model LR (author-(1, 2)-1) --> Accuracy: 0.6956063268892795\n",
      "Model LR (author-(1, 3)-1) --> Accuracy: 0.6973972717382207\n",
      "Model LR (author-(1, 1)-3) --> Accuracy: 0.6899824253075572\n",
      "Model LR (author-(1, 2)-3) --> Accuracy: 0.6903729740285101\n",
      "Model LR (author-(1, 3)-3) --> Accuracy: 0.6919798030518592\n",
      "Model LSVC (author-(1, 1)-1) --> Accuracy: 0.675883616481156\n",
      "Model LSVC (author-(1, 2)-1) --> Accuracy: 0.6895695595168354\n",
      "Model LSVC (author-(1, 3)-1) --> Accuracy: 0.694897759924122\n",
      "Model LSVC (author-(1, 1)-3) --> Accuracy: 0.6764805980974699\n",
      "Model LSVC (author-(1, 2)-3) --> Accuracy: 0.6789856891790108\n",
      "Model LSVC (author-(1, 3)-3) --> Accuracy: 0.6813568778419393\n",
      "Model RF (author-(1, 1)-1) --> Accuracy: 0.6637766061316149\n",
      "Model RF (author-(1, 2)-1) --> Accuracy: 0.644282645688621\n",
      "Model RF (author-(1, 3)-1) --> Accuracy: 0.6269088068736575\n",
      "Model RF (author-(1, 1)-3) --> Accuracy: 0.6659302033642983\n",
      "Model RF (author-(1, 2)-3) --> Accuracy: 0.6396127988395124\n",
      "Model RF (author-(1, 3)-3) --> Accuracy: 0.6304237453622339\n"
     ]
    }
   ],
   "source": [
    "models_author_es, vectorizers_author_es, metrics_author_es = [], [], []\n",
    "\n",
    "for i, model in enumerate(models):\n",
    "    for min_df in min_dfs:\n",
    "        for ngram_range in ngram_ranges:\n",
    "            # Spanish\n",
    "            author_es = b.Baseline(model=model, \n",
    "                            train_data=data_training_es, \n",
    "                            test_data=data_test_es, \n",
    "                            x_label_column='tweet',\n",
    "                            y_label_column='author',\n",
    "                            ngram_range=ngram_range,\n",
    "                            min_df=min_df,\n",
    "                            model_name=model_names[i],\n",
    "                            target_names=target_names)\n",
    "            \n",
    "            # Running baselines\n",
    "            model, vectorizer, metrics = author_es.baseline()\n",
    "            \n",
    "            # Saving info\n",
    "            models_author_es.append(model)\n",
    "            vectorizers_author_es.append(vectorizer)\n",
    "            metrics_author_es.append(metrics) "
   ]
  },
  {
   "attachments": {},
   "cell_type": "markdown",
   "metadata": {},
   "source": [
    "## Gender"
   ]
  },
  {
   "cell_type": "code",
   "execution_count": 13,
   "metadata": {},
   "outputs": [
    {
     "name": "stdout",
     "output_type": "stream",
     "text": [
      "Model LR (gender-(1, 1)-1) --> Accuracy: 0.587073704435075\n",
      "Model LR (gender-(1, 2)-1) --> Accuracy: 0.5895973589307634\n",
      "Model LR (gender-(1, 3)-1) --> Accuracy: 0.5891551475689811\n",
      "Model LR (gender-(1, 1)-3) --> Accuracy: 0.5863341440541633\n",
      "Model LR (gender-(1, 2)-3) --> Accuracy: 0.5884003385204217\n",
      "Model LR (gender-(1, 3)-3) --> Accuracy: 0.5893762532498723\n",
      "Model LSVC (gender-(1, 1)-1) --> Accuracy: 0.5805853963509938\n",
      "Model LSVC (gender-(1, 2)-1) --> Accuracy: 0.58312429951433\n",
      "Model LSVC (gender-(1, 3)-1) --> Accuracy: 0.5867077364115311\n",
      "Model LSVC (gender-(1, 1)-3) --> Accuracy: 0.5807836290304135\n",
      "Model LSVC (gender-(1, 2)-3) --> Accuracy: 0.5774212978141035\n",
      "Model LSVC (gender-(1, 3)-3) --> Accuracy: 0.5787021858965072\n",
      "Model RF (gender-(1, 1)-1) --> Accuracy: 0.5688667952637638\n",
      "Model RF (gender-(1, 2)-1) --> Accuracy: 0.567677399187246\n",
      "Model RF (gender-(1, 3)-1) --> Accuracy: 0.5619591488193719\n",
      "Model RF (gender-(1, 1)-3) --> Accuracy: 0.5662821460974847\n",
      "Model RF (gender-(1, 2)-3) --> Accuracy: 0.5687143085872872\n",
      "Model RF (gender-(1, 3)-3) --> Accuracy: 0.5682644728916811\n"
     ]
    }
   ],
   "source": [
    "models_gender_en, vectorizers_gender_en, metrics_gender_en = [], [], []\n",
    "\n",
    "for i, model in enumerate(models):\n",
    "    for min_df in min_dfs:\n",
    "        for ngram_range in ngram_ranges:\n",
    "            # Spanish\n",
    "            gender_en = b.Baseline(model=model, \n",
    "                            train_data=data_training_gender_en, \n",
    "                            test_data=data_test_gender_en, \n",
    "                            x_label_column='tweet',\n",
    "                            y_label_column='gender',\n",
    "                            ngram_range=ngram_range,\n",
    "                            min_df=min_df,\n",
    "                            model_name=model_names[i],\n",
    "                            target_names=gender_names)\n",
    "            \n",
    "            # Running baselines\n",
    "            model, vectorizer, metrics = gender_en.baseline()\n",
    "            \n",
    "            # Saving info\n",
    "            models_gender_en.append(model)\n",
    "            vectorizers_gender_en.append(vectorizer)\n",
    "            metrics_gender_en.append(metrics) "
   ]
  },
  {
   "cell_type": "code",
   "execution_count": 14,
   "metadata": {},
   "outputs": [
    {
     "name": "stdout",
     "output_type": "stream",
     "text": [
      "Model LR (gender-(1, 1)-1) --> Accuracy: 0.5675267421563801\n",
      "Model LR (gender-(1, 2)-1) --> Accuracy: 0.5705366333974846\n",
      "Model LR (gender-(1, 3)-1) --> Accuracy: 0.5720583627981918\n",
      "Model LR (gender-(1, 1)-3) --> Accuracy: 0.5685337689656715\n",
      "Model LR (gender-(1, 2)-3) --> Accuracy: 0.5686680392069104\n",
      "Model LR (gender-(1, 3)-3) --> Accuracy: 0.5697981470706709\n",
      "Model LSVC (gender-(1, 1)-1) --> Accuracy: 0.5563151770129346\n",
      "Model LSVC (gender-(1, 2)-1) --> Accuracy: 0.5628160945262498\n",
      "Model LSVC (gender-(1, 3)-1) --> Accuracy: 0.5664525802264692\n",
      "Model LSVC (gender-(1, 1)-3) --> Accuracy: 0.5586537170478449\n",
      "Model LSVC (gender-(1, 2)-3) --> Accuracy: 0.557814528040102\n",
      "Model LSVC (gender-(1, 3)-3) --> Accuracy: 0.5592355547598801\n",
      "Model RF (gender-(1, 1)-1) --> Accuracy: 0.5712527413507587\n",
      "Model RF (gender-(1, 2)-1) --> Accuracy: 0.566586850467708\n",
      "Model RF (gender-(1, 3)-1) --> Accuracy: 0.5655350669113369\n",
      "Model RF (gender-(1, 1)-3) --> Accuracy: 0.5679966880007161\n",
      "Model RF (gender-(1, 2)-3) --> Accuracy: 0.5696079308955825\n",
      "Model RF (gender-(1, 3)-3) --> Accuracy: 0.5707044711990332\n"
     ]
    }
   ],
   "source": [
    "models_gender_es, vectorizers_gender_es, metrics_gender_es = [], [], []\n",
    "\n",
    "for i, model in enumerate(models):\n",
    "    for min_df in min_dfs:\n",
    "        for ngram_range in ngram_ranges:\n",
    "            # Spanish\n",
    "            gender_es = b.Baseline(model=model, \n",
    "                            train_data=data_training_gender_es, \n",
    "                            test_data=data_test_gender_es, \n",
    "                            x_label_column='tweet',\n",
    "                            y_label_column='gender',\n",
    "                            ngram_range=ngram_range,\n",
    "                            min_df=min_df,\n",
    "                            model_name=model_names[i],\n",
    "                            target_names=gender_names)\n",
    "            \n",
    "            # Running baselines\n",
    "            model, vectorizer, metrics = gender_es.baseline()\n",
    "            \n",
    "            # Saving info\n",
    "            models_gender_es.append(model)\n",
    "            vectorizers_gender_es.append(vectorizer)\n",
    "            metrics_gender_es.append(metrics) "
   ]
  },
  {
   "cell_type": "code",
   "execution_count": null,
   "metadata": {},
   "outputs": [],
   "source": []
  }
 ],
 "metadata": {
  "kernelspec": {
   "display_name": "Python 3",
   "language": "python",
   "name": "python3"
  },
  "language_info": {
   "codemirror_mode": {
    "name": "ipython",
    "version": 3
   },
   "file_extension": ".py",
   "mimetype": "text/x-python",
   "name": "python",
   "nbconvert_exporter": "python",
   "pygments_lexer": "ipython3",
   "version": "3.9.5"
  },
  "orig_nbformat": 4
 },
 "nbformat": 4,
 "nbformat_minor": 2
}
