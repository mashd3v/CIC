{
 "cells": [
  {
   "attachments": {},
   "cell_type": "markdown",
   "metadata": {},
   "source": [
    "# Baselines\n",
    "\n",
    "Características:\n",
    "* Embeddings\n",
    "* Conjunto de datos con preprocesamiento"
   ]
  },
  {
   "attachments": {},
   "cell_type": "markdown",
   "metadata": {},
   "source": [
    "## Imports"
   ]
  },
  {
   "cell_type": "code",
   "execution_count": 32,
   "metadata": {},
   "outputs": [],
   "source": [
    "import sys\n",
    "sys.path.append('../../../Scripts/')"
   ]
  },
  {
   "cell_type": "code",
   "execution_count": 33,
   "metadata": {},
   "outputs": [],
   "source": [
    "import pandas as pd, numpy as np\n",
    "import embeddigs as emb\n",
    "import baseline_model as b\n",
    "import plots as p\n",
    "%matplotlib inline\n",
    "%config InlineBackend.figure_format='retina'"
   ]
  },
  {
   "cell_type": "code",
   "execution_count": 34,
   "metadata": {},
   "outputs": [],
   "source": [
    "from sklearn.linear_model import LogisticRegression\n",
    "from sklearn.svm import LinearSVC, SVC\n",
    "from sklearn.ensemble import RandomForestClassifier\n",
    "from sklearn.calibration import CalibratedClassifierCV"
   ]
  },
  {
   "attachments": {},
   "cell_type": "markdown",
   "metadata": {},
   "source": [
    "## Paths"
   ]
  },
  {
   "cell_type": "code",
   "execution_count": 35,
   "metadata": {},
   "outputs": [],
   "source": [
    "main_path = '../Datasets/CSV/Clean/'"
   ]
  },
  {
   "cell_type": "code",
   "execution_count": 36,
   "metadata": {},
   "outputs": [],
   "source": [
    "# English\n",
    "data_training_en_path = f'{main_path}data_training_en.csv'\n",
    "data_test_en_path = f'{main_path}data_test_en.csv'\n",
    "\n",
    "# Spanish\n",
    "data_training_es_path = f'{main_path}data_training_es.csv'\n",
    "data_test_es_path = f'{main_path}data_test_en.csv'"
   ]
  },
  {
   "attachments": {},
   "cell_type": "markdown",
   "metadata": {},
   "source": [
    "## Data"
   ]
  },
  {
   "cell_type": "code",
   "execution_count": 37,
   "metadata": {},
   "outputs": [],
   "source": [
    "# English\n",
    "data_training_en = pd.read_csv(data_training_en_path).dropna()\n",
    "data_test_en = pd.read_csv(data_test_en_path).dropna()\n",
    "\n",
    "# Spanish\n",
    "data_training_es = pd.read_csv(data_training_es_path).dropna()\n",
    "data_test_es = pd.read_csv(data_test_es_path).dropna()"
   ]
  },
  {
   "cell_type": "code",
   "execution_count": 38,
   "metadata": {},
   "outputs": [],
   "source": [
    "data_training_gender_en = data_training_en[data_training_en.author != 'bot']\n",
    "data_test_gender_en = data_test_en[data_test_en.author != 'bot']\n",
    "\n",
    "data_training_gender_es = data_training_es[data_training_es.author != 'bot']\n",
    "data_test_gender_es = data_test_es[data_test_es.author != 'bot']"
   ]
  },
  {
   "attachments": {},
   "cell_type": "markdown",
   "metadata": {},
   "source": [
    "## General params"
   ]
  },
  {
   "cell_type": "code",
   "execution_count": 39,
   "metadata": {},
   "outputs": [],
   "source": [
    "seed = 42\n",
    "target_names = ['human', 'bot']\n",
    "gender_names = ['gender_1', 'gender_2']\n",
    "en_wv_path = '../../../Models/Word vectors/fasttext_english_twitter_100d.vec'\n",
    "es_wv_path = '../../../Models/Word vectors/fasttext_spanish_twitter_100d.vec'"
   ]
  },
  {
   "attachments": {},
   "cell_type": "markdown",
   "metadata": {},
   "source": [
    "## Logistic regression"
   ]
  },
  {
   "cell_type": "code",
   "execution_count": 40,
   "metadata": {},
   "outputs": [],
   "source": [
    "# Defining model\n",
    "lr = LogisticRegression(random_state = seed, penalty = 'l2', \n",
    "                        solver = 'liblinear', max_iter = 10000)"
   ]
  },
  {
   "attachments": {},
   "cell_type": "markdown",
   "metadata": {},
   "source": [
    "### Author"
   ]
  },
  {
   "cell_type": "code",
   "execution_count": 41,
   "metadata": {},
   "outputs": [],
   "source": [
    "# English and Spanish\n",
    "lr_en_author = emb.Embeddings(embedding_path=en_wv_path, \n",
    "                            is_w2v_format=True, \n",
    "                            data_train=data_training_en, \n",
    "                            data_test=data_test_en, \n",
    "                            x_label_column='tweet', \n",
    "                            y_label_column='author', \n",
    "                            ai_model=lr, \n",
    "                            target_names=target_names)\n",
    "\n",
    "lr_es_author = emb.Embeddings(embedding_path=es_wv_path, \n",
    "                            is_w2v_format=True, \n",
    "                            data_train=data_training_es, \n",
    "                            data_test=data_test_es, \n",
    "                            x_label_column='tweet', \n",
    "                            y_label_column='author', \n",
    "                            ai_model=lr, \n",
    "                            target_names=target_names)"
   ]
  },
  {
   "cell_type": "code",
   "execution_count": 42,
   "metadata": {},
   "outputs": [
    {
     "name": "stdout",
     "output_type": "stream",
     "text": [
      "Loading embeddings\n",
      "Sentence to tokens\n",
      "Tokens to word vectors\n",
      "Transforming train and test data\n",
      "Training model\n",
      "              precision    recall  f1-score   support\n",
      "\n",
      "       human       0.72      0.63      0.67    127827\n",
      "         bot       0.67      0.75      0.71    128150\n",
      "\n",
      "    accuracy                           0.69    255977\n",
      "   macro avg       0.69      0.69      0.69    255977\n",
      "weighted avg       0.69      0.69      0.69    255977\n",
      "\n"
     ]
    }
   ],
   "source": [
    "lr_model_author_en, lr_metrics_author_en = lr_en_author.word_embedding()"
   ]
  },
  {
   "cell_type": "code",
   "execution_count": 43,
   "metadata": {},
   "outputs": [
    {
     "name": "stdout",
     "output_type": "stream",
     "text": [
      "Loading embeddings\n",
      "Sentence to tokens\n",
      "Tokens to word vectors\n",
      "Transforming train and test data\n",
      "Training model\n",
      "              precision    recall  f1-score   support\n",
      "\n",
      "       human       0.63      0.65      0.64    127827\n",
      "         bot       0.64      0.62      0.63    128150\n",
      "\n",
      "    accuracy                           0.63    255977\n",
      "   macro avg       0.63      0.63      0.63    255977\n",
      "weighted avg       0.63      0.63      0.63    255977\n",
      "\n"
     ]
    }
   ],
   "source": [
    "lr_model_author_es, lr_metrics_author_es = lr_es_author.word_embedding()"
   ]
  },
  {
   "attachments": {},
   "cell_type": "markdown",
   "metadata": {},
   "source": [
    "### Gender"
   ]
  },
  {
   "cell_type": "code",
   "execution_count": 13,
   "metadata": {},
   "outputs": [],
   "source": [
    "# English and Spanish\n",
    "lr_en_gender = emb.Embeddings(embedding_path=en_wv_path, \n",
    "                            is_w2v_format=True, \n",
    "                            data_train=data_training_gender_en, \n",
    "                            data_test=data_test_gender_en, \n",
    "                            x_label_column='tweet', \n",
    "                            y_label_column='gender', \n",
    "                            ai_model=lr, \n",
    "                            target_names=gender_names)\n",
    "\n",
    "lr_es_gender = emb.Embeddings(embedding_path=es_wv_path, \n",
    "                            is_w2v_format=True, \n",
    "                            data_train=data_training_gender_es, \n",
    "                            data_test=data_test_gender_es, \n",
    "                            x_label_column='tweet', \n",
    "                            y_label_column='gender', \n",
    "                            ai_model=lr, \n",
    "                            target_names=gender_names)"
   ]
  },
  {
   "cell_type": "code",
   "execution_count": 14,
   "metadata": {},
   "outputs": [
    {
     "name": "stdout",
     "output_type": "stream",
     "text": [
      "Loading embeddings\n",
      "Sentence to tokens\n"
     ]
    },
    {
     "name": "stderr",
     "output_type": "stream",
     "text": [
      "/Users/mash/Documents/Git/ciencias_de_la_computacion/Doctorado/Author profiling/PAN19-Author-Profiling/Experiments/../../../Scripts/embeddigs.py:62: SettingWithCopyWarning: \n",
      "A value is trying to be set on a copy of a slice from a DataFrame.\n",
      "Try using .loc[row_indexer,col_indexer] = value instead\n",
      "\n",
      "See the caveats in the documentation: https://pandas.pydata.org/pandas-docs/stable/user_guide/indexing.html#returning-a-view-versus-a-copy\n",
      "  train['tokens'] = train[self.x_label_column].apply(self.tokenize)\n",
      "/Users/mash/Documents/Git/ciencias_de_la_computacion/Doctorado/Author profiling/PAN19-Author-Profiling/Experiments/../../../Scripts/embeddigs.py:63: SettingWithCopyWarning: \n",
      "A value is trying to be set on a copy of a slice from a DataFrame.\n",
      "Try using .loc[row_indexer,col_indexer] = value instead\n",
      "\n",
      "See the caveats in the documentation: https://pandas.pydata.org/pandas-docs/stable/user_guide/indexing.html#returning-a-view-versus-a-copy\n",
      "  test['tokens'] = test[self.x_label_column].apply(self.tokenize)\n"
     ]
    },
    {
     "name": "stdout",
     "output_type": "stream",
     "text": [
      "Tokens to word vectors\n"
     ]
    },
    {
     "name": "stderr",
     "output_type": "stream",
     "text": [
      "/Users/mash/Documents/Git/ciencias_de_la_computacion/Doctorado/Author profiling/PAN19-Author-Profiling/Experiments/../../../Scripts/embeddigs.py:67: SettingWithCopyWarning: \n",
      "A value is trying to be set on a copy of a slice from a DataFrame.\n",
      "Try using .loc[row_indexer,col_indexer] = value instead\n",
      "\n",
      "See the caveats in the documentation: https://pandas.pydata.org/pandas-docs/stable/user_guide/indexing.html#returning-a-view-versus-a-copy\n",
      "  train['vector'] = train['tokens'].apply(self.sentence_vector, word_vector=word_vectors)\n",
      "/Users/mash/Documents/Git/ciencias_de_la_computacion/Doctorado/Author profiling/PAN19-Author-Profiling/Experiments/../../../Scripts/embeddigs.py:68: SettingWithCopyWarning: \n",
      "A value is trying to be set on a copy of a slice from a DataFrame.\n",
      "Try using .loc[row_indexer,col_indexer] = value instead\n",
      "\n",
      "See the caveats in the documentation: https://pandas.pydata.org/pandas-docs/stable/user_guide/indexing.html#returning-a-view-versus-a-copy\n",
      "  test['vector'] = test['tokens'].apply(self.sentence_vector, word_vector=word_vectors)\n"
     ]
    },
    {
     "name": "stdout",
     "output_type": "stream",
     "text": [
      "Transforming train and test data\n",
      "Training model\n",
      "              precision    recall  f1-score   support\n",
      "\n",
      "    gender_1       0.58      0.60      0.59     63802\n",
      "    gender_2       0.59      0.58      0.58     64348\n",
      "\n",
      "    accuracy                           0.59    128150\n",
      "   macro avg       0.59      0.59      0.59    128150\n",
      "weighted avg       0.59      0.59      0.59    128150\n",
      "\n"
     ]
    }
   ],
   "source": [
    "lr_model_gender_en, lr_metrics_gender_en = lr_en_gender.word_embedding()"
   ]
  },
  {
   "cell_type": "code",
   "execution_count": 15,
   "metadata": {},
   "outputs": [
    {
     "name": "stdout",
     "output_type": "stream",
     "text": [
      "Loading embeddings\n",
      "Sentence to tokens\n"
     ]
    },
    {
     "name": "stderr",
     "output_type": "stream",
     "text": [
      "/Users/mash/Documents/Git/ciencias_de_la_computacion/Doctorado/Author profiling/PAN19-Author-Profiling/Experiments/../../../Scripts/embeddigs.py:62: SettingWithCopyWarning: \n",
      "A value is trying to be set on a copy of a slice from a DataFrame.\n",
      "Try using .loc[row_indexer,col_indexer] = value instead\n",
      "\n",
      "See the caveats in the documentation: https://pandas.pydata.org/pandas-docs/stable/user_guide/indexing.html#returning-a-view-versus-a-copy\n",
      "  train['tokens'] = train[self.x_label_column].apply(self.tokenize)\n",
      "/Users/mash/Documents/Git/ciencias_de_la_computacion/Doctorado/Author profiling/PAN19-Author-Profiling/Experiments/../../../Scripts/embeddigs.py:63: SettingWithCopyWarning: \n",
      "A value is trying to be set on a copy of a slice from a DataFrame.\n",
      "Try using .loc[row_indexer,col_indexer] = value instead\n",
      "\n",
      "See the caveats in the documentation: https://pandas.pydata.org/pandas-docs/stable/user_guide/indexing.html#returning-a-view-versus-a-copy\n",
      "  test['tokens'] = test[self.x_label_column].apply(self.tokenize)\n"
     ]
    },
    {
     "name": "stdout",
     "output_type": "stream",
     "text": [
      "Tokens to word vectors\n"
     ]
    },
    {
     "name": "stderr",
     "output_type": "stream",
     "text": [
      "/Users/mash/Documents/Git/ciencias_de_la_computacion/Doctorado/Author profiling/PAN19-Author-Profiling/Experiments/../../../Scripts/embeddigs.py:67: SettingWithCopyWarning: \n",
      "A value is trying to be set on a copy of a slice from a DataFrame.\n",
      "Try using .loc[row_indexer,col_indexer] = value instead\n",
      "\n",
      "See the caveats in the documentation: https://pandas.pydata.org/pandas-docs/stable/user_guide/indexing.html#returning-a-view-versus-a-copy\n",
      "  train['vector'] = train['tokens'].apply(self.sentence_vector, word_vector=word_vectors)\n",
      "/Users/mash/Documents/Git/ciencias_de_la_computacion/Doctorado/Author profiling/PAN19-Author-Profiling/Experiments/../../../Scripts/embeddigs.py:68: SettingWithCopyWarning: \n",
      "A value is trying to be set on a copy of a slice from a DataFrame.\n",
      "Try using .loc[row_indexer,col_indexer] = value instead\n",
      "\n",
      "See the caveats in the documentation: https://pandas.pydata.org/pandas-docs/stable/user_guide/indexing.html#returning-a-view-versus-a-copy\n",
      "  test['vector'] = test['tokens'].apply(self.sentence_vector, word_vector=word_vectors)\n"
     ]
    },
    {
     "name": "stdout",
     "output_type": "stream",
     "text": [
      "Transforming train and test data\n",
      "Training model\n",
      "              precision    recall  f1-score   support\n",
      "\n",
      "    gender_1       0.58      0.55      0.56     63802\n",
      "    gender_2       0.57      0.60      0.59     64348\n",
      "\n",
      "    accuracy                           0.57    128150\n",
      "   macro avg       0.57      0.57      0.57    128150\n",
      "weighted avg       0.57      0.57      0.57    128150\n",
      "\n"
     ]
    }
   ],
   "source": [
    "lr_model_gender_es, lr_metrics_gender_es = lr_es_gender.word_embedding()\n"
   ]
  },
  {
   "attachments": {},
   "cell_type": "markdown",
   "metadata": {},
   "source": [
    "## SVC"
   ]
  },
  {
   "cell_type": "code",
   "execution_count": 18,
   "metadata": {},
   "outputs": [],
   "source": [
    "svc = CalibratedClassifierCV(LinearSVC(random_state = seed, penalty = 'l2', \n",
    "                                           max_iter = 10000))"
   ]
  },
  {
   "attachments": {},
   "cell_type": "markdown",
   "metadata": {},
   "source": [
    "### Author"
   ]
  },
  {
   "cell_type": "code",
   "execution_count": 19,
   "metadata": {},
   "outputs": [],
   "source": [
    "# English and Spanish\n",
    "svc_en_author = emb.Embeddings(embedding_path=en_wv_path, \n",
    "                            is_w2v_format=True, \n",
    "                            data_train=data_training_en, \n",
    "                            data_test=data_test_en, \n",
    "                            x_label_column='tweet', \n",
    "                            y_label_column='author', \n",
    "                            ai_model=svc, \n",
    "                            target_names=target_names)\n",
    "\n",
    "svc_es_author = emb.Embeddings(embedding_path=es_wv_path, \n",
    "                            is_w2v_format=True, \n",
    "                            data_train=data_training_es, \n",
    "                            data_test=data_test_es, \n",
    "                            x_label_column='tweet', \n",
    "                            y_label_column='author', \n",
    "                            ai_model=svc, \n",
    "                            target_names=target_names)"
   ]
  },
  {
   "cell_type": "code",
   "execution_count": 20,
   "metadata": {},
   "outputs": [
    {
     "name": "stdout",
     "output_type": "stream",
     "text": [
      "Loading embeddings\n",
      "Sentence to tokens\n",
      "Tokens to word vectors\n",
      "Transforming train and test data\n",
      "Training model\n",
      "              precision    recall  f1-score   support\n",
      "\n",
      "       human       0.71      0.63      0.67    127827\n",
      "         bot       0.67      0.75      0.71    128150\n",
      "\n",
      "    accuracy                           0.69    255977\n",
      "   macro avg       0.69      0.69      0.69    255977\n",
      "weighted avg       0.69      0.69      0.69    255977\n",
      "\n"
     ]
    }
   ],
   "source": [
    "svc_model_author_en, svc_metrics_author_en = svc_en_author.word_embedding()"
   ]
  },
  {
   "cell_type": "code",
   "execution_count": 21,
   "metadata": {},
   "outputs": [
    {
     "name": "stdout",
     "output_type": "stream",
     "text": [
      "Loading embeddings\n",
      "Sentence to tokens\n",
      "Tokens to word vectors\n",
      "Transforming train and test data\n",
      "Training model\n",
      "              precision    recall  f1-score   support\n",
      "\n",
      "       human       0.63      0.65      0.64    127827\n",
      "         bot       0.64      0.62      0.63    128150\n",
      "\n",
      "    accuracy                           0.63    255977\n",
      "   macro avg       0.63      0.63      0.63    255977\n",
      "weighted avg       0.63      0.63      0.63    255977\n",
      "\n"
     ]
    }
   ],
   "source": [
    "svc_model_author_es, svc_metrics_author_es = svc_es_author.word_embedding()"
   ]
  },
  {
   "attachments": {},
   "cell_type": "markdown",
   "metadata": {},
   "source": [
    "### Gender"
   ]
  },
  {
   "cell_type": "code",
   "execution_count": 22,
   "metadata": {},
   "outputs": [],
   "source": [
    "# English and Spanish\n",
    "svc_en_gender = emb.Embeddings(embedding_path=en_wv_path, \n",
    "                            is_w2v_format=True, \n",
    "                            data_train=data_training_gender_en, \n",
    "                            data_test=data_test_gender_en, \n",
    "                            x_label_column='tweet', \n",
    "                            y_label_column='gender', \n",
    "                            ai_model=svc, \n",
    "                            target_names=gender_names)\n",
    "\n",
    "svc_es_gender = emb.Embeddings(embedding_path=es_wv_path, \n",
    "                            is_w2v_format=True, \n",
    "                            data_train=data_training_gender_es, \n",
    "                            data_test=data_test_gender_es, \n",
    "                            x_label_column='tweet', \n",
    "                            y_label_column='gender', \n",
    "                            ai_model=svc, \n",
    "                            target_names=gender_names)"
   ]
  },
  {
   "cell_type": "code",
   "execution_count": 23,
   "metadata": {},
   "outputs": [
    {
     "name": "stdout",
     "output_type": "stream",
     "text": [
      "Loading embeddings\n",
      "Sentence to tokens\n"
     ]
    },
    {
     "name": "stderr",
     "output_type": "stream",
     "text": [
      "/Users/mash/Documents/Git/ciencias_de_la_computacion/Doctorado/Author profiling/PAN19-Author-Profiling/Experiments/../../../Scripts/embeddigs.py:62: SettingWithCopyWarning: \n",
      "A value is trying to be set on a copy of a slice from a DataFrame.\n",
      "Try using .loc[row_indexer,col_indexer] = value instead\n",
      "\n",
      "See the caveats in the documentation: https://pandas.pydata.org/pandas-docs/stable/user_guide/indexing.html#returning-a-view-versus-a-copy\n",
      "  train['tokens'] = train[self.x_label_column].apply(self.tokenize)\n",
      "/Users/mash/Documents/Git/ciencias_de_la_computacion/Doctorado/Author profiling/PAN19-Author-Profiling/Experiments/../../../Scripts/embeddigs.py:63: SettingWithCopyWarning: \n",
      "A value is trying to be set on a copy of a slice from a DataFrame.\n",
      "Try using .loc[row_indexer,col_indexer] = value instead\n",
      "\n",
      "See the caveats in the documentation: https://pandas.pydata.org/pandas-docs/stable/user_guide/indexing.html#returning-a-view-versus-a-copy\n",
      "  test['tokens'] = test[self.x_label_column].apply(self.tokenize)\n"
     ]
    },
    {
     "name": "stdout",
     "output_type": "stream",
     "text": [
      "Tokens to word vectors\n"
     ]
    },
    {
     "name": "stderr",
     "output_type": "stream",
     "text": [
      "/Users/mash/Documents/Git/ciencias_de_la_computacion/Doctorado/Author profiling/PAN19-Author-Profiling/Experiments/../../../Scripts/embeddigs.py:67: SettingWithCopyWarning: \n",
      "A value is trying to be set on a copy of a slice from a DataFrame.\n",
      "Try using .loc[row_indexer,col_indexer] = value instead\n",
      "\n",
      "See the caveats in the documentation: https://pandas.pydata.org/pandas-docs/stable/user_guide/indexing.html#returning-a-view-versus-a-copy\n",
      "  train['vector'] = train['tokens'].apply(self.sentence_vector, word_vector=word_vectors)\n",
      "/Users/mash/Documents/Git/ciencias_de_la_computacion/Doctorado/Author profiling/PAN19-Author-Profiling/Experiments/../../../Scripts/embeddigs.py:68: SettingWithCopyWarning: \n",
      "A value is trying to be set on a copy of a slice from a DataFrame.\n",
      "Try using .loc[row_indexer,col_indexer] = value instead\n",
      "\n",
      "See the caveats in the documentation: https://pandas.pydata.org/pandas-docs/stable/user_guide/indexing.html#returning-a-view-versus-a-copy\n",
      "  test['vector'] = test['tokens'].apply(self.sentence_vector, word_vector=word_vectors)\n"
     ]
    },
    {
     "name": "stdout",
     "output_type": "stream",
     "text": [
      "Transforming train and test data\n",
      "Training model\n",
      "              precision    recall  f1-score   support\n",
      "\n",
      "    gender_1       0.58      0.60      0.59     63802\n",
      "    gender_2       0.59      0.58      0.58     64348\n",
      "\n",
      "    accuracy                           0.59    128150\n",
      "   macro avg       0.59      0.59      0.59    128150\n",
      "weighted avg       0.59      0.59      0.59    128150\n",
      "\n"
     ]
    }
   ],
   "source": [
    "svc_model_gender_en, svc_metrics_gender_en = svc_en_gender.word_embedding()\n"
   ]
  },
  {
   "cell_type": "code",
   "execution_count": 24,
   "metadata": {},
   "outputs": [
    {
     "name": "stdout",
     "output_type": "stream",
     "text": [
      "Loading embeddings\n",
      "Sentence to tokens\n"
     ]
    },
    {
     "name": "stderr",
     "output_type": "stream",
     "text": [
      "/Users/mash/Documents/Git/ciencias_de_la_computacion/Doctorado/Author profiling/PAN19-Author-Profiling/Experiments/../../../Scripts/embeddigs.py:62: SettingWithCopyWarning: \n",
      "A value is trying to be set on a copy of a slice from a DataFrame.\n",
      "Try using .loc[row_indexer,col_indexer] = value instead\n",
      "\n",
      "See the caveats in the documentation: https://pandas.pydata.org/pandas-docs/stable/user_guide/indexing.html#returning-a-view-versus-a-copy\n",
      "  train['tokens'] = train[self.x_label_column].apply(self.tokenize)\n",
      "/Users/mash/Documents/Git/ciencias_de_la_computacion/Doctorado/Author profiling/PAN19-Author-Profiling/Experiments/../../../Scripts/embeddigs.py:63: SettingWithCopyWarning: \n",
      "A value is trying to be set on a copy of a slice from a DataFrame.\n",
      "Try using .loc[row_indexer,col_indexer] = value instead\n",
      "\n",
      "See the caveats in the documentation: https://pandas.pydata.org/pandas-docs/stable/user_guide/indexing.html#returning-a-view-versus-a-copy\n",
      "  test['tokens'] = test[self.x_label_column].apply(self.tokenize)\n"
     ]
    },
    {
     "name": "stdout",
     "output_type": "stream",
     "text": [
      "Tokens to word vectors\n"
     ]
    },
    {
     "name": "stderr",
     "output_type": "stream",
     "text": [
      "/Users/mash/Documents/Git/ciencias_de_la_computacion/Doctorado/Author profiling/PAN19-Author-Profiling/Experiments/../../../Scripts/embeddigs.py:67: SettingWithCopyWarning: \n",
      "A value is trying to be set on a copy of a slice from a DataFrame.\n",
      "Try using .loc[row_indexer,col_indexer] = value instead\n",
      "\n",
      "See the caveats in the documentation: https://pandas.pydata.org/pandas-docs/stable/user_guide/indexing.html#returning-a-view-versus-a-copy\n",
      "  train['vector'] = train['tokens'].apply(self.sentence_vector, word_vector=word_vectors)\n",
      "/Users/mash/Documents/Git/ciencias_de_la_computacion/Doctorado/Author profiling/PAN19-Author-Profiling/Experiments/../../../Scripts/embeddigs.py:68: SettingWithCopyWarning: \n",
      "A value is trying to be set on a copy of a slice from a DataFrame.\n",
      "Try using .loc[row_indexer,col_indexer] = value instead\n",
      "\n",
      "See the caveats in the documentation: https://pandas.pydata.org/pandas-docs/stable/user_guide/indexing.html#returning-a-view-versus-a-copy\n",
      "  test['vector'] = test['tokens'].apply(self.sentence_vector, word_vector=word_vectors)\n"
     ]
    },
    {
     "name": "stdout",
     "output_type": "stream",
     "text": [
      "Transforming train and test data\n",
      "Training model\n",
      "              precision    recall  f1-score   support\n",
      "\n",
      "    gender_1       0.58      0.54      0.56     63802\n",
      "    gender_2       0.57      0.60      0.59     64348\n",
      "\n",
      "    accuracy                           0.57    128150\n",
      "   macro avg       0.57      0.57      0.57    128150\n",
      "weighted avg       0.57      0.57      0.57    128150\n",
      "\n"
     ]
    }
   ],
   "source": [
    "svc_model_gender_es, svc_metrics_gender_es = svc_es_gender.word_embedding()"
   ]
  },
  {
   "attachments": {},
   "cell_type": "markdown",
   "metadata": {},
   "source": [
    "## Random forest"
   ]
  },
  {
   "cell_type": "code",
   "execution_count": 25,
   "metadata": {},
   "outputs": [],
   "source": [
    "rf = RandomForestClassifier(max_depth = 100, random_state = seed)"
   ]
  },
  {
   "attachments": {},
   "cell_type": "markdown",
   "metadata": {},
   "source": [
    "### Author"
   ]
  },
  {
   "cell_type": "code",
   "execution_count": 26,
   "metadata": {},
   "outputs": [],
   "source": [
    "# English and Spanish\n",
    "rf_en_author = emb.Embeddings(embedding_path=en_wv_path, \n",
    "                            is_w2v_format=True, \n",
    "                            data_train=data_training_en, \n",
    "                            data_test=data_test_en, \n",
    "                            x_label_column='tweet', \n",
    "                            y_label_column='author', \n",
    "                            ai_model=rf, \n",
    "                            target_names=target_names)\n",
    "\n",
    "rf_es_author = emb.Embeddings(embedding_path=es_wv_path, \n",
    "                            is_w2v_format=True, \n",
    "                            data_train=data_training_es, \n",
    "                            data_test=data_test_es, \n",
    "                            x_label_column='tweet', \n",
    "                            y_label_column='author', \n",
    "                            ai_model=rf, \n",
    "                            target_names=target_names)"
   ]
  },
  {
   "cell_type": "code",
   "execution_count": 27,
   "metadata": {},
   "outputs": [
    {
     "name": "stdout",
     "output_type": "stream",
     "text": [
      "Loading embeddings\n",
      "Sentence to tokens\n",
      "Tokens to word vectors\n",
      "Transforming train and test data\n",
      "Training model\n",
      "              precision    recall  f1-score   support\n",
      "\n",
      "       human       0.84      0.56      0.67    127827\n",
      "         bot       0.67      0.89      0.77    128150\n",
      "\n",
      "    accuracy                           0.73    255977\n",
      "   macro avg       0.76      0.73      0.72    255977\n",
      "weighted avg       0.76      0.73      0.72    255977\n",
      "\n"
     ]
    }
   ],
   "source": [
    "rf_model_author_en, rf_metrics_author_en = rf_en_author.word_embedding()"
   ]
  },
  {
   "cell_type": "code",
   "execution_count": 28,
   "metadata": {},
   "outputs": [
    {
     "name": "stdout",
     "output_type": "stream",
     "text": [
      "Loading embeddings\n",
      "Sentence to tokens\n",
      "Tokens to word vectors\n",
      "Transforming train and test data\n",
      "Training model\n",
      "              precision    recall  f1-score   support\n",
      "\n",
      "       human       0.72      0.37      0.49    127827\n",
      "         bot       0.58      0.85      0.69    128150\n",
      "\n",
      "    accuracy                           0.61    255977\n",
      "   macro avg       0.65      0.61      0.59    255977\n",
      "weighted avg       0.65      0.61      0.59    255977\n",
      "\n"
     ]
    }
   ],
   "source": [
    "rf_model_author_es, rf_metrics_author_es = rf_es_author.word_embedding()"
   ]
  },
  {
   "attachments": {},
   "cell_type": "markdown",
   "metadata": {},
   "source": [
    "### Gender"
   ]
  },
  {
   "cell_type": "code",
   "execution_count": 29,
   "metadata": {},
   "outputs": [],
   "source": [
    "# English and Spanish\n",
    "rf_en_gender = emb.Embeddings(embedding_path=en_wv_path, \n",
    "                            is_w2v_format=True, \n",
    "                            data_train=data_training_gender_en, \n",
    "                            data_test=data_test_gender_en, \n",
    "                            x_label_column='tweet', \n",
    "                            y_label_column='gender', \n",
    "                            ai_model=rf, \n",
    "                            target_names=gender_names)\n",
    "\n",
    "rf_es_gender = emb.Embeddings(embedding_path=es_wv_path, \n",
    "                            is_w2v_format=True, \n",
    "                            data_train=data_training_gender_es, \n",
    "                            data_test=data_test_gender_es, \n",
    "                            x_label_column='tweet', \n",
    "                            y_label_column='gender', \n",
    "                            ai_model=rf, \n",
    "                            target_names=gender_names)"
   ]
  },
  {
   "cell_type": "code",
   "execution_count": 30,
   "metadata": {},
   "outputs": [
    {
     "name": "stdout",
     "output_type": "stream",
     "text": [
      "Loading embeddings\n",
      "Sentence to tokens\n"
     ]
    },
    {
     "name": "stderr",
     "output_type": "stream",
     "text": [
      "/Users/mash/Documents/Git/ciencias_de_la_computacion/Doctorado/Author profiling/PAN19-Author-Profiling/Experiments/../../../Scripts/embeddigs.py:62: SettingWithCopyWarning: \n",
      "A value is trying to be set on a copy of a slice from a DataFrame.\n",
      "Try using .loc[row_indexer,col_indexer] = value instead\n",
      "\n",
      "See the caveats in the documentation: https://pandas.pydata.org/pandas-docs/stable/user_guide/indexing.html#returning-a-view-versus-a-copy\n",
      "  train['tokens'] = train[self.x_label_column].apply(self.tokenize)\n",
      "/Users/mash/Documents/Git/ciencias_de_la_computacion/Doctorado/Author profiling/PAN19-Author-Profiling/Experiments/../../../Scripts/embeddigs.py:63: SettingWithCopyWarning: \n",
      "A value is trying to be set on a copy of a slice from a DataFrame.\n",
      "Try using .loc[row_indexer,col_indexer] = value instead\n",
      "\n",
      "See the caveats in the documentation: https://pandas.pydata.org/pandas-docs/stable/user_guide/indexing.html#returning-a-view-versus-a-copy\n",
      "  test['tokens'] = test[self.x_label_column].apply(self.tokenize)\n"
     ]
    },
    {
     "name": "stdout",
     "output_type": "stream",
     "text": [
      "Tokens to word vectors\n"
     ]
    },
    {
     "name": "stderr",
     "output_type": "stream",
     "text": [
      "/Users/mash/Documents/Git/ciencias_de_la_computacion/Doctorado/Author profiling/PAN19-Author-Profiling/Experiments/../../../Scripts/embeddigs.py:67: SettingWithCopyWarning: \n",
      "A value is trying to be set on a copy of a slice from a DataFrame.\n",
      "Try using .loc[row_indexer,col_indexer] = value instead\n",
      "\n",
      "See the caveats in the documentation: https://pandas.pydata.org/pandas-docs/stable/user_guide/indexing.html#returning-a-view-versus-a-copy\n",
      "  train['vector'] = train['tokens'].apply(self.sentence_vector, word_vector=word_vectors)\n",
      "/Users/mash/Documents/Git/ciencias_de_la_computacion/Doctorado/Author profiling/PAN19-Author-Profiling/Experiments/../../../Scripts/embeddigs.py:68: SettingWithCopyWarning: \n",
      "A value is trying to be set on a copy of a slice from a DataFrame.\n",
      "Try using .loc[row_indexer,col_indexer] = value instead\n",
      "\n",
      "See the caveats in the documentation: https://pandas.pydata.org/pandas-docs/stable/user_guide/indexing.html#returning-a-view-versus-a-copy\n",
      "  test['vector'] = test['tokens'].apply(self.sentence_vector, word_vector=word_vectors)\n"
     ]
    },
    {
     "name": "stdout",
     "output_type": "stream",
     "text": [
      "Transforming train and test data\n",
      "Training model\n",
      "              precision    recall  f1-score   support\n",
      "\n",
      "    gender_1       0.58      0.58      0.58     63802\n",
      "    gender_2       0.58      0.58      0.58     64348\n",
      "\n",
      "    accuracy                           0.58    128150\n",
      "   macro avg       0.58      0.58      0.58    128150\n",
      "weighted avg       0.58      0.58      0.58    128150\n",
      "\n"
     ]
    }
   ],
   "source": [
    "rf_model_gender_en, rf_metrics_gender_en = rf_en_gender.word_embedding()"
   ]
  },
  {
   "cell_type": "code",
   "execution_count": 31,
   "metadata": {},
   "outputs": [
    {
     "name": "stdout",
     "output_type": "stream",
     "text": [
      "Loading embeddings\n",
      "Sentence to tokens\n"
     ]
    },
    {
     "name": "stderr",
     "output_type": "stream",
     "text": [
      "/Users/mash/Documents/Git/ciencias_de_la_computacion/Doctorado/Author profiling/PAN19-Author-Profiling/Experiments/../../../Scripts/embeddigs.py:62: SettingWithCopyWarning: \n",
      "A value is trying to be set on a copy of a slice from a DataFrame.\n",
      "Try using .loc[row_indexer,col_indexer] = value instead\n",
      "\n",
      "See the caveats in the documentation: https://pandas.pydata.org/pandas-docs/stable/user_guide/indexing.html#returning-a-view-versus-a-copy\n",
      "  train['tokens'] = train[self.x_label_column].apply(self.tokenize)\n",
      "/Users/mash/Documents/Git/ciencias_de_la_computacion/Doctorado/Author profiling/PAN19-Author-Profiling/Experiments/../../../Scripts/embeddigs.py:63: SettingWithCopyWarning: \n",
      "A value is trying to be set on a copy of a slice from a DataFrame.\n",
      "Try using .loc[row_indexer,col_indexer] = value instead\n",
      "\n",
      "See the caveats in the documentation: https://pandas.pydata.org/pandas-docs/stable/user_guide/indexing.html#returning-a-view-versus-a-copy\n",
      "  test['tokens'] = test[self.x_label_column].apply(self.tokenize)\n"
     ]
    },
    {
     "name": "stdout",
     "output_type": "stream",
     "text": [
      "Tokens to word vectors\n"
     ]
    },
    {
     "name": "stderr",
     "output_type": "stream",
     "text": [
      "/Users/mash/Documents/Git/ciencias_de_la_computacion/Doctorado/Author profiling/PAN19-Author-Profiling/Experiments/../../../Scripts/embeddigs.py:67: SettingWithCopyWarning: \n",
      "A value is trying to be set on a copy of a slice from a DataFrame.\n",
      "Try using .loc[row_indexer,col_indexer] = value instead\n",
      "\n",
      "See the caveats in the documentation: https://pandas.pydata.org/pandas-docs/stable/user_guide/indexing.html#returning-a-view-versus-a-copy\n",
      "  train['vector'] = train['tokens'].apply(self.sentence_vector, word_vector=word_vectors)\n",
      "/Users/mash/Documents/Git/ciencias_de_la_computacion/Doctorado/Author profiling/PAN19-Author-Profiling/Experiments/../../../Scripts/embeddigs.py:68: SettingWithCopyWarning: \n",
      "A value is trying to be set on a copy of a slice from a DataFrame.\n",
      "Try using .loc[row_indexer,col_indexer] = value instead\n",
      "\n",
      "See the caveats in the documentation: https://pandas.pydata.org/pandas-docs/stable/user_guide/indexing.html#returning-a-view-versus-a-copy\n",
      "  test['vector'] = test['tokens'].apply(self.sentence_vector, word_vector=word_vectors)\n"
     ]
    },
    {
     "name": "stdout",
     "output_type": "stream",
     "text": [
      "Transforming train and test data\n",
      "Training model\n",
      "              precision    recall  f1-score   support\n",
      "\n",
      "    gender_1       0.55      0.55      0.55     63802\n",
      "    gender_2       0.55      0.55      0.55     64348\n",
      "\n",
      "    accuracy                           0.55    128150\n",
      "   macro avg       0.55      0.55      0.55    128150\n",
      "weighted avg       0.55      0.55      0.55    128150\n",
      "\n"
     ]
    }
   ],
   "source": [
    "rf_model_gender_es, rf_metrics_gender_es = rf_es_gender.word_embedding()"
   ]
  },
  {
   "cell_type": "code",
   "execution_count": null,
   "metadata": {},
   "outputs": [],
   "source": []
  }
 ],
 "metadata": {
  "kernelspec": {
   "display_name": "Python 3",
   "language": "python",
   "name": "python3"
  },
  "language_info": {
   "codemirror_mode": {
    "name": "ipython",
    "version": 3
   },
   "file_extension": ".py",
   "mimetype": "text/x-python",
   "name": "python",
   "nbconvert_exporter": "python",
   "pygments_lexer": "ipython3",
   "version": "3.9.5"
  },
  "orig_nbformat": 4
 },
 "nbformat": 4,
 "nbformat_minor": 2
}
