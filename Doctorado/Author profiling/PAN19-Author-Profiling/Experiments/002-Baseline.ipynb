{
 "cells": [
  {
   "attachments": {},
   "cell_type": "markdown",
   "metadata": {},
   "source": [
    "# Baselines"
   ]
  },
  {
   "attachments": {},
   "cell_type": "markdown",
   "metadata": {},
   "source": [
    "## Imports"
   ]
  },
  {
   "cell_type": "code",
   "execution_count": 1,
   "metadata": {},
   "outputs": [],
   "source": [
    "import sys\n",
    "sys.path.append('../../../Scripts/')"
   ]
  },
  {
   "cell_type": "code",
   "execution_count": 2,
   "metadata": {},
   "outputs": [],
   "source": [
    "import pandas as pd, numpy as np\n",
    "import baseline_model as b"
   ]
  },
  {
   "cell_type": "code",
   "execution_count": 36,
   "metadata": {},
   "outputs": [],
   "source": [
    "from sklearn.linear_model import LogisticRegression\n",
    "from sklearn.svm import LinearSVC\n",
    "from sklearn.ensemble import RandomForestClassifier\n",
    "from sklearn.calibration import CalibratedClassifierCV"
   ]
  },
  {
   "attachments": {},
   "cell_type": "markdown",
   "metadata": {},
   "source": [
    "## Paths"
   ]
  },
  {
   "cell_type": "code",
   "execution_count": 4,
   "metadata": {},
   "outputs": [],
   "source": [
    "main_path = '../Datasets/CSV/Clean/'"
   ]
  },
  {
   "cell_type": "code",
   "execution_count": 5,
   "metadata": {},
   "outputs": [],
   "source": [
    "# English\n",
    "data_training_en_path = f'{main_path}data_training_en.csv'\n",
    "data_test_en_path = f'{main_path}data_test_en.csv'\n",
    "\n",
    "# Spanish\n",
    "data_training_es_path = f'{main_path}data_training_es.csv'\n",
    "data_test_es_path = f'{main_path}data_test_en.csv'"
   ]
  },
  {
   "attachments": {},
   "cell_type": "markdown",
   "metadata": {},
   "source": [
    "## Data"
   ]
  },
  {
   "cell_type": "code",
   "execution_count": 13,
   "metadata": {},
   "outputs": [],
   "source": [
    "# English\n",
    "data_training_en = pd.read_csv(data_training_en_path).dropna()\n",
    "data_test_en = pd.read_csv(data_test_en_path).dropna()\n",
    "\n",
    "# Spanish\n",
    "data_training_es = pd.read_csv(data_training_es_path).dropna()\n",
    "data_test_es = pd.read_csv(data_test_es_path).dropna()"
   ]
  },
  {
   "attachments": {},
   "cell_type": "markdown",
   "metadata": {},
   "source": [
    "## General params"
   ]
  },
  {
   "cell_type": "code",
   "execution_count": 42,
   "metadata": {},
   "outputs": [],
   "source": [
    "seed = 42\n",
    "target_names = ['author', 'gender']\n",
    "gender_names = ['gender 1', 'gender 2', 'bot']"
   ]
  },
  {
   "attachments": {},
   "cell_type": "markdown",
   "metadata": {},
   "source": [
    "## Logistic regression"
   ]
  },
  {
   "cell_type": "code",
   "execution_count": 22,
   "metadata": {},
   "outputs": [],
   "source": [
    "# Defining model\n",
    "lr = LogisticRegression(random_state = seed, penalty = 'l2', \n",
    "                            solver = 'liblinear', max_iter = 1000)"
   ]
  },
  {
   "attachments": {},
   "cell_type": "markdown",
   "metadata": {},
   "source": [
    "### Author"
   ]
  },
  {
   "cell_type": "code",
   "execution_count": 46,
   "metadata": {},
   "outputs": [],
   "source": [
    "# English\n",
    "lr_en_author = b.Baseline(model=lr, \n",
    "                train_data=data_training_en, \n",
    "                test_data=data_test_en, \n",
    "                x_label_column='tweet',\n",
    "                y_label_column='author',\n",
    "                target_names=target_names)\n",
    "\n",
    "# Spanish\n",
    "lr_es_author = b.Baseline(model=lr, \n",
    "                train_data=data_training_es, \n",
    "                test_data=data_test_es, \n",
    "                x_label_column='tweet',\n",
    "                y_label_column='author',\n",
    "                target_names=target_names)"
   ]
  },
  {
   "cell_type": "code",
   "execution_count": 47,
   "metadata": {},
   "outputs": [
    {
     "name": "stdout",
     "output_type": "stream",
     "text": [
      "Fitting author model\n",
      "              precision    recall  f1-score   support\n",
      "\n",
      "      author       0.68      0.93      0.79      3338\n",
      "      gender       0.85      0.47      0.61      2798\n",
      "\n",
      "    accuracy                           0.72      6136\n",
      "   macro avg       0.77      0.70      0.70      6136\n",
      "weighted avg       0.76      0.72      0.71      6136\n",
      "\n"
     ]
    }
   ],
   "source": [
    "lr_model_author_en, lr_vectorizer_author_en = lr_en_author.baseline()"
   ]
  },
  {
   "cell_type": "code",
   "execution_count": 48,
   "metadata": {},
   "outputs": [
    {
     "name": "stdout",
     "output_type": "stream",
     "text": [
      "Fitting author model\n",
      "              precision    recall  f1-score   support\n",
      "\n",
      "      author       0.60      0.85      0.70      3338\n",
      "      gender       0.64      0.31      0.42      2798\n",
      "\n",
      "    accuracy                           0.60      6136\n",
      "   macro avg       0.62      0.58      0.56      6136\n",
      "weighted avg       0.61      0.60      0.57      6136\n",
      "\n"
     ]
    }
   ],
   "source": [
    "lr_model_author_es, lr_vectorizer_author_es = lr_es_author.baseline()"
   ]
  },
  {
   "attachments": {},
   "cell_type": "markdown",
   "metadata": {},
   "source": [
    "### Gender"
   ]
  },
  {
   "cell_type": "code",
   "execution_count": 49,
   "metadata": {},
   "outputs": [],
   "source": [
    "# English\n",
    "lr_en_gender = b.Baseline(model=lr, \n",
    "                train_data=data_training_en, \n",
    "                test_data=data_test_en, \n",
    "                x_label_column='tweet',\n",
    "                y_label_column='gender',\n",
    "                target_names=gender_names)\n",
    "\n",
    "# Spanish\n",
    "lr_es_gender = b.Baseline(model=lr, \n",
    "                train_data=data_training_es, \n",
    "                test_data=data_test_es, \n",
    "                x_label_column='tweet',\n",
    "                y_label_column='gender',\n",
    "                target_names=gender_names)"
   ]
  },
  {
   "cell_type": "code",
   "execution_count": 50,
   "metadata": {},
   "outputs": [
    {
     "name": "stdout",
     "output_type": "stream",
     "text": [
      "Fitting gender model\n",
      "              precision    recall  f1-score   support\n",
      "\n",
      "    gender 1       0.20      0.36      0.26       960\n",
      "    gender 2       0.58      0.43      0.49      2378\n",
      "         bot       0.70      0.68      0.69      2798\n",
      "\n",
      "    accuracy                           0.53      6136\n",
      "   macro avg       0.50      0.49      0.48      6136\n",
      "weighted avg       0.58      0.53      0.55      6136\n",
      "\n"
     ]
    }
   ],
   "source": [
    "lr_model_gender_en, lr_vectorizer_gender_en = lr_en_gender.baseline()"
   ]
  },
  {
   "cell_type": "code",
   "execution_count": 51,
   "metadata": {},
   "outputs": [
    {
     "name": "stdout",
     "output_type": "stream",
     "text": [
      "Fitting gender model\n",
      "              precision    recall  f1-score   support\n",
      "\n",
      "    gender 1       0.18      0.39      0.25       960\n",
      "    gender 2       0.54      0.30      0.38      2378\n",
      "         bot       0.56      0.55      0.56      2798\n",
      "\n",
      "    accuracy                           0.43      6136\n",
      "   macro avg       0.43      0.41      0.40      6136\n",
      "weighted avg       0.49      0.43      0.44      6136\n",
      "\n"
     ]
    }
   ],
   "source": [
    "lr_model_gender_es, lr_vectorizer_gender_es = lr_es_gender.baseline()\n"
   ]
  },
  {
   "attachments": {},
   "cell_type": "markdown",
   "metadata": {},
   "source": [
    "## Linear SVC"
   ]
  },
  {
   "cell_type": "code",
   "execution_count": 26,
   "metadata": {},
   "outputs": [],
   "source": [
    "lsvc = CalibratedClassifierCV(LinearSVC(random_state = seed, penalty = 'l2'))"
   ]
  },
  {
   "attachments": {},
   "cell_type": "markdown",
   "metadata": {},
   "source": [
    "### Author"
   ]
  },
  {
   "cell_type": "code",
   "execution_count": 52,
   "metadata": {},
   "outputs": [],
   "source": [
    "# English\n",
    "lsvc_en_author = b.Baseline(model=lsvc, \n",
    "                train_data=data_training_en, \n",
    "                test_data=data_test_en, \n",
    "                x_label_column='tweet',\n",
    "                y_label_column='author',\n",
    "                target_names=target_names)\n",
    "\n",
    "# Spanish\n",
    "lsvc_es_author = b.Baseline(model=lsvc, \n",
    "                train_data=data_training_es, \n",
    "                test_data=data_test_es, \n",
    "                x_label_column='tweet',\n",
    "                y_label_column='author',\n",
    "                target_names=target_names)"
   ]
  },
  {
   "cell_type": "code",
   "execution_count": 53,
   "metadata": {},
   "outputs": [
    {
     "name": "stdout",
     "output_type": "stream",
     "text": [
      "Fitting author model\n",
      "              precision    recall  f1-score   support\n",
      "\n",
      "      author       0.71      0.86      0.78      3338\n",
      "      gender       0.78      0.59      0.67      2798\n",
      "\n",
      "    accuracy                           0.74      6136\n",
      "   macro avg       0.75      0.72      0.72      6136\n",
      "weighted avg       0.74      0.74      0.73      6136\n",
      "\n"
     ]
    }
   ],
   "source": [
    "lsvc_model_author_en, lsvc_vectorizer_author_en = lsvc_en_author.baseline()"
   ]
  },
  {
   "cell_type": "code",
   "execution_count": 54,
   "metadata": {},
   "outputs": [
    {
     "name": "stdout",
     "output_type": "stream",
     "text": [
      "Fitting author model\n",
      "              precision    recall  f1-score   support\n",
      "\n",
      "      author       0.61      0.82      0.70      3338\n",
      "      gender       0.64      0.37      0.47      2798\n",
      "\n",
      "    accuracy                           0.62      6136\n",
      "   macro avg       0.62      0.60      0.58      6136\n",
      "weighted avg       0.62      0.62      0.59      6136\n",
      "\n"
     ]
    }
   ],
   "source": [
    "lsvc_model_author_es, lsvc_vectorizer_author_es = lsvc_es_author.baseline()"
   ]
  },
  {
   "attachments": {},
   "cell_type": "markdown",
   "metadata": {},
   "source": [
    "### Gender"
   ]
  },
  {
   "cell_type": "code",
   "execution_count": 58,
   "metadata": {},
   "outputs": [],
   "source": [
    "# English\n",
    "lsvc_en_gender = b.Baseline(model=lsvc, \n",
    "                train_data=data_training_en, \n",
    "                test_data=data_test_en, \n",
    "                x_label_column='tweet',\n",
    "                y_label_column='gender',\n",
    "                target_names=gender_names)\n",
    "\n",
    "# Spanish\n",
    "lsvc_es_gender = b.Baseline(model=lsvc, \n",
    "                train_data=data_training_es, \n",
    "                test_data=data_test_es, \n",
    "                x_label_column='tweet',\n",
    "                y_label_column='gender',\n",
    "                target_names=gender_names)"
   ]
  },
  {
   "cell_type": "code",
   "execution_count": 59,
   "metadata": {},
   "outputs": [
    {
     "name": "stdout",
     "output_type": "stream",
     "text": [
      "Fitting gender model\n",
      "              precision    recall  f1-score   support\n",
      "\n",
      "    gender 1       0.21      0.32      0.25       960\n",
      "    gender 2       0.59      0.42      0.49      2378\n",
      "         bot       0.67      0.71      0.69      2798\n",
      "\n",
      "    accuracy                           0.54      6136\n",
      "   macro avg       0.49      0.49      0.48      6136\n",
      "weighted avg       0.57      0.54      0.55      6136\n",
      "\n"
     ]
    }
   ],
   "source": [
    "lsvc_model_gender_en, lsvc_vectorizer_gender_en = lsvc_en_gender.baseline()\n"
   ]
  },
  {
   "cell_type": "code",
   "execution_count": 60,
   "metadata": {},
   "outputs": [
    {
     "name": "stdout",
     "output_type": "stream",
     "text": [
      "Fitting gender model\n",
      "              precision    recall  f1-score   support\n",
      "\n",
      "    gender 1       0.18      0.40      0.24       960\n",
      "    gender 2       0.50      0.32      0.39      2378\n",
      "         bot       0.57      0.49      0.53      2798\n",
      "\n",
      "    accuracy                           0.41      6136\n",
      "   macro avg       0.42      0.41      0.39      6136\n",
      "weighted avg       0.48      0.41      0.43      6136\n",
      "\n"
     ]
    }
   ],
   "source": [
    "lsvc_model_gender_es, lsvc_vectorizer_gender_es = lsvc_es_gender.baseline()"
   ]
  },
  {
   "attachments": {},
   "cell_type": "markdown",
   "metadata": {},
   "source": [
    "## Random forest"
   ]
  },
  {
   "cell_type": "code",
   "execution_count": 67,
   "metadata": {},
   "outputs": [],
   "source": [
    "rf = RandomForestClassifier(max_depth = 100, random_state = seed)"
   ]
  },
  {
   "attachments": {},
   "cell_type": "markdown",
   "metadata": {},
   "source": [
    "### Author"
   ]
  },
  {
   "cell_type": "code",
   "execution_count": 68,
   "metadata": {},
   "outputs": [],
   "source": [
    "# English\n",
    "rf_en_author = b.Baseline(model=rf, \n",
    "                train_data=data_training_en, \n",
    "                test_data=data_test_en, \n",
    "                x_label_column='tweet',\n",
    "                y_label_column='author',\n",
    "                target_names=target_names)\n",
    "\n",
    "# Spanish\n",
    "rf_es_author = b.Baseline(model=rf, \n",
    "                train_data=data_training_es, \n",
    "                test_data=data_test_es, \n",
    "                x_label_column='tweet',\n",
    "                y_label_column='author',\n",
    "                target_names=target_names)"
   ]
  },
  {
   "cell_type": "code",
   "execution_count": 69,
   "metadata": {},
   "outputs": [
    {
     "name": "stdout",
     "output_type": "stream",
     "text": [
      "Fitting author model\n",
      "              precision    recall  f1-score   support\n",
      "\n",
      "      author       0.63      0.99      0.77      3338\n",
      "      gender       0.98      0.32      0.48      2798\n",
      "\n",
      "    accuracy                           0.69      6136\n",
      "   macro avg       0.81      0.66      0.63      6136\n",
      "weighted avg       0.79      0.69      0.64      6136\n",
      "\n"
     ]
    }
   ],
   "source": [
    "rf_model_author_en, rf_vectorizer_author_en = rf_en_author.baseline()"
   ]
  },
  {
   "cell_type": "code",
   "execution_count": 70,
   "metadata": {},
   "outputs": [
    {
     "name": "stdout",
     "output_type": "stream",
     "text": [
      "Fitting author model\n",
      "              precision    recall  f1-score   support\n",
      "\n",
      "      author       0.56      0.94      0.70      3338\n",
      "      gender       0.61      0.11      0.19      2798\n",
      "\n",
      "    accuracy                           0.56      6136\n",
      "   macro avg       0.58      0.53      0.44      6136\n",
      "weighted avg       0.58      0.56      0.47      6136\n",
      "\n"
     ]
    }
   ],
   "source": [
    "rf_model_author_es, rf_vectorizer_author_es = rf_es_author.baseline()"
   ]
  },
  {
   "attachments": {},
   "cell_type": "markdown",
   "metadata": {},
   "source": [
    "### Gender"
   ]
  },
  {
   "cell_type": "code",
   "execution_count": 71,
   "metadata": {},
   "outputs": [],
   "source": [
    "# English\n",
    "rf_en_gender = b.Baseline(model=rf, \n",
    "                train_data=data_training_en, \n",
    "                test_data=data_test_en, \n",
    "                x_label_column='tweet',\n",
    "                y_label_column='gender',\n",
    "                target_names=gender_names)\n",
    "\n",
    "# Spanish\n",
    "rf_es_gender = b.Baseline(model=rf, \n",
    "                train_data=data_training_es, \n",
    "                test_data=data_test_es, \n",
    "                x_label_column='tweet',\n",
    "                y_label_column='gender',\n",
    "                target_names=gender_names)"
   ]
  },
  {
   "cell_type": "code",
   "execution_count": 72,
   "metadata": {},
   "outputs": [
    {
     "name": "stdout",
     "output_type": "stream",
     "text": [
      "Fitting gender model\n",
      "              precision    recall  f1-score   support\n",
      "\n",
      "    gender 1       0.20      0.36      0.26       960\n",
      "    gender 2       0.62      0.36      0.45      2378\n",
      "         bot       0.64      0.70      0.67      2798\n",
      "\n",
      "    accuracy                           0.52      6136\n",
      "   macro avg       0.49      0.47      0.46      6136\n",
      "weighted avg       0.57      0.52      0.52      6136\n",
      "\n"
     ]
    }
   ],
   "source": [
    "rf_model_gender_en, rf_vectorizer_gender_en = rf_en_gender.baseline()"
   ]
  },
  {
   "cell_type": "code",
   "execution_count": 73,
   "metadata": {},
   "outputs": [
    {
     "name": "stdout",
     "output_type": "stream",
     "text": [
      "Fitting gender model\n",
      "              precision    recall  f1-score   support\n",
      "\n",
      "    gender 1       0.00      0.00      0.00       960\n",
      "    gender 2       0.20      0.00      0.00      2378\n",
      "         bot       0.46      1.00      0.63      2798\n",
      "\n",
      "    accuracy                           0.46      6136\n",
      "   macro avg       0.22      0.33      0.21      6136\n",
      "weighted avg       0.29      0.46      0.29      6136\n",
      "\n"
     ]
    }
   ],
   "source": [
    "rf_model_gender_es, rf_vectorizer_gender_es = rf_es_gender.baseline()"
   ]
  },
  {
   "cell_type": "code",
   "execution_count": null,
   "metadata": {},
   "outputs": [],
   "source": []
  }
 ],
 "metadata": {
  "kernelspec": {
   "display_name": "Python 3",
   "language": "python",
   "name": "python3"
  },
  "language_info": {
   "codemirror_mode": {
    "name": "ipython",
    "version": 3
   },
   "file_extension": ".py",
   "mimetype": "text/x-python",
   "name": "python",
   "nbconvert_exporter": "python",
   "pygments_lexer": "ipython3",
   "version": "3.9.5"
  },
  "orig_nbformat": 4
 },
 "nbformat": 4,
 "nbformat_minor": 2
}
