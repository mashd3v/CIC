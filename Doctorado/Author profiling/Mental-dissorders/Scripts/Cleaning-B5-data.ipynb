{
 "cells": [
  {
   "cell_type": "code",
   "execution_count": 4,
   "metadata": {},
   "outputs": [
    {
     "name": "stdout",
     "output_type": "stream",
     "text": [
      "Mi <MD> vida ha tenido el evento más  relevante , al entrar a la universidad ; E Eso  ha sido motivo de alegría y motivación para mi familia.\n"
     ]
    }
   ],
   "source": [
    "import re\n",
    "\n",
    "def corregir_palabras(texto):\n",
    "    # Eliminar saltos de línea\n",
    "    texto_sin_saltos = texto.replace('\\n', ' ')\n",
    "\n",
    "    # Patrón de búsqueda para encontrar palabras incorrectas y sus correcciones\n",
    "    patron = re.compile(r'(\\b\\w+\\b)\\s*<FO:(\\w+)>')\n",
    "\n",
    "    def reemplazar_palabra(match):\n",
    "        palabra_incorrecta = match.group(1)\n",
    "        palabra_correcta = match.group(2)\n",
    "        return palabra_correcta\n",
    "\n",
    "    # Aplicar la función de reemplazo al texto\n",
    "    texto_corregido = patron.sub(reemplazar_palabra, texto_sin_saltos)\n",
    "\n",
    "    return texto_corregido\n",
    "\n",
    "# Ejemplo de uso\n",
    "texto_entrada = \"\"\"Mi <MD> vida ha tenido el evento mas <FO:más> \n",
    "relevante , al entrar a la universidad ; E so <FO:Eso>  ha sido motivo de alegria <FO:alegría> y motivacion <FO:motivación> isara <FO:para> mi familia.\"\"\"\n",
    "\n",
    "texto_corregido = corregir_palabras(texto_entrada)\n",
    "print(texto_corregido)"
   ]
  },
  {
   "cell_type": "code",
   "execution_count": null,
   "metadata": {},
   "outputs": [],
   "source": []
  }
 ],
 "metadata": {
  "kernelspec": {
   "display_name": "Python 3",
   "language": "python",
   "name": "python3"
  },
  "language_info": {
   "codemirror_mode": {
    "name": "ipython",
    "version": 3
   },
   "file_extension": ".py",
   "mimetype": "text/x-python",
   "name": "python",
   "nbconvert_exporter": "python",
   "pygments_lexer": "ipython3",
   "version": "3.9.5"
  }
 },
 "nbformat": 4,
 "nbformat_minor": 2
}
