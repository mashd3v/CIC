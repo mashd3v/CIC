{
 "cells": [
  {
   "cell_type": "code",
   "execution_count": 1,
   "metadata": {},
   "outputs": [],
   "source": [
    "import sys\n",
    "sys.path.append(\"fast_nlp/fast_nlp\")"
   ]
  },
  {
   "cell_type": "code",
   "execution_count": null,
   "metadata": {},
   "outputs": [],
   "source": [
    "import myfunctions as mf\n",
    "from sklearn.feature_extraction.text import CountVectorizer"
   ]
  },
  {
   "cell_type": "code",
   "execution_count": 3,
   "metadata": {},
   "outputs": [],
   "source": [
    "path = '../Author profiling/PAN20-Fake-News/Datasets/CSV/'\n",
    "file_names = ['Train-ES.csv', 'Test-ES.csv']"
   ]
  },
  {
   "cell_type": "code",
   "execution_count": 4,
   "metadata": {},
   "outputs": [],
   "source": [
    "data_list = mf.read_data(path=path, file_names=file_names)"
   ]
  },
  {
   "cell_type": "code",
   "execution_count": 5,
   "metadata": {},
   "outputs": [],
   "source": [
    "data_preprocessed = mf.preprocess_text(data=data_list, text_column='tweet', \n",
    "                                    language='spanish', is_tweet=True,\n",
    "                                    remove_stopwords=True, lemmatize=False,\n",
    "                                    translate_emojis=False)"
   ]
  },
  {
   "cell_type": "code",
   "execution_count": 6,
   "metadata": {},
   "outputs": [],
   "source": [
    "data_features = mf.extract_features(data=data_preprocessed, text_column='tweet',\n",
    "                                    language='spanish', lemma=True,\n",
    "                                    pos_tag=True, tag=True, other_features=True,\n",
    "                                    vectorizer=CountVectorizer(ngram_range = (1,1), \n",
    "                                                               lowercase = False))"
   ]
  },
  {
   "cell_type": "code",
   "execution_count": 8,
   "metadata": {},
   "outputs": [
    {
     "name": "stdout",
     "output_type": "stream",
     "text": [
      "Model: Logistic Regression(Ngram: (1, 1), Min_df:3) --> Accuracy: 0.65\n",
      "              precision    recall  f1-score   support\n",
      "\n",
      "        Real       0.64      0.70      0.67     10000\n",
      "        Fake       0.67      0.61      0.64     10000\n",
      "\n",
      "    accuracy                           0.65     20000\n",
      "   macro avg       0.66      0.65      0.65     20000\n",
      "weighted avg       0.66      0.65      0.65     20000\n",
      "\n",
      "Model: Random Forest(Ngram: (1, 1), Min_df:3) --> Accuracy: 0.64\n",
      "              precision    recall  f1-score   support\n",
      "\n",
      "        Real       0.62      0.71      0.66     10000\n",
      "        Fake       0.66      0.57      0.61     10000\n",
      "\n",
      "    accuracy                           0.64     20000\n",
      "   macro avg       0.64      0.64      0.64     20000\n",
      "weighted avg       0.64      0.64      0.64     20000\n",
      "\n",
      "Model: Linear SVC(Ngram: (1, 1), Min_df:3) --> Accuracy: 0.63\n",
      "              precision    recall  f1-score   support\n",
      "\n",
      "        Real       0.62      0.68      0.65     10000\n",
      "        Fake       0.65      0.58      0.61     10000\n",
      "\n",
      "    accuracy                           0.63     20000\n",
      "   macro avg       0.63      0.63      0.63     20000\n",
      "weighted avg       0.63      0.63      0.63     20000\n",
      "\n",
      "Model: Multinomial Naive Bayes(Ngram: (1, 1), Min_df:3) --> Accuracy: 0.63\n",
      "              precision    recall  f1-score   support\n",
      "\n",
      "        Real       0.62      0.71      0.66     10000\n",
      "        Fake       0.66      0.56      0.60     10000\n",
      "\n",
      "    accuracy                           0.63     20000\n",
      "   macro avg       0.64      0.63      0.63     20000\n",
      "weighted avg       0.64      0.63      0.63     20000\n",
      "\n",
      "Model: MLP Classifier(Ngram: (1, 1), Min_df:3) --> Accuracy: 0.61\n",
      "              precision    recall  f1-score   support\n",
      "\n",
      "        Real       0.60      0.66      0.63     10000\n",
      "        Fake       0.62      0.56      0.59     10000\n",
      "\n",
      "    accuracy                           0.61     20000\n",
      "   macro avg       0.61      0.61      0.61     20000\n",
      "weighted avg       0.61      0.61      0.61     20000\n",
      "\n",
      "Model: Perceptron(Ngram: (1, 1), Min_df:3) --> Accuracy: 0.6\n",
      "              precision    recall  f1-score   support\n",
      "\n",
      "        Real       0.59      0.66      0.62     10000\n",
      "        Fake       0.61      0.55      0.58     10000\n",
      "\n",
      "    accuracy                           0.60     20000\n",
      "   macro avg       0.60      0.60      0.60     20000\n",
      "weighted avg       0.60      0.60      0.60     20000\n",
      "\n",
      "Model: K Neighbors Classifier(Ngram: (1, 1), Min_df:3) --> Accuracy: 0.59\n",
      "              precision    recall  f1-score   support\n",
      "\n",
      "        Real       0.58      0.66      0.61     10000\n",
      "        Fake       0.60      0.52      0.56     10000\n",
      "\n",
      "    accuracy                           0.59     20000\n",
      "   macro avg       0.59      0.59      0.59     20000\n",
      "weighted avg       0.59      0.59      0.59     20000\n",
      "\n"
     ]
    }
   ],
   "source": [
    "final_models, final_vectorizers, final_results = mf.ml_baselines(data=data_features,\n",
    "                                                                text_column='tweet',\n",
    "                                                                target_column='label',\n",
    "                                                                target_names=['Real', 'Fake'],\n",
    "                                                                plot_results=False)"
   ]
  },
  {
   "cell_type": "code",
   "execution_count": null,
   "metadata": {},
   "outputs": [],
   "source": []
  }
 ],
 "metadata": {
  "kernelspec": {
   "display_name": "Python 3",
   "language": "python",
   "name": "python3"
  },
  "language_info": {
   "codemirror_mode": {
    "name": "ipython",
    "version": 3
   },
   "file_extension": ".py",
   "mimetype": "text/x-python",
   "name": "python",
   "nbconvert_exporter": "python",
   "pygments_lexer": "ipython3",
   "version": "3.9.5"
  },
  "orig_nbformat": 4
 },
 "nbformat": 4,
 "nbformat_minor": 2
}
